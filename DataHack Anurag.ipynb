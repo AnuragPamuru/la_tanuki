{
  "cells": [
    {
      "cell_type": "code",
      "metadata": {
        "cell_id": "00000-463f6917-e6c1-40d2-b317-e307f9f52361",
        "deepnote_cell_type": "code"
      },
      "source": "import pandas as pd\nimport numpy as np\nimport matplotlib.pyplot as plt\n\ndata = {}\npillars = [\"busi\", \"econ\", \"educ\", \"envi\", \"gove\", \"heal\", \"pers\", \"safe\", \"soci\"]\nfor i in pillars:\n    train_df = pd.read_csv(\"data/{0}_train.csv\".format(i)).drop(\"Unnamed: 0\", axis = 1)\n    test_df = pd.read_csv(\"data/{0}_test.csv\".format(i)).drop(\"Unnamed: 0\", axis = 1)\n    data[i] = {\"test\" : test_df, \"train\" : train_df}",
      "execution_count": 1,
      "outputs": []
    },
    {
      "cell_type": "code",
      "metadata": {
        "cell_id": "00001-6857c482-5d4c-436b-b177-1a1ac7fbfdb7",
        "deepnote_cell_type": "code"
      },
      "source": "score_table = pd.concat([\n    data[\"busi\"][\"train\"][[\"isocode\",\"year\",\"busi\"]],\n    data[\"econ\"][\"train\"][[\"econ\"]],data[\"educ\"][\"train\"][[\"educ\"]],data[\"envi\"][\"train\"][[\"envi\"]],\n    data[\"gove\"][\"train\"][[\"gove\"]],data[\"heal\"][\"train\"][[\"heal\"]],data[\"pers\"][\"train\"][[\"pers\"]],\n    data[\"safe\"][\"train\"][[\"safe\"]],data[\"soci\"][\"train\"][[\"soci\"]]\n    ],axis=1)\nscore_table[\"prosperity\"] = score_table.iloc[:,2:].mean(axis=1)\nprosperity_table = score_table[[\"isocode\",\"year\",\"prosperity\"]]\n# Most prosperous country and year\nprosperity_table.sort_values(\"prosperity\", ascending=False).head(5)",
      "execution_count": 2,
      "outputs": [
        {
          "data": {
            "text/html": "<div>\n<style scoped>\n    .dataframe tbody tr th:only-of-type {\n        vertical-align: middle;\n    }\n\n    .dataframe tbody tr th {\n        vertical-align: top;\n    }\n\n    .dataframe thead th {\n        text-align: right;\n    }\n</style>\n<table border=\"1\" class=\"dataframe\">\n  <thead>\n    <tr style=\"text-align: right;\">\n      <th></th>\n      <th>isocode</th>\n      <th>year</th>\n      <th>prosperity</th>\n    </tr>\n  </thead>\n  <tbody>\n    <tr>\n      <th>1149</th>\n      <td>NZL</td>\n      <td>2014</td>\n      <td>78.914742</td>\n    </tr>\n    <tr>\n      <th>1000</th>\n      <td>NZL</td>\n      <td>2013</td>\n      <td>78.832643</td>\n    </tr>\n    <tr>\n      <th>576</th>\n      <td>SWE</td>\n      <td>2010</td>\n      <td>78.657402</td>\n    </tr>\n    <tr>\n      <th>1147</th>\n      <td>NOR</td>\n      <td>2014</td>\n      <td>78.500937</td>\n    </tr>\n    <tr>\n      <th>725</th>\n      <td>SWE</td>\n      <td>2011</td>\n      <td>78.487949</td>\n    </tr>\n  </tbody>\n</table>\n</div>",
            "text/plain": "     isocode  year  prosperity\n1149     NZL  2014   78.914742\n1000     NZL  2013   78.832643\n576      SWE  2010   78.657402\n1147     NOR  2014   78.500937\n725      SWE  2011   78.487949"
          },
          "execution_count": 2,
          "metadata": {},
          "output_type": "execute_result"
        }
      ]
    },
    {
      "cell_type": "code",
      "metadata": {
        "scrolled": true,
        "cell_id": "00002-7ce37937-f6e3-4d42-9c67-a4b35aa6e4b5",
        "deepnote_cell_type": "code"
      },
      "source": "prosperity_growth_table = pd.pivot_table(\n    prosperity_table,\n    values=\"prosperity\",index=\"isocode\",\n    columns=\"year\").diff(axis=1).iloc[:,1:]\nregion_data = pd.read_csv(\"data/region_data.csv\")[[\"alpha-3\", \"region\"]]\nprosperity_growth_table = pd.merge(prosperity_growth_table.reset_index(), region_data, left_on = \"isocode\", right_on = \"alpha-3\").drop(\"alpha-3\", axis = 1)\nprosperity_subregion = prosperity_growth_table.groupby(\"region\").mean().mean(axis=1).sort_values(ascending=False)\n\nprosperity_growth_table[\"region-score\"] = prosperity_growth_table[\"region\"]\\\n    .apply(lambda x: prosperity_subregion.to_dict()[x])\n\nprosperity_growth_table.melt(id_vars=[\"isocode\", \"region\", \"region-score\"], \n                             var_name=\"Year\", \n                             value_name=\"Prosperity Growth\").to_csv(\"data/continental_prosperity_data.csv\", index = False)\n\nprosperity_growth_table.groupby(\"region\")\\\n    .mean()\\\n    .rank(ascending = False)[[2008, 2009, 2010, 2011, 2012, 2013, 2014]]\\\n    .reset_index()\\\n    .melt(id_vars=[\"region\"], \n          var_name=\"Year\", \n          value_name=\"Prosperity Growth Rank\")\\\n    .to_csv(\"data/continental_prosperity_rank.csv\")",
      "execution_count": 21,
      "outputs": []
    },
    {
      "cell_type": "code",
      "metadata": {
        "cell_id": "00003-209d7c9b-0160-4ce8-a87b-619604e1a887",
        "deepnote_cell_type": "code"
      },
      "source": "",
      "execution_count": null,
      "outputs": []
    },
    {
      "cell_type": "code",
      "metadata": {
        "cell_id": "00004-471f2c7d-3aba-4dc1-b950-e757f235daa3",
        "deepnote_cell_type": "code"
      },
      "source": "",
      "execution_count": 17,
      "outputs": []
    },
    {
      "cell_type": "code",
      "metadata": {
        "cell_id": "00005-38993e35-4b04-445a-ad75-bc230748fe82",
        "deepnote_cell_type": "code"
      },
      "source": "",
      "execution_count": null,
      "outputs": []
    },
    {
      "cell_type": "markdown",
      "source": "<a style='text-decoration:none;line-height:16px;display:flex;color:#5B5B62;padding:10px;justify-content:end;' href='https://deepnote.com?utm_source=created-in-deepnote-cell&projectId=da4f784b-a8aa-48e9-8797-5366ef739e9c' target=\"_blank\">\n<img alt='Created in deepnote.com' style='display:inline;max-height:16px;margin:0px;margin-right:7.5px;' src='data:image/svg+xml;base64,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' > </img>\nCreated in <span style='font-weight:600;margin-left:4px;'>Deepnote</span></a>",
      "metadata": {
        "tags": [],
        "created_in_deepnote_cell": true,
        "deepnote_cell_type": "markdown"
      }
    }
  ],
  "nbformat": 4,
  "nbformat_minor": 2,
  "metadata": {
    "kernelspec": {
      "display_name": "Python 3",
      "language": "python",
      "name": "python3"
    },
    "language_info": {
      "codemirror_mode": {
        "name": "ipython",
        "version": 3
      },
      "file_extension": ".py",
      "mimetype": "text/x-python",
      "name": "python",
      "nbconvert_exporter": "python",
      "pygments_lexer": "ipython3",
      "version": "3.7.3"
    },
    "deepnote_notebook_id": "941c72e5-80f6-49f8-92fe-3ee541868b19",
    "deepnote": {},
    "deepnote_execution_queue": []
  }
}