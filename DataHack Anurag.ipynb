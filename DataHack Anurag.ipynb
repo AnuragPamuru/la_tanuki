{
 "cells": [
  {
   "cell_type": "code",
   "execution_count": 1,
   "metadata": {},
   "outputs": [],
   "source": [
    "import pandas as pd\n",
    "import numpy as np\n",
    "import matplotlib.pyplot as plt\n",
    "\n",
    "data = {}\n",
    "pillars = [\"busi\", \"econ\", \"educ\", \"envi\", \"gove\", \"heal\", \"pers\", \"safe\", \"soci\"]\n",
    "for i in pillars:\n",
    "    train_df = pd.read_csv(\"data/{0}_train.csv\".format(i)).drop(\"Unnamed: 0\", axis = 1)\n",
    "    test_df = pd.read_csv(\"data/{0}_test.csv\".format(i)).drop(\"Unnamed: 0\", axis = 1)\n",
    "    data[i] = {\"test\" : test_df, \"train\" : train_df}"
   ]
  },
  {
   "cell_type": "code",
   "execution_count": 2,
   "metadata": {},
   "outputs": [
    {
     "data": {
      "text/html": [
       "<div>\n",
       "<style scoped>\n",
       "    .dataframe tbody tr th:only-of-type {\n",
       "        vertical-align: middle;\n",
       "    }\n",
       "\n",
       "    .dataframe tbody tr th {\n",
       "        vertical-align: top;\n",
       "    }\n",
       "\n",
       "    .dataframe thead th {\n",
       "        text-align: right;\n",
       "    }\n",
       "</style>\n",
       "<table border=\"1\" class=\"dataframe\">\n",
       "  <thead>\n",
       "    <tr style=\"text-align: right;\">\n",
       "      <th></th>\n",
       "      <th>isocode</th>\n",
       "      <th>year</th>\n",
       "      <th>prosperity</th>\n",
       "    </tr>\n",
       "  </thead>\n",
       "  <tbody>\n",
       "    <tr>\n",
       "      <th>1149</th>\n",
       "      <td>NZL</td>\n",
       "      <td>2014</td>\n",
       "      <td>78.914742</td>\n",
       "    </tr>\n",
       "    <tr>\n",
       "      <th>1000</th>\n",
       "      <td>NZL</td>\n",
       "      <td>2013</td>\n",
       "      <td>78.832643</td>\n",
       "    </tr>\n",
       "    <tr>\n",
       "      <th>576</th>\n",
       "      <td>SWE</td>\n",
       "      <td>2010</td>\n",
       "      <td>78.657402</td>\n",
       "    </tr>\n",
       "    <tr>\n",
       "      <th>1147</th>\n",
       "      <td>NOR</td>\n",
       "      <td>2014</td>\n",
       "      <td>78.500937</td>\n",
       "    </tr>\n",
       "    <tr>\n",
       "      <th>725</th>\n",
       "      <td>SWE</td>\n",
       "      <td>2011</td>\n",
       "      <td>78.487949</td>\n",
       "    </tr>\n",
       "  </tbody>\n",
       "</table>\n",
       "</div>"
      ],
      "text/plain": [
       "     isocode  year  prosperity\n",
       "1149     NZL  2014   78.914742\n",
       "1000     NZL  2013   78.832643\n",
       "576      SWE  2010   78.657402\n",
       "1147     NOR  2014   78.500937\n",
       "725      SWE  2011   78.487949"
      ]
     },
     "execution_count": 2,
     "metadata": {},
     "output_type": "execute_result"
    }
   ],
   "source": [
    "score_table = pd.concat([\n",
    "    data[\"busi\"][\"train\"][[\"isocode\",\"year\",\"busi\"]],\n",
    "    data[\"econ\"][\"train\"][[\"econ\"]],data[\"educ\"][\"train\"][[\"educ\"]],data[\"envi\"][\"train\"][[\"envi\"]],\n",
    "    data[\"gove\"][\"train\"][[\"gove\"]],data[\"heal\"][\"train\"][[\"heal\"]],data[\"pers\"][\"train\"][[\"pers\"]],\n",
    "    data[\"safe\"][\"train\"][[\"safe\"]],data[\"soci\"][\"train\"][[\"soci\"]]\n",
    "    ],axis=1)\n",
    "score_table[\"prosperity\"] = score_table.iloc[:,2:].mean(axis=1)\n",
    "prosperity_table = score_table[[\"isocode\",\"year\",\"prosperity\"]]\n",
    "# Most prosperous country and year\n",
    "prosperity_table.sort_values(\"prosperity\", ascending=False).head(5)"
   ]
  },
  {
   "cell_type": "code",
   "execution_count": 21,
   "metadata": {
    "scrolled": true
   },
   "outputs": [],
   "source": [
    "prosperity_growth_table = pd.pivot_table(\n",
    "    prosperity_table,\n",
    "    values=\"prosperity\",index=\"isocode\",\n",
    "    columns=\"year\").diff(axis=1).iloc[:,1:]\n",
    "region_data = pd.read_csv(\"data/region_data.csv\")[[\"alpha-3\", \"region\"]]\n",
    "prosperity_growth_table = pd.merge(prosperity_growth_table.reset_index(), region_data, left_on = \"isocode\", right_on = \"alpha-3\").drop(\"alpha-3\", axis = 1)\n",
    "prosperity_subregion = prosperity_growth_table.groupby(\"region\").mean().mean(axis=1).sort_values(ascending=False)\n",
    "\n",
    "prosperity_growth_table[\"region-score\"] = prosperity_growth_table[\"region\"]\\\n",
    "    .apply(lambda x: prosperity_subregion.to_dict()[x])\n",
    "\n",
    "prosperity_growth_table.melt(id_vars=[\"isocode\", \"region\", \"region-score\"], \n",
    "                             var_name=\"Year\", \n",
    "                             value_name=\"Prosperity Growth\").to_csv(\"data/continental_prosperity_data.csv\", index = False)\n",
    "\n",
    "prosperity_growth_table.groupby(\"region\")\\\n",
    "    .mean()\\\n",
    "    .rank(ascending = False)[[2008, 2009, 2010, 2011, 2012, 2013, 2014]]\\\n",
    "    .reset_index()\\\n",
    "    .melt(id_vars=[\"region\"], \n",
    "          var_name=\"Year\", \n",
    "          value_name=\"Prosperity Growth Rank\")\\\n",
    "    .to_csv(\"data/continental_prosperity_rank.csv\")"
   ]
  },
  {
   "cell_type": "code",
   "execution_count": null,
   "metadata": {},
   "outputs": [],
   "source": []
  },
  {
   "cell_type": "code",
   "execution_count": 17,
   "metadata": {},
   "outputs": [],
   "source": []
  },
  {
   "cell_type": "code",
   "execution_count": null,
   "metadata": {},
   "outputs": [],
   "source": []
  }
 ],
 "metadata": {
  "kernelspec": {
   "display_name": "Python 3",
   "language": "python",
   "name": "python3"
  },
  "language_info": {
   "codemirror_mode": {
    "name": "ipython",
    "version": 3
   },
   "file_extension": ".py",
   "mimetype": "text/x-python",
   "name": "python",
   "nbconvert_exporter": "python",
   "pygments_lexer": "ipython3",
   "version": "3.7.3"
  }
 },
 "nbformat": 4,
 "nbformat_minor": 2
}
