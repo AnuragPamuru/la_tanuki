{
  "cells": [
    {
      "cell_type": "code",
      "metadata": {
        "cell_id": "00000-497448f3-9624-4db7-a1a1-e6f6fa55f949",
        "deepnote_to_be_reexecuted": false,
        "source_hash": "24b26b86",
        "execution_millis": 544,
        "execution_start": 1618140857111,
        "deepnote_cell_type": "code"
      },
      "source": "import pandas as pd\nimport numpy as np\nimport matplotlib.pyplot as plt\nimport seaborn as sns",
      "execution_count": 1,
      "outputs": []
    },
    {
      "cell_type": "code",
      "metadata": {
        "cell_id": "00001-d9fbd757-d18c-47d8-9fb6-6c92b1537ff6",
        "deepnote_to_be_reexecuted": false,
        "source_hash": "f072166b",
        "execution_millis": 141,
        "execution_start": 1618140857661,
        "deepnote_cell_type": "code"
      },
      "source": "data = {}\npillars = [\"busi\", \"econ\", \"educ\", \"envi\", \"gove\", \"heal\", \"pers\", \"safe\", \"soci\"]\nfor i in pillars:\n    train_df = pd.read_csv(\"data/{0}_train.csv\".format(i)).drop(\"Unnamed: 0\", axis = 1)\n    test_df = pd.read_csv(\"data/{0}_test.csv\".format(i)).drop(\"Unnamed: 0\", axis = 1)\n    data[i] = {\"test\" : test_df, \"train\" : train_df}\n    ",
      "execution_count": 2,
      "outputs": []
    },
    {
      "cell_type": "code",
      "metadata": {
        "cell_id": "00002-339660f7-13b4-43ee-88d3-5715e7cb9cb4",
        "deepnote_to_be_reexecuted": false,
        "source_hash": "20dc0104",
        "execution_millis": 49,
        "execution_start": 1618140857808,
        "deepnote_cell_type": "code"
      },
      "source": "score_table = pd.concat([\n    data[\"busi\"][\"train\"][[\"country\",\"year\",\"busi\"]],\n    data[\"econ\"][\"train\"][[\"econ\"]],data[\"educ\"][\"train\"][[\"educ\"]],data[\"envi\"][\"train\"][[\"envi\"]],\n    data[\"gove\"][\"train\"][[\"gove\"]],data[\"heal\"][\"train\"][[\"heal\"]],data[\"pers\"][\"train\"][[\"pers\"]],\n    data[\"safe\"][\"train\"][[\"safe\"]],data[\"soci\"][\"train\"][[\"soci\"]]\n    ],axis=1)\nscore_table[\"prosperity\"] = score_table.iloc[:,2:].mean(axis=1)\nprosperity_table = score_table[[\"country\",\"year\",\"prosperity\"]]\n# Most prosperous country and year\nprosperity_table.sort_values(\"prosperity\", ascending=False).head(5)",
      "execution_count": 3,
      "outputs": [
        {
          "output_type": "execute_result",
          "execution_count": 3,
          "data": {
            "application/vnd.deepnote.dataframe.v2+json": {
              "row_count": 5,
              "column_count": 3,
              "columns": [
                {
                  "name": "country",
                  "dtype": "object",
                  "stats": {
                    "unique_count": 3,
                    "nan_count": 0,
                    "categories": [
                      {
                        "name": "New Zealand",
                        "count": 2
                      },
                      {
                        "name": "Sweden",
                        "count": 2
                      },
                      {
                        "name": "Norway",
                        "count": 1
                      }
                    ]
                  }
                },
                {
                  "name": "year",
                  "dtype": "int64",
                  "stats": {
                    "unique_count": 4,
                    "nan_count": 0,
                    "min": 2010,
                    "max": 2014,
                    "histogram": [
                      {
                        "bin_start": 2010,
                        "bin_end": 2010.4,
                        "count": 1
                      },
                      {
                        "bin_start": 2010.4,
                        "bin_end": 2010.8,
                        "count": 0
                      },
                      {
                        "bin_start": 2010.8,
                        "bin_end": 2011.2,
                        "count": 1
                      },
                      {
                        "bin_start": 2011.2,
                        "bin_end": 2011.6,
                        "count": 0
                      },
                      {
                        "bin_start": 2011.6,
                        "bin_end": 2012,
                        "count": 0
                      },
                      {
                        "bin_start": 2012,
                        "bin_end": 2012.4,
                        "count": 0
                      },
                      {
                        "bin_start": 2012.4,
                        "bin_end": 2012.8,
                        "count": 0
                      },
                      {
                        "bin_start": 2012.8,
                        "bin_end": 2013.2,
                        "count": 1
                      },
                      {
                        "bin_start": 2013.2,
                        "bin_end": 2013.6,
                        "count": 0
                      },
                      {
                        "bin_start": 2013.6,
                        "bin_end": 2014,
                        "count": 2
                      }
                    ]
                  }
                },
                {
                  "name": "prosperity",
                  "dtype": "float64",
                  "stats": {
                    "unique_count": 5,
                    "nan_count": 0,
                    "min": 78.48794852362738,
                    "max": 78.91474151611328,
                    "histogram": [
                      {
                        "bin_start": 78.48794852362738,
                        "bin_end": 78.53062782287597,
                        "count": 2
                      },
                      {
                        "bin_start": 78.53062782287597,
                        "bin_end": 78.57330712212456,
                        "count": 0
                      },
                      {
                        "bin_start": 78.57330712212456,
                        "bin_end": 78.61598642137315,
                        "count": 0
                      },
                      {
                        "bin_start": 78.61598642137315,
                        "bin_end": 78.65866572062174,
                        "count": 1
                      },
                      {
                        "bin_start": 78.65866572062174,
                        "bin_end": 78.70134501987033,
                        "count": 0
                      },
                      {
                        "bin_start": 78.70134501987033,
                        "bin_end": 78.74402431911892,
                        "count": 0
                      },
                      {
                        "bin_start": 78.74402431911892,
                        "bin_end": 78.78670361836751,
                        "count": 0
                      },
                      {
                        "bin_start": 78.78670361836751,
                        "bin_end": 78.8293829176161,
                        "count": 0
                      },
                      {
                        "bin_start": 78.8293829176161,
                        "bin_end": 78.87206221686469,
                        "count": 1
                      },
                      {
                        "bin_start": 78.87206221686469,
                        "bin_end": 78.91474151611328,
                        "count": 1
                      }
                    ]
                  }
                },
                {
                  "name": "_deepnote_index_column",
                  "dtype": "int64"
                }
              ],
              "rows_top": [
                {
                  "country": "New Zealand",
                  "year": 2014,
                  "prosperity": 78.91474151611328,
                  "_deepnote_index_column": 1149
                },
                {
                  "country": "New Zealand",
                  "year": 2013,
                  "prosperity": 78.8326432969835,
                  "_deepnote_index_column": 1000
                },
                {
                  "country": "Sweden",
                  "year": 2010,
                  "prosperity": 78.65740246242947,
                  "_deepnote_index_column": 576
                },
                {
                  "country": "Norway",
                  "year": 2014,
                  "prosperity": 78.50093672010634,
                  "_deepnote_index_column": 1147
                },
                {
                  "country": "Sweden",
                  "year": 2011,
                  "prosperity": 78.48794852362738,
                  "_deepnote_index_column": 725
                }
              ],
              "rows_bottom": null
            },
            "text/plain": "          country  year  prosperity\n1149  New Zealand  2014   78.914742\n1000  New Zealand  2013   78.832643\n576        Sweden  2010   78.657402\n1147       Norway  2014   78.500937\n725        Sweden  2011   78.487949",
            "text/html": "<div>\n<style scoped>\n    .dataframe tbody tr th:only-of-type {\n        vertical-align: middle;\n    }\n\n    .dataframe tbody tr th {\n        vertical-align: top;\n    }\n\n    .dataframe thead th {\n        text-align: right;\n    }\n</style>\n<table border=\"1\" class=\"dataframe\">\n  <thead>\n    <tr style=\"text-align: right;\">\n      <th></th>\n      <th>country</th>\n      <th>year</th>\n      <th>prosperity</th>\n    </tr>\n  </thead>\n  <tbody>\n    <tr>\n      <th>1149</th>\n      <td>New Zealand</td>\n      <td>2014</td>\n      <td>78.914742</td>\n    </tr>\n    <tr>\n      <th>1000</th>\n      <td>New Zealand</td>\n      <td>2013</td>\n      <td>78.832643</td>\n    </tr>\n    <tr>\n      <th>576</th>\n      <td>Sweden</td>\n      <td>2010</td>\n      <td>78.657402</td>\n    </tr>\n    <tr>\n      <th>1147</th>\n      <td>Norway</td>\n      <td>2014</td>\n      <td>78.500937</td>\n    </tr>\n    <tr>\n      <th>725</th>\n      <td>Sweden</td>\n      <td>2011</td>\n      <td>78.487949</td>\n    </tr>\n  </tbody>\n</table>\n</div>"
          },
          "metadata": {}
        }
      ]
    },
    {
      "cell_type": "code",
      "metadata": {
        "tags": [],
        "cell_id": "00003-84eddd92-b56e-4ee1-99e6-6684c5109ba9",
        "deepnote_to_be_reexecuted": false,
        "source_hash": "ccb78fa7",
        "execution_millis": 36,
        "execution_start": 1618141007155,
        "deepnote_cell_type": "code"
      },
      "source": "score_table.to_csv(\"data/scores.csv\")",
      "execution_count": 18,
      "outputs": []
    },
    {
      "cell_type": "code",
      "metadata": {
        "cell_id": "00003-eeff3df7-a391-4191-bd8e-ff16009ea97c",
        "deepnote_to_be_reexecuted": false,
        "source_hash": "a4ac66f3",
        "execution_millis": 54,
        "execution_start": 1618140857880,
        "deepnote_cell_type": "code"
      },
      "source": "prosperity_table.head()",
      "execution_count": 5,
      "outputs": [
        {
          "output_type": "execute_result",
          "execution_count": 5,
          "data": {
            "application/vnd.deepnote.dataframe.v2+json": {
              "row_count": 5,
              "column_count": 3,
              "columns": [
                {
                  "name": "country",
                  "dtype": "object",
                  "stats": {
                    "unique_count": 5,
                    "nan_count": 0,
                    "categories": [
                      {
                        "name": "Afghanistan",
                        "count": 1
                      },
                      {
                        "name": "Angola",
                        "count": 1
                      },
                      {
                        "name": "3 others",
                        "count": 3
                      }
                    ]
                  }
                },
                {
                  "name": "year",
                  "dtype": "int64",
                  "stats": {
                    "unique_count": 1,
                    "nan_count": 0,
                    "min": 2007,
                    "max": 2007,
                    "histogram": [
                      {
                        "bin_start": 2006.5,
                        "bin_end": 2006.6,
                        "count": 0
                      },
                      {
                        "bin_start": 2006.6,
                        "bin_end": 2006.7,
                        "count": 0
                      },
                      {
                        "bin_start": 2006.7,
                        "bin_end": 2006.8,
                        "count": 0
                      },
                      {
                        "bin_start": 2006.8,
                        "bin_end": 2006.9,
                        "count": 0
                      },
                      {
                        "bin_start": 2006.9,
                        "bin_end": 2007,
                        "count": 0
                      },
                      {
                        "bin_start": 2007,
                        "bin_end": 2007.1,
                        "count": 5
                      },
                      {
                        "bin_start": 2007.1,
                        "bin_end": 2007.2,
                        "count": 0
                      },
                      {
                        "bin_start": 2007.2,
                        "bin_end": 2007.3,
                        "count": 0
                      },
                      {
                        "bin_start": 2007.3,
                        "bin_end": 2007.4,
                        "count": 0
                      },
                      {
                        "bin_start": 2007.4,
                        "bin_end": 2007.5,
                        "count": 0
                      }
                    ]
                  }
                },
                {
                  "name": "prosperity",
                  "dtype": "float64",
                  "stats": {
                    "unique_count": 5,
                    "nan_count": 0,
                    "min": 37.65897538926866,
                    "max": 61.111192067464195,
                    "histogram": [
                      {
                        "bin_start": 37.65897538926866,
                        "bin_end": 40.00419705708821,
                        "count": 1
                      },
                      {
                        "bin_start": 40.00419705708821,
                        "bin_end": 42.34941872490777,
                        "count": 0
                      },
                      {
                        "bin_start": 42.34941872490777,
                        "bin_end": 44.69464039272732,
                        "count": 1
                      },
                      {
                        "bin_start": 44.69464039272732,
                        "bin_end": 47.039862060546874,
                        "count": 0
                      },
                      {
                        "bin_start": 47.039862060546874,
                        "bin_end": 49.385083728366425,
                        "count": 0
                      },
                      {
                        "bin_start": 49.385083728366425,
                        "bin_end": 51.73030539618598,
                        "count": 0
                      },
                      {
                        "bin_start": 51.73030539618598,
                        "bin_end": 54.075527064005534,
                        "count": 0
                      },
                      {
                        "bin_start": 54.075527064005534,
                        "bin_end": 56.420748731825086,
                        "count": 1
                      },
                      {
                        "bin_start": 56.420748731825086,
                        "bin_end": 58.765970399644644,
                        "count": 1
                      },
                      {
                        "bin_start": 58.765970399644644,
                        "bin_end": 61.111192067464195,
                        "count": 1
                      }
                    ]
                  }
                },
                {
                  "name": "_deepnote_index_column",
                  "dtype": "int64"
                }
              ],
              "rows_top": [
                {
                  "country": "Afghanistan",
                  "year": 2007,
                  "prosperity": 37.65897538926866,
                  "_deepnote_index_column": 0
                },
                {
                  "country": "Angola",
                  "year": 2007,
                  "prosperity": 43.88077969021268,
                  "_deepnote_index_column": 1
                },
                {
                  "country": "Albania",
                  "year": 2007,
                  "prosperity": 54.89328384399414,
                  "_deepnote_index_column": 2
                },
                {
                  "country": "United Arab Emirates",
                  "year": 2007,
                  "prosperity": 61.111192067464195,
                  "_deepnote_index_column": 3
                },
                {
                  "country": "Argentina",
                  "year": 2007,
                  "prosperity": 58.55757310655382,
                  "_deepnote_index_column": 4
                }
              ],
              "rows_bottom": null
            },
            "text/plain": "                country  year  prosperity\n0           Afghanistan  2007   37.658975\n1                Angola  2007   43.880780\n2               Albania  2007   54.893284\n3  United Arab Emirates  2007   61.111192\n4             Argentina  2007   58.557573",
            "text/html": "<div>\n<style scoped>\n    .dataframe tbody tr th:only-of-type {\n        vertical-align: middle;\n    }\n\n    .dataframe tbody tr th {\n        vertical-align: top;\n    }\n\n    .dataframe thead th {\n        text-align: right;\n    }\n</style>\n<table border=\"1\" class=\"dataframe\">\n  <thead>\n    <tr style=\"text-align: right;\">\n      <th></th>\n      <th>country</th>\n      <th>year</th>\n      <th>prosperity</th>\n    </tr>\n  </thead>\n  <tbody>\n    <tr>\n      <th>0</th>\n      <td>Afghanistan</td>\n      <td>2007</td>\n      <td>37.658975</td>\n    </tr>\n    <tr>\n      <th>1</th>\n      <td>Angola</td>\n      <td>2007</td>\n      <td>43.880780</td>\n    </tr>\n    <tr>\n      <th>2</th>\n      <td>Albania</td>\n      <td>2007</td>\n      <td>54.893284</td>\n    </tr>\n    <tr>\n      <th>3</th>\n      <td>United Arab Emirates</td>\n      <td>2007</td>\n      <td>61.111192</td>\n    </tr>\n    <tr>\n      <th>4</th>\n      <td>Argentina</td>\n      <td>2007</td>\n      <td>58.557573</td>\n    </tr>\n  </tbody>\n</table>\n</div>"
          },
          "metadata": {}
        }
      ]
    },
    {
      "cell_type": "code",
      "metadata": {
        "cell_id": "00004-8db9d592-b8cf-45ac-8a3c-1c7edc987daa",
        "deepnote_to_be_reexecuted": false,
        "source_hash": "3738f368",
        "execution_millis": 54,
        "execution_start": 1618140857924,
        "deepnote_cell_type": "code"
      },
      "source": "prosperity_growth_table = pd.pivot_table(\n    prosperity_table,\n    values=\"prosperity\",index=\"country\",\n    columns=\"year\").diff(axis=1).iloc[:,1:]\nprosperity_growth_table",
      "execution_count": 6,
      "outputs": [
        {
          "output_type": "execute_result",
          "execution_count": 6,
          "data": {
            "application/vnd.deepnote.dataframe.v2+json": {
              "row_count": 149,
              "column_count": 7,
              "columns": [
                {
                  "name": 2008,
                  "dtype": "float64",
                  "stats": {
                    "unique_count": 149,
                    "nan_count": 0,
                    "min": -1.6673762003580705,
                    "max": 2.6535627577039875,
                    "histogram": [
                      {
                        "bin_start": -1.6673762003580705,
                        "bin_end": -1.2352823045518648,
                        "count": 6
                      },
                      {
                        "bin_start": -1.2352823045518648,
                        "bin_end": -0.8031884087456589,
                        "count": 5
                      },
                      {
                        "bin_start": -0.8031884087456589,
                        "bin_end": -0.37109451293945295,
                        "count": 22
                      },
                      {
                        "bin_start": -0.37109451293945295,
                        "bin_end": 0.06099938286675277,
                        "count": 37
                      },
                      {
                        "bin_start": 0.06099938286675277,
                        "bin_end": 0.4930932786729585,
                        "count": 51
                      },
                      {
                        "bin_start": 0.4930932786729585,
                        "bin_end": 0.9251871744791647,
                        "count": 16
                      },
                      {
                        "bin_start": 0.9251871744791647,
                        "bin_end": 1.3572810702853704,
                        "count": 6
                      },
                      {
                        "bin_start": 1.3572810702853704,
                        "bin_end": 1.789374966091576,
                        "count": 4
                      },
                      {
                        "bin_start": 1.789374966091576,
                        "bin_end": 2.221468861897782,
                        "count": 0
                      },
                      {
                        "bin_start": 2.221468861897782,
                        "bin_end": 2.6535627577039875,
                        "count": 2
                      }
                    ]
                  }
                },
                {
                  "name": 2009,
                  "dtype": "float64",
                  "stats": {
                    "unique_count": 149,
                    "nan_count": 0,
                    "min": -2.039564768473305,
                    "max": 2.219685448540581,
                    "histogram": [
                      {
                        "bin_start": -2.039564768473305,
                        "bin_end": -1.6136397467719164,
                        "count": 1
                      },
                      {
                        "bin_start": -1.6136397467719164,
                        "bin_end": -1.1877147250705278,
                        "count": 3
                      },
                      {
                        "bin_start": -1.1877147250705278,
                        "bin_end": -0.7617897033691392,
                        "count": 10
                      },
                      {
                        "bin_start": -0.7617897033691392,
                        "bin_end": -0.33586468166775063,
                        "count": 18
                      },
                      {
                        "bin_start": -0.33586468166775063,
                        "bin_end": 0.09006034003363794,
                        "count": 32
                      },
                      {
                        "bin_start": 0.09006034003363794,
                        "bin_end": 0.5159853617350265,
                        "count": 35
                      },
                      {
                        "bin_start": 0.5159853617350265,
                        "bin_end": 0.9419103834364151,
                        "count": 28
                      },
                      {
                        "bin_start": 0.9419103834364151,
                        "bin_end": 1.3678354051378037,
                        "count": 13
                      },
                      {
                        "bin_start": 1.3678354051378037,
                        "bin_end": 1.7937604268391922,
                        "count": 6
                      },
                      {
                        "bin_start": 1.7937604268391922,
                        "bin_end": 2.219685448540581,
                        "count": 3
                      }
                    ]
                  }
                },
                {
                  "name": 2010,
                  "dtype": "float64",
                  "stats": {
                    "unique_count": 149,
                    "nan_count": 0,
                    "min": -1.1299617555406343,
                    "max": 2.7467373741997605,
                    "histogram": [
                      {
                        "bin_start": -1.1299617555406343,
                        "bin_end": -0.7422918425665948,
                        "count": 3
                      },
                      {
                        "bin_start": -0.7422918425665948,
                        "bin_end": -0.35462192959255534,
                        "count": 12
                      },
                      {
                        "bin_start": -0.35462192959255534,
                        "bin_end": 0.03304798338148407,
                        "count": 20
                      },
                      {
                        "bin_start": 0.03304798338148407,
                        "bin_end": 0.4207178963555236,
                        "count": 41
                      },
                      {
                        "bin_start": 0.4207178963555236,
                        "bin_end": 0.8083878093295631,
                        "count": 34
                      },
                      {
                        "bin_start": 0.8083878093295631,
                        "bin_end": 1.1960577223036024,
                        "count": 19
                      },
                      {
                        "bin_start": 1.1960577223036024,
                        "bin_end": 1.5837276352776422,
                        "count": 12
                      },
                      {
                        "bin_start": 1.5837276352776422,
                        "bin_end": 1.9713975482516815,
                        "count": 4
                      },
                      {
                        "bin_start": 1.9713975482516815,
                        "bin_end": 2.3590674612257208,
                        "count": 3
                      },
                      {
                        "bin_start": 2.3590674612257208,
                        "bin_end": 2.7467373741997605,
                        "count": 1
                      }
                    ]
                  }
                },
                {
                  "name": 2011,
                  "dtype": "float64",
                  "stats": {
                    "unique_count": 149,
                    "nan_count": 0,
                    "min": -2.3481648763020786,
                    "max": 2.7442249721950986,
                    "histogram": [
                      {
                        "bin_start": -2.3481648763020786,
                        "bin_end": -1.838925891452361,
                        "count": 1
                      },
                      {
                        "bin_start": -1.838925891452361,
                        "bin_end": -1.329686906602643,
                        "count": 6
                      },
                      {
                        "bin_start": -1.329686906602643,
                        "bin_end": -0.8204479217529252,
                        "count": 6
                      },
                      {
                        "bin_start": -0.8204479217529252,
                        "bin_end": -0.3112089369032076,
                        "count": 22
                      },
                      {
                        "bin_start": -0.3112089369032076,
                        "bin_end": 0.19803004794651002,
                        "count": 41
                      },
                      {
                        "bin_start": 0.19803004794651002,
                        "bin_end": 0.7072690327962281,
                        "count": 36
                      },
                      {
                        "bin_start": 0.7072690327962281,
                        "bin_end": 1.2165080176459457,
                        "count": 23
                      },
                      {
                        "bin_start": 1.2165080176459457,
                        "bin_end": 1.7257470024956634,
                        "count": 8
                      },
                      {
                        "bin_start": 1.7257470024956634,
                        "bin_end": 2.2349859873453815,
                        "count": 1
                      },
                      {
                        "bin_start": 2.2349859873453815,
                        "bin_end": 2.7442249721950986,
                        "count": 5
                      }
                    ]
                  }
                },
                {
                  "name": 2012,
                  "dtype": "float64",
                  "stats": {
                    "unique_count": 149,
                    "nan_count": 0,
                    "min": -4.434513515896263,
                    "max": 2.1608087751600493,
                    "histogram": [
                      {
                        "bin_start": -4.434513515896263,
                        "bin_end": -3.774981286790632,
                        "count": 1
                      },
                      {
                        "bin_start": -3.774981286790632,
                        "bin_end": -3.1154490576850007,
                        "count": 0
                      },
                      {
                        "bin_start": -3.1154490576850007,
                        "bin_end": -2.4559168285793698,
                        "count": 0
                      },
                      {
                        "bin_start": -2.4559168285793698,
                        "bin_end": -1.7963845994737384,
                        "count": 0
                      },
                      {
                        "bin_start": -1.7963845994737384,
                        "bin_end": -1.136852370368107,
                        "count": 9
                      },
                      {
                        "bin_start": -1.136852370368107,
                        "bin_end": -0.4773201412624761,
                        "count": 20
                      },
                      {
                        "bin_start": -0.4773201412624761,
                        "bin_end": 0.18221208784315568,
                        "count": 51
                      },
                      {
                        "bin_start": 0.18221208784315568,
                        "bin_end": 0.8417443169487866,
                        "count": 47
                      },
                      {
                        "bin_start": 0.8417443169487866,
                        "bin_end": 1.5012765460544175,
                        "count": 15
                      },
                      {
                        "bin_start": 1.5012765460544175,
                        "bin_end": 2.1608087751600493,
                        "count": 6
                      }
                    ]
                  }
                },
                {
                  "name": 2013,
                  "dtype": "float64",
                  "stats": {
                    "unique_count": 149,
                    "nan_count": 0,
                    "min": -2.4821145799424897,
                    "max": 2.719150119357643,
                    "histogram": [
                      {
                        "bin_start": -2.4821145799424897,
                        "bin_end": -1.9619881100124765,
                        "count": 3
                      },
                      {
                        "bin_start": -1.9619881100124765,
                        "bin_end": -1.4418616400824633,
                        "count": 3
                      },
                      {
                        "bin_start": -1.4418616400824633,
                        "bin_end": -0.9217351701524501,
                        "count": 7
                      },
                      {
                        "bin_start": -0.9217351701524501,
                        "bin_end": -0.4016087002224369,
                        "count": 11
                      },
                      {
                        "bin_start": -0.4016087002224369,
                        "bin_end": 0.11851776970757655,
                        "count": 41
                      },
                      {
                        "bin_start": 0.11851776970757655,
                        "bin_end": 0.6386442396375895,
                        "count": 41
                      },
                      {
                        "bin_start": 0.6386442396375895,
                        "bin_end": 1.1587707095676025,
                        "count": 22
                      },
                      {
                        "bin_start": 1.1587707095676025,
                        "bin_end": 1.678897179497616,
                        "count": 13
                      },
                      {
                        "bin_start": 1.678897179497616,
                        "bin_end": 2.1990236494276294,
                        "count": 6
                      },
                      {
                        "bin_start": 2.1990236494276294,
                        "bin_end": 2.719150119357643,
                        "count": 2
                      }
                    ]
                  }
                },
                {
                  "name": 2014,
                  "dtype": "float64",
                  "stats": {
                    "unique_count": 149,
                    "nan_count": 0,
                    "min": -2.341592788696289,
                    "max": 2.782140943739151,
                    "histogram": [
                      {
                        "bin_start": -2.341592788696289,
                        "bin_end": -1.829219415452745,
                        "count": 2
                      },
                      {
                        "bin_start": -1.829219415452745,
                        "bin_end": -1.316846042209201,
                        "count": 7
                      },
                      {
                        "bin_start": -1.316846042209201,
                        "bin_end": -0.804472668965657,
                        "count": 12
                      },
                      {
                        "bin_start": -0.804472668965657,
                        "bin_end": -0.2920992957221129,
                        "count": 30
                      },
                      {
                        "bin_start": -0.2920992957221129,
                        "bin_end": 0.2202740775214309,
                        "count": 45
                      },
                      {
                        "bin_start": 0.2202740775214309,
                        "bin_end": 0.7326474507649752,
                        "count": 32
                      },
                      {
                        "bin_start": 0.7326474507649752,
                        "bin_end": 1.2450208240085194,
                        "count": 8
                      },
                      {
                        "bin_start": 1.2450208240085194,
                        "bin_end": 1.7573941972520633,
                        "count": 12
                      },
                      {
                        "bin_start": 1.7573941972520633,
                        "bin_end": 2.269767570495607,
                        "count": 0
                      },
                      {
                        "bin_start": 2.269767570495607,
                        "bin_end": 2.782140943739151,
                        "count": 1
                      }
                    ]
                  }
                },
                {
                  "name": "_deepnote_index_column",
                  "dtype": "object"
                }
              ],
              "rows_top": [
                {
                  "2008": -0.011916902330185053,
                  "2009": 1.3159781561957473,
                  "2010": -0.5847405327690964,
                  "2011": -1.4780949486626511,
                  "2012": 1.768298043145073,
                  "2013": 0.2642349667019275,
                  "2014": -1.3255594041612397,
                  "_deepnote_index_column": "Afghanistan"
                },
                {
                  "2008": 1.18386798434787,
                  "2009": 0.643685234917541,
                  "2010": 0.48632091946071654,
                  "2011": 0.10980606079101562,
                  "2012": 0.14858796861436474,
                  "2013": -0.7043401930067219,
                  "2014": 1.066572401258675,
                  "_deepnote_index_column": "Albania"
                },
                {
                  "2008": -0.3443806966145857,
                  "2009": -0.11868921915689867,
                  "2010": 0.5098385281032947,
                  "2011": -0.6004909939236072,
                  "2012": -0.18391715155707544,
                  "2013": 0.9396815829806826,
                  "2014": 0.043787638346358904,
                  "_deepnote_index_column": "Algeria"
                },
                {
                  "2008": 0.6736416286892322,
                  "2009": -0.01846970452202612,
                  "2010": 0.3371315002441406,
                  "2011": -0.4772366417778855,
                  "2012": -1.2328764597574846,
                  "2013": 1.1606494055853886,
                  "2014": -1.406231986151795,
                  "_deepnote_index_column": "Angola"
                },
                {
                  "2008": -0.5568728976779482,
                  "2009": 1.3328238593207473,
                  "2010": 1.47532526652018,
                  "2011": 0.7367006937662737,
                  "2012": -0.5979838901095889,
                  "2013": 0.525354597303604,
                  "2014": -0.5619820488823777,
                  "_deepnote_index_column": "Argentina"
                },
                {
                  "2008": -0.4217537773980098,
                  "2009": -1.1415888468424455,
                  "2010": 0.12248865763346117,
                  "2011": -0.16144561767578125,
                  "2012": 1.3010101318359375,
                  "2013": 0.604941897922096,
                  "2014": -0.11721886528862768,
                  "_deepnote_index_column": "Armenia"
                },
                {
                  "2008": 0.12734391954209912,
                  "2009": -0.05713738335502683,
                  "2010": 0.47112782796223485,
                  "2011": -0.40156385633680713,
                  "2012": -0.5467766655815893,
                  "2013": 0.3366351657443545,
                  "2014": -0.6590728759765625,
                  "_deepnote_index_column": "Australia"
                },
                {
                  "2008": 0.4344236585829009,
                  "2009": -0.6788715786404111,
                  "2010": 1.5866474575466611,
                  "2011": -0.4988310072157134,
                  "2012": -0.11394331190321338,
                  "2013": 0.21445380316841067,
                  "2014": -0.6329078674316406,
                  "_deepnote_index_column": "Austria"
                },
                {
                  "2008": 1.609816233317055,
                  "2009": 0.7074966430664062,
                  "2010": -0.9848344590928804,
                  "2011": 0.6803550720214844,
                  "2012": 0.2526198493109817,
                  "2013": 0.8968624538845447,
                  "2014": -0.07364188300238084,
                  "_deepnote_index_column": "Azerbaijan"
                },
                {
                  "2008": 0.5041737026638486,
                  "2009": -0.5408253139919736,
                  "2010": -0.5776579115125884,
                  "2011": -1.1647750006781692,
                  "2012": -0.09991878933376341,
                  "2013": 1.717371198866104,
                  "2014": -0.7755610148112027,
                  "_deepnote_index_column": "Bahrain"
                },
                {
                  "2008": 0.11273108588324732,
                  "2009": 0.9275656806098098,
                  "2010": 0.8341598510742188,
                  "2011": 1.2426155938042527,
                  "2012": -0.6670468648274763,
                  "2013": 0.3335524664984817,
                  "2014": -1.6470345391167527,
                  "_deepnote_index_column": "Bangladesh"
                },
                {
                  "2008": -0.15006807115342724,
                  "2009": 1.4053467644585496,
                  "2010": 1.3589630126953125,
                  "2011": -0.6929056379530181,
                  "2012": 0.2378114064534529,
                  "2013": 0.9756630791558152,
                  "2014": -1.2425888909233933,
                  "_deepnote_index_column": "Belarus"
                },
                {
                  "2008": -0.140466901991104,
                  "2009": 0.0071847703721772405,
                  "2010": 0.4258376227484888,
                  "2011": 0.4282523261176152,
                  "2012": -0.782268100314667,
                  "2013": 1.4093089633517764,
                  "2014": 0.1736297607421875,
                  "_deepnote_index_column": "Belgium"
                },
                {
                  "2008": 0.23626497056748974,
                  "2009": -0.18354119194878393,
                  "2010": 0.16123029920790088,
                  "2011": -0.06784184773763258,
                  "2012": -0.11027442084418482,
                  "2013": 0.1285603841145857,
                  "2014": -0.12906180487738794,
                  "_deepnote_index_column": "Belize"
                },
                {
                  "2008": -0.4417762756347656,
                  "2009": 0.505748324924042,
                  "2010": 0.06450462341308594,
                  "2011": 0.6038468678792341,
                  "2012": 0.9984664916992188,
                  "2013": 0.24237230088975537,
                  "2014": -0.5420718722873232,
                  "_deepnote_index_column": "Benin"
                },
                {
                  "2008": -0.6237860785590286,
                  "2009": 0.49455049302842724,
                  "2010": -0.09819369845919823,
                  "2011": 0.9797524346245652,
                  "2012": 1.596579657660591,
                  "2013": -0.41068691677517677,
                  "2014": 1.37834040323893,
                  "_deepnote_index_column": "Bolivia"
                },
                {
                  "2008": 0.20170466105142992,
                  "2009": 0.3744455973307268,
                  "2010": -0.07228512234157591,
                  "2011": -0.025960286458335702,
                  "2012": 0.007080078125,
                  "2013": -0.2654431660970076,
                  "2014": -0.21830028957790404,
                  "_deepnote_index_column": "Botswana"
                },
                {
                  "2008": 0.649150424533417,
                  "2009": -0.38943693372937815,
                  "2010": 0.5979567633734746,
                  "2011": 0.8173700968424527,
                  "2012": -0.5384919908311616,
                  "2013": -0.034671359592017836,
                  "2014": -0.609716203477646,
                  "_deepnote_index_column": "Brazil"
                },
                {
                  "2008": 0.13772201538085938,
                  "2009": 0.5905676947699661,
                  "2010": 0.8672904968261719,
                  "2011": -0.21096674601236742,
                  "2012": 0.6610683865017322,
                  "2013": -0.8026924133300781,
                  "2014": 0.5675820244683152,
                  "_deepnote_index_column": "Bulgaria"
                },
                {
                  "2008": 0.37266943189833057,
                  "2009": 0.5806183285183337,
                  "2010": 0.642755720350479,
                  "2011": 1.051699744330513,
                  "2012": 0.697307162814667,
                  "2013": -0.08561579386392992,
                  "2014": -0.36279699537489307,
                  "_deepnote_index_column": "Burkina Faso"
                },
                {
                  "2008": 0.07561535305447364,
                  "2009": 2.219685448540581,
                  "2010": 0.5277184380425339,
                  "2011": 0.14511002434624487,
                  "2012": 0.2068513234456404,
                  "2013": 0.17867363823784643,
                  "2014": -0.9651908874511719,
                  "_deepnote_index_column": "Burundi"
                },
                {
                  "2008": 2.6535627577039875,
                  "2009": 1.795130411783859,
                  "2010": 0.06654908921983349,
                  "2011": 0.8181182013617629,
                  "2012": -0.22696050008138258,
                  "2013": -0.5712814331054688,
                  "2014": 0.4145651923285598,
                  "_deepnote_index_column": "Cambodia"
                },
                {
                  "2008": -0.3723481496175083,
                  "2009": 0.8510265350341797,
                  "2010": 1.427646848890511,
                  "2011": 1.0566274854871978,
                  "2012": 0.22555414835611742,
                  "2013": 0.22891998291015625,
                  "2014": -0.5945320129394531,
                  "_deepnote_index_column": "Cameroon"
                },
                {
                  "2008": 0.12201266818577494,
                  "2009": 0.12387932671440183,
                  "2010": 0.3875376383463589,
                  "2011": -0.08239067925347854,
                  "2012": 0.07736884223091067,
                  "2013": -0.11926608615452494,
                  "2014": 0.07887437608508208,
                  "_deepnote_index_column": "Canada"
                },
                {
                  "2008": 0.4910924699571453,
                  "2009": -0.6847026613023601,
                  "2010": -1.1299617555406343,
                  "2011": 0.9163203769260022,
                  "2012": -0.07159784105089528,
                  "2013": -2.4821145799424897,
                  "2014": 0.4526011149088518,
                  "_deepnote_index_column": "Central African Republic"
                },
                {
                  "2008": 2.2870659298367,
                  "2009": -0.4854852888319243,
                  "2010": 1.0068637000189895,
                  "2011": 2.632377836439346,
                  "2012": 0.43993420071071654,
                  "2013": -1.0111172993977888,
                  "2014": 0.8703662024603958,
                  "_deepnote_index_column": "Chad"
                },
                {
                  "2008": -0.3375248379177549,
                  "2009": 1.5064303080240933,
                  "2010": 0.8709314134385835,
                  "2011": -0.15112431844075047,
                  "2012": 0.8473591274685219,
                  "2013": -0.48165596856010495,
                  "2014": 0.6016332838270415,
                  "_deepnote_index_column": "Chile"
                },
                {
                  "2008": 0.27813042534722143,
                  "2009": -0.3546002705891951,
                  "2010": 0.9722213745117188,
                  "2011": -0.06697930230034643,
                  "2012": 0.33781221177843435,
                  "2013": 0.07122421264648438,
                  "2014": 0.16900634765625,
                  "_deepnote_index_column": "China"
                },
                {
                  "2008": -0.10047276814778172,
                  "2009": -0.07891633775499685,
                  "2010": 0.6390813191731795,
                  "2011": 0.4396213955349424,
                  "2012": 0.46824985080294823,
                  "2013": -0.18284903632270044,
                  "2014": 0.29531097412109375,
                  "_deepnote_index_column": "Colombia"
                },
                {
                  "2008": 0.6691294776068801,
                  "2009": 0.42848608228895557,
                  "2010": 1.7726035647922131,
                  "2011": 0.42800331115722656,
                  "2012": 0.07359483506944287,
                  "2013": 0.26078075832790404,
                  "2014": 0.09265391031901515,
                  "_deepnote_index_column": "Comoros"
                },
                {
                  "2008": 0.10070186191134667,
                  "2009": 0.38174841139051807,
                  "2010": 0.5370716518825915,
                  "2011": 2.4161923726399763,
                  "2012": -0.06871159871419508,
                  "2013": -0.220929251776802,
                  "2014": -0.9676958719889299,
                  "_deepnote_index_column": "Congo"
                },
                {
                  "2008": -0.5895623101128535,
                  "2009": 0.46095021565756156,
                  "2010": 0.20671166314018308,
                  "2011": -0.8556997511121978,
                  "2012": 1.493682861328125,
                  "2013": 0.2241778903537437,
                  "2014": 0.24156061808267282,
                  "_deepnote_index_column": "Costa Rica"
                },
                {
                  "2008": 0.4261839124891509,
                  "2009": 0.3072352939181897,
                  "2010": 0.5297614203558965,
                  "2011": -0.8062498304578938,
                  "2012": -0.08230294121636206,
                  "2013": 0.5601789686414875,
                  "2014": 1.3965534634060361,
                  "_deepnote_index_column": "Croatia"
                },
                {
                  "2008": 0.28338877360026515,
                  "2009": -0.20717536078559817,
                  "2010": 1.8093969557020415,
                  "2011": -0.420093960232208,
                  "2012": -1.4502376980251626,
                  "2013": -0.12131245930990531,
                  "2014": -1.5459412468804175,
                  "_deepnote_index_column": "Cyprus"
                },
                {
                  "2008": 0.4457439846462705,
                  "2009": 0.8544205559624487,
                  "2010": 0.03892305162219145,
                  "2011": -0.11439090304905619,
                  "2012": -0.5738711886935732,
                  "2013": -0.06729210747612058,
                  "2014": 1.0485801696777344,
                  "_deepnote_index_column": "Czech Republic"
                },
                {
                  "2008": -0.7877330780029297,
                  "2009": 0.2077910105387346,
                  "2010": 0.031997044881187264,
                  "2011": 0.5214680565728074,
                  "2012": 0.9092854393853074,
                  "2013": -1.1797741783989792,
                  "2014": 0.41059303283691406,
                  "_deepnote_index_column": "Democratic Republic of Congo"
                },
                {
                  "2008": 0.031654781765411144,
                  "2009": -0.35726250542535354,
                  "2010": 0.8160527547200616,
                  "2011": -0.2886004977756187,
                  "2012": -0.13893254597981297,
                  "2013": 0.130651262071396,
                  "2014": -0.200505998399521,
                  "_deepnote_index_column": "Denmark"
                },
                {
                  "2008": 0.052478790283203125,
                  "2009": 0.8879564073350679,
                  "2010": -0.10632938808865333,
                  "2011": -1.4398903316921619,
                  "2012": -0.2799534267849424,
                  "2013": 0.7552899254692917,
                  "2014": 0.11661487155490846,
                  "_deepnote_index_column": "Djibouti"
                },
                {
                  "2008": -0.7350239223904111,
                  "2009": 0.18648062811957544,
                  "2010": 0.06832716200086963,
                  "2011": 0.1962123446994326,
                  "2012": 0.5626809861924897,
                  "2013": -0.036132388644745106,
                  "2014": 0.5711801317003022,
                  "_deepnote_index_column": "Dominican Republic"
                },
                {
                  "2008": -0.7912551032172317,
                  "2009": 0.36305491129557055,
                  "2010": 0.13824335734049953,
                  "2011": 1.3867662217881929,
                  "2012": 1.033131069607201,
                  "2013": 1.18708928426107,
                  "2014": 0.5178366767035598,
                  "_deepnote_index_column": "Ecuador"
                },
                {
                  "2008": 0.7482927110460125,
                  "2009": 1.0782708062065964,
                  "2010": -0.7352570427788621,
                  "2011": -0.5613396962483748,
                  "2012": 0.00632582770453638,
                  "2013": -2.091847949557838,
                  "2014": 1.2652013566758953,
                  "_deepnote_index_column": "Egypt"
                },
                {
                  "2008": -0.19444105360243213,
                  "2009": 0.29838858710395044,
                  "2010": -0.21589363945854956,
                  "2011": 0.07361645168727904,
                  "2012": 0.9977590772840728,
                  "2013": 0.15667046440972143,
                  "2014": 0.13228564792208886,
                  "_deepnote_index_column": "El Salvador"
                },
                {
                  "2008": 0.4503835042317661,
                  "2009": -0.5904909769694058,
                  "2010": 0.41820526123046875,
                  "2011": 1.433419121636291,
                  "2012": -0.5441182454427036,
                  "2013": 0.6841193305121465,
                  "2014": 1.4943678114149321,
                  "_deepnote_index_column": "Estonia"
                },
                {
                  "2008": 1.2068076663547131,
                  "2009": -0.5747248331705705,
                  "2010": 0.12664371066622948,
                  "2011": 0.07206938001844776,
                  "2012": 0.3299806382920991,
                  "2013": -0.0413258870442732,
                  "2014": -0.34710439046223485,
                  "_deepnote_index_column": "Ethiopia"
                },
                {
                  "2008": -0.11293284098307765,
                  "2009": -0.04871707492404198,
                  "2010": 0.17413965861001657,
                  "2011": 0.522907680935333,
                  "2012": 0.07764350043403567,
                  "2013": -0.1334330240885464,
                  "2014": 0.25481923421223485,
                  "_deepnote_index_column": "Finland"
                },
                {
                  "2008": 0.15955395168727193,
                  "2009": -0.7186097039116675,
                  "2010": 1.4895773993598027,
                  "2011": 0.11987219916450442,
                  "2012": -0.8309042188856353,
                  "2013": 0.5857662624783018,
                  "2014": -0.07357745700413432,
                  "_deepnote_index_column": "France"
                },
                {
                  "2008": 0.14929495917426294,
                  "2009": -0.29741668701171875,
                  "2010": 0.39628431532117503,
                  "2011": 1.6257858276367188,
                  "2012": -0.9786766899956589,
                  "2013": 1.160941653781471,
                  "2014": -0.9204538133409272,
                  "_deepnote_index_column": "Gabon"
                },
                {
                  "2008": 1.2280171712239536,
                  "2009": 0.741926829020187,
                  "2010": 1.499031490749779,
                  "2011": 0.8838424682617188,
                  "2012": 0.5899670918782576,
                  "2013": 0.9572906494140625,
                  "2014": -0.2999178568522112,
                  "_deepnote_index_column": "Georgia"
                },
                {
                  "2008": 0.27368333604600537,
                  "2009": 0.27576022677952494,
                  "2010": 0.716516706678604,
                  "2011": 0.1788427564832773,
                  "2012": 0.11129887898763968,
                  "2013": -0.009869045681426769,
                  "2014": 0.6171646118164062,
                  "_deepnote_index_column": "Germany"
                },
                {
                  "2008": -0.5406833224826428,
                  "2009": -0.9418423970540317,
                  "2010": 1.4704653422037737,
                  "2011": -0.23609712388780224,
                  "2012": 0.2797228495279924,
                  "2013": 0.046762254503036615,
                  "2014": -1.3462460835774692,
                  "_deepnote_index_column": "Ghana"
                },
                {
                  "2008": 0.5993465847439268,
                  "2009": -0.8378151787651902,
                  "2010": -0.6546457078721772,
                  "2011": -1.392661624484596,
                  "2012": -0.9779557122124558,
                  "2013": 0.15443166097005445,
                  "2014": 1.3553568522135393,
                  "_deepnote_index_column": "Greece"
                },
                {
                  "2008": 1.1599913703070754,
                  "2009": -0.24365149603949732,
                  "2010": 0.33367580837673216,
                  "2011": -0.2755826314290317,
                  "2012": 1.1848793029785156,
                  "2013": 0.27522574530707544,
                  "2014": -0.2302097744411924,
                  "_deepnote_index_column": "Guatemala"
                },
                {
                  "2008": -0.1553340488009951,
                  "2009": -0.36094919840494555,
                  "2010": 1.0248612297905808,
                  "2011": 0.9403394063313755,
                  "2012": -1.35398843553331,
                  "2013": 1.0569148593478772,
                  "2014": -0.3811613718668667,
                  "_deepnote_index_column": "Guinea"
                },
                {
                  "2008": -0.13750839233398438,
                  "2009": 0.3905957539876326,
                  "2010": 0.23278511895073706,
                  "2011": 0.27140680948893703,
                  "2012": 0.2829526265462192,
                  "2013": 0.21236334906684107,
                  "2014": -0.15762117173936474,
                  "_deepnote_index_column": "Guyana"
                },
                {
                  "2008": 0.18606864081488794,
                  "2009": -1.3362719217936245,
                  "2010": -0.162017822265625,
                  "2011": 0.9083336724175339,
                  "2012": -0.20181147257486742,
                  "2013": -0.9303877088758696,
                  "2014": 0.8358014424641951,
                  "_deepnote_index_column": "Honduras"
                },
                {
                  "2008": -0.2332717047797246,
                  "2009": 0.19687271118164062,
                  "2010": 0.7215156555175781,
                  "2011": 0.23539394802517677,
                  "2012": -0.9475063747829893,
                  "2013": -0.3335359361436616,
                  "2014": -0.5269368489583428,
                  "_deepnote_index_column": "Hong Kong"
                },
                {
                  "2008": -0.06109915839301294,
                  "2009": 0.2484478420681384,
                  "2010": 0.10821745130751026,
                  "2011": 0.18521838717990136,
                  "2012": -0.4179072909884951,
                  "2013": 0.5466618008083799,
                  "2014": -0.5305909050835567,
                  "_deepnote_index_column": "Hungary"
                },
                {
                  "2008": 0.4466408623589473,
                  "2009": -0.5928090413411553,
                  "2010": 0.5658560858832544,
                  "2011": -0.15086619059245265,
                  "2012": -0.468225691053604,
                  "2013": 0.6623721652560732,
                  "2014": -0.36906602647569287,
                  "_deepnote_index_column": "Iceland"
                },
                {
                  "2008": -0.25123257107205177,
                  "2009": 0.2932086520724866,
                  "2010": -0.5125423007541272,
                  "2011": 0.5458581712510906,
                  "2012": -0.9548611111111143,
                  "2013": 1.5583695305718308,
                  "2014": -0.060362074110244635,
                  "_deepnote_index_column": "India"
                },
                {
                  "2008": 0.48033820258246607,
                  "2009": 1.725022633870438,
                  "2010": 0.15160242716471828,
                  "2011": 1.4278271993001255,
                  "2012": -0.9490314059787295,
                  "2013": 0.4161826239691848,
                  "2014": 0.5263909233940964,
                  "_deepnote_index_column": "Indonesia"
                },
                {
                  "2008": -0.20371097988552833,
                  "2009": -0.34367709689669823,
                  "2010": 0.6008993784586565,
                  "2011": 1.1647993723551409,
                  "2012": 0.3324521382649763,
                  "2013": -0.2201949225531692,
                  "2014": -0.4405028025309221,
                  "_deepnote_index_column": "Iran"
                },
                {
                  "2008": 0.6716403961181641,
                  "2009": 0.8247273763020857,
                  "2010": -0.4153938293457031,
                  "2011": -1.043508105807831,
                  "2012": -0.02276017930773122,
                  "2013": 1.738883548312721,
                  "2014": 0.5160893334282761,
                  "_deepnote_index_column": "Iraq"
                },
                {
                  "2008": 0.1164957682291714,
                  "2009": -1.2777947319878393,
                  "2010": 1.094679090711793,
                  "2011": 0.35978444417318656,
                  "2012": -1.229653252495666,
                  "2013": 0.032491895887588385,
                  "2014": 0.335673862033417,
                  "_deepnote_index_column": "Ireland"
                },
                {
                  "2008": -0.06159845987955492,
                  "2009": 0.39673190646701073,
                  "2010": 0.03138944837782276,
                  "2011": 0.56036376953125,
                  "2012": -0.1414341396755674,
                  "2013": 1.0028953552246094,
                  "2014": -1.2913839552137603,
                  "_deepnote_index_column": "Israel"
                },
                {
                  "2008": -1.5924856397840728,
                  "2009": 1.161632113986542,
                  "2010": -0.5266261630588076,
                  "2011": 0.04513083563909959,
                  "2012": 0.2384444342719263,
                  "2013": -0.46833546956381156,
                  "2014": -0.34639739990234375,
                  "_deepnote_index_column": "Italy"
                },
                {
                  "2008": 0.14331965976290917,
                  "2009": 0.6750392913818359,
                  "2010": -0.3361089494493257,
                  "2011": -0.660036722819008,
                  "2012": 2.1608087751600493,
                  "2013": 2.4471588134765625,
                  "2014": 0.5445626576741489,
                  "_deepnote_index_column": "Ivory Coast"
                },
                {
                  "2008": 0.09575610690647096,
                  "2009": -0.046045939127608904,
                  "2010": 0.08156288994683791,
                  "2011": -0.10358471340603614,
                  "2012": 0.23453564114041114,
                  "2013": 0.09115854899088305,
                  "2014": 1.1305961608886719,
                  "_deepnote_index_column": "Jamaica"
                },
                {
                  "2008": -0.6643490261501768,
                  "2009": 0.5406930711534272,
                  "2010": 0.2793625725640254,
                  "2011": 0.4908858405219121,
                  "2012": -0.43217298719618213,
                  "2013": 0.3726039462619468,
                  "2014": -0.17420069376628078,
                  "_deepnote_index_column": "Japan"
                },
                {
                  "2008": -0.7808375888400576,
                  "2009": 1.2210485670301665,
                  "2010": -0.4856317308214031,
                  "2011": -0.5305391947428362,
                  "2012": -1.1614956325954822,
                  "2013": 1.357119242350258,
                  "2014": -0.8385047912597656,
                  "_deepnote_index_column": "Jordan"
                },
                {
                  "2008": 0.2137607998318103,
                  "2009": 0.5576057434082031,
                  "2010": 0.35253736707899463,
                  "2011": 0.2087656656901018,
                  "2012": 0.853271484375,
                  "2013": -0.28645070393879735,
                  "2014": 0.5700022379557268,
                  "_deepnote_index_column": "Kazakhstan"
                },
                {
                  "2008": -1.6673762003580705,
                  "2009": -0.682456546359596,
                  "2010": 1.7201029459635464,
                  "2011": 0.6366971333821567,
                  "2012": -0.6122966342502139,
                  "2013": 1.8479275173611072,
                  "2014": -0.08018790351019334,
                  "_deepnote_index_column": "Kenya"
                }
              ],
              "rows_bottom": [
                {
                  "2008": 0.01955392625597341,
                  "2009": -0.03641149732801807,
                  "2010": 0.015253702799476798,
                  "2011": -1.0444367726643833,
                  "2012": 1.7045415242512973,
                  "2013": -0.5133906470404739,
                  "2014": -2.341592788696289,
                  "_deepnote_index_column": "Libya"
                },
                {
                  "2008": 0.41988881429036695,
                  "2009": -0.7751799689398879,
                  "2010": 0.7214334275987397,
                  "2011": 0.7131046719021299,
                  "2012": 0.5586229960123674,
                  "2013": 1.1978293524848098,
                  "2014": 0.14240900675455492,
                  "_deepnote_index_column": "Lithuania"
                },
                {
                  "2008": -0.009537590874558077,
                  "2009": 0.2995402018229072,
                  "2010": 0.6102625528971402,
                  "2011": -0.041162278917099115,
                  "2012": -0.5868047078450473,
                  "2013": -2.0140783521864165,
                  "2014": 2.782140943739151,
                  "_deepnote_index_column": "Luxembourg"
                },
                {
                  "2008": 1.093544854058159,
                  "2009": 0.4833971659342424,
                  "2010": 0.10356903076171875,
                  "2011": 0.3050320943196638,
                  "2012": -0.20352978176541114,
                  "2013": 2.719150119357643,
                  "2014": 0.7204729715983049,
                  "_deepnote_index_column": "Macedonia"
                },
                {
                  "2008": -0.20295800103081518,
                  "2009": -1.085598839653862,
                  "2010": -0.3635554843478701,
                  "2011": 0.3652335272894973,
                  "2012": -0.9355799357096402,
                  "2013": 1.4049797058105469,
                  "2014": 0.44022878011067945,
                  "_deepnote_index_column": "Madagascar"
                },
                {
                  "2008": 0.2085215250651018,
                  "2009": 1.2427308824327241,
                  "2010": 0.35432222154405224,
                  "2011": -2.3481648763020786,
                  "2012": 0.5374819437662737,
                  "2013": -0.15481864081488794,
                  "2014": -0.8376125759548572,
                  "_deepnote_index_column": "Malawi"
                },
                {
                  "2008": -0.2201491461859817,
                  "2009": 0.25848558213975537,
                  "2010": -0.33703867594400805,
                  "2011": 0.9583833482530437,
                  "2012": 0.6147143046061103,
                  "2013": 0.14991929796006787,
                  "2014": -0.4291623433430942,
                  "_deepnote_index_column": "Malaysia"
                },
                {
                  "2008": 0.2440611521402971,
                  "2009": 0.796514299180771,
                  "2010": 1.1920753055148694,
                  "2011": 0.6142830318874744,
                  "2012": -4.434513515896263,
                  "2013": 1.3826385074191592,
                  "2014": 0.6277099185519788,
                  "_deepnote_index_column": "Mali"
                },
                {
                  "2008": -0.13548999362522807,
                  "2009": 0.10906134711372317,
                  "2010": -0.2794456481933594,
                  "2011": 0.9938765631781621,
                  "2012": 0.04663213094076468,
                  "2013": 1.1615740458170478,
                  "2014": 1.1473651462131045,
                  "_deepnote_index_column": "Malta"
                },
                {
                  "2008": -1.5212758382161482,
                  "2009": 1.4695966508653413,
                  "2010": 0.6648782094319685,
                  "2011": -0.47614245944552636,
                  "2012": -0.15556632147895044,
                  "2013": -0.07942517598470289,
                  "2014": -0.34425565931532276,
                  "_deepnote_index_column": "Mauritania"
                },
                {
                  "2008": 0.2460933261447451,
                  "2009": 0.5157640245225679,
                  "2010": 0.3693385654025576,
                  "2011": -0.12385347154405224,
                  "2012": 0.39937633938259864,
                  "2013": 0.3574307759602817,
                  "2014": -0.26538806491427636,
                  "_deepnote_index_column": "Mauritius"
                },
                {
                  "2008": -0.2672975328233562,
                  "2009": -0.679271274142792,
                  "2010": 0.8221698337131045,
                  "2011": -0.44266467624240136,
                  "2012": 0.7717119852701799,
                  "2013": 0.1951501634385835,
                  "2014": 0.16090138753255445,
                  "_deepnote_index_column": "Mexico"
                },
                {
                  "2008": 0.04144202338324732,
                  "2009": -0.2568219502766951,
                  "2010": 1.5530552334255674,
                  "2011": 0.37239752875434107,
                  "2012": -0.18800523546007497,
                  "2013": 1.2592705620659714,
                  "2014": -0.17854521009656565,
                  "_deepnote_index_column": "Moldova"
                },
                {
                  "2008": -0.5810301038954009,
                  "2009": 0.17146216498480982,
                  "2010": 0.8427946302625813,
                  "2011": 0.9157083299424968,
                  "2012": 0.4153251647949219,
                  "2013": 0.6545003255208286,
                  "2014": 0.19454828898112453,
                  "_deepnote_index_column": "Mongolia"
                },
                {
                  "2008": 0.6779191758897625,
                  "2009": 0.7128804524739536,
                  "2010": 0.6671651204427107,
                  "2011": -0.3998018900553362,
                  "2012": -0.4034483167860259,
                  "2013": 1.578973982069229,
                  "2014": 0.12073940700954466,
                  "_deepnote_index_column": "Montenegro"
                },
                {
                  "2008": 0.11620415581597143,
                  "2009": 0.5772963629828567,
                  "2010": 0.3546689351399763,
                  "2011": 0.11717478434244555,
                  "2012": 0.18342463175455492,
                  "2013": -0.3626365661621094,
                  "2014": 0.3922381930881116,
                  "_deepnote_index_column": "Morocco"
                },
                {
                  "2008": -0.37141079372830177,
                  "2009": -0.1707305908203125,
                  "2010": 0.6349023183186873,
                  "2011": 0.2543292575412295,
                  "2012": 0.12997351752387232,
                  "2013": 0.03142441643608862,
                  "2014": 0.20353402031792456,
                  "_deepnote_index_column": "Mozambique"
                },
                {
                  "2008": -0.25639597574869555,
                  "2009": 0.6949361165364536,
                  "2010": 0.7239256964789504,
                  "2011": 0.12421883477104956,
                  "2012": -0.08053334554035985,
                  "2013": 0.18017408582898753,
                  "2014": -0.6885600619845889,
                  "_deepnote_index_column": "Namibia"
                },
                {
                  "2008": 1.5654246012369768,
                  "2009": -1.3050041198730469,
                  "2010": 0.6316464742024763,
                  "2011": -0.37243864271376026,
                  "2012": 1.2948010762532576,
                  "2013": 1.8017056783040388,
                  "2014": 0.018611060248481692,
                  "_deepnote_index_column": "Nepal"
                },
                {
                  "2008": -0.01323699951171875,
                  "2009": 0.31465318467881787,
                  "2010": 0.508997175428604,
                  "2011": -0.04542965359158302,
                  "2012": -0.3649071587456518,
                  "2013": 0.00002458360459911546,
                  "2014": -0.20288848876953125,
                  "_deepnote_index_column": "Netherlands"
                },
                {
                  "2008": -0.544350518120666,
                  "2009": 0.22055901421441604,
                  "2010": 0.21927558051214646,
                  "2011": 0.18860456678602588,
                  "2012": -0.05562676323783933,
                  "2013": 0.7058173285590215,
                  "2014": 0.08209821912977588,
                  "_deepnote_index_column": "New Zealand"
                },
                {
                  "2008": -0.42238532172309107,
                  "2009": -0.6812956068250884,
                  "2010": 0.15606689453125,
                  "2011": 0.2719107733832473,
                  "2012": 1.6013802422417527,
                  "2013": 1.000632815890846,
                  "2014": -0.4501902262369839,
                  "_deepnote_index_column": "Nicaragua"
                },
                {
                  "2008": -0.01153776380751026,
                  "2009": 1.0374503665500185,
                  "2010": -0.01073243882920849,
                  "2011": 2.7442249721950986,
                  "2012": -1.0653181076049805,
                  "2013": -0.2511989805433501,
                  "2014": -0.28777737087673927,
                  "_deepnote_index_column": "Niger"
                },
                {
                  "2008": -0.6373668246799085,
                  "2009": -2.039564768473305,
                  "2010": 1.3824789259168853,
                  "2011": 0.564164479573563,
                  "2012": -0.27411566840277146,
                  "2013": -1.2258182101779553,
                  "2014": -0.3538271586100237,
                  "_deepnote_index_column": "Nigeria"
                },
                {
                  "2008": 0.06928592258029198,
                  "2009": 0.5892232259114536,
                  "2010": 0.170074462890625,
                  "2011": -0.5936770968966982,
                  "2012": 0.6614829169379419,
                  "2013": 0.03346930609808396,
                  "2014": 0.6535093519422759,
                  "_deepnote_index_column": "Norway"
                },
                {
                  "2008": 0.3411750793457031,
                  "2009": 0.5326182047526018,
                  "2010": -0.07304636637369555,
                  "2011": 0.3003294203016509,
                  "2012": -0.002118428548179452,
                  "2013": 0.09174516465928662,
                  "2014": -0.3783022562662737,
                  "_deepnote_index_column": "Oman"
                },
                {
                  "2008": -0.3458756340874558,
                  "2009": -0.1107639736599424,
                  "2010": 1.5744942559136348,
                  "2011": -0.41273668077257497,
                  "2012": 0.526808420817062,
                  "2013": 1.1274706522623674,
                  "2014": -1.0631501939561616,
                  "_deepnote_index_column": "Pakistan"
                },
                {
                  "2008": 0.19104639689128078,
                  "2009": 0.9849374559190522,
                  "2010": 0.2883906894259951,
                  "2011": 0.38371573554145755,
                  "2012": -0.007475535074874529,
                  "2013": -0.02800962660047901,
                  "2014": 0.06952116224501026,
                  "_deepnote_index_column": "Panama"
                },
                {
                  "2008": 0.34816275702582544,
                  "2009": 0.9553345574272996,
                  "2010": 0.8848537868923643,
                  "2011": 1.1137411329481282,
                  "2012": 0.834287007649742,
                  "2013": -1.0993190341525576,
                  "2014": -0.6950836181640625,
                  "_deepnote_index_column": "Paraguay"
                },
                {
                  "2008": 0.09947628445095802,
                  "2009": 0.38719346788194287,
                  "2010": 0.8475295172797317,
                  "2011": 0.2934481302897112,
                  "2012": -0.03266652425130445,
                  "2013": -0.08617740207247948,
                  "2014": 0.2065688239203567,
                  "_deepnote_index_column": "Peru"
                },
                {
                  "2008": 0.7481083340114978,
                  "2009": -0.28775872124565893,
                  "2010": 0.36839591132270044,
                  "2011": 0.7099850972493513,
                  "2012": 1.3730142381456147,
                  "2013": 0.7647442287868955,
                  "2014": -0.005722469753692394,
                  "_deepnote_index_column": "Philippines"
                },
                {
                  "2008": 0.46736314561631787,
                  "2009": 0.7829157511393277,
                  "2010": 2.013810051812065,
                  "2011": -0.8537411159939268,
                  "2012": 0.4955787658691406,
                  "2013": -0.3898006015353701,
                  "2014": 1.4321912129720005,
                  "_deepnote_index_column": "Poland"
                },
                {
                  "2008": -0.10223007202148438,
                  "2009": 0.030539194742829068,
                  "2010": 0.5332306755913692,
                  "2011": 0.3778279622395786,
                  "2012": 0.03321626451280224,
                  "2013": 0.38098907470703125,
                  "2014": 0.569427490234375,
                  "_deepnote_index_column": "Portugal"
                },
                {
                  "2008": 0.056291368272567865,
                  "2009": 0.7978091769748303,
                  "2010": -0.039594438340934346,
                  "2011": 0.6267450120714031,
                  "2012": 0.7322769165039062,
                  "2013": 0.33514065212673216,
                  "2014": -0.3873608907063826,
                  "_deepnote_index_column": "Qatar"
                },
                {
                  "2008": 0.2150476243760835,
                  "2009": -0.04070621066622948,
                  "2010": -0.7578875223795549,
                  "2011": 0.19392140706379735,
                  "2012": 0.6901380750868071,
                  "2013": 0.27142122056748974,
                  "2014": 1.2955411275227888,
                  "_deepnote_index_column": "Romania"
                },
                {
                  "2008": 0.4781451755099795,
                  "2009": -0.30208545260958886,
                  "2010": 1.0486183166503906,
                  "2011": -0.30431323581272096,
                  "2012": -0.2767908308241118,
                  "2013": 0.753175311618385,
                  "2014": 1.6827021704779739,
                  "_deepnote_index_column": "Russia"
                },
                {
                  "2008": 0.4353523254394531,
                  "2009": 1.9650950961642764,
                  "2010": 0.2773848639594192,
                  "2011": 0.4337268405490491,
                  "2012": 0.5598670111762161,
                  "2013": 1.149472130669487,
                  "2014": 0.35932668050129735,
                  "_deepnote_index_column": "Rwanda"
                },
                {
                  "2008": -0.6063596937391509,
                  "2009": 0.5423020256890183,
                  "2010": 0.9975270165337449,
                  "2011": -0.3076864878336565,
                  "2012": 0.929097705417206,
                  "2013": 0.5685153537326428,
                  "2014": -0.002282460530601327,
                  "_deepnote_index_column": "Saudi Arabia"
                },
                {
                  "2008": -0.8977055019802549,
                  "2009": -1.1043779585096587,
                  "2010": 2.0007745954725493,
                  "2011": -1.627191755506729,
                  "2012": 1.9364939795600051,
                  "2013": 0.8026309543185803,
                  "2014": 1.5489720238579636,
                  "_deepnote_index_column": "Senegal"
                },
                {
                  "2008": 0.2057702806260835,
                  "2009": 0.4451603359646228,
                  "2010": 0.3600069681803433,
                  "2011": -0.3810318840874558,
                  "2012": 0.4931144714355469,
                  "2013": 0.6508950127495652,
                  "2014": 0.4885762532552036,
                  "_deepnote_index_column": "Serbia"
                },
                {
                  "2008": -0.836265140109596,
                  "2009": 1.0840045081244583,
                  "2010": -0.5701018439398879,
                  "2011": 0.9411987728542783,
                  "2012": 0.4965298970540388,
                  "2013": -1.005838818020294,
                  "2014": 1.2853285471598284,
                  "_deepnote_index_column": "Sierra Leone"
                },
                {
                  "2008": -0.8442675272623745,
                  "2009": 0.3243666754828496,
                  "2010": 0.6828248765733633,
                  "2011": -0.6451454162597656,
                  "2012": 0.3894810146755532,
                  "2013": -0.07678349812825047,
                  "2014": 0.18851598103840672,
                  "_deepnote_index_column": "Singapore"
                },
                {
                  "2008": 0.30306752522785985,
                  "2009": -0.16441472371418797,
                  "2010": 0.616444057888458,
                  "2011": 0.009903377956817394,
                  "2012": -0.5472577412923272,
                  "2013": 0.02715937296549953,
                  "2014": 0.6307152642144018,
                  "_deepnote_index_column": "Slovakia"
                },
                {
                  "2008": 0.8991105821397554,
                  "2009": 0.007878197564011202,
                  "2010": 2.3434770372178804,
                  "2011": -0.6425713433159643,
                  "2012": 0.3731324937608491,
                  "2013": -0.12499660915798927,
                  "2014": 0.06236182318794192,
                  "_deepnote_index_column": "Slovenia"
                },
                {
                  "2008": -0.3180736965603259,
                  "2009": 0.19060982598198706,
                  "2010": 0.6435432434082031,
                  "2011": 0.31731372409396386,
                  "2012": -0.5249243842230911,
                  "2013": 0.606742435031471,
                  "2014": 0.5356674194335938,
                  "_deepnote_index_column": "South Africa"
                },
                {
                  "2008": -0.34244452582465357,
                  "2009": 0.5396982828776018,
                  "2010": 1.1743401421441035,
                  "2011": 0.23573006523979245,
                  "2012": 0.13909912109375,
                  "2013": -0.3001717461479956,
                  "2014": -1.175240834554046,
                  "_deepnote_index_column": "South Korea"
                },
                {
                  "2008": 0.11825942993164062,
                  "2009": -0.927465226915146,
                  "2010": 1.2722104390462334,
                  "2011": -0.07216856214735401,
                  "2012": 0.12636905246310448,
                  "2013": -0.9574762980143277,
                  "2014": 0.3264376322428433,
                  "_deepnote_index_column": "Spain"
                },
                {
                  "2008": 1.4572787814670107,
                  "2009": 0.7073796590169295,
                  "2010": 0.9420895046658018,
                  "2011": 0.5610669453938755,
                  "2012": 0.9918886820475308,
                  "2013": 0.15911992390950047,
                  "2014": -0.49836476643879735,
                  "_deepnote_index_column": "Sri Lanka"
                },
                {
                  "2008": -0.14261012607150292,
                  "2009": 0.05699793497721117,
                  "2010": -0.21197658114962792,
                  "2011": -1.1789527469211194,
                  "2012": -1.267504162258568,
                  "2013": 0.11842430962456518,
                  "2014": -1.5888815985785598,
                  "_deepnote_index_column": "Sudan"
                },
                {
                  "2008": 0.4249534606933594,
                  "2009": 0.11101235283745581,
                  "2010": 0.45624075995551294,
                  "2011": -0.32792960272895044,
                  "2012": 0.29298273722331203,
                  "2013": 0.11085255940754735,
                  "2014": -0.1449940999348911,
                  "_deepnote_index_column": "Suriname"
                },
                {
                  "2008": 0.0612640380859375,
                  "2009": 0.02092107137043797,
                  "2010": 0.3826353285047759,
                  "2011": -0.24897744920518505,
                  "2012": 0.04044130113389599,
                  "2013": 0.47445233662923414,
                  "2014": -0.04974174499511719,
                  "_deepnote_index_column": "Swaziland"
                },
                {
                  "2008": 0.2674967447916714,
                  "2009": 0.5966707865397183,
                  "2010": 0.9280925326877139,
                  "2011": -0.1694539388020928,
                  "2012": -0.1510772705078125,
                  "2013": -0.7167667812771157,
                  "2014": -0.009805467393661615,
                  "_deepnote_index_column": "Sweden"
                },
                {
                  "2008": 0.43833245171441604,
                  "2009": -0.0014258490668481727,
                  "2010": 0.2592985365125884,
                  "2011": 0.07306162516276515,
                  "2012": 0.9252696567111514,
                  "2013": -0.17838880750868213,
                  "2014": 0.09948433770074416,
                  "_deepnote_index_column": "Switzerland"
                },
                {
                  "2008": 0.4386558532714844,
                  "2009": 0.07527033487955492,
                  "2010": 0.6930580139160156,
                  "2011": 1.311745537651916,
                  "2012": -0.2653600904676665,
                  "2013": -0.050990634494361586,
                  "2014": 0.6822382609049527,
                  "_deepnote_index_column": "Tajikistan"
                },
                {
                  "2008": -0.7686254713270415,
                  "2009": 1.2247111002604143,
                  "2010": -0.29226854112413037,
                  "2011": 1.0495936075846402,
                  "2012": -1.4329041375054317,
                  "2013": -0.5782118903265996,
                  "2014": -0.29057015313043166,
                  "_deepnote_index_column": "Tanzania"
                },
                {
                  "2008": 0.026280721028648202,
                  "2009": 0.39764658610025805,
                  "2010": 0.42329279581706203,
                  "2011": 0.3880301581488652,
                  "2012": -0.006888919406463856,
                  "2013": -0.6754112243652344,
                  "2014": -0.8463990953233491,
                  "_deepnote_index_column": "Thailand"
                },
                {
                  "2008": -0.17049874199761206,
                  "2009": 0.579856448703346,
                  "2010": 1.2436659071180571,
                  "2011": 2.555584589640297,
                  "2012": 0.2920191023084868,
                  "2013": 0.5897541046142578,
                  "2014": 1.597476111518013,
                  "_deepnote_index_column": "Togo"
                },
                {
                  "2008": -0.38180202907985716,
                  "2009": 0.5306735568576357,
                  "2010": 0.5043729146321638,
                  "2011": 2.0226092868381045,
                  "2012": 0.1298878987630232,
                  "2013": -0.5513568454318545,
                  "2014": 0.09065034654405224,
                  "_deepnote_index_column": "Trinidad and Tobago"
                },
                {
                  "2008": 0.16343816121419508,
                  "2009": -0.014159308539497317,
                  "2010": 0.3803410000271299,
                  "2011": -1.5224880642361143,
                  "2012": -1.1632868448893205,
                  "2013": 0.9548784891764299,
                  "2014": -1.039118025037979,
                  "_deepnote_index_column": "Tunisia"
                },
                {
                  "2008": -0.9184142218695754,
                  "2009": 0.07575183444552636,
                  "2010": 1.386593712700737,
                  "2011": 0.0849507649739607,
                  "2012": 0.37142096625434107,
                  "2013": 0.08725696139865136,
                  "2014": 0.7762400309244839,
                  "_deepnote_index_column": "Turkey"
                },
                {
                  "2008": -1.3143039279513928,
                  "2009": 1.0260683695475308,
                  "2010": 0.7985941569010393,
                  "2011": 0.2530517578125,
                  "2012": -0.06362236870659643,
                  "2013": 0.4394527011447451,
                  "2014": -1.4292229546440964,
                  "_deepnote_index_column": "Uganda"
                },
                {
                  "2008": 0.3299111260308152,
                  "2009": -0.9894532097710496,
                  "2010": 0.6918076409233933,
                  "2011": 0.48116344875759864,
                  "2012": 0.3591554429795991,
                  "2013": 0.5359535217285156,
                  "2014": -0.5487810770670549,
                  "_deepnote_index_column": "Ukraine"
                },
                {
                  "2008": 0.5550219217936174,
                  "2009": 0.3215285407172317,
                  "2010": 0.5735011630588076,
                  "2011": -0.021616617838539298,
                  "2012": 0.35877143012152857,
                  "2013": 0.9038386874728701,
                  "2014": 0.32903756035698706,
                  "_deepnote_index_column": "United Arab Emirates"
                },
                {
                  "2008": -0.6260426839192661,
                  "2009": 0.4585613674587705,
                  "2010": 0.6443693372938384,
                  "2011": 0.4910261366102304,
                  "2012": 0.0385695563422388,
                  "2013": 0.4365225897894902,
                  "2014": -0.16327624850802636,
                  "_deepnote_index_column": "United Kingdom"
                },
                {
                  "2008": 0.6983049180772554,
                  "2009": -0.8705698649088447,
                  "2010": -0.19121466742622317,
                  "2011": -0.4067323472764741,
                  "2012": -0.03512488471136521,
                  "2013": 0.33823903401692235,
                  "2014": 0.36678314208984375,
                  "_deepnote_index_column": "United States"
                },
                {
                  "2008": 0.5278396606445312,
                  "2009": 0.9885453118218379,
                  "2010": -0.10428068372938526,
                  "2011": 1.0659556918674014,
                  "2012": 0.49983427259657276,
                  "2013": -0.3222130669487768,
                  "2014": 0.5526818169487768,
                  "_deepnote_index_column": "Uruguay"
                },
                {
                  "2008": -1.6623906029595261,
                  "2009": -0.19661521911621094,
                  "2010": 0.33450105455187185,
                  "2011": 0.05158869425455492,
                  "2012": 0.29630427890353417,
                  "2013": -1.9441975487603074,
                  "2014": -0.9585217369927292,
                  "_deepnote_index_column": "Venezuela"
                },
                {
                  "2008": 0.8896967569986955,
                  "2009": -1.1169870164659272,
                  "2010": -0.10281541612413037,
                  "2011": -0.27543894449869555,
                  "2012": 0.08961147732204466,
                  "2013": 1.7810940212673643,
                  "2014": 0.8549694485134509,
                  "_deepnote_index_column": "Vietnam"
                },
                {
                  "2008": 0.051776885986328125,
                  "2009": -0.2409945593939895,
                  "2010": 0.13212521870931226,
                  "2011": -1.75673039754232,
                  "2012": 1.0381698608398438,
                  "2013": -0.0444742838541643,
                  "2014": -0.32229953342013573,
                  "_deepnote_index_column": "Yemen"
                },
                {
                  "2008": 1.6773779127332915,
                  "2009": -0.42212677001953125,
                  "2010": 0.19549306233724195,
                  "2011": 1.5141088697645415,
                  "2012": -0.29928885565863794,
                  "2013": 0.3577982584635393,
                  "2014": -0.4234983656141509,
                  "_deepnote_index_column": "Zambia"
                },
                {
                  "2008": -1.314003414577904,
                  "2009": 1.781503677368164,
                  "2010": 2.7467373741997605,
                  "2011": 2.2462770673963774,
                  "2012": 0.27104208204481495,
                  "2013": 1.205312305026581,
                  "2014": -0.6047935485839844,
                  "_deepnote_index_column": "Zimbabwe"
                }
              ]
            },
            "text/plain": "year             2008      2009      2010      2011      2012      2013  \\\ncountry                                                                   \nAfghanistan -0.011917  1.315978 -0.584741 -1.478095  1.768298  0.264235   \nAlbania      1.183868  0.643685  0.486321  0.109806  0.148588 -0.704340   \nAlgeria     -0.344381 -0.118689  0.509839 -0.600491 -0.183917  0.939682   \nAngola       0.673642 -0.018470  0.337132 -0.477237 -1.232876  1.160649   \nArgentina   -0.556873  1.332824  1.475325  0.736701 -0.597984  0.525355   \n...               ...       ...       ...       ...       ...       ...   \nVenezuela   -1.662391 -0.196615  0.334501  0.051589  0.296304 -1.944198   \nVietnam      0.889697 -1.116987 -0.102815 -0.275439  0.089611  1.781094   \nYemen        0.051777 -0.240995  0.132125 -1.756730  1.038170 -0.044474   \nZambia       1.677378 -0.422127  0.195493  1.514109 -0.299289  0.357798   \nZimbabwe    -1.314003  1.781504  2.746737  2.246277  0.271042  1.205312   \n\nyear             2014  \ncountry                \nAfghanistan -1.325559  \nAlbania      1.066572  \nAlgeria      0.043788  \nAngola      -1.406232  \nArgentina   -0.561982  \n...               ...  \nVenezuela   -0.958522  \nVietnam      0.854969  \nYemen       -0.322300  \nZambia      -0.423498  \nZimbabwe    -0.604794  \n\n[149 rows x 7 columns]",
            "text/html": "<div>\n<style scoped>\n    .dataframe tbody tr th:only-of-type {\n        vertical-align: middle;\n    }\n\n    .dataframe tbody tr th {\n        vertical-align: top;\n    }\n\n    .dataframe thead th {\n        text-align: right;\n    }\n</style>\n<table border=\"1\" class=\"dataframe\">\n  <thead>\n    <tr style=\"text-align: right;\">\n      <th>year</th>\n      <th>2008</th>\n      <th>2009</th>\n      <th>2010</th>\n      <th>2011</th>\n      <th>2012</th>\n      <th>2013</th>\n      <th>2014</th>\n    </tr>\n    <tr>\n      <th>country</th>\n      <th></th>\n      <th></th>\n      <th></th>\n      <th></th>\n      <th></th>\n      <th></th>\n      <th></th>\n    </tr>\n  </thead>\n  <tbody>\n    <tr>\n      <th>Afghanistan</th>\n      <td>-0.011917</td>\n      <td>1.315978</td>\n      <td>-0.584741</td>\n      <td>-1.478095</td>\n      <td>1.768298</td>\n      <td>0.264235</td>\n      <td>-1.325559</td>\n    </tr>\n    <tr>\n      <th>Albania</th>\n      <td>1.183868</td>\n      <td>0.643685</td>\n      <td>0.486321</td>\n      <td>0.109806</td>\n      <td>0.148588</td>\n      <td>-0.704340</td>\n      <td>1.066572</td>\n    </tr>\n    <tr>\n      <th>Algeria</th>\n      <td>-0.344381</td>\n      <td>-0.118689</td>\n      <td>0.509839</td>\n      <td>-0.600491</td>\n      <td>-0.183917</td>\n      <td>0.939682</td>\n      <td>0.043788</td>\n    </tr>\n    <tr>\n      <th>Angola</th>\n      <td>0.673642</td>\n      <td>-0.018470</td>\n      <td>0.337132</td>\n      <td>-0.477237</td>\n      <td>-1.232876</td>\n      <td>1.160649</td>\n      <td>-1.406232</td>\n    </tr>\n    <tr>\n      <th>Argentina</th>\n      <td>-0.556873</td>\n      <td>1.332824</td>\n      <td>1.475325</td>\n      <td>0.736701</td>\n      <td>-0.597984</td>\n      <td>0.525355</td>\n      <td>-0.561982</td>\n    </tr>\n    <tr>\n      <th>...</th>\n      <td>...</td>\n      <td>...</td>\n      <td>...</td>\n      <td>...</td>\n      <td>...</td>\n      <td>...</td>\n      <td>...</td>\n    </tr>\n    <tr>\n      <th>Venezuela</th>\n      <td>-1.662391</td>\n      <td>-0.196615</td>\n      <td>0.334501</td>\n      <td>0.051589</td>\n      <td>0.296304</td>\n      <td>-1.944198</td>\n      <td>-0.958522</td>\n    </tr>\n    <tr>\n      <th>Vietnam</th>\n      <td>0.889697</td>\n      <td>-1.116987</td>\n      <td>-0.102815</td>\n      <td>-0.275439</td>\n      <td>0.089611</td>\n      <td>1.781094</td>\n      <td>0.854969</td>\n    </tr>\n    <tr>\n      <th>Yemen</th>\n      <td>0.051777</td>\n      <td>-0.240995</td>\n      <td>0.132125</td>\n      <td>-1.756730</td>\n      <td>1.038170</td>\n      <td>-0.044474</td>\n      <td>-0.322300</td>\n    </tr>\n    <tr>\n      <th>Zambia</th>\n      <td>1.677378</td>\n      <td>-0.422127</td>\n      <td>0.195493</td>\n      <td>1.514109</td>\n      <td>-0.299289</td>\n      <td>0.357798</td>\n      <td>-0.423498</td>\n    </tr>\n    <tr>\n      <th>Zimbabwe</th>\n      <td>-1.314003</td>\n      <td>1.781504</td>\n      <td>2.746737</td>\n      <td>2.246277</td>\n      <td>0.271042</td>\n      <td>1.205312</td>\n      <td>-0.604794</td>\n    </tr>\n  </tbody>\n</table>\n<p>149 rows × 7 columns</p>\n</div>"
          },
          "metadata": {}
        }
      ]
    },
    {
      "cell_type": "code",
      "metadata": {
        "cell_id": "00005-a641ff3a-6b11-40fd-abd3-68c9b4e32adc",
        "deepnote_to_be_reexecuted": false,
        "source_hash": "eb192b87",
        "execution_millis": 32,
        "execution_start": 1618140857952,
        "deepnote_cell_type": "code"
      },
      "source": "prosperity_growth_table.mean(axis=1).sort_values(ascending=False).head(5)",
      "execution_count": 7,
      "outputs": [
        {
          "output_type": "execute_result",
          "execution_count": 7,
          "data": {
            "text/plain": "country\nTogo         0.955408\nZimbabwe     0.904582\nChad         0.820001\nGeorgia      0.800023\nMacedonia    0.745948\ndtype: float64"
          },
          "metadata": {}
        }
      ]
    },
    {
      "cell_type": "markdown",
      "source": "#### Merging DFs - Train\n\n_First we remove the year data from all the categories in each pillar and omit all the expunged Gallup data. Then, we join all the pillars together using isocode_",
      "metadata": {
        "tags": [],
        "cell_id": "00018-ee8a9676-7347-4de5-bce8-df2e04d788c9",
        "deepnote_cell_type": "markdown"
      }
    },
    {
      "cell_type": "code",
      "metadata": {
        "tags": [],
        "cell_id": "00019-002f2651-8396-42e4-9e4c-bb58f6d47acd",
        "deepnote_to_be_reexecuted": false,
        "source_hash": "c8a3c3da",
        "execution_millis": 104,
        "execution_start": 1618140857960,
        "deepnote_cell_type": "code"
      },
      "source": "busi_train = pd.read_csv(\"data/busi_train.csv\")\necon_train = pd.read_csv(\"data/econ_train.csv\")\neduc_train = pd.read_csv(\"data/educ_train.csv\")\nenvi_train = pd.read_csv(\"data/envi_train.csv\")\ngove_train = pd.read_csv(\"data/gove_train.csv\")\nheal_train = pd.read_csv(\"data/heal_train.csv\")\npers_train = pd.read_csv(\"data/pers_train.csv\")\nsafe_train = pd.read_csv(\"data/safe_train.csv\")\nsoci_train = pd.read_csv(\"data/soci_train.csv\")",
      "execution_count": 8,
      "outputs": []
    },
    {
      "cell_type": "code",
      "metadata": {
        "tags": [],
        "cell_id": "00019-9dea85ca-a4b6-4a41-a01a-1364b70be2de",
        "deepnote_to_be_reexecuted": false,
        "source_hash": "6fe9f330",
        "execution_millis": 6,
        "execution_start": 1618140858065,
        "deepnote_cell_type": "code"
      },
      "source": "busi_train = busi_train.loc[:,~busi_train.columns.str.endswith('_year')]\nbusi_train = busi_train.drop(columns=['Unnamed: 0', 'start', 'ahead'])\n\necon_train = econ_train.loc[:,~econ_train.columns.str.endswith('_year')]\necon_train = econ_train.drop(columns=['Unnamed: 0', 'comfy', 'livstd'])\n\neduc_train = educ_train.loc[:,~educ_train.columns.str.endswith('_year')]\neduc_train = educ_train.drop(columns=['Unnamed: 0', 'edsys', 'kids'])\n\nenvi_train = envi_train.loc[:,~envi_train.columns.str.endswith('_year')]\nenvi_train = envi_train.drop(columns=['Unnamed: 0', 'preserve'])\n\ngove_train = gove_train.loc[:,~gove_train.columns.str.endswith('_year')]\ngove_train = gove_train.drop(columns=['Unnamed: 0', 'honeste', 'cfgov'])\n\nheal_train = heal_train.loc[:,~heal_train.columns.str.endswith('_year')]\nheal_train = heal_train.drop(columns=['Unnamed: 0', 'Sadness', 'Joy', 'healp', 'cityheal'])\n\npers_train = pers_train.loc[:,~pers_train.columns.str.endswith('_year')]\npers_train = pers_train.drop(columns=['Unnamed: 0', 'racial', 'immig', 'freedom', 'lgbx'])\n\nsafe_train = safe_train.loc[:,~safe_train.columns.str.endswith('_year')]\nsafe_train = safe_train.drop(columns=['Unnamed: 0', 'shelter', 'food', 'walking', 'stolen'])\n\nsoci_train = soci_train.loc[:,~soci_train.columns.str.endswith('_year')]\nsoci_train = soci_train.drop(columns=['Unnamed: 0', 'strange', 'polic', 'respect', 'friends', 'voice', 'finhelp', 'volunt', 'help', 'donate'])",
      "execution_count": 9,
      "outputs": []
    },
    {
      "cell_type": "code",
      "metadata": {
        "tags": [],
        "cell_id": "00020-2fefc373-81ba-4ea1-843c-113e3a1f7453",
        "deepnote_to_be_reexecuted": false,
        "source_hash": "70b4eaed",
        "execution_millis": 107,
        "execution_start": 1618140858092,
        "deepnote_cell_type": "code"
      },
      "source": "temp = pd.merge(busi_train, econ_train, how=\"inner\", on=[\"country\", \"isonum\", \"isocode\", \"year\"])\ntemp_1 = pd.merge(temp, soci_train, how=\"inner\", on=[\"country\", \"isonum\", \"isocode\", \"year\"])\ntemp_2 = pd.merge(educ_train, envi_train, how=\"inner\", on=[\"country\", \"isonum\", \"isocode\", \"year\"])\ntemp_3 = pd.merge(gove_train, heal_train, how=\"inner\", on=[\"country\", \"isonum\", \"isocode\", \"year\"])\ntemp_4 = pd.merge(pers_train, safe_train, how=\"inner\", on=[\"country\", \"isonum\", \"isocode\", \"year\"])\n\ntemp_5 = pd.merge(temp_1, temp_2, how=\"inner\", on=[\"country\", \"isonum\", \"isocode\", \"year\"])\ntemp_6 = pd.merge(temp_3, temp_4, how=\"inner\", on=[\"country\", \"isonum\", \"isocode\", \"year\"])\n\nmerged_train = pd.merge(temp_5, temp_6, how=\"inner\", on=[\"country\", \"isonum\", \"isocode\", \"year\"])",
      "execution_count": 10,
      "outputs": []
    },
    {
      "cell_type": "code",
      "metadata": {
        "tags": [],
        "cell_id": "00022-d664c0e7-e43a-4423-9123-1db914290157",
        "deepnote_to_be_reexecuted": false,
        "source_hash": "8fc48c50",
        "execution_millis": 47,
        "execution_start": 1618140858200,
        "deepnote_cell_type": "code"
      },
      "source": "merged_train.to_csv(\"data/merged_train.csv\")",
      "execution_count": 11,
      "outputs": []
    },
    {
      "cell_type": "markdown",
      "source": "#### Merging DFs - Test\n_Below we follow the same procedures mentioned in train_",
      "metadata": {
        "tags": [],
        "cell_id": "00024-29fe6d19-4c99-447d-85f3-56111459abd0",
        "deepnote_cell_type": "markdown"
      }
    },
    {
      "cell_type": "code",
      "metadata": {
        "tags": [],
        "cell_id": "00025-b7a35ba5-af26-4fa1-a658-9eca50be8500",
        "deepnote_to_be_reexecuted": false,
        "source_hash": "1f197ac5",
        "execution_millis": 56,
        "execution_start": 1618140858253,
        "deepnote_cell_type": "code"
      },
      "source": "busi_test = pd.read_csv(\"data/busi_test.csv\")\necon_test = pd.read_csv(\"data/econ_test.csv\")\neduc_test = pd.read_csv(\"data/educ_test.csv\")\nenvi_test = pd.read_csv(\"data/envi_test.csv\")\ngove_test = pd.read_csv(\"data/gove_test.csv\")\nheal_test = pd.read_csv(\"data/heal_test.csv\")\npers_test = pd.read_csv(\"data/pers_test.csv\")\nsafe_test = pd.read_csv(\"data/safe_test.csv\")\nsoci_test = pd.read_csv(\"data/soci_test.csv\")",
      "execution_count": 12,
      "outputs": []
    },
    {
      "cell_type": "code",
      "metadata": {
        "tags": [],
        "cell_id": "00026-d42fd0f6-bd86-4f3a-b2bd-3a1c6ba502c4",
        "deepnote_to_be_reexecuted": false,
        "source_hash": "823fdf2",
        "execution_millis": 5,
        "execution_start": 1618140858320,
        "deepnote_cell_type": "code"
      },
      "source": "busi_test = busi_test.loc[:,~busi_test.columns.str.endswith('_year')]\nbusi_test = busi_test.drop(columns=['Unnamed: 0', 'start', 'ahead'])\n\necon_test = econ_test.loc[:,~econ_test.columns.str.endswith('_year')]\necon_test = econ_test.drop(columns=['Unnamed: 0', 'comfy', 'livstd'])\n\neduc_test = educ_test.loc[:,~educ_test.columns.str.endswith('_year')]\neduc_test = educ_test.drop(columns=['Unnamed: 0', 'edsys', 'kids'])\n\nenvi_test = envi_test.loc[:,~envi_test.columns.str.endswith('_year')]\nenvi_test = envi_test.drop(columns=['Unnamed: 0', 'preserve'])\n\ngove_test = gove_test.loc[:,~gove_test.columns.str.endswith('_year')]\ngove_test = gove_test.drop(columns=['Unnamed: 0', 'honeste', 'cfgov'])\n\nheal_test = heal_test.loc[:,~heal_test.columns.str.endswith('_year')]\nheal_test = heal_test.drop(columns=['Unnamed: 0', 'Sadness', 'Joy', 'healp', 'cityheal'])\n\npers_test = pers_test.loc[:,~pers_test.columns.str.endswith('_year')]\npers_test = pers_test.drop(columns=['Unnamed: 0', 'racial', 'immig', 'freedom', 'lgbx'])\n\nsafe_test = safe_test.loc[:,~safe_test.columns.str.endswith('_year')]\nsafe_test = safe_test.drop(columns=['Unnamed: 0', 'shelter', 'food', 'walking', 'stolen'])\n\nsoci_test = soci_test.loc[:,~soci_test.columns.str.endswith('_year')]\nsoci_test = soci_test.drop(columns=['Unnamed: 0', 'strange', 'polic', 'respect', 'friends', 'voice', 'finhelp', 'volunt', 'help', 'donate'])",
      "execution_count": 13,
      "outputs": []
    },
    {
      "cell_type": "code",
      "metadata": {
        "tags": [],
        "cell_id": "00025-937aad88-9e46-4482-a8d7-ba4f753e0a86",
        "deepnote_to_be_reexecuted": false,
        "source_hash": "c3292ecf",
        "execution_millis": 64,
        "execution_start": 1618140858329,
        "deepnote_cell_type": "code"
      },
      "source": "busi_test",
      "execution_count": 14,
      "outputs": [
        {
          "output_type": "execute_result",
          "execution_count": 14,
          "data": {
            "application/vnd.deepnote.dataframe.v2+json": {
              "row_count": 298,
              "column_count": 14,
              "columns": [
                {
                  "name": "country",
                  "dtype": "object",
                  "stats": {
                    "unique_count": 149,
                    "nan_count": 0,
                    "categories": [
                      {
                        "name": "Afghanistan",
                        "count": 2
                      },
                      {
                        "name": "Angola",
                        "count": 2
                      },
                      {
                        "name": "147 others",
                        "count": 294
                      }
                    ]
                  }
                },
                {
                  "name": "isonum",
                  "dtype": "int64",
                  "stats": {
                    "unique_count": 149,
                    "nan_count": 0,
                    "min": 4,
                    "max": 894,
                    "histogram": [
                      {
                        "bin_start": 4,
                        "bin_end": 93,
                        "count": 32
                      },
                      {
                        "bin_start": 93,
                        "bin_end": 182,
                        "count": 30
                      },
                      {
                        "bin_start": 182,
                        "bin_end": 271,
                        "count": 32
                      },
                      {
                        "bin_start": 271,
                        "bin_end": 360,
                        "count": 22
                      },
                      {
                        "bin_start": 360,
                        "bin_end": 449,
                        "count": 46
                      },
                      {
                        "bin_start": 449,
                        "bin_end": 538,
                        "count": 34
                      },
                      {
                        "bin_start": 538,
                        "bin_end": 627,
                        "count": 24
                      },
                      {
                        "bin_start": 627,
                        "bin_end": 716,
                        "count": 26
                      },
                      {
                        "bin_start": 716,
                        "bin_end": 805,
                        "count": 32
                      },
                      {
                        "bin_start": 805,
                        "bin_end": 894,
                        "count": 20
                      }
                    ]
                  }
                },
                {
                  "name": "isocode",
                  "dtype": "object",
                  "stats": {
                    "unique_count": 149,
                    "nan_count": 0,
                    "categories": [
                      {
                        "name": "AFG",
                        "count": 2
                      },
                      {
                        "name": "AGO",
                        "count": 2
                      },
                      {
                        "name": "147 others",
                        "count": 294
                      }
                    ]
                  }
                },
                {
                  "name": "year",
                  "dtype": "int64",
                  "stats": {
                    "unique_count": 2,
                    "nan_count": 0,
                    "min": 2015,
                    "max": 2016,
                    "histogram": [
                      {
                        "bin_start": 2015,
                        "bin_end": 2015.1,
                        "count": 149
                      },
                      {
                        "bin_start": 2015.1,
                        "bin_end": 2015.2,
                        "count": 0
                      },
                      {
                        "bin_start": 2015.2,
                        "bin_end": 2015.3,
                        "count": 0
                      },
                      {
                        "bin_start": 2015.3,
                        "bin_end": 2015.4,
                        "count": 0
                      },
                      {
                        "bin_start": 2015.4,
                        "bin_end": 2015.5,
                        "count": 0
                      },
                      {
                        "bin_start": 2015.5,
                        "bin_end": 2015.6,
                        "count": 0
                      },
                      {
                        "bin_start": 2015.6,
                        "bin_end": 2015.7,
                        "count": 0
                      },
                      {
                        "bin_start": 2015.7,
                        "bin_end": 2015.8,
                        "count": 0
                      },
                      {
                        "bin_start": 2015.8,
                        "bin_end": 2015.9,
                        "count": 0
                      },
                      {
                        "bin_start": 2015.9,
                        "bin_end": 2016,
                        "count": 149
                      }
                    ]
                  }
                },
                {
                  "name": "logis",
                  "dtype": "float64",
                  "stats": {
                    "unique_count": 149,
                    "nan_count": 0,
                    "min": 1.8788570165634155,
                    "max": 4.121983051300049,
                    "histogram": [
                      {
                        "bin_start": 1.8788570165634155,
                        "bin_end": 2.103169620037079,
                        "count": 8
                      },
                      {
                        "bin_start": 2.103169620037079,
                        "bin_end": 2.327482223510742,
                        "count": 20
                      },
                      {
                        "bin_start": 2.327482223510742,
                        "bin_end": 2.5517948269844055,
                        "count": 52
                      },
                      {
                        "bin_start": 2.5517948269844055,
                        "bin_end": 2.776107430458069,
                        "count": 60
                      },
                      {
                        "bin_start": 2.776107430458069,
                        "bin_end": 3.000420033931732,
                        "count": 42
                      },
                      {
                        "bin_start": 3.000420033931732,
                        "bin_end": 3.2247326374053955,
                        "count": 32
                      },
                      {
                        "bin_start": 3.2247326374053955,
                        "bin_end": 3.449045240879059,
                        "count": 20
                      },
                      {
                        "bin_start": 3.449045240879059,
                        "bin_end": 3.673357844352722,
                        "count": 26
                      },
                      {
                        "bin_start": 3.673357844352722,
                        "bin_end": 3.8976704478263855,
                        "count": 18
                      },
                      {
                        "bin_start": 3.8976704478263855,
                        "bin_end": 4.121983051300049,
                        "count": 20
                      }
                    ]
                  }
                },
                {
                  "name": "bband",
                  "dtype": "float64",
                  "stats": {
                    "unique_count": 149,
                    "nan_count": 0,
                    "min": 0.0007208753377199,
                    "max": 42.47296142578125,
                    "histogram": [
                      {
                        "bin_start": 0.0007208753377199,
                        "bin_end": 4.247944930382073,
                        "count": 126
                      },
                      {
                        "bin_start": 4.247944930382073,
                        "bin_end": 8.495168985426426,
                        "count": 30
                      },
                      {
                        "bin_start": 8.495168985426426,
                        "bin_end": 12.74239304047078,
                        "count": 26
                      },
                      {
                        "bin_start": 12.74239304047078,
                        "bin_end": 16.989617095515133,
                        "count": 18
                      },
                      {
                        "bin_start": 16.989617095515133,
                        "bin_end": 21.236841150559485,
                        "count": 14
                      },
                      {
                        "bin_start": 21.236841150559485,
                        "bin_end": 25.48406520560384,
                        "count": 18
                      },
                      {
                        "bin_start": 25.48406520560384,
                        "bin_end": 29.731289260648193,
                        "count": 30
                      },
                      {
                        "bin_start": 29.731289260648193,
                        "bin_end": 33.978513315692545,
                        "count": 8
                      },
                      {
                        "bin_start": 33.978513315692545,
                        "bin_end": 38.2257373707369,
                        "count": 16
                      },
                      {
                        "bin_start": 38.2257373707369,
                        "bin_end": 42.47296142578125,
                        "count": 12
                      }
                    ]
                  }
                },
                {
                  "name": "redu",
                  "dtype": "float64",
                  "stats": {
                    "unique_count": 117,
                    "nan_count": 0,
                    "min": 0,
                    "max": 99.5,
                    "histogram": [
                      {
                        "bin_start": 0,
                        "bin_end": 9.95,
                        "count": 66
                      },
                      {
                        "bin_start": 9.95,
                        "bin_end": 19.9,
                        "count": 118
                      },
                      {
                        "bin_start": 19.9,
                        "bin_end": 29.849999999999998,
                        "count": 78
                      },
                      {
                        "bin_start": 29.849999999999998,
                        "bin_end": 39.8,
                        "count": 18
                      },
                      {
                        "bin_start": 39.8,
                        "bin_end": 49.75,
                        "count": 4
                      },
                      {
                        "bin_start": 49.75,
                        "bin_end": 59.699999999999996,
                        "count": 8
                      },
                      {
                        "bin_start": 59.699999999999996,
                        "bin_end": 69.64999999999999,
                        "count": 0
                      },
                      {
                        "bin_start": 69.64999999999999,
                        "bin_end": 79.6,
                        "count": 2
                      },
                      {
                        "bin_start": 79.6,
                        "bin_end": 89.55,
                        "count": 2
                      },
                      {
                        "bin_start": 89.55,
                        "bin_end": 99.5,
                        "count": 2
                      }
                    ]
                  }
                },
                {
                  "name": "hifi",
                  "dtype": "float64",
                  "stats": {
                    "unique_count": 149,
                    "nan_count": 0,
                    "min": 1.409988350348761,
                    "max": 5.725655856702256,
                    "histogram": [
                      {
                        "bin_start": 1.409988350348761,
                        "bin_end": 1.8415551009841105,
                        "count": 2
                      },
                      {
                        "bin_start": 1.8415551009841105,
                        "bin_end": 2.27312185161946,
                        "count": 4
                      },
                      {
                        "bin_start": 2.27312185161946,
                        "bin_end": 2.7046886022548096,
                        "count": 10
                      },
                      {
                        "bin_start": 2.7046886022548096,
                        "bin_end": 3.136255352890159,
                        "count": 30
                      },
                      {
                        "bin_start": 3.136255352890159,
                        "bin_end": 3.5678221035255087,
                        "count": 48
                      },
                      {
                        "bin_start": 3.5678221035255087,
                        "bin_end": 3.999388854160858,
                        "count": 82
                      },
                      {
                        "bin_start": 3.999388854160858,
                        "bin_end": 4.430955604796208,
                        "count": 78
                      },
                      {
                        "bin_start": 4.430955604796208,
                        "bin_end": 4.862522355431557,
                        "count": 24
                      },
                      {
                        "bin_start": 4.862522355431557,
                        "bin_end": 5.294089106066907,
                        "count": 12
                      },
                      {
                        "bin_start": 5.294089106066907,
                        "bin_end": 5.725655856702256,
                        "count": 8
                      }
                    ]
                  }
                },
                {
                  "name": "affs",
                  "dtype": "float64",
                  "stats": {
                    "unique_count": 149,
                    "nan_count": 0,
                    "min": 2.0257864076049805,
                    "max": 6.107397122545475,
                    "histogram": [
                      {
                        "bin_start": 2.0257864076049805,
                        "bin_end": 2.43394747909903,
                        "count": 4
                      },
                      {
                        "bin_start": 2.43394747909903,
                        "bin_end": 2.842108550593079,
                        "count": 10
                      },
                      {
                        "bin_start": 2.842108550593079,
                        "bin_end": 3.2502696220871288,
                        "count": 30
                      },
                      {
                        "bin_start": 3.2502696220871288,
                        "bin_end": 3.6584306935811783,
                        "count": 40
                      },
                      {
                        "bin_start": 3.6584306935811783,
                        "bin_end": 4.066591765075227,
                        "count": 66
                      },
                      {
                        "bin_start": 4.066591765075227,
                        "bin_end": 4.474752836569277,
                        "count": 58
                      },
                      {
                        "bin_start": 4.474752836569277,
                        "bin_end": 4.882913908063326,
                        "count": 18
                      },
                      {
                        "bin_start": 4.882913908063326,
                        "bin_end": 5.291074979557376,
                        "count": 32
                      },
                      {
                        "bin_start": 5.291074979557376,
                        "bin_end": 5.699236051051425,
                        "count": 22
                      },
                      {
                        "bin_start": 5.699236051051425,
                        "bin_end": 6.107397122545475,
                        "count": 18
                      }
                    ]
                  }
                },
                {
                  "name": "ippr",
                  "dtype": "float64",
                  "stats": {
                    "unique_count": 149,
                    "nan_count": 0,
                    "min": 1.6286261735030156,
                    "max": 6.193635766397472,
                    "histogram": [
                      {
                        "bin_start": 1.6286261735030156,
                        "bin_end": 2.0851271327924614,
                        "count": 4
                      },
                      {
                        "bin_start": 2.0851271327924614,
                        "bin_end": 2.5416280920819068,
                        "count": 26
                      },
                      {
                        "bin_start": 2.5416280920819068,
                        "bin_end": 2.9981290513713525,
                        "count": 54
                      },
                      {
                        "bin_start": 2.9981290513713525,
                        "bin_end": 3.4546300106607983,
                        "count": 52
                      },
                      {
                        "bin_start": 3.4546300106607983,
                        "bin_end": 3.911130969950244,
                        "count": 60
                      },
                      {
                        "bin_start": 3.911130969950244,
                        "bin_end": 4.367631929239689,
                        "count": 32
                      },
                      {
                        "bin_start": 4.367631929239689,
                        "bin_end": 4.824132888529135,
                        "count": 16
                      },
                      {
                        "bin_start": 4.824132888529135,
                        "bin_end": 5.2806338478185815,
                        "count": 10
                      },
                      {
                        "bin_start": 5.2806338478185815,
                        "bin_end": 5.737134807108026,
                        "count": 26
                      },
                      {
                        "bin_start": 5.737134807108026,
                        "bin_end": 6.193635766397472,
                        "count": 18
                      }
                    ]
                  }
                },
                {
                  "name": "insdtf",
                  "dtype": "float64",
                  "stats": {
                    "unique_count": 139,
                    "nan_count": 0,
                    "min": 0,
                    "max": 93.81,
                    "histogram": [
                      {
                        "bin_start": 0,
                        "bin_end": 9.381,
                        "count": 18
                      },
                      {
                        "bin_start": 9.381,
                        "bin_end": 18.762,
                        "count": 0
                      },
                      {
                        "bin_start": 18.762,
                        "bin_end": 28.143,
                        "count": 26
                      },
                      {
                        "bin_start": 28.143,
                        "bin_end": 37.524,
                        "count": 50
                      },
                      {
                        "bin_start": 37.524,
                        "bin_end": 46.905,
                        "count": 66
                      },
                      {
                        "bin_start": 46.905,
                        "bin_end": 56.286,
                        "count": 40
                      },
                      {
                        "bin_start": 56.286,
                        "bin_end": 65.667,
                        "count": 28
                      },
                      {
                        "bin_start": 65.667,
                        "bin_end": 75.048,
                        "count": 22
                      },
                      {
                        "bin_start": 75.048,
                        "bin_end": 84.429,
                        "count": 32
                      },
                      {
                        "bin_start": 84.429,
                        "bin_end": 93.81,
                        "count": 16
                      }
                    ]
                  }
                },
                {
                  "name": "creddtf",
                  "dtype": "float64",
                  "stats": {
                    "unique_count": 21,
                    "nan_count": 0,
                    "min": 0,
                    "max": 100,
                    "histogram": [
                      {
                        "bin_start": 0,
                        "bin_end": 10,
                        "count": 12
                      },
                      {
                        "bin_start": 10,
                        "bin_end": 20,
                        "count": 18
                      },
                      {
                        "bin_start": 20,
                        "bin_end": 30,
                        "count": 14
                      },
                      {
                        "bin_start": 30,
                        "bin_end": 40,
                        "count": 40
                      },
                      {
                        "bin_start": 40,
                        "bin_end": 50,
                        "count": 50
                      },
                      {
                        "bin_start": 50,
                        "bin_end": 60,
                        "count": 40
                      },
                      {
                        "bin_start": 60,
                        "bin_end": 70,
                        "count": 48
                      },
                      {
                        "bin_start": 70,
                        "bin_end": 80,
                        "count": 42
                      },
                      {
                        "bin_start": 80,
                        "bin_end": 90,
                        "count": 22
                      },
                      {
                        "bin_start": 90,
                        "bin_end": 100,
                        "count": 12
                      }
                    ]
                  }
                },
                {
                  "name": "elcostlnl",
                  "dtype": "float64",
                  "stats": {
                    "unique_count": 149,
                    "nan_count": 0,
                    "min": -0.4307829141616821,
                    "max": 9.699864387512209,
                    "histogram": [
                      {
                        "bin_start": -0.4307829141616821,
                        "bin_end": 0.582281816005707,
                        "count": 4
                      },
                      {
                        "bin_start": 0.582281816005707,
                        "bin_end": 1.5953465461730962,
                        "count": 0
                      },
                      {
                        "bin_start": 1.5953465461730962,
                        "bin_end": 2.6084112763404854,
                        "count": 14
                      },
                      {
                        "bin_start": 2.6084112763404854,
                        "bin_end": 3.6214760065078746,
                        "count": 30
                      },
                      {
                        "bin_start": 3.6214760065078746,
                        "bin_end": 4.634540736675264,
                        "count": 44
                      },
                      {
                        "bin_start": 4.634540736675264,
                        "bin_end": 5.647605466842653,
                        "count": 34
                      },
                      {
                        "bin_start": 5.647605466842653,
                        "bin_end": 6.660670197010042,
                        "count": 72
                      },
                      {
                        "bin_start": 6.660670197010042,
                        "bin_end": 7.673734927177431,
                        "count": 42
                      },
                      {
                        "bin_start": 7.673734927177431,
                        "bin_end": 8.686799657344821,
                        "count": 34
                      },
                      {
                        "bin_start": 8.686799657344821,
                        "bin_end": 9.699864387512209,
                        "count": 24
                      }
                    ]
                  }
                },
                {
                  "name": "stardtf",
                  "dtype": "float64",
                  "stats": {
                    "unique_count": 145,
                    "nan_count": 0,
                    "min": 31.36,
                    "max": 99.96,
                    "histogram": [
                      {
                        "bin_start": 31.36,
                        "bin_end": 38.22,
                        "count": 2
                      },
                      {
                        "bin_start": 38.22,
                        "bin_end": 45.08,
                        "count": 4
                      },
                      {
                        "bin_start": 45.08,
                        "bin_end": 51.94,
                        "count": 4
                      },
                      {
                        "bin_start": 51.94,
                        "bin_end": 58.8,
                        "count": 2
                      },
                      {
                        "bin_start": 58.8,
                        "bin_end": 65.66,
                        "count": 8
                      },
                      {
                        "bin_start": 65.66,
                        "bin_end": 72.52,
                        "count": 20
                      },
                      {
                        "bin_start": 72.52,
                        "bin_end": 79.38,
                        "count": 50
                      },
                      {
                        "bin_start": 79.38,
                        "bin_end": 86.24,
                        "count": 74
                      },
                      {
                        "bin_start": 86.24,
                        "bin_end": 93.1,
                        "count": 72
                      },
                      {
                        "bin_start": 93.1,
                        "bin_end": 99.96,
                        "count": 62
                      }
                    ]
                  }
                },
                {
                  "name": "_deepnote_index_column",
                  "dtype": "int64"
                }
              ],
              "rows_top": [
                {
                  "country": "Afghanistan",
                  "isonum": 4,
                  "isocode": "AFG",
                  "year": 2015,
                  "logis": 2.069572925567627,
                  "bband": 0.0047953170724213,
                  "redu": 26.47210693359375,
                  "hifi": 3.6339190006256095,
                  "affs": 3.852954626083374,
                  "ippr": 2.457772970199585,
                  "insdtf": 23.62,
                  "creddtf": 45,
                  "elcostlnl": 8.151823043823242,
                  "stardtf": 93.05,
                  "_deepnote_index_column": 0
                },
                {
                  "country": "Angola",
                  "isonum": 24,
                  "isocode": "AGO",
                  "year": 2015,
                  "logis": 2.5429799556732178,
                  "bband": 0.412783682346344,
                  "redu": 31.007936507936503,
                  "hifi": 2.59371856039438,
                  "affs": 3.236487921956151,
                  "ippr": 2.2579146312994984,
                  "insdtf": 0,
                  "creddtf": 5,
                  "elcostlnl": 6.421622276306152,
                  "stardtf": 76.79,
                  "_deepnote_index_column": 1
                },
                {
                  "country": "Albania",
                  "isonum": 8,
                  "isocode": "ALB",
                  "year": 2015,
                  "logis": 2.7699999809265137,
                  "bband": 6.573715686798096,
                  "redu": 20.825396825396822,
                  "hifi": 3.8885808554883,
                  "affs": 3.737437897765398,
                  "ippr": 2.8962214197003844,
                  "insdtf": 63.42,
                  "creddtf": 65,
                  "elcostlnl": 6.197258472442627,
                  "stardtf": 90.09,
                  "_deepnote_index_column": 2
                },
                {
                  "country": "United Arab Emirates",
                  "isonum": 784,
                  "isocode": "ARE",
                  "year": 2015,
                  "logis": 3.539098024368286,
                  "bband": 11.55840015411377,
                  "redu": 4.285714285714286,
                  "hifi": 5.053418797567009,
                  "affs": 5.424748523398632,
                  "ippr": 5.475347957204798,
                  "insdtf": 43.74,
                  "creddtf": 45,
                  "elcostlnl": 3.1570003032684326,
                  "stardtf": 89.98,
                  "_deepnote_index_column": 3
                },
                {
                  "country": "Argentina",
                  "isonum": 32,
                  "isocode": "ARG",
                  "year": 2015,
                  "logis": 2.9864749908447266,
                  "bband": 15.573113441467283,
                  "redu": 30.33333333333333,
                  "hifi": 2.583314110310809,
                  "affs": 2.923875484374149,
                  "ippr": 2.4246094741250634,
                  "insdtf": 42.87,
                  "creddtf": 50,
                  "elcostlnl": 3.2148678302764893,
                  "stardtf": 73.36,
                  "_deepnote_index_column": 4
                },
                {
                  "country": "Armenia",
                  "isonum": 51,
                  "isocode": "ARM",
                  "year": 2015,
                  "logis": 2.6727230548858643,
                  "bband": 9.144969940185549,
                  "redu": 11,
                  "hifi": 4.495402499772644,
                  "affs": 4.013331580392456,
                  "ippr": 3.458404569497681,
                  "insdtf": 48,
                  "creddtf": 65,
                  "elcostlnl": 4.469350337982178,
                  "stardtf": 97.78,
                  "_deepnote_index_column": 5
                },
                {
                  "country": "Australia",
                  "isonum": 36,
                  "isocode": "AUS",
                  "year": 2015,
                  "logis": 3.8107759952545166,
                  "bband": 27.659557342529297,
                  "redu": 11.666666666666666,
                  "hifi": 2.7070671128355075,
                  "affs": 5.20764260487805,
                  "ippr": 5.494076563414635,
                  "insdtf": 81.69,
                  "creddtf": 90,
                  "elcostlnl": 2.1282317638397217,
                  "stardtf": 96.47,
                  "_deepnote_index_column": 6
                },
                {
                  "country": "Austria",
                  "isonum": 40,
                  "isocode": "AUT",
                  "year": 2015,
                  "logis": 3.6485869884490967,
                  "bband": 27.666915893554688,
                  "redu": 2,
                  "hifi": 3.4661606408658647,
                  "affs": 5.272804946783896,
                  "ippr": 5.509293816283103,
                  "insdtf": 78.89,
                  "creddtf": 60,
                  "elcostlnl": 4.5829243659973145,
                  "stardtf": 83.45,
                  "_deepnote_index_column": 7
                },
                {
                  "country": "Azerbaijan",
                  "isonum": 31,
                  "isocode": "AZE",
                  "year": 2015,
                  "logis": 2.448375940322876,
                  "bband": 19.94842338562012,
                  "redu": 21.666666666666664,
                  "hifi": 4.408998678089949,
                  "affs": 4.054561386681458,
                  "ippr": 3.518034262611724,
                  "insdtf": 44.68,
                  "creddtf": 40,
                  "elcostlnl": 4.640537261962891,
                  "stardtf": 97.75,
                  "_deepnote_index_column": 8
                },
                {
                  "country": "Burundi",
                  "isonum": 108,
                  "isocode": "BDI",
                  "year": 2015,
                  "logis": 2.565735101699829,
                  "bband": 0.016217116266489,
                  "redu": 15.888888888888888,
                  "hifi": 3.27558359534025,
                  "affs": 2.732525116244133,
                  "ippr": 2.629478939903663,
                  "insdtf": 30.46,
                  "creddtf": 10,
                  "elcostlnl": 9.699864387512209,
                  "stardtf": 94.51,
                  "_deepnote_index_column": 9
                },
                {
                  "country": "Belgium",
                  "isonum": 56,
                  "isocode": "BEL",
                  "year": 2015,
                  "logis": 4.0446600914001465,
                  "bband": 35.9929084777832,
                  "redu": 7.238095238095238,
                  "hifi": 2.578570252117208,
                  "affs": 5.514691096636353,
                  "ippr": 5.287406220431111,
                  "insdtf": 84,
                  "creddtf": 45,
                  "elcostlnl": 4.628886699676514,
                  "stardtf": 94.5,
                  "_deepnote_index_column": 10
                },
                {
                  "country": "Benin",
                  "isonum": 204,
                  "isocode": "BEN",
                  "year": 2015,
                  "logis": 2.560822010040283,
                  "bband": 0.4006694555282593,
                  "redu": 11.627777777777776,
                  "hifi": 3.743916986387435,
                  "affs": 3.247085667015707,
                  "ippr": 3.148867962303665,
                  "insdtf": 38.08,
                  "creddtf": 30,
                  "elcostlnl": 9.567126274108888,
                  "stardtf": 82.24,
                  "_deepnote_index_column": 11
                },
                {
                  "country": "Burkina Faso",
                  "isonum": 854,
                  "isocode": "BFA",
                  "year": 2015,
                  "logis": 2.6382999420166016,
                  "bband": 0.0308904647827148,
                  "redu": 10.47222222222222,
                  "hifi": 4.09053598885498,
                  "affs": 3.079025261356034,
                  "ippr": 3.421976083870968,
                  "insdtf": 38.08,
                  "creddtf": 30,
                  "elcostlnl": 9.231818199157717,
                  "stardtf": 86.69,
                  "_deepnote_index_column": 12
                },
                {
                  "country": "Bangladesh",
                  "isonum": 50,
                  "isocode": "BGD",
                  "year": 2015,
                  "logis": 2.563339948654175,
                  "bband": 1.951372742652893,
                  "redu": 31,
                  "hifi": 4.370494823575161,
                  "affs": 3.901746079717748,
                  "ippr": 2.5282657615185173,
                  "insdtf": 26.36,
                  "creddtf": 30,
                  "elcostlnl": 8.05213737487793,
                  "stardtf": 81.72,
                  "_deepnote_index_column": 13
                },
                {
                  "country": "Bulgaria",
                  "isonum": 100,
                  "isocode": "BGR",
                  "year": 2015,
                  "logis": 3.157150983810425,
                  "bband": 20.65972900390625,
                  "redu": 7.507936507936508,
                  "hifi": 3.553033702022037,
                  "affs": 3.959818400715184,
                  "ippr": 3.020990298608935,
                  "insdtf": 58.93,
                  "creddtf": 70,
                  "elcostlnl": 5.759847640991211,
                  "stardtf": 91.1,
                  "_deepnote_index_column": 14
                },
                {
                  "country": "Bahrain",
                  "isonum": 48,
                  "isocode": "BHR",
                  "year": 2015,
                  "logis": 3.083116054534912,
                  "bband": 21.39495849609375,
                  "redu": 4.285714285714286,
                  "hifi": 4.343962206390414,
                  "affs": 5.504733761704486,
                  "ippr": 4.650791031355153,
                  "insdtf": 44.28,
                  "creddtf": 40,
                  "elcostlnl": 3.837299346923828,
                  "stardtf": 77.09,
                  "_deepnote_index_column": 15
                },
                {
                  "country": "Belarus",
                  "isonum": 112,
                  "isocode": "BLR",
                  "year": 2015,
                  "logis": 2.6381680965423584,
                  "bband": 28.84034919738769,
                  "redu": 12.453821182250977,
                  "hifi": 3.802783966064453,
                  "affs": 4.250747680664063,
                  "ippr": 3.4614782333374023,
                  "insdtf": 48.38,
                  "creddtf": 40,
                  "elcostlnl": 5.69103479385376,
                  "stardtf": 96.32,
                  "_deepnote_index_column": 16
                },
                {
                  "country": "Belize",
                  "isonum": 84,
                  "isocode": "BLZ",
                  "year": 2015,
                  "logis": 2.612575054168701,
                  "bband": 2.913838624954224,
                  "redu": 24,
                  "hifi": 4.617981,
                  "affs": 3.083601,
                  "ippr": 3.267975,
                  "insdtf": 45.21,
                  "creddtf": 20,
                  "elcostlnl": 5.717685222625732,
                  "stardtf": 72.47,
                  "_deepnote_index_column": 17
                },
                {
                  "country": "Bolivia",
                  "isonum": 68,
                  "isocode": "BOL",
                  "year": 2015,
                  "logis": 2.48075795173645,
                  "bband": 1.5928130149841309,
                  "redu": 99.5,
                  "hifi": 3.499152537062454,
                  "affs": 3.7367937111057934,
                  "ippr": 3.305407255721847,
                  "insdtf": 43.27,
                  "creddtf": 35,
                  "elcostlnl": 6.6163330078125,
                  "stardtf": 59.74,
                  "_deepnote_index_column": 18
                },
                {
                  "country": "Brazil",
                  "isonum": 76,
                  "isocode": "BRA",
                  "year": 2015,
                  "logis": 2.943950891494751,
                  "bband": 11.675736427307127,
                  "redu": 15.446095238095236,
                  "hifi": 2.715835529446757,
                  "affs": 4.985450284081052,
                  "ippr": 3.250404428203943,
                  "insdtf": 52.68,
                  "creddtf": 45,
                  "elcostlnl": 3.3534066677093506,
                  "stardtf": 64.33,
                  "_deepnote_index_column": 19
                },
                {
                  "country": "Botswana",
                  "isonum": 72,
                  "isocode": "BWA",
                  "year": 2015,
                  "logis": 2.4927749633789062,
                  "bband": 1.6329938173294067,
                  "redu": 21.68888888888889,
                  "hifi": 3.7694052085263934,
                  "affs": 4.154072167992292,
                  "ippr": 4.150977992823355,
                  "insdtf": 54.66,
                  "creddtf": 55,
                  "elcostlnl": 5.695750236511231,
                  "stardtf": 76.21,
                  "_deepnote_index_column": 20
                },
                {
                  "country": "Central African Republic",
                  "isonum": 140,
                  "isocode": "CAF",
                  "year": 2015,
                  "logis": 2.3609321117401123,
                  "bband": 0.0133695481345057,
                  "redu": 21.06880187988281,
                  "hifi": 3.905056953430176,
                  "affs": 3.0782713890075684,
                  "ippr": 2.7797560691833496,
                  "insdtf": 28.13,
                  "creddtf": 30,
                  "elcostlnl": 9.63731288909912,
                  "stardtf": 31.36,
                  "_deepnote_index_column": 21
                },
                {
                  "country": "Canada",
                  "isonum": 124,
                  "isocode": "CAN",
                  "year": 2015,
                  "logis": 3.8554980754852295,
                  "bband": 35.378170013427734,
                  "redu": 10,
                  "hifi": 4.405138954710863,
                  "affs": 5.826403246322963,
                  "ippr": 5.65015782350674,
                  "insdtf": 81.36,
                  "creddtf": 85,
                  "elcostlnl": 4.837075233459473,
                  "stardtf": 98.23,
                  "_deepnote_index_column": 22
                },
                {
                  "country": "Switzerland",
                  "isonum": 756,
                  "isocode": "CHE",
                  "year": 2015,
                  "logis": 3.8439691066741934,
                  "bband": 42.47296142578125,
                  "redu": 10.11111111111111,
                  "hifi": 5.699195383092774,
                  "affs": 6.107397122545475,
                  "ippr": 6.038993654909854,
                  "insdtf": 62.6,
                  "creddtf": 60,
                  "elcostlnl": 4.046554088592529,
                  "stardtf": 88.47,
                  "_deepnote_index_column": 23
                },
                {
                  "country": "Chile",
                  "isonum": 152,
                  "isocode": "CHL",
                  "year": 2015,
                  "logis": 3.2557859420776367,
                  "bband": 14.083666801452637,
                  "redu": 27.396825396825395,
                  "hifi": 3.913048389549037,
                  "affs": 4.866945421893601,
                  "ippr": 3.921684468608892,
                  "insdtf": 54.18,
                  "creddtf": 50,
                  "elcostlnl": 4.341204643249512,
                  "stardtf": 89.84,
                  "_deepnote_index_column": 24
                },
                {
                  "country": "China",
                  "isonum": 156,
                  "isocode": "CHN",
                  "year": 2015,
                  "logis": 3.5314629077911377,
                  "bband": 14.38408088684082,
                  "redu": 27.396825396825395,
                  "hifi": 4.588320382567435,
                  "affs": 4.379049093847135,
                  "ippr": 3.95285198185123,
                  "insdtf": 55.43,
                  "creddtf": 50,
                  "elcostlnl": 6.024173736572266,
                  "stardtf": 77.46,
                  "_deepnote_index_column": 25
                },
                {
                  "country": "Ivory Coast",
                  "isonum": 384,
                  "isocode": "CIV",
                  "year": 2015,
                  "logis": 2.761981010437012,
                  "bband": 0.6097494959831238,
                  "redu": 13.072222222222225,
                  "hifi": 4.354487235880547,
                  "affs": 3.85753798490033,
                  "ippr": 3.145151212382342,
                  "insdtf": 47.03,
                  "creddtf": 30,
                  "elcostlnl": 7.857055187225342,
                  "stardtf": 91.44,
                  "_deepnote_index_column": 26
                },
                {
                  "country": "Cameroon",
                  "isonum": 120,
                  "isocode": "CMR",
                  "year": 2015,
                  "logis": 2.296616077423096,
                  "bband": 0.0712049677968025,
                  "redu": 15.31111111111111,
                  "hifi": 4.210533771177851,
                  "affs": 3.6645455053336673,
                  "ippr": 3.3974460300613494,
                  "insdtf": 36.46,
                  "creddtf": 35,
                  "elcostlnl": 7.367013931274414,
                  "stardtf": 77.41,
                  "_deepnote_index_column": 27
                },
                {
                  "country": "Democratic Republic of Congo",
                  "isonum": 180,
                  "isocode": "COD",
                  "year": 2015,
                  "logis": 1.8788570165634155,
                  "bband": 0.0007208753377199,
                  "redu": 24.171504974365234,
                  "hifi": 3.921387672424317,
                  "affs": 2.9331462383270264,
                  "ippr": 2.4623866081237797,
                  "insdtf": 0,
                  "creddtf": 30,
                  "elcostlnl": 9.632164001464844,
                  "stardtf": 85.69,
                  "_deepnote_index_column": 28
                },
                {
                  "country": "Congo",
                  "isonum": 178,
                  "isocode": "COG",
                  "year": 2015,
                  "logis": 2.077148914337158,
                  "bband": 0.0109682939946651,
                  "redu": 28.307655334472656,
                  "hifi": 3.652620792388916,
                  "affs": 3.303170919418335,
                  "ippr": 2.7088441848754883,
                  "insdtf": 37.75,
                  "creddtf": 40,
                  "elcostlnl": 8.450433731079102,
                  "stardtf": 60.63,
                  "_deepnote_index_column": 29
                },
                {
                  "country": "Colombia",
                  "isonum": 170,
                  "isocode": "COL",
                  "year": 2015,
                  "logis": 2.639636993408203,
                  "bband": 10.272784233093262,
                  "redu": 16.666666666666668,
                  "hifi": 3.844978376236762,
                  "affs": 3.607198499732095,
                  "ippr": 3.1862973202108917,
                  "insdtf": 72.06,
                  "creddtf": 95,
                  "elcostlnl": 6.164156436920166,
                  "stardtf": 86.13,
                  "_deepnote_index_column": 30
                },
                {
                  "country": "Comoros",
                  "isonum": 174,
                  "isocode": "COM",
                  "year": 2015,
                  "logis": 2.4021360874176025,
                  "bband": 0.2103827893733978,
                  "redu": 20.38564109802246,
                  "hifi": 3.859825134277344,
                  "affs": 3.3193166255950928,
                  "ippr": 2.917367458343506,
                  "insdtf": 0,
                  "creddtf": 40,
                  "elcostlnl": 7.699344158172607,
                  "stardtf": 69.33,
                  "_deepnote_index_column": 31
                },
                {
                  "country": "Costa Rica",
                  "isonum": 188,
                  "isocode": "CRI",
                  "year": 2015,
                  "logis": 2.700719118118286,
                  "bband": 10.521825790405272,
                  "redu": 18.7,
                  "hifi": 4.285504310294898,
                  "affs": 4.138735440371613,
                  "ippr": 4.027519960819546,
                  "insdtf": 44.06,
                  "creddtf": 85,
                  "elcostlnl": 5.256453037261963,
                  "stardtf": 80.95,
                  "_deepnote_index_column": 32
                },
                {
                  "country": "Cyprus",
                  "isonum": 196,
                  "isocode": "CYP",
                  "year": 2015,
                  "logis": 3.000576972961426,
                  "bband": 21.127384185791016,
                  "redu": 5.666666666666667,
                  "hifi": 4.210321156116784,
                  "affs": 4.371286196259606,
                  "ippr": 4.349930948332281,
                  "insdtf": 79.04,
                  "creddtf": 65,
                  "elcostlnl": 4.919981002807617,
                  "stardtf": 89.23,
                  "_deepnote_index_column": 33
                },
                {
                  "country": "Czech Republic",
                  "isonum": 203,
                  "isocode": "CZE",
                  "year": 2015,
                  "logis": 3.4924159049987797,
                  "bband": 27.88349723815918,
                  "redu": 20.22222222222222,
                  "hifi": 3.228300472700393,
                  "affs": 5.051701903830845,
                  "ippr": 3.92442430357469,
                  "insdtf": 77.73,
                  "creddtf": 70,
                  "elcostlnl": 3.3178157806396484,
                  "stardtf": 85.23,
                  "_deepnote_index_column": 34
                }
              ],
              "rows_bottom": [
                {
                  "country": "Portugal",
                  "isonum": 620,
                  "isocode": "PRT",
                  "year": 2016,
                  "logis": 3.560283899307251,
                  "bband": 25.6684627532959,
                  "redu": 23.09523809523809,
                  "hifi": 3.3370397715863547,
                  "affs": 4.199658242312113,
                  "ippr": 4.570190444430287,
                  "insdtf": 84.79,
                  "creddtf": 45,
                  "elcostlnl": 3.610917806625366,
                  "stardtf": 96.28,
                  "_deepnote_index_column": 262
                },
                {
                  "country": "Paraguay",
                  "isonum": 600,
                  "isocode": "PRY",
                  "year": 2016,
                  "logis": 2.779733896255493,
                  "bband": 2.433568239212036,
                  "redu": 26.07142857142857,
                  "hifi": 3.3808171761560946,
                  "affs": 3.6741011848930167,
                  "ippr": 2.5347880199280306,
                  "insdtf": 40.18,
                  "creddtf": 50,
                  "elcostlnl": 5.056882381439209,
                  "stardtf": 77.52,
                  "_deepnote_index_column": 263
                },
                {
                  "country": "Qatar",
                  "isonum": 634,
                  "isocode": "QAT",
                  "year": 2016,
                  "logis": 3.5166571140289307,
                  "bband": 9.904820442199709,
                  "redu": 23.22222222222222,
                  "hifi": 5.292738930620754,
                  "affs": 5.874215816180536,
                  "ippr": 5.9642567138755975,
                  "insdtf": 58.39,
                  "creddtf": 30,
                  "elcostlnl": 2.1747517585754395,
                  "stardtf": 83.22,
                  "_deepnote_index_column": 264
                },
                {
                  "country": "Romania",
                  "isonum": 642,
                  "isocode": "ROU",
                  "year": 2016,
                  "logis": 3.261154890060425,
                  "bband": 18.5211124420166,
                  "redu": 4,
                  "hifi": 4.055169325968366,
                  "affs": 4.155194438181065,
                  "ippr": 3.354495836016061,
                  "insdtf": 59.77,
                  "creddtf": 85,
                  "elcostlnl": 6.35210657119751,
                  "stardtf": 91.94,
                  "_deepnote_index_column": 265
                },
                {
                  "country": "Russia",
                  "isonum": 643,
                  "isocode": "RUS",
                  "year": 2016,
                  "logis": 2.694478988647461,
                  "bband": 17.513134002685547,
                  "redu": 17.333333333333332,
                  "hifi": 4.196644157849443,
                  "affs": 4.1316125592608,
                  "ippr": 3.024113980566085,
                  "insdtf": 58.39,
                  "creddtf": 65,
                  "elcostlnl": 4.533674240112305,
                  "stardtf": 92.35,
                  "_deepnote_index_column": 266
                },
                {
                  "country": "Rwanda",
                  "isonum": 646,
                  "isocode": "RWA",
                  "year": 2016,
                  "logis": 2.759115934371948,
                  "bband": 0.0241073407232761,
                  "redu": 12.952380952380953,
                  "hifi": 4.306888,
                  "affs": 4.257961,
                  "ippr": 4.6299600000000005,
                  "insdtf": 47.82,
                  "creddtf": 95,
                  "elcostlnl": 7.983439922332764,
                  "stardtf": 83.05,
                  "_deepnote_index_column": 267
                },
                {
                  "country": "Saudi Arabia",
                  "isonum": 682,
                  "isocode": "SAU",
                  "year": 2016,
                  "logis": 3.148437023162842,
                  "bband": 23.383825302124023,
                  "redu": 19.452380952380956,
                  "hifi": 4.082535484575796,
                  "affs": 5.100570504151678,
                  "ippr": 4.884260432666064,
                  "insdtf": 0,
                  "creddtf": 50,
                  "elcostlnl": 3.2657594680786133,
                  "stardtf": 78.66,
                  "_deepnote_index_column": 268
                },
                {
                  "country": "Serbia",
                  "isonum": 688,
                  "isocode": "SCG",
                  "year": 2016,
                  "logis": 2.9625558853149414,
                  "bband": 15.566620826721191,
                  "redu": 7.703703703703693,
                  "hifi": 3.316883097206879,
                  "affs": 3.663205231471253,
                  "ippr": 2.880088262942505,
                  "insdtf": 58.52,
                  "creddtf": 60,
                  "elcostlnl": 6.060523986816406,
                  "stardtf": 88.94,
                  "_deepnote_index_column": 269
                },
                {
                  "country": "Sudan",
                  "isonum": 729,
                  "isocode": "SDN",
                  "year": 2016,
                  "logis": 2.160953998565674,
                  "bband": 0.0536649338901042,
                  "redu": 14.372379302978516,
                  "hifi": 4.158911228179932,
                  "affs": 2.948357343673706,
                  "ippr": 2.9437170028686523,
                  "insdtf": 26.45,
                  "creddtf": 15,
                  "elcostlnl": 7.952861309051514,
                  "stardtf": 76,
                  "_deepnote_index_column": 270
                },
                {
                  "country": "Senegal",
                  "isonum": 686,
                  "isocode": "SEN",
                  "year": 2016,
                  "logis": 2.6221699714660645,
                  "bband": 0.7104810476303101,
                  "redu": 13.694444444444445,
                  "hifi": 4.075702134948669,
                  "affs": 3.7477693959681497,
                  "ippr": 3.408575833333333,
                  "insdtf": 43.85,
                  "creddtf": 30,
                  "elcostlnl": 8.646342277526855,
                  "stardtf": 85.94,
                  "_deepnote_index_column": 271
                },
                {
                  "country": "Singapore",
                  "isonum": 702,
                  "isocode": "SGP",
                  "year": 2016,
                  "logis": 4.004447937011719,
                  "bband": 26.7169246673584,
                  "redu": 3,
                  "hifi": 5.401010688458369,
                  "affs": 5.860475341021631,
                  "ippr": 6.151738233291011,
                  "insdtf": 74.83,
                  "creddtf": 75,
                  "elcostlnl": 3.2542428970336914,
                  "stardtf": 96.49,
                  "_deepnote_index_column": 272
                },
                {
                  "country": "Sierra Leone",
                  "isonum": 694,
                  "isocode": "SLE",
                  "year": 2016,
                  "logis": 2.0799999237060547,
                  "bband": 1.1537190675735474,
                  "redu": 78.26666666666668,
                  "hifi": 4.472053243985322,
                  "affs": 3.448205222343037,
                  "ippr": 3.2426214887443026,
                  "insdtf": 30.81,
                  "creddtf": 25,
                  "elcostlnl": 8.310538291931152,
                  "stardtf": 84.73,
                  "_deepnote_index_column": 273
                },
                {
                  "country": "El Salvador",
                  "isonum": 222,
                  "isocode": "SLV",
                  "year": 2016,
                  "logis": 2.9604671001434326,
                  "bband": 4.995729923248291,
                  "redu": 22.857142857142858,
                  "hifi": 3.812664372059418,
                  "affs": 3.9533571806451615,
                  "ippr": 3.538499387070523,
                  "insdtf": 45.9,
                  "creddtf": 80,
                  "elcostlnl": 6.284320831298828,
                  "stardtf": 80.19,
                  "_deepnote_index_column": 274
                },
                {
                  "country": "Suriname",
                  "isonum": 740,
                  "isocode": "SUR",
                  "year": 2016,
                  "logis": 2.555065155029297,
                  "bband": 8.530588150024414,
                  "redu": 8.777777777777777,
                  "hifi": 2.966631017708996,
                  "affs": 3.6496523043848086,
                  "ippr": 2.6850328032247144,
                  "insdtf": 34.21,
                  "creddtf": 10,
                  "elcostlnl": 6.14675760269165,
                  "stardtf": 48.76,
                  "_deepnote_index_column": 275
                },
                {
                  "country": "Slovakia",
                  "isonum": 703,
                  "isocode": "SVK",
                  "year": 2016,
                  "logis": 3.254533052444458,
                  "bband": 21.840526580810547,
                  "redu": 18.77777777777778,
                  "hifi": 2.8824224177683,
                  "affs": 5.163586244586641,
                  "ippr": 3.781794305817295,
                  "insdtf": 70.04,
                  "creddtf": 65,
                  "elcostlnl": 4.003690242767334,
                  "stardtf": 88.54,
                  "_deepnote_index_column": 276
                },
                {
                  "country": "Slovenia",
                  "isonum": 705,
                  "isocode": "SVN",
                  "year": 2016,
                  "logis": 3.3832719326019287,
                  "bband": 26.55083465576172,
                  "redu": 10.677777777777775,
                  "hifi": 2.437406865258672,
                  "affs": 3.501984089785532,
                  "ippr": 4.061152238461538,
                  "insdtf": 83.39,
                  "creddtf": 35,
                  "elcostlnl": 4.729156017303467,
                  "stardtf": 94.53,
                  "_deepnote_index_column": 277
                },
                {
                  "country": "Sweden",
                  "isonum": 752,
                  "isocode": "SWE",
                  "year": 2016,
                  "logis": 3.961349010467529,
                  "bband": 34.07038879394531,
                  "redu": 14.444444444444445,
                  "hifi": 3.468148063985978,
                  "affs": 5.502423706976632,
                  "ippr": 5.457374676072735,
                  "insdtf": 78.75,
                  "creddtf": 55,
                  "elcostlnl": 3.511545419692993,
                  "stardtf": 94.62,
                  "_deepnote_index_column": 278
                },
                {
                  "country": "Swaziland",
                  "isonum": 748,
                  "isocode": "SWZ",
                  "year": 2016,
                  "logis": 2.4846673011779785,
                  "bband": 0.4023021161556244,
                  "redu": 14.571428571428571,
                  "hifi": 3.79367495,
                  "affs": 4.221426050000001,
                  "ippr": 3.8322504816986087,
                  "insdtf": 42.63,
                  "creddtf": 55,
                  "elcostlnl": 6.949472904205322,
                  "stardtf": 73.46,
                  "_deepnote_index_column": 279
                },
                {
                  "country": "Chad",
                  "isonum": 148,
                  "isocode": "TCD",
                  "year": 2016,
                  "logis": 2.529680013656616,
                  "bband": 0.0766852498054504,
                  "redu": 13,
                  "hifi": 3.3222095,
                  "affs": 2.9030315433425904,
                  "ippr": 2.509467681251526,
                  "insdtf": 28.13,
                  "creddtf": 30,
                  "elcostlnl": 8.943832397460938,
                  "stardtf": 41.92,
                  "_deepnote_index_column": 280
                },
                {
                  "country": "Togo",
                  "isonum": 768,
                  "isocode": "TGO",
                  "year": 2016,
                  "logis": 2.318459987640381,
                  "bband": 0.1803168952465057,
                  "redu": 18.701860427856445,
                  "hifi": 3.7107396125793457,
                  "affs": 3.401470422744751,
                  "ippr": 3.069371223449707,
                  "insdtf": 43.12,
                  "creddtf": 30,
                  "elcostlnl": 8.649115562438965,
                  "stardtf": 78.37,
                  "_deepnote_index_column": 281
                },
                {
                  "country": "Thailand",
                  "isonum": 764,
                  "isocode": "THA",
                  "year": 2016,
                  "logis": 3.429579973220825,
                  "bband": 8.468831062316895,
                  "redu": 36,
                  "hifi": 4.419420058456927,
                  "affs": 5.005511217186912,
                  "ippr": 3.0573174030590526,
                  "insdtf": 58.84,
                  "creddtf": 45,
                  "elcostlnl": 3.826465129852295,
                  "stardtf": 85.07,
                  "_deepnote_index_column": 282
                },
                {
                  "country": "Tajikistan",
                  "isonum": 762,
                  "isocode": "TJK",
                  "year": 2016,
                  "logis": 2.527419090270996,
                  "bband": 0.0725417807698249,
                  "redu": 15.527777777777777,
                  "hifi": 4.1489362716674805,
                  "affs": 3.9673912525177,
                  "ippr": 3.705263137817383,
                  "insdtf": 29.04,
                  "creddtf": 40,
                  "elcostlnl": 6.7786712646484375,
                  "stardtf": 90.26,
                  "_deepnote_index_column": 283
                },
                {
                  "country": "Trinidad and Tobago",
                  "isonum": 780,
                  "isocode": "TTO",
                  "year": 2016,
                  "logis": 2.859623908996582,
                  "bband": 17.56560516357422,
                  "redu": 20.511904761904763,
                  "hifi": 3.7494424888888886,
                  "affs": 4.336945574344889,
                  "ippr": 3.2346262500345864,
                  "insdtf": 48.97,
                  "creddtf": 65,
                  "elcostlnl": 5.288772106170654,
                  "stardtf": 88.33,
                  "_deepnote_index_column": 284
                },
                {
                  "country": "Tunisia",
                  "isonum": 788,
                  "isocode": "TUN",
                  "year": 2016,
                  "logis": 2.5509960651397705,
                  "bband": 4.484299182891846,
                  "redu": 12.095238095238097,
                  "hifi": 3.5129493521387585,
                  "affs": 3.865297241926565,
                  "ippr": 3.0744894740109414,
                  "insdtf": 54.53,
                  "creddtf": 35,
                  "elcostlnl": 6.518704891204834,
                  "stardtf": 83.64,
                  "_deepnote_index_column": 285
                },
                {
                  "country": "Turkey",
                  "isonum": 792,
                  "isocode": "TUR",
                  "year": 2016,
                  "logis": 3.500225067138672,
                  "bband": 11.691336631774902,
                  "redu": 29.77777777777778,
                  "hifi": 3.912612695082444,
                  "affs": 4.945685165342729,
                  "ippr": 3.663242421809656,
                  "insdtf": 35.09,
                  "creddtf": 50,
                  "elcostlnl": 6.396262645721436,
                  "stardtf": 85.18,
                  "_deepnote_index_column": 286
                },
                {
                  "country": "Tanzania",
                  "isonum": 834,
                  "isocode": "TZA",
                  "year": 2016,
                  "logis": 2.330833911895752,
                  "bband": 0.1666750162839889,
                  "redu": 9.333333333333332,
                  "hifi": 3.8693085649450425,
                  "affs": 3.5915318307563946,
                  "ippr": 3.252173909599174,
                  "insdtf": 41.01,
                  "creddtf": 25,
                  "elcostlnl": 6.928537845611572,
                  "stardtf": 79.58,
                  "_deepnote_index_column": 287
                },
                {
                  "country": "Uganda",
                  "isonum": 800,
                  "isocode": "UGA",
                  "year": 2016,
                  "logis": 2.819999933242798,
                  "bband": 0.2919322848320007,
                  "redu": 8.666666666666666,
                  "hifi": 4.928162539861059,
                  "affs": 3.48449390711865,
                  "ippr": 2.7291871932995155,
                  "insdtf": 39.8,
                  "creddtf": 65,
                  "elcostlnl": 9.108363151550291,
                  "stardtf": 67.79,
                  "_deepnote_index_column": 288
                },
                {
                  "country": "Ukraine",
                  "isonum": 804,
                  "isocode": "UKR",
                  "year": 2016,
                  "logis": 2.9764440059661865,
                  "bband": 9.293523788452148,
                  "redu": 13,
                  "hifi": 3.929046191228474,
                  "affs": 3.453243181795705,
                  "ippr": 2.65623007887324,
                  "insdtf": 31.05,
                  "creddtf": 75,
                  "elcostlnl": 6.678719520568848,
                  "stardtf": 93.88,
                  "_deepnote_index_column": 289
                },
                {
                  "country": "Uruguay",
                  "isonum": 858,
                  "isocode": "URY",
                  "year": 2016,
                  "logis": 2.6786489486694336,
                  "bband": 24.57842063903809,
                  "redu": 20.8,
                  "hifi": 2.9268139625695038,
                  "affs": 4.120030471075408,
                  "ippr": 4.09458310666178,
                  "insdtf": 52.37,
                  "creddtf": 60,
                  "elcostlnl": 2.5416018962860107,
                  "stardtf": 89.87,
                  "_deepnote_index_column": 290
                },
                {
                  "country": "United States",
                  "isonum": 840,
                  "isocode": "USA",
                  "year": 2016,
                  "logis": 3.9178249835968018,
                  "bband": 31.05929183959961,
                  "redu": 0,
                  "hifi": 4.855757202356607,
                  "affs": 5.698720819817004,
                  "ippr": 5.41409351614664,
                  "insdtf": 90.12,
                  "creddtf": 95,
                  "elcostlnl": 3.2027463912963867,
                  "stardtf": 91.22,
                  "_deepnote_index_column": 291
                },
                {
                  "country": "Venezuela",
                  "isonum": 862,
                  "isocode": "VEN",
                  "year": 2016,
                  "logis": 2.80811095237732,
                  "bband": 7.779505729675293,
                  "redu": 47.3,
                  "hifi": 1.409988350348761,
                  "affs": 3.919036896178063,
                  "ippr": 1.6286261735030156,
                  "insdtf": 19.05,
                  "creddtf": 40,
                  "elcostlnl": 7.486220836639404,
                  "stardtf": 40.38,
                  "_deepnote_index_column": 292
                },
                {
                  "country": "Vietnam",
                  "isonum": 704,
                  "isocode": "VNM",
                  "year": 2016,
                  "logis": 3.154762983322144,
                  "bband": 6.483694553375244,
                  "redu": 24.555555555555557,
                  "hifi": 3.913508647752126,
                  "affs": 3.605158002886379,
                  "ippr": 3.050503032649762,
                  "insdtf": 35.83,
                  "creddtf": 70,
                  "elcostlnl": 7.187354564666748,
                  "stardtf": 81.25,
                  "_deepnote_index_column": 293
                },
                {
                  "country": "Yemen",
                  "isonum": 887,
                  "isocode": "YEM",
                  "year": 2016,
                  "logis": 2.1839499473571777,
                  "bband": 1.361715316772461,
                  "redu": 27.396825396825395,
                  "hifi": 3.848516069890625,
                  "affs": 2.400491635476562,
                  "ippr": 2.3144623764140624,
                  "insdtf": 28.08,
                  "creddtf": 0,
                  "elcostlnl": 8.1842622756958,
                  "stardtf": 74.22,
                  "_deepnote_index_column": 294
                },
                {
                  "country": "South Africa",
                  "isonum": 710,
                  "isocode": "ZAF",
                  "year": 2016,
                  "logis": 3.431243896484375,
                  "bband": 3.211005210876465,
                  "redu": 9.333333333333332,
                  "hifi": 2.079678586241513,
                  "affs": 5.310755503180222,
                  "ippr": 5.300020402986799,
                  "insdtf": 64.29,
                  "creddtf": 60,
                  "elcostlnl": 6.508023738861084,
                  "stardtf": 81.18,
                  "_deepnote_index_column": 295
                },
                {
                  "country": "Zambia",
                  "isonum": 894,
                  "isocode": "ZMB",
                  "year": 2016,
                  "logis": 2.4626739025115967,
                  "bband": 0.141621708869934,
                  "redu": 50.55555555555556,
                  "hifi": 4.54400261026025,
                  "affs": 3.8569985608832313,
                  "ippr": 4.024301120394737,
                  "insdtf": 38.96,
                  "creddtf": 75,
                  "elcostlnl": 6.467388153076172,
                  "stardtf": 86.69,
                  "_deepnote_index_column": 296
                },
                {
                  "country": "Zimbabwe",
                  "isonum": 716,
                  "isocode": "ZWE",
                  "year": 2016,
                  "logis": 2.339279890060425,
                  "bband": 1.0427467823028564,
                  "redu": 82.33333333333333,
                  "hifi": 2.2155427104925507,
                  "affs": 3.108047805804458,
                  "ippr": 2.8646563956833626,
                  "insdtf": 27.44,
                  "creddtf": 50,
                  "elcostlnl": 7.981049537658691,
                  "stardtf": 51.75,
                  "_deepnote_index_column": 297
                }
              ]
            },
            "text/plain": "                  country  isonum isocode  year     logis      bband  \\\n0             Afghanistan       4     AFG  2015  2.069573   0.004795   \n1                  Angola      24     AGO  2015  2.542980   0.412784   \n2                 Albania       8     ALB  2015  2.770000   6.573716   \n3    United Arab Emirates     784     ARE  2015  3.539098  11.558400   \n4               Argentina      32     ARG  2015  2.986475  15.573113   \n..                    ...     ...     ...   ...       ...        ...   \n293               Vietnam     704     VNM  2016  3.154763   6.483695   \n294                 Yemen     887     YEM  2016  2.183950   1.361715   \n295          South Africa     710     ZAF  2016  3.431244   3.211005   \n296                Zambia     894     ZMB  2016  2.462674   0.141622   \n297              Zimbabwe     716     ZWE  2016  2.339280   1.042747   \n\n          redu      hifi      affs      ippr  insdtf  creddtf  elcostlnl  \\\n0    26.472107  3.633919  3.852955  2.457773   23.62     45.0   8.151823   \n1    31.007937  2.593719  3.236488  2.257915    0.00      5.0   6.421622   \n2    20.825397  3.888581  3.737438  2.896221   63.42     65.0   6.197258   \n3     4.285714  5.053419  5.424749  5.475348   43.74     45.0   3.157000   \n4    30.333333  2.583314  2.923875  2.424609   42.87     50.0   3.214868   \n..         ...       ...       ...       ...     ...      ...        ...   \n293  24.555556  3.913509  3.605158  3.050503   35.83     70.0   7.187355   \n294  27.396825  3.848516  2.400492  2.314462   28.08      0.0   8.184262   \n295   9.333333  2.079679  5.310756  5.300020   64.29     60.0   6.508024   \n296  50.555556  4.544003  3.856999  4.024301   38.96     75.0   6.467388   \n297  82.333333  2.215543  3.108048  2.864656   27.44     50.0   7.981050   \n\n     stardtf  \n0      93.05  \n1      76.79  \n2      90.09  \n3      89.98  \n4      73.36  \n..       ...  \n293    81.25  \n294    74.22  \n295    81.18  \n296    86.69  \n297    51.75  \n\n[298 rows x 14 columns]",
            "text/html": "<div>\n<style scoped>\n    .dataframe tbody tr th:only-of-type {\n        vertical-align: middle;\n    }\n\n    .dataframe tbody tr th {\n        vertical-align: top;\n    }\n\n    .dataframe thead th {\n        text-align: right;\n    }\n</style>\n<table border=\"1\" class=\"dataframe\">\n  <thead>\n    <tr style=\"text-align: right;\">\n      <th></th>\n      <th>country</th>\n      <th>isonum</th>\n      <th>isocode</th>\n      <th>year</th>\n      <th>logis</th>\n      <th>bband</th>\n      <th>redu</th>\n      <th>hifi</th>\n      <th>affs</th>\n      <th>ippr</th>\n      <th>insdtf</th>\n      <th>creddtf</th>\n      <th>elcostlnl</th>\n      <th>stardtf</th>\n    </tr>\n  </thead>\n  <tbody>\n    <tr>\n      <th>0</th>\n      <td>Afghanistan</td>\n      <td>4</td>\n      <td>AFG</td>\n      <td>2015</td>\n      <td>2.069573</td>\n      <td>0.004795</td>\n      <td>26.472107</td>\n      <td>3.633919</td>\n      <td>3.852955</td>\n      <td>2.457773</td>\n      <td>23.62</td>\n      <td>45.0</td>\n      <td>8.151823</td>\n      <td>93.05</td>\n    </tr>\n    <tr>\n      <th>1</th>\n      <td>Angola</td>\n      <td>24</td>\n      <td>AGO</td>\n      <td>2015</td>\n      <td>2.542980</td>\n      <td>0.412784</td>\n      <td>31.007937</td>\n      <td>2.593719</td>\n      <td>3.236488</td>\n      <td>2.257915</td>\n      <td>0.00</td>\n      <td>5.0</td>\n      <td>6.421622</td>\n      <td>76.79</td>\n    </tr>\n    <tr>\n      <th>2</th>\n      <td>Albania</td>\n      <td>8</td>\n      <td>ALB</td>\n      <td>2015</td>\n      <td>2.770000</td>\n      <td>6.573716</td>\n      <td>20.825397</td>\n      <td>3.888581</td>\n      <td>3.737438</td>\n      <td>2.896221</td>\n      <td>63.42</td>\n      <td>65.0</td>\n      <td>6.197258</td>\n      <td>90.09</td>\n    </tr>\n    <tr>\n      <th>3</th>\n      <td>United Arab Emirates</td>\n      <td>784</td>\n      <td>ARE</td>\n      <td>2015</td>\n      <td>3.539098</td>\n      <td>11.558400</td>\n      <td>4.285714</td>\n      <td>5.053419</td>\n      <td>5.424749</td>\n      <td>5.475348</td>\n      <td>43.74</td>\n      <td>45.0</td>\n      <td>3.157000</td>\n      <td>89.98</td>\n    </tr>\n    <tr>\n      <th>4</th>\n      <td>Argentina</td>\n      <td>32</td>\n      <td>ARG</td>\n      <td>2015</td>\n      <td>2.986475</td>\n      <td>15.573113</td>\n      <td>30.333333</td>\n      <td>2.583314</td>\n      <td>2.923875</td>\n      <td>2.424609</td>\n      <td>42.87</td>\n      <td>50.0</td>\n      <td>3.214868</td>\n      <td>73.36</td>\n    </tr>\n    <tr>\n      <th>...</th>\n      <td>...</td>\n      <td>...</td>\n      <td>...</td>\n      <td>...</td>\n      <td>...</td>\n      <td>...</td>\n      <td>...</td>\n      <td>...</td>\n      <td>...</td>\n      <td>...</td>\n      <td>...</td>\n      <td>...</td>\n      <td>...</td>\n      <td>...</td>\n    </tr>\n    <tr>\n      <th>293</th>\n      <td>Vietnam</td>\n      <td>704</td>\n      <td>VNM</td>\n      <td>2016</td>\n      <td>3.154763</td>\n      <td>6.483695</td>\n      <td>24.555556</td>\n      <td>3.913509</td>\n      <td>3.605158</td>\n      <td>3.050503</td>\n      <td>35.83</td>\n      <td>70.0</td>\n      <td>7.187355</td>\n      <td>81.25</td>\n    </tr>\n    <tr>\n      <th>294</th>\n      <td>Yemen</td>\n      <td>887</td>\n      <td>YEM</td>\n      <td>2016</td>\n      <td>2.183950</td>\n      <td>1.361715</td>\n      <td>27.396825</td>\n      <td>3.848516</td>\n      <td>2.400492</td>\n      <td>2.314462</td>\n      <td>28.08</td>\n      <td>0.0</td>\n      <td>8.184262</td>\n      <td>74.22</td>\n    </tr>\n    <tr>\n      <th>295</th>\n      <td>South Africa</td>\n      <td>710</td>\n      <td>ZAF</td>\n      <td>2016</td>\n      <td>3.431244</td>\n      <td>3.211005</td>\n      <td>9.333333</td>\n      <td>2.079679</td>\n      <td>5.310756</td>\n      <td>5.300020</td>\n      <td>64.29</td>\n      <td>60.0</td>\n      <td>6.508024</td>\n      <td>81.18</td>\n    </tr>\n    <tr>\n      <th>296</th>\n      <td>Zambia</td>\n      <td>894</td>\n      <td>ZMB</td>\n      <td>2016</td>\n      <td>2.462674</td>\n      <td>0.141622</td>\n      <td>50.555556</td>\n      <td>4.544003</td>\n      <td>3.856999</td>\n      <td>4.024301</td>\n      <td>38.96</td>\n      <td>75.0</td>\n      <td>6.467388</td>\n      <td>86.69</td>\n    </tr>\n    <tr>\n      <th>297</th>\n      <td>Zimbabwe</td>\n      <td>716</td>\n      <td>ZWE</td>\n      <td>2016</td>\n      <td>2.339280</td>\n      <td>1.042747</td>\n      <td>82.333333</td>\n      <td>2.215543</td>\n      <td>3.108048</td>\n      <td>2.864656</td>\n      <td>27.44</td>\n      <td>50.0</td>\n      <td>7.981050</td>\n      <td>51.75</td>\n    </tr>\n  </tbody>\n</table>\n<p>298 rows × 14 columns</p>\n</div>"
          },
          "metadata": {}
        }
      ]
    },
    {
      "cell_type": "code",
      "metadata": {
        "tags": [],
        "cell_id": "00026-fbba69eb-8df4-4299-a545-88eebdbf3ad2",
        "deepnote_to_be_reexecuted": false,
        "source_hash": "b36ec3a0",
        "execution_millis": 41,
        "execution_start": 1618140858380,
        "deepnote_cell_type": "code"
      },
      "source": "temp = pd.merge(busi_test, econ_test, how=\"inner\", on=[\"country\", \"isonum\", \"isocode\", \"year\"])\ntemp_1 = pd.merge(temp, soci_test, how=\"inner\", on=[\"country\", \"isonum\", \"isocode\", \"year\"])\ntemp_2 = pd.merge(educ_test, envi_test, how=\"inner\", on=[\"country\", \"isonum\", \"isocode\", \"year\"])\ntemp_3 = pd.merge(gove_test, heal_test, how=\"inner\", on=[\"country\", \"isonum\", \"isocode\", \"year\"])\ntemp_4 = pd.merge(pers_test, safe_test, how=\"inner\", on=[\"country\", \"isonum\", \"isocode\", \"year\"])\n\ntemp_5 = pd.merge(temp_1, temp_2, how=\"inner\", on=[\"country\", \"isonum\", \"isocode\", \"year\"])\ntemp_6 = pd.merge(temp_3, temp_4, how=\"inner\", on=[\"country\", \"isonum\", \"isocode\", \"year\"])\n\nmerged_test = pd.merge(temp_5, temp_6, how=\"inner\", on=[\"country\", \"isonum\", \"isocode\", \"year\"])",
      "execution_count": 15,
      "outputs": []
    },
    {
      "cell_type": "code",
      "metadata": {
        "tags": [],
        "cell_id": "00027-eb27c2f4-41b6-4478-bbc0-5db195659b37",
        "deepnote_to_be_reexecuted": false,
        "source_hash": "e3905b63",
        "execution_millis": 28,
        "execution_start": 1618140858424,
        "deepnote_cell_type": "code"
      },
      "source": "merged_test.to_csv(\"data/merged_test.csv\")",
      "execution_count": 16,
      "outputs": []
    },
    {
      "cell_type": "markdown",
      "source": "<a style='text-decoration:none;line-height:16px;display:flex;color:#5B5B62;padding:10px;justify-content:end;' href='https://deepnote.com?utm_source=created-in-deepnote-cell&projectId=da4f784b-a8aa-48e9-8797-5366ef739e9c' target=\"_blank\">\n<img alt='Created in deepnote.com' style='display:inline;max-height:16px;margin:0px;margin-right:7.5px;' src='data:image/svg+xml;base64,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' > </img>\nCreated in <span style='font-weight:600;margin-left:4px;'>Deepnote</span></a>",
      "metadata": {
        "tags": [],
        "created_in_deepnote_cell": true,
        "deepnote_cell_type": "markdown"
      }
    }
  ],
  "nbformat": 4,
  "nbformat_minor": 4,
  "metadata": {
    "kernelspec": {
      "display_name": "Python 3",
      "language": "python",
      "name": "python3"
    },
    "language_info": {
      "codemirror_mode": {
        "name": "ipython",
        "version": 3
      },
      "file_extension": ".py",
      "mimetype": "text/x-python",
      "name": "python",
      "nbconvert_exporter": "python",
      "pygments_lexer": "ipython3",
      "version": "3.8.3"
    },
    "deepnote_notebook_id": "95eee9f3-e78d-49e0-a1bf-cc13067e4124",
    "deepnote": {},
    "deepnote_execution_queue": []
  }
}