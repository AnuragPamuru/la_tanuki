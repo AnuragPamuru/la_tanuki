{
  "cells": [
    {
      "cell_type": "code",
      "metadata": {
        "tags": [],
        "deepnote_to_be_reexecuted": false,
        "source_hash": "e3f1b2de",
        "execution_millis": 1147,
        "cell_id": "00000-8d1ba340-fe39-4be7-9430-554bfe9dce19",
        "execution_start": 1618141946242,
        "deepnote_cell_type": "code"
      },
      "source": "import pandas as pd\nimport numpy as np\nimport matplotlib.pyplot as plt\nimport seaborn as sns\ndata = {}\npillars = [\"busi\", \"econ\", \"educ\", \"envi\", \"gove\", \"heal\", \"pers\", \"safe\", \"soci\"]\nfor i in pillars:\n    train_df = pd.read_csv(\"data/{0}_train.csv\".format(i)).drop(\"Unnamed: 0\", axis = 1)\n    test_df = pd.read_csv(\"data/{0}_test.csv\".format(i)).drop(\"Unnamed: 0\", axis = 1)\n    data[i] = {\"test\" : test_df, \"train\" : train_df}",
      "execution_count": 1,
      "outputs": []
    },
    {
      "cell_type": "code",
      "metadata": {
        "tags": [],
        "deepnote_to_be_reexecuted": false,
        "source_hash": "13fddadd",
        "execution_millis": 39,
        "cell_id": "00001-86102b4c-12e9-49de-bc58-718d950f4bce",
        "execution_start": 1618141947394,
        "deepnote_cell_type": "code"
      },
      "source": "score_table = pd.read_csv(\"data/scores.csv\")\nprosperity_table = score_table[[\"country\",\"year\",\"prosperity\"]]\n# Most prosperous country and year\nprosperity_table.sort_values(\"prosperity\", ascending=False).head(5)",
      "execution_count": 2,
      "outputs": [
        {
          "output_type": "execute_result",
          "execution_count": 2,
          "data": {
            "application/vnd.deepnote.dataframe.v2+json": {
              "row_count": 5,
              "column_count": 3,
              "columns": [
                {
                  "name": "country",
                  "dtype": "object",
                  "stats": {
                    "unique_count": 3,
                    "nan_count": 0,
                    "categories": [
                      {
                        "name": "New Zealand",
                        "count": 2
                      },
                      {
                        "name": "Sweden",
                        "count": 2
                      },
                      {
                        "name": "Norway",
                        "count": 1
                      }
                    ]
                  }
                },
                {
                  "name": "year",
                  "dtype": "int64",
                  "stats": {
                    "unique_count": 4,
                    "nan_count": 0,
                    "min": 2010,
                    "max": 2014,
                    "histogram": [
                      {
                        "bin_start": 2010,
                        "bin_end": 2010.4,
                        "count": 1
                      },
                      {
                        "bin_start": 2010.4,
                        "bin_end": 2010.8,
                        "count": 0
                      },
                      {
                        "bin_start": 2010.8,
                        "bin_end": 2011.2,
                        "count": 1
                      },
                      {
                        "bin_start": 2011.2,
                        "bin_end": 2011.6,
                        "count": 0
                      },
                      {
                        "bin_start": 2011.6,
                        "bin_end": 2012,
                        "count": 0
                      },
                      {
                        "bin_start": 2012,
                        "bin_end": 2012.4,
                        "count": 0
                      },
                      {
                        "bin_start": 2012.4,
                        "bin_end": 2012.8,
                        "count": 0
                      },
                      {
                        "bin_start": 2012.8,
                        "bin_end": 2013.2,
                        "count": 1
                      },
                      {
                        "bin_start": 2013.2,
                        "bin_end": 2013.6,
                        "count": 0
                      },
                      {
                        "bin_start": 2013.6,
                        "bin_end": 2014,
                        "count": 2
                      }
                    ]
                  }
                },
                {
                  "name": "prosperity",
                  "dtype": "float64",
                  "stats": {
                    "unique_count": 5,
                    "nan_count": 0,
                    "min": 78.48794852362738,
                    "max": 78.91474151611328,
                    "histogram": [
                      {
                        "bin_start": 78.48794852362738,
                        "bin_end": 78.53062782287597,
                        "count": 2
                      },
                      {
                        "bin_start": 78.53062782287597,
                        "bin_end": 78.57330712212456,
                        "count": 0
                      },
                      {
                        "bin_start": 78.57330712212456,
                        "bin_end": 78.61598642137315,
                        "count": 0
                      },
                      {
                        "bin_start": 78.61598642137315,
                        "bin_end": 78.65866572062174,
                        "count": 1
                      },
                      {
                        "bin_start": 78.65866572062174,
                        "bin_end": 78.70134501987033,
                        "count": 0
                      },
                      {
                        "bin_start": 78.70134501987033,
                        "bin_end": 78.74402431911892,
                        "count": 0
                      },
                      {
                        "bin_start": 78.74402431911892,
                        "bin_end": 78.78670361836751,
                        "count": 0
                      },
                      {
                        "bin_start": 78.78670361836751,
                        "bin_end": 78.8293829176161,
                        "count": 0
                      },
                      {
                        "bin_start": 78.8293829176161,
                        "bin_end": 78.87206221686469,
                        "count": 1
                      },
                      {
                        "bin_start": 78.87206221686469,
                        "bin_end": 78.91474151611328,
                        "count": 1
                      }
                    ]
                  }
                },
                {
                  "name": "_deepnote_index_column",
                  "dtype": "int64"
                }
              ],
              "rows_top": [
                {
                  "country": "New Zealand",
                  "year": 2014,
                  "prosperity": 78.91474151611328,
                  "_deepnote_index_column": 1149
                },
                {
                  "country": "New Zealand",
                  "year": 2013,
                  "prosperity": 78.8326432969835,
                  "_deepnote_index_column": 1000
                },
                {
                  "country": "Sweden",
                  "year": 2010,
                  "prosperity": 78.65740246242947,
                  "_deepnote_index_column": 576
                },
                {
                  "country": "Norway",
                  "year": 2014,
                  "prosperity": 78.50093672010634,
                  "_deepnote_index_column": 1147
                },
                {
                  "country": "Sweden",
                  "year": 2011,
                  "prosperity": 78.48794852362738,
                  "_deepnote_index_column": 725
                }
              ],
              "rows_bottom": null
            },
            "text/plain": "          country  year  prosperity\n1149  New Zealand  2014   78.914742\n1000  New Zealand  2013   78.832643\n576        Sweden  2010   78.657402\n1147       Norway  2014   78.500937\n725        Sweden  2011   78.487949",
            "text/html": "<div>\n<style scoped>\n    .dataframe tbody tr th:only-of-type {\n        vertical-align: middle;\n    }\n\n    .dataframe tbody tr th {\n        vertical-align: top;\n    }\n\n    .dataframe thead th {\n        text-align: right;\n    }\n</style>\n<table border=\"1\" class=\"dataframe\">\n  <thead>\n    <tr style=\"text-align: right;\">\n      <th></th>\n      <th>country</th>\n      <th>year</th>\n      <th>prosperity</th>\n    </tr>\n  </thead>\n  <tbody>\n    <tr>\n      <th>1149</th>\n      <td>New Zealand</td>\n      <td>2014</td>\n      <td>78.914742</td>\n    </tr>\n    <tr>\n      <th>1000</th>\n      <td>New Zealand</td>\n      <td>2013</td>\n      <td>78.832643</td>\n    </tr>\n    <tr>\n      <th>576</th>\n      <td>Sweden</td>\n      <td>2010</td>\n      <td>78.657402</td>\n    </tr>\n    <tr>\n      <th>1147</th>\n      <td>Norway</td>\n      <td>2014</td>\n      <td>78.500937</td>\n    </tr>\n    <tr>\n      <th>725</th>\n      <td>Sweden</td>\n      <td>2011</td>\n      <td>78.487949</td>\n    </tr>\n  </tbody>\n</table>\n</div>"
          },
          "metadata": {}
        }
      ]
    },
    {
      "cell_type": "code",
      "metadata": {
        "tags": [],
        "deepnote_to_be_reexecuted": false,
        "source_hash": "7dcd8855",
        "execution_millis": 59,
        "cell_id": "00002-10e68867-731c-49ea-80e4-f9f73d23eceb",
        "execution_start": 1618141947436,
        "deepnote_cell_type": "code"
      },
      "source": "score_table[\"most_impact\"] = score_table[pillars].sub(score_table[\"prosperity\"],axis=0).iloc[:,:-1].abs().T.idxmax()\nscore_table.head()",
      "execution_count": 3,
      "outputs": [
        {
          "output_type": "execute_result",
          "execution_count": 3,
          "data": {
            "application/vnd.deepnote.dataframe.v2+json": {
              "row_count": 5,
              "column_count": 14,
              "columns": [
                {
                  "name": "Unnamed: 0",
                  "dtype": "int64",
                  "stats": {
                    "unique_count": 5,
                    "nan_count": 0,
                    "min": 0,
                    "max": 4,
                    "histogram": [
                      {
                        "bin_start": 0,
                        "bin_end": 0.4,
                        "count": 1
                      },
                      {
                        "bin_start": 0.4,
                        "bin_end": 0.8,
                        "count": 0
                      },
                      {
                        "bin_start": 0.8,
                        "bin_end": 1.2000000000000002,
                        "count": 1
                      },
                      {
                        "bin_start": 1.2000000000000002,
                        "bin_end": 1.6,
                        "count": 0
                      },
                      {
                        "bin_start": 1.6,
                        "bin_end": 2,
                        "count": 0
                      },
                      {
                        "bin_start": 2,
                        "bin_end": 2.4000000000000004,
                        "count": 1
                      },
                      {
                        "bin_start": 2.4000000000000004,
                        "bin_end": 2.8000000000000003,
                        "count": 0
                      },
                      {
                        "bin_start": 2.8000000000000003,
                        "bin_end": 3.2,
                        "count": 1
                      },
                      {
                        "bin_start": 3.2,
                        "bin_end": 3.6,
                        "count": 0
                      },
                      {
                        "bin_start": 3.6,
                        "bin_end": 4,
                        "count": 1
                      }
                    ]
                  }
                },
                {
                  "name": "country",
                  "dtype": "object",
                  "stats": {
                    "unique_count": 5,
                    "nan_count": 0,
                    "categories": [
                      {
                        "name": "Afghanistan",
                        "count": 1
                      },
                      {
                        "name": "Angola",
                        "count": 1
                      },
                      {
                        "name": "3 others",
                        "count": 3
                      }
                    ]
                  }
                },
                {
                  "name": "year",
                  "dtype": "int64",
                  "stats": {
                    "unique_count": 1,
                    "nan_count": 0,
                    "min": 2007,
                    "max": 2007,
                    "histogram": [
                      {
                        "bin_start": 2006.5,
                        "bin_end": 2006.6,
                        "count": 0
                      },
                      {
                        "bin_start": 2006.6,
                        "bin_end": 2006.7,
                        "count": 0
                      },
                      {
                        "bin_start": 2006.7,
                        "bin_end": 2006.8,
                        "count": 0
                      },
                      {
                        "bin_start": 2006.8,
                        "bin_end": 2006.9,
                        "count": 0
                      },
                      {
                        "bin_start": 2006.9,
                        "bin_end": 2007,
                        "count": 0
                      },
                      {
                        "bin_start": 2007,
                        "bin_end": 2007.1,
                        "count": 5
                      },
                      {
                        "bin_start": 2007.1,
                        "bin_end": 2007.2,
                        "count": 0
                      },
                      {
                        "bin_start": 2007.2,
                        "bin_end": 2007.3,
                        "count": 0
                      },
                      {
                        "bin_start": 2007.3,
                        "bin_end": 2007.4,
                        "count": 0
                      },
                      {
                        "bin_start": 2007.4,
                        "bin_end": 2007.5,
                        "count": 0
                      }
                    ]
                  }
                },
                {
                  "name": "busi",
                  "dtype": "float64",
                  "stats": {
                    "unique_count": 5,
                    "nan_count": 0,
                    "min": 27.057371139526367,
                    "max": 52.79174041748047,
                    "histogram": [
                      {
                        "bin_start": 27.057371139526367,
                        "bin_end": 29.630808067321777,
                        "count": 1
                      },
                      {
                        "bin_start": 29.630808067321777,
                        "bin_end": 32.204244995117186,
                        "count": 0
                      },
                      {
                        "bin_start": 32.204244995117186,
                        "bin_end": 34.7776819229126,
                        "count": 0
                      },
                      {
                        "bin_start": 34.7776819229126,
                        "bin_end": 37.351118850708005,
                        "count": 1
                      },
                      {
                        "bin_start": 37.351118850708005,
                        "bin_end": 39.92455577850342,
                        "count": 0
                      },
                      {
                        "bin_start": 39.92455577850342,
                        "bin_end": 42.49799270629883,
                        "count": 1
                      },
                      {
                        "bin_start": 42.49799270629883,
                        "bin_end": 45.071429634094244,
                        "count": 0
                      },
                      {
                        "bin_start": 45.071429634094244,
                        "bin_end": 47.64486656188965,
                        "count": 1
                      },
                      {
                        "bin_start": 47.64486656188965,
                        "bin_end": 50.218303489685056,
                        "count": 0
                      },
                      {
                        "bin_start": 50.218303489685056,
                        "bin_end": 52.79174041748047,
                        "count": 1
                      }
                    ]
                  }
                },
                {
                  "name": "econ",
                  "dtype": "float64",
                  "stats": {
                    "unique_count": 5,
                    "nan_count": 0,
                    "min": 51.74357986450195,
                    "max": 67.16781616210938,
                    "histogram": [
                      {
                        "bin_start": 51.74357986450195,
                        "bin_end": 53.286003494262694,
                        "count": 2
                      },
                      {
                        "bin_start": 53.286003494262694,
                        "bin_end": 54.828427124023435,
                        "count": 0
                      },
                      {
                        "bin_start": 54.828427124023435,
                        "bin_end": 56.37085075378418,
                        "count": 0
                      },
                      {
                        "bin_start": 56.37085075378418,
                        "bin_end": 57.91327438354492,
                        "count": 0
                      },
                      {
                        "bin_start": 57.91327438354492,
                        "bin_end": 59.455698013305664,
                        "count": 1
                      },
                      {
                        "bin_start": 59.455698013305664,
                        "bin_end": 60.998121643066405,
                        "count": 0
                      },
                      {
                        "bin_start": 60.998121643066405,
                        "bin_end": 62.540545272827146,
                        "count": 1
                      },
                      {
                        "bin_start": 62.540545272827146,
                        "bin_end": 64.0829689025879,
                        "count": 0
                      },
                      {
                        "bin_start": 64.0829689025879,
                        "bin_end": 65.62539253234863,
                        "count": 0
                      },
                      {
                        "bin_start": 65.62539253234863,
                        "bin_end": 67.16781616210938,
                        "count": 1
                      }
                    ]
                  }
                },
                {
                  "name": "educ",
                  "dtype": "float64",
                  "stats": {
                    "unique_count": 5,
                    "nan_count": 0,
                    "min": 22.494400024414062,
                    "max": 59.94295501708984,
                    "histogram": [
                      {
                        "bin_start": 22.494400024414062,
                        "bin_end": 26.23925552368164,
                        "count": 1
                      },
                      {
                        "bin_start": 26.23925552368164,
                        "bin_end": 29.984111022949218,
                        "count": 0
                      },
                      {
                        "bin_start": 29.984111022949218,
                        "bin_end": 33.728966522216794,
                        "count": 0
                      },
                      {
                        "bin_start": 33.728966522216794,
                        "bin_end": 37.473822021484374,
                        "count": 1
                      },
                      {
                        "bin_start": 37.473822021484374,
                        "bin_end": 41.21867752075195,
                        "count": 0
                      },
                      {
                        "bin_start": 41.21867752075195,
                        "bin_end": 44.963533020019526,
                        "count": 0
                      },
                      {
                        "bin_start": 44.963533020019526,
                        "bin_end": 48.708388519287105,
                        "count": 0
                      },
                      {
                        "bin_start": 48.708388519287105,
                        "bin_end": 52.453244018554685,
                        "count": 1
                      },
                      {
                        "bin_start": 52.453244018554685,
                        "bin_end": 56.19809951782226,
                        "count": 0
                      },
                      {
                        "bin_start": 56.19809951782226,
                        "bin_end": 59.94295501708984,
                        "count": 2
                      }
                    ]
                  }
                },
                {
                  "name": "envi",
                  "dtype": "float64",
                  "stats": {
                    "unique_count": 5,
                    "nan_count": 0,
                    "min": 39.29334259033203,
                    "max": 64.90972900390625,
                    "histogram": [
                      {
                        "bin_start": 39.29334259033203,
                        "bin_end": 41.85498123168945,
                        "count": 1
                      },
                      {
                        "bin_start": 41.85498123168945,
                        "bin_end": 44.416619873046876,
                        "count": 0
                      },
                      {
                        "bin_start": 44.416619873046876,
                        "bin_end": 46.978258514404295,
                        "count": 0
                      },
                      {
                        "bin_start": 46.978258514404295,
                        "bin_end": 49.53989715576172,
                        "count": 1
                      },
                      {
                        "bin_start": 49.53989715576172,
                        "bin_end": 52.10153579711914,
                        "count": 1
                      },
                      {
                        "bin_start": 52.10153579711914,
                        "bin_end": 54.66317443847656,
                        "count": 0
                      },
                      {
                        "bin_start": 54.66317443847656,
                        "bin_end": 57.22481307983398,
                        "count": 0
                      },
                      {
                        "bin_start": 57.22481307983398,
                        "bin_end": 59.786451721191405,
                        "count": 0
                      },
                      {
                        "bin_start": 59.786451721191405,
                        "bin_end": 62.34809036254883,
                        "count": 1
                      },
                      {
                        "bin_start": 62.34809036254883,
                        "bin_end": 64.90972900390625,
                        "count": 1
                      }
                    ]
                  }
                },
                {
                  "name": "gove",
                  "dtype": "float64",
                  "stats": {
                    "unique_count": 5,
                    "nan_count": 0,
                    "min": 29.76030731201172,
                    "max": 48.831993103027344,
                    "histogram": [
                      {
                        "bin_start": 29.76030731201172,
                        "bin_end": 31.66747589111328,
                        "count": 2
                      },
                      {
                        "bin_start": 31.66747589111328,
                        "bin_end": 33.57464447021484,
                        "count": 0
                      },
                      {
                        "bin_start": 33.57464447021484,
                        "bin_end": 35.48181304931641,
                        "count": 0
                      },
                      {
                        "bin_start": 35.48181304931641,
                        "bin_end": 37.388981628417966,
                        "count": 0
                      },
                      {
                        "bin_start": 37.388981628417966,
                        "bin_end": 39.29615020751953,
                        "count": 0
                      },
                      {
                        "bin_start": 39.29615020751953,
                        "bin_end": 41.2033187866211,
                        "count": 0
                      },
                      {
                        "bin_start": 41.2033187866211,
                        "bin_end": 43.110487365722655,
                        "count": 1
                      },
                      {
                        "bin_start": 43.110487365722655,
                        "bin_end": 45.01765594482422,
                        "count": 0
                      },
                      {
                        "bin_start": 45.01765594482422,
                        "bin_end": 46.92482452392578,
                        "count": 1
                      },
                      {
                        "bin_start": 46.92482452392578,
                        "bin_end": 48.831993103027344,
                        "count": 1
                      }
                    ]
                  }
                },
                {
                  "name": "heal",
                  "dtype": "float64",
                  "stats": {
                    "unique_count": 5,
                    "nan_count": 0,
                    "min": 51.600807189941406,
                    "max": 77.57512664794922,
                    "histogram": [
                      {
                        "bin_start": 51.600807189941406,
                        "bin_end": 54.198239135742185,
                        "count": 1
                      },
                      {
                        "bin_start": 54.198239135742185,
                        "bin_end": 56.79567108154297,
                        "count": 0
                      },
                      {
                        "bin_start": 56.79567108154297,
                        "bin_end": 59.39310302734375,
                        "count": 1
                      },
                      {
                        "bin_start": 59.39310302734375,
                        "bin_end": 61.990534973144534,
                        "count": 0
                      },
                      {
                        "bin_start": 61.990534973144534,
                        "bin_end": 64.58796691894531,
                        "count": 0
                      },
                      {
                        "bin_start": 64.58796691894531,
                        "bin_end": 67.18539886474609,
                        "count": 0
                      },
                      {
                        "bin_start": 67.18539886474609,
                        "bin_end": 69.78283081054687,
                        "count": 0
                      },
                      {
                        "bin_start": 69.78283081054687,
                        "bin_end": 72.38026275634766,
                        "count": 0
                      },
                      {
                        "bin_start": 72.38026275634766,
                        "bin_end": 74.97769470214844,
                        "count": 2
                      },
                      {
                        "bin_start": 74.97769470214844,
                        "bin_end": 77.57512664794922,
                        "count": 1
                      }
                    ]
                  }
                },
                {
                  "name": "pers",
                  "dtype": "float64",
                  "stats": {
                    "unique_count": 5,
                    "nan_count": 0,
                    "min": 32.29010391235352,
                    "max": 63.80562210083008,
                    "histogram": [
                      {
                        "bin_start": 32.29010391235352,
                        "bin_end": 35.44165573120118,
                        "count": 1
                      },
                      {
                        "bin_start": 35.44165573120118,
                        "bin_end": 38.59320755004883,
                        "count": 0
                      },
                      {
                        "bin_start": 38.59320755004883,
                        "bin_end": 41.74475936889649,
                        "count": 0
                      },
                      {
                        "bin_start": 41.74475936889649,
                        "bin_end": 44.896311187744146,
                        "count": 0
                      },
                      {
                        "bin_start": 44.896311187744146,
                        "bin_end": 48.0478630065918,
                        "count": 1
                      },
                      {
                        "bin_start": 48.0478630065918,
                        "bin_end": 51.199414825439455,
                        "count": 1
                      },
                      {
                        "bin_start": 51.199414825439455,
                        "bin_end": 54.35096664428711,
                        "count": 0
                      },
                      {
                        "bin_start": 54.35096664428711,
                        "bin_end": 57.50251846313476,
                        "count": 0
                      },
                      {
                        "bin_start": 57.50251846313476,
                        "bin_end": 60.65407028198242,
                        "count": 1
                      },
                      {
                        "bin_start": 60.65407028198242,
                        "bin_end": 63.80562210083008,
                        "count": 1
                      }
                    ]
                  }
                },
                {
                  "name": "safe",
                  "dtype": "float64",
                  "stats": {
                    "unique_count": 5,
                    "nan_count": 0,
                    "min": 37.24028015136719,
                    "max": 80.37022399902344,
                    "histogram": [
                      {
                        "bin_start": 37.24028015136719,
                        "bin_end": 41.55327453613281,
                        "count": 1
                      },
                      {
                        "bin_start": 41.55327453613281,
                        "bin_end": 45.866268920898435,
                        "count": 0
                      },
                      {
                        "bin_start": 45.866268920898435,
                        "bin_end": 50.179263305664065,
                        "count": 0
                      },
                      {
                        "bin_start": 50.179263305664065,
                        "bin_end": 54.49225769042969,
                        "count": 1
                      },
                      {
                        "bin_start": 54.49225769042969,
                        "bin_end": 58.80525207519531,
                        "count": 0
                      },
                      {
                        "bin_start": 58.80525207519531,
                        "bin_end": 63.11824645996094,
                        "count": 0
                      },
                      {
                        "bin_start": 63.11824645996094,
                        "bin_end": 67.43124084472657,
                        "count": 0
                      },
                      {
                        "bin_start": 67.43124084472657,
                        "bin_end": 71.74423522949219,
                        "count": 2
                      },
                      {
                        "bin_start": 71.74423522949219,
                        "bin_end": 76.0572296142578,
                        "count": 0
                      },
                      {
                        "bin_start": 76.0572296142578,
                        "bin_end": 80.37022399902344,
                        "count": 1
                      }
                    ]
                  }
                },
                {
                  "name": "soci",
                  "dtype": "float64",
                  "stats": {
                    "unique_count": 5,
                    "nan_count": 0,
                    "min": 37.69165802001953,
                    "max": 52.18182373046875,
                    "histogram": [
                      {
                        "bin_start": 37.69165802001953,
                        "bin_end": 39.14067459106445,
                        "count": 1
                      },
                      {
                        "bin_start": 39.14067459106445,
                        "bin_end": 40.589691162109375,
                        "count": 0
                      },
                      {
                        "bin_start": 40.589691162109375,
                        "bin_end": 42.0387077331543,
                        "count": 1
                      },
                      {
                        "bin_start": 42.0387077331543,
                        "bin_end": 43.48772430419922,
                        "count": 0
                      },
                      {
                        "bin_start": 43.48772430419922,
                        "bin_end": 44.93674087524414,
                        "count": 0
                      },
                      {
                        "bin_start": 44.93674087524414,
                        "bin_end": 46.38575744628906,
                        "count": 1
                      },
                      {
                        "bin_start": 46.38575744628906,
                        "bin_end": 47.834774017333984,
                        "count": 0
                      },
                      {
                        "bin_start": 47.834774017333984,
                        "bin_end": 49.283790588378906,
                        "count": 1
                      },
                      {
                        "bin_start": 49.283790588378906,
                        "bin_end": 50.73280715942383,
                        "count": 0
                      },
                      {
                        "bin_start": 50.73280715942383,
                        "bin_end": 52.18182373046875,
                        "count": 1
                      }
                    ]
                  }
                },
                {
                  "name": "prosperity",
                  "dtype": "float64",
                  "stats": {
                    "unique_count": 5,
                    "nan_count": 0,
                    "min": 37.65897538926866,
                    "max": 61.1111920674642,
                    "histogram": [
                      {
                        "bin_start": 37.65897538926866,
                        "bin_end": 40.00419705708821,
                        "count": 1
                      },
                      {
                        "bin_start": 40.00419705708821,
                        "bin_end": 42.34941872490777,
                        "count": 0
                      },
                      {
                        "bin_start": 42.34941872490777,
                        "bin_end": 44.69464039272732,
                        "count": 1
                      },
                      {
                        "bin_start": 44.69464039272732,
                        "bin_end": 47.03986206054688,
                        "count": 0
                      },
                      {
                        "bin_start": 47.03986206054688,
                        "bin_end": 49.38508372836643,
                        "count": 0
                      },
                      {
                        "bin_start": 49.38508372836643,
                        "bin_end": 51.73030539618598,
                        "count": 0
                      },
                      {
                        "bin_start": 51.73030539618598,
                        "bin_end": 54.07552706400554,
                        "count": 0
                      },
                      {
                        "bin_start": 54.07552706400554,
                        "bin_end": 56.42074873182509,
                        "count": 1
                      },
                      {
                        "bin_start": 56.42074873182509,
                        "bin_end": 58.765970399644644,
                        "count": 1
                      },
                      {
                        "bin_start": 58.765970399644644,
                        "bin_end": 61.1111920674642,
                        "count": 1
                      }
                    ]
                  }
                },
                {
                  "name": "most_impact",
                  "dtype": "object",
                  "stats": {
                    "unique_count": 4,
                    "nan_count": 0,
                    "categories": [
                      {
                        "name": "heal",
                        "count": 2
                      },
                      {
                        "name": "econ",
                        "count": 1
                      },
                      {
                        "name": "2 others",
                        "count": 2
                      }
                    ]
                  }
                },
                {
                  "name": "_deepnote_index_column",
                  "dtype": "int64"
                }
              ],
              "rows_top": [
                {
                  "Unnamed: 0": 0,
                  "country": "Afghanistan",
                  "year": 2007,
                  "busi": 35.30816650390625,
                  "econ": 53.251712799072266,
                  "educ": 22.494400024414062,
                  "envi": 39.29334259033203,
                  "gove": 29.76030731201172,
                  "heal": 51.600807189941406,
                  "pers": 32.29010391235352,
                  "safe": 37.24028015136719,
                  "soci": 37.69165802001953,
                  "prosperity": 37.65897538926866,
                  "most_impact": "econ",
                  "_deepnote_index_column": 0
                },
                {
                  "Unnamed: 0": 1,
                  "country": "Angola",
                  "year": 2007,
                  "busi": 27.057371139526367,
                  "econ": 51.74357986450195,
                  "educ": 35.91666793823242,
                  "envi": 47.98216247558594,
                  "gove": 30.91010475158692,
                  "heal": 57.914005279541016,
                  "pers": 45.12345886230469,
                  "safe": 53.32512283325195,
                  "soci": 44.95454406738281,
                  "prosperity": 43.88077969021268,
                  "most_impact": "busi",
                  "_deepnote_index_column": 1
                },
                {
                  "Unnamed: 0": 2,
                  "country": "Albania",
                  "year": 2007,
                  "busi": 40.62637710571289,
                  "econ": 57.97951126098633,
                  "educ": 56.31841278076172,
                  "envi": 51.049442291259766,
                  "gove": 42.53165435791016,
                  "heal": 74.52774810791016,
                  "pers": 60.27591323852539,
                  "safe": 68.98988342285156,
                  "soci": 41.7406120300293,
                  "prosperity": 54.89328384399414,
                  "most_impact": "heal",
                  "_deepnote_index_column": 2
                },
                {
                  "Unnamed: 0": 3,
                  "country": "United Arab Emirates",
                  "year": 2007,
                  "busi": 52.79174041748047,
                  "econ": 67.16781616210938,
                  "educ": 59.94295501708984,
                  "envi": 62.05147933959961,
                  "gove": 48.831993103027344,
                  "heal": 77.57512664794922,
                  "pers": 49.08757019042969,
                  "safe": 80.37022399902344,
                  "soci": 52.18182373046875,
                  "prosperity": 61.1111920674642,
                  "most_impact": "safe",
                  "_deepnote_index_column": 3
                },
                {
                  "Unnamed: 0": 4,
                  "country": "Argentina",
                  "year": 2007,
                  "busi": 47.438419342041016,
                  "econ": 62.476505279541016,
                  "educ": 51.99555206298828,
                  "envi": 64.90972900390625,
                  "gove": 45.03274154663086,
                  "heal": 74.43910217285156,
                  "pers": 63.80562210083008,
                  "safe": 68.51971435546875,
                  "soci": 48.40077209472656,
                  "prosperity": 58.55757310655382,
                  "most_impact": "heal",
                  "_deepnote_index_column": 4
                }
              ],
              "rows_bottom": null
            },
            "text/plain": "   Unnamed: 0               country  year       busi       econ       educ  \\\n0           0           Afghanistan  2007  35.308167  53.251713  22.494400   \n1           1                Angola  2007  27.057371  51.743580  35.916668   \n2           2               Albania  2007  40.626377  57.979511  56.318413   \n3           3  United Arab Emirates  2007  52.791740  67.167816  59.942955   \n4           4             Argentina  2007  47.438419  62.476505  51.995552   \n\n        envi       gove       heal       pers       safe       soci  \\\n0  39.293343  29.760307  51.600807  32.290104  37.240280  37.691658   \n1  47.982162  30.910105  57.914005  45.123459  53.325123  44.954544   \n2  51.049442  42.531654  74.527748  60.275913  68.989883  41.740612   \n3  62.051479  48.831993  77.575127  49.087570  80.370224  52.181824   \n4  64.909729  45.032742  74.439102  63.805622  68.519714  48.400772   \n\n   prosperity most_impact  \n0   37.658975        econ  \n1   43.880780        busi  \n2   54.893284        heal  \n3   61.111192        safe  \n4   58.557573        heal  ",
            "text/html": "<div>\n<style scoped>\n    .dataframe tbody tr th:only-of-type {\n        vertical-align: middle;\n    }\n\n    .dataframe tbody tr th {\n        vertical-align: top;\n    }\n\n    .dataframe thead th {\n        text-align: right;\n    }\n</style>\n<table border=\"1\" class=\"dataframe\">\n  <thead>\n    <tr style=\"text-align: right;\">\n      <th></th>\n      <th>Unnamed: 0</th>\n      <th>country</th>\n      <th>year</th>\n      <th>busi</th>\n      <th>econ</th>\n      <th>educ</th>\n      <th>envi</th>\n      <th>gove</th>\n      <th>heal</th>\n      <th>pers</th>\n      <th>safe</th>\n      <th>soci</th>\n      <th>prosperity</th>\n      <th>most_impact</th>\n    </tr>\n  </thead>\n  <tbody>\n    <tr>\n      <th>0</th>\n      <td>0</td>\n      <td>Afghanistan</td>\n      <td>2007</td>\n      <td>35.308167</td>\n      <td>53.251713</td>\n      <td>22.494400</td>\n      <td>39.293343</td>\n      <td>29.760307</td>\n      <td>51.600807</td>\n      <td>32.290104</td>\n      <td>37.240280</td>\n      <td>37.691658</td>\n      <td>37.658975</td>\n      <td>econ</td>\n    </tr>\n    <tr>\n      <th>1</th>\n      <td>1</td>\n      <td>Angola</td>\n      <td>2007</td>\n      <td>27.057371</td>\n      <td>51.743580</td>\n      <td>35.916668</td>\n      <td>47.982162</td>\n      <td>30.910105</td>\n      <td>57.914005</td>\n      <td>45.123459</td>\n      <td>53.325123</td>\n      <td>44.954544</td>\n      <td>43.880780</td>\n      <td>busi</td>\n    </tr>\n    <tr>\n      <th>2</th>\n      <td>2</td>\n      <td>Albania</td>\n      <td>2007</td>\n      <td>40.626377</td>\n      <td>57.979511</td>\n      <td>56.318413</td>\n      <td>51.049442</td>\n      <td>42.531654</td>\n      <td>74.527748</td>\n      <td>60.275913</td>\n      <td>68.989883</td>\n      <td>41.740612</td>\n      <td>54.893284</td>\n      <td>heal</td>\n    </tr>\n    <tr>\n      <th>3</th>\n      <td>3</td>\n      <td>United Arab Emirates</td>\n      <td>2007</td>\n      <td>52.791740</td>\n      <td>67.167816</td>\n      <td>59.942955</td>\n      <td>62.051479</td>\n      <td>48.831993</td>\n      <td>77.575127</td>\n      <td>49.087570</td>\n      <td>80.370224</td>\n      <td>52.181824</td>\n      <td>61.111192</td>\n      <td>safe</td>\n    </tr>\n    <tr>\n      <th>4</th>\n      <td>4</td>\n      <td>Argentina</td>\n      <td>2007</td>\n      <td>47.438419</td>\n      <td>62.476505</td>\n      <td>51.995552</td>\n      <td>64.909729</td>\n      <td>45.032742</td>\n      <td>74.439102</td>\n      <td>63.805622</td>\n      <td>68.519714</td>\n      <td>48.400772</td>\n      <td>58.557573</td>\n      <td>heal</td>\n    </tr>\n  </tbody>\n</table>\n</div>"
          },
          "metadata": {}
        }
      ]
    },
    {
      "cell_type": "code",
      "metadata": {
        "tags": [],
        "deepnote_to_be_reexecuted": false,
        "source_hash": "102cf17",
        "execution_millis": 50,
        "cell_id": "00003-ee6a9dea-58e5-4147-947b-afb2a0d80e7b",
        "execution_start": 1618141947491,
        "deepnote_cell_type": "code"
      },
      "source": "pillar_table = pd.pivot_table(\n    score_table[[\"country\",\"year\",\"most_impact\"]],\n    values=\"most_impact\",index=\"country\",\n    columns=\"year\", aggfunc=\"first\")\npillar_table.head()",
      "execution_count": 4,
      "outputs": [
        {
          "output_type": "execute_result",
          "execution_count": 4,
          "data": {
            "application/vnd.deepnote.dataframe.v2+json": {
              "row_count": 5,
              "column_count": 8,
              "columns": [
                {
                  "name": 2007,
                  "dtype": "object",
                  "stats": {
                    "unique_count": 3,
                    "nan_count": 0,
                    "categories": [
                      {
                        "name": "heal",
                        "count": 3
                      },
                      {
                        "name": "econ",
                        "count": 1
                      },
                      {
                        "name": "busi",
                        "count": 1
                      }
                    ]
                  }
                },
                {
                  "name": 2008,
                  "dtype": "object",
                  "stats": {
                    "unique_count": 3,
                    "nan_count": 0,
                    "categories": [
                      {
                        "name": "heal",
                        "count": 3
                      },
                      {
                        "name": "econ",
                        "count": 1
                      },
                      {
                        "name": "busi",
                        "count": 1
                      }
                    ]
                  }
                },
                {
                  "name": 2009,
                  "dtype": "object",
                  "stats": {
                    "unique_count": 3,
                    "nan_count": 0,
                    "categories": [
                      {
                        "name": "heal",
                        "count": 3
                      },
                      {
                        "name": "econ",
                        "count": 1
                      },
                      {
                        "name": "busi",
                        "count": 1
                      }
                    ]
                  }
                },
                {
                  "name": 2010,
                  "dtype": "object",
                  "stats": {
                    "unique_count": 3,
                    "nan_count": 0,
                    "categories": [
                      {
                        "name": "heal",
                        "count": 3
                      },
                      {
                        "name": "busi",
                        "count": 1
                      },
                      {
                        "name": "pers",
                        "count": 1
                      }
                    ]
                  }
                },
                {
                  "name": 2011,
                  "dtype": "object",
                  "stats": {
                    "unique_count": 3,
                    "nan_count": 0,
                    "categories": [
                      {
                        "name": "heal",
                        "count": 3
                      },
                      {
                        "name": "busi",
                        "count": 1
                      },
                      {
                        "name": "pers",
                        "count": 1
                      }
                    ]
                  }
                },
                {
                  "name": 2012,
                  "dtype": "object",
                  "stats": {
                    "unique_count": 2,
                    "nan_count": 0,
                    "categories": [
                      {
                        "name": "heal",
                        "count": 4
                      },
                      {
                        "name": "pers",
                        "count": 1
                      }
                    ]
                  }
                },
                {
                  "name": 2013,
                  "dtype": "object",
                  "stats": {
                    "unique_count": 2,
                    "nan_count": 0,
                    "categories": [
                      {
                        "name": "heal",
                        "count": 4
                      },
                      {
                        "name": "pers",
                        "count": 1
                      }
                    ]
                  }
                },
                {
                  "name": 2014,
                  "dtype": "object",
                  "stats": {
                    "unique_count": 2,
                    "nan_count": 0,
                    "categories": [
                      {
                        "name": "heal",
                        "count": 4
                      },
                      {
                        "name": "pers",
                        "count": 1
                      }
                    ]
                  }
                },
                {
                  "name": "_deepnote_index_column",
                  "dtype": "object"
                }
              ],
              "rows_top": [
                {
                  "2007": "econ",
                  "2008": "econ",
                  "2009": "econ",
                  "2010": "heal",
                  "2011": "heal",
                  "2012": "heal",
                  "2013": "heal",
                  "2014": "heal",
                  "_deepnote_index_column": "Afghanistan"
                },
                {
                  "2007": "heal",
                  "2008": "heal",
                  "2009": "heal",
                  "2010": "heal",
                  "2011": "heal",
                  "2012": "heal",
                  "2013": "heal",
                  "2014": "heal",
                  "_deepnote_index_column": "Albania"
                },
                {
                  "2007": "heal",
                  "2008": "heal",
                  "2009": "heal",
                  "2010": "heal",
                  "2011": "heal",
                  "2012": "heal",
                  "2013": "heal",
                  "2014": "heal",
                  "_deepnote_index_column": "Algeria"
                },
                {
                  "2007": "busi",
                  "2008": "busi",
                  "2009": "busi",
                  "2010": "busi",
                  "2011": "busi",
                  "2012": "heal",
                  "2013": "heal",
                  "2014": "heal",
                  "_deepnote_index_column": "Angola"
                },
                {
                  "2007": "heal",
                  "2008": "heal",
                  "2009": "heal",
                  "2010": "pers",
                  "2011": "pers",
                  "2012": "pers",
                  "2013": "pers",
                  "2014": "pers",
                  "_deepnote_index_column": "Argentina"
                }
              ],
              "rows_bottom": null
            },
            "text/plain": "year         2007  2008  2009  2010  2011  2012  2013  2014\ncountry                                                    \nAfghanistan  econ  econ  econ  heal  heal  heal  heal  heal\nAlbania      heal  heal  heal  heal  heal  heal  heal  heal\nAlgeria      heal  heal  heal  heal  heal  heal  heal  heal\nAngola       busi  busi  busi  busi  busi  heal  heal  heal\nArgentina    heal  heal  heal  pers  pers  pers  pers  pers",
            "text/html": "<div>\n<style scoped>\n    .dataframe tbody tr th:only-of-type {\n        vertical-align: middle;\n    }\n\n    .dataframe tbody tr th {\n        vertical-align: top;\n    }\n\n    .dataframe thead th {\n        text-align: right;\n    }\n</style>\n<table border=\"1\" class=\"dataframe\">\n  <thead>\n    <tr style=\"text-align: right;\">\n      <th>year</th>\n      <th>2007</th>\n      <th>2008</th>\n      <th>2009</th>\n      <th>2010</th>\n      <th>2011</th>\n      <th>2012</th>\n      <th>2013</th>\n      <th>2014</th>\n    </tr>\n    <tr>\n      <th>country</th>\n      <th></th>\n      <th></th>\n      <th></th>\n      <th></th>\n      <th></th>\n      <th></th>\n      <th></th>\n      <th></th>\n    </tr>\n  </thead>\n  <tbody>\n    <tr>\n      <th>Afghanistan</th>\n      <td>econ</td>\n      <td>econ</td>\n      <td>econ</td>\n      <td>heal</td>\n      <td>heal</td>\n      <td>heal</td>\n      <td>heal</td>\n      <td>heal</td>\n    </tr>\n    <tr>\n      <th>Albania</th>\n      <td>heal</td>\n      <td>heal</td>\n      <td>heal</td>\n      <td>heal</td>\n      <td>heal</td>\n      <td>heal</td>\n      <td>heal</td>\n      <td>heal</td>\n    </tr>\n    <tr>\n      <th>Algeria</th>\n      <td>heal</td>\n      <td>heal</td>\n      <td>heal</td>\n      <td>heal</td>\n      <td>heal</td>\n      <td>heal</td>\n      <td>heal</td>\n      <td>heal</td>\n    </tr>\n    <tr>\n      <th>Angola</th>\n      <td>busi</td>\n      <td>busi</td>\n      <td>busi</td>\n      <td>busi</td>\n      <td>busi</td>\n      <td>heal</td>\n      <td>heal</td>\n      <td>heal</td>\n    </tr>\n    <tr>\n      <th>Argentina</th>\n      <td>heal</td>\n      <td>heal</td>\n      <td>heal</td>\n      <td>pers</td>\n      <td>pers</td>\n      <td>pers</td>\n      <td>pers</td>\n      <td>pers</td>\n    </tr>\n  </tbody>\n</table>\n</div>"
          },
          "metadata": {}
        }
      ]
    },
    {
      "cell_type": "code",
      "metadata": {
        "tags": [],
        "deepnote_to_be_reexecuted": false,
        "source_hash": "7abecc28",
        "execution_millis": 70,
        "cell_id": "00004-6671fbdc-e0fa-4bfc-9fac-7f26ff0c3245",
        "execution_start": 1618141947537,
        "deepnote_cell_type": "code"
      },
      "source": "most_important_pillars = pillar_table.mode(axis=1).iloc[:,0]\nmost_important_pillars",
      "execution_count": 5,
      "outputs": [
        {
          "output_type": "execute_result",
          "execution_count": 5,
          "data": {
            "text/plain": "country\nAfghanistan    heal\nAlbania        heal\nAlgeria        heal\nAngola         busi\nArgentina      pers\n               ... \nVenezuela      gove\nVietnam        pers\nYemen          heal\nZambia         educ\nZimbabwe       gove\nName: 0, Length: 149, dtype: object"
          },
          "metadata": {}
        }
      ]
    },
    {
      "cell_type": "code",
      "metadata": {
        "tags": [],
        "deepnote_to_be_reexecuted": false,
        "source_hash": "28e6e014",
        "execution_millis": 11,
        "cell_id": "00005-81c82f25-020a-4efa-ae47-227f645a6251",
        "execution_start": 1618141947599,
        "deepnote_cell_type": "code"
      },
      "source": "top_growth = [\"Togo\",\"Zimbabwe\",\"Chad\",\"Georgia\",\"Macedonia\"]\nmost_important_pillars.loc[top_growth[:5]]",
      "execution_count": 6,
      "outputs": [
        {
          "output_type": "execute_result",
          "execution_count": 6,
          "data": {
            "text/plain": "country\nTogo         safe\nZimbabwe     gove\nChad         educ\nGeorgia      heal\nMacedonia    safe\nName: 0, dtype: object"
          },
          "metadata": {}
        }
      ]
    },
    {
      "cell_type": "code",
      "metadata": {
        "tags": [],
        "deepnote_to_be_reexecuted": false,
        "source_hash": "a8181213",
        "execution_millis": 647,
        "cell_id": "00006-d388f9aa-016f-4397-9d67-8ef4822c6d26",
        "execution_start": 1618141947647,
        "deepnote_cell_type": "code"
      },
      "source": "from sklearn.linear_model import LinearRegression\nfrom sklearn.datasets import make_classification",
      "execution_count": 7,
      "outputs": []
    },
    {
      "cell_type": "code",
      "metadata": {
        "tags": [],
        "deepnote_to_be_reexecuted": false,
        "source_hash": "d9cf8b54",
        "execution_millis": 109,
        "cell_id": "00007-a7a72cc2-f6bb-4ce2-acb8-fbdd0668e22e",
        "execution_start": 1618142648360,
        "deepnote_cell_type": "code"
      },
      "source": "for i in pillars: \n    columns = [col for col in data[i]['train'].columns if col[-4:]!=\"year\" and col[:4]!=\"rank\" and col not in [\"country\",\"isonum\",\"isocode\"]]\n    tmpX = data[i]['train'][columns].select_dtypes(np.number)\n    rank = \"rank_\" + i \n    # tmpX = tmpX.drop(columns = [rank])\n    tmpX = tmpX.drop(columns = [i])\n    tmpy = data[i]['train'][i]\n    \n    # ohotyr = pd.get_dummies(tmpX['year'])\n    # tmpX = tmpX.drop(columns = ['year'])\n    \n    mod = LinearRegression()\n    mod.fit(tmpX, tmpy)\n    impt = mod.coef_\n    \n    tmp_coeff = pd.DataFrame([tmpX.columns, np.absolute(impt)]).T.sort_values(1, ascending=False)\n    tp3 = tmp_coeff.iloc[:3]\n    # important_categories\n    print(\"Most Impactful Categories on \" + i + \"\\n\", tp3.values)",
      "execution_count": 39,
      "outputs": [
        {
          "name": "stdout",
          "text": "Most Impactful Categories on busi\n [['ippr' 2.4785666187535074]\n ['logis' 2.0406800839176795]\n ['affs' 2.0249854499059343]]\nMost Impactful Categories on econ\n [['gdp5' 18.61007125605273]\n ['eqi' 5.717482698722488]\n ['amp' 2.674101549294211]]\nMost Impactful Categories on educ\n [['gbrata' 17.24460175621022]\n ['Ginih15' 13.976619531601534]\n ['qslnl' 1.714573675931544]]\nMost Impactful Categories on envi\n [['airpollution' 18.58170121136535]\n ['pestreg' 0.3752748037874074]\n ['improved_drinkwater' 0.2240982761674628]]\nMost Impactful Categories on gove\n [['womenparl' 7.635881449139032]\n ['rlaw' 2.6329439616734844]\n ['geff' 2.5375353055530114]]\nMost Impactful Categories on heal\n [['meandiabetes' 0.4445602540596016]\n ['tblnl' 0.2586987768556513]\n ['leb' 0.25317393609735805]]\nMost Impactful Categories on pers\n [['deathpen' 7.695642652806546]\n ['propright' 6.759789892417538]\n ['lgbt_rights' 4.2851478904825955]]\nMost Impactful Categories on safe\n [['homilnl' 3.5079094016718875]\n ['pts' 3.069430998478007]\n ['warcasual' 1.5997222368490525]]\nMost Impactful Categories on soci\n [['vtf' 0.141136926611724]]\n",
          "output_type": "stream"
        }
      ]
    },
    {
      "cell_type": "code",
      "metadata": {
        "tags": [],
        "deepnote_to_be_reexecuted": false,
        "source_hash": "3b16061b",
        "execution_millis": 217,
        "cell_id": "00009-b2392f44-441a-442a-8c4f-2527aab1c60f",
        "execution_start": 1618141948421,
        "deepnote_cell_type": "code"
      },
      "source": "X = pd.concat([\n    data[\"busi\"][\"test\"][[\"ippr\",\"logis\",'affs',\"bband\",\"redu\",\"elcostlnl\"]],\n    data[\"econ\"][\"test\"][[\"gdp5\",\"eqi\",\"amp\",\"povdday\",\"urate\",\"edi\"]],\n    data[\"educ\"][\"test\"][[\"qslnl\",\"teryrs\",\"secyrs\",\"edqualsc\",\"Ginih15\",\"gbrata\"]],\n    data[\"envi\"][\"test\"][[\"pestreg\",\"improved_drinkwater\",\"terrestprotect\",\"fwateruse\",\"fishstock\",\"airpollution\"]],\n    data[\"gove\"][\"test\"][[\"womenparl\",\"rlaw\",\"geff\",\"ticpi\",\"vapvt\",\"rqual\"]],\n    data[\"heal\"][\"test\"][[\"leb\",\"impsan\",\"imeas\",\"Obesity\",\"tblnl\",\"meandiabetes\"]],\n    data[\"pers\"][\"test\"][[\"propright\",\"lgbt_rights\",\"civlib\",\"rrgov\",\"rrsoc\",\"deathpen\"]],\n    data[\"safe\"][\"test\"][[\"tdeathslnl5\",\"bdeathslnl\",\"refugee_oriln\",\"warcasual\",\"pts\",\"homilnl\"]],\n    data[\"soci\"][\"test\"][[\"vtf\"]]\n],axis=1)\nX.head()",
      "execution_count": 9,
      "outputs": [
        {
          "output_type": "execute_result",
          "execution_count": 9,
          "data": {
            "application/vnd.deepnote.dataframe.v2+json": {
              "row_count": 5,
              "column_count": 49,
              "columns": [
                {
                  "name": "ippr",
                  "dtype": "float64",
                  "stats": {
                    "unique_count": 5,
                    "nan_count": 0,
                    "min": 2.2579146312994984,
                    "max": 5.475347957204798,
                    "histogram": [
                      {
                        "bin_start": 2.2579146312994984,
                        "bin_end": 2.5796579638900283,
                        "count": 3
                      },
                      {
                        "bin_start": 2.5796579638900283,
                        "bin_end": 2.9014012964805582,
                        "count": 1
                      },
                      {
                        "bin_start": 2.9014012964805582,
                        "bin_end": 3.2231446290710886,
                        "count": 0
                      },
                      {
                        "bin_start": 3.2231446290710886,
                        "bin_end": 3.5448879616616185,
                        "count": 0
                      },
                      {
                        "bin_start": 3.5448879616616185,
                        "bin_end": 3.8666312942521484,
                        "count": 0
                      },
                      {
                        "bin_start": 3.8666312942521484,
                        "bin_end": 4.188374626842679,
                        "count": 0
                      },
                      {
                        "bin_start": 4.188374626842679,
                        "bin_end": 4.510117959433209,
                        "count": 0
                      },
                      {
                        "bin_start": 4.510117959433209,
                        "bin_end": 4.8318612920237385,
                        "count": 0
                      },
                      {
                        "bin_start": 4.8318612920237385,
                        "bin_end": 5.153604624614268,
                        "count": 0
                      },
                      {
                        "bin_start": 5.153604624614268,
                        "bin_end": 5.475347957204798,
                        "count": 1
                      }
                    ]
                  }
                },
                {
                  "name": "logis",
                  "dtype": "float64",
                  "stats": {
                    "unique_count": 5,
                    "nan_count": 0,
                    "min": 2.069572925567627,
                    "max": 3.539098024368286,
                    "histogram": [
                      {
                        "bin_start": 2.069572925567627,
                        "bin_end": 2.216525435447693,
                        "count": 1
                      },
                      {
                        "bin_start": 2.216525435447693,
                        "bin_end": 2.363477945327759,
                        "count": 0
                      },
                      {
                        "bin_start": 2.363477945327759,
                        "bin_end": 2.5104304552078247,
                        "count": 0
                      },
                      {
                        "bin_start": 2.5104304552078247,
                        "bin_end": 2.6573829650878906,
                        "count": 1
                      },
                      {
                        "bin_start": 2.6573829650878906,
                        "bin_end": 2.8043354749679565,
                        "count": 1
                      },
                      {
                        "bin_start": 2.8043354749679565,
                        "bin_end": 2.9512879848480225,
                        "count": 0
                      },
                      {
                        "bin_start": 2.9512879848480225,
                        "bin_end": 3.0982404947280884,
                        "count": 1
                      },
                      {
                        "bin_start": 3.0982404947280884,
                        "bin_end": 3.2451930046081543,
                        "count": 0
                      },
                      {
                        "bin_start": 3.2451930046081543,
                        "bin_end": 3.39214551448822,
                        "count": 0
                      },
                      {
                        "bin_start": 3.39214551448822,
                        "bin_end": 3.539098024368286,
                        "count": 1
                      }
                    ]
                  }
                },
                {
                  "name": "affs",
                  "dtype": "float64",
                  "stats": {
                    "unique_count": 5,
                    "nan_count": 0,
                    "min": 2.923875484374149,
                    "max": 5.424748523398632,
                    "histogram": [
                      {
                        "bin_start": 2.923875484374149,
                        "bin_end": 3.1739627882765973,
                        "count": 1
                      },
                      {
                        "bin_start": 3.1739627882765973,
                        "bin_end": 3.4240500921790455,
                        "count": 1
                      },
                      {
                        "bin_start": 3.4240500921790455,
                        "bin_end": 3.674137396081494,
                        "count": 0
                      },
                      {
                        "bin_start": 3.674137396081494,
                        "bin_end": 3.9242246999839425,
                        "count": 2
                      },
                      {
                        "bin_start": 3.9242246999839425,
                        "bin_end": 4.17431200388639,
                        "count": 0
                      },
                      {
                        "bin_start": 4.17431200388639,
                        "bin_end": 4.424399307788839,
                        "count": 0
                      },
                      {
                        "bin_start": 4.424399307788839,
                        "bin_end": 4.674486611691288,
                        "count": 0
                      },
                      {
                        "bin_start": 4.674486611691288,
                        "bin_end": 4.924573915593736,
                        "count": 0
                      },
                      {
                        "bin_start": 4.924573915593736,
                        "bin_end": 5.174661219496183,
                        "count": 0
                      },
                      {
                        "bin_start": 5.174661219496183,
                        "bin_end": 5.424748523398632,
                        "count": 1
                      }
                    ]
                  }
                },
                {
                  "name": "bband",
                  "dtype": "float64",
                  "stats": {
                    "unique_count": 5,
                    "nan_count": 0,
                    "min": 0.0047953170724213,
                    "max": 15.573113441467283,
                    "histogram": [
                      {
                        "bin_start": 0.0047953170724213,
                        "bin_end": 1.5616271295119075,
                        "count": 2
                      },
                      {
                        "bin_start": 1.5616271295119075,
                        "bin_end": 3.1184589419513937,
                        "count": 0
                      },
                      {
                        "bin_start": 3.1184589419513937,
                        "bin_end": 4.67529075439088,
                        "count": 0
                      },
                      {
                        "bin_start": 4.67529075439088,
                        "bin_end": 6.232122566830366,
                        "count": 0
                      },
                      {
                        "bin_start": 6.232122566830366,
                        "bin_end": 7.788954379269852,
                        "count": 1
                      },
                      {
                        "bin_start": 7.788954379269852,
                        "bin_end": 9.345786191709339,
                        "count": 0
                      },
                      {
                        "bin_start": 9.345786191709339,
                        "bin_end": 10.902618004148824,
                        "count": 0
                      },
                      {
                        "bin_start": 10.902618004148824,
                        "bin_end": 12.459449816588311,
                        "count": 1
                      },
                      {
                        "bin_start": 12.459449816588311,
                        "bin_end": 14.016281629027798,
                        "count": 0
                      },
                      {
                        "bin_start": 14.016281629027798,
                        "bin_end": 15.573113441467283,
                        "count": 1
                      }
                    ]
                  }
                },
                {
                  "name": "redu",
                  "dtype": "float64",
                  "stats": {
                    "unique_count": 5,
                    "nan_count": 0,
                    "min": 4.285714285714286,
                    "max": 31.007936507936503,
                    "histogram": [
                      {
                        "bin_start": 4.285714285714286,
                        "bin_end": 6.957936507936507,
                        "count": 1
                      },
                      {
                        "bin_start": 6.957936507936507,
                        "bin_end": 9.63015873015873,
                        "count": 0
                      },
                      {
                        "bin_start": 9.63015873015873,
                        "bin_end": 12.30238095238095,
                        "count": 0
                      },
                      {
                        "bin_start": 12.30238095238095,
                        "bin_end": 14.974603174603171,
                        "count": 0
                      },
                      {
                        "bin_start": 14.974603174603171,
                        "bin_end": 17.646825396825392,
                        "count": 0
                      },
                      {
                        "bin_start": 17.646825396825392,
                        "bin_end": 20.319047619047616,
                        "count": 0
                      },
                      {
                        "bin_start": 20.319047619047616,
                        "bin_end": 22.991269841269837,
                        "count": 1
                      },
                      {
                        "bin_start": 22.991269841269837,
                        "bin_end": 25.663492063492058,
                        "count": 0
                      },
                      {
                        "bin_start": 25.663492063492058,
                        "bin_end": 28.33571428571428,
                        "count": 1
                      },
                      {
                        "bin_start": 28.33571428571428,
                        "bin_end": 31.007936507936503,
                        "count": 2
                      }
                    ]
                  }
                },
                {
                  "name": "elcostlnl",
                  "dtype": "float64",
                  "stats": {
                    "unique_count": 5,
                    "nan_count": 0,
                    "min": 3.1570003032684326,
                    "max": 8.151823043823242,
                    "histogram": [
                      {
                        "bin_start": 3.1570003032684326,
                        "bin_end": 3.6564825773239136,
                        "count": 2
                      },
                      {
                        "bin_start": 3.6564825773239136,
                        "bin_end": 4.1559648513793945,
                        "count": 0
                      },
                      {
                        "bin_start": 4.1559648513793945,
                        "bin_end": 4.6554471254348755,
                        "count": 0
                      },
                      {
                        "bin_start": 4.6554471254348755,
                        "bin_end": 5.1549293994903564,
                        "count": 0
                      },
                      {
                        "bin_start": 5.1549293994903564,
                        "bin_end": 5.654411673545837,
                        "count": 0
                      },
                      {
                        "bin_start": 5.654411673545837,
                        "bin_end": 6.153893947601318,
                        "count": 0
                      },
                      {
                        "bin_start": 6.153893947601318,
                        "bin_end": 6.653376221656799,
                        "count": 2
                      },
                      {
                        "bin_start": 6.653376221656799,
                        "bin_end": 7.15285849571228,
                        "count": 0
                      },
                      {
                        "bin_start": 7.15285849571228,
                        "bin_end": 7.652340769767761,
                        "count": 0
                      },
                      {
                        "bin_start": 7.652340769767761,
                        "bin_end": 8.151823043823242,
                        "count": 1
                      }
                    ]
                  }
                },
                {
                  "name": "gdp5",
                  "dtype": "float64",
                  "stats": {
                    "unique_count": 5,
                    "nan_count": 0,
                    "min": 0.0141311641782522,
                    "max": 0.0290821082890033,
                    "histogram": [
                      {
                        "bin_start": 0.0141311641782522,
                        "bin_end": 0.01562625858932731,
                        "count": 1
                      },
                      {
                        "bin_start": 0.01562625858932731,
                        "bin_end": 0.01712135300040242,
                        "count": 0
                      },
                      {
                        "bin_start": 0.01712135300040242,
                        "bin_end": 0.018616447411477527,
                        "count": 2
                      },
                      {
                        "bin_start": 0.018616447411477527,
                        "bin_end": 0.02011154182255264,
                        "count": 0
                      },
                      {
                        "bin_start": 0.02011154182255264,
                        "bin_end": 0.021606636233627748,
                        "count": 0
                      },
                      {
                        "bin_start": 0.021606636233627748,
                        "bin_end": 0.023101730644702858,
                        "count": 0
                      },
                      {
                        "bin_start": 0.023101730644702858,
                        "bin_end": 0.02459682505577797,
                        "count": 0
                      },
                      {
                        "bin_start": 0.02459682505577797,
                        "bin_end": 0.02609191946685308,
                        "count": 0
                      },
                      {
                        "bin_start": 0.02609191946685308,
                        "bin_end": 0.02758701387792819,
                        "count": 0
                      },
                      {
                        "bin_start": 0.02758701387792819,
                        "bin_end": 0.0290821082890033,
                        "count": 2
                      }
                    ]
                  }
                },
                {
                  "name": "eqi",
                  "dtype": "float64",
                  "stats": {
                    "unique_count": 5,
                    "nan_count": 0,
                    "min": 0.4344044923782348,
                    "max": 0.8899692893028259,
                    "histogram": [
                      {
                        "bin_start": 0.4344044923782348,
                        "bin_end": 0.47996097207069394,
                        "count": 1
                      },
                      {
                        "bin_start": 0.47996097207069394,
                        "bin_end": 0.525517451763153,
                        "count": 0
                      },
                      {
                        "bin_start": 0.525517451763153,
                        "bin_end": 0.5710739314556121,
                        "count": 0
                      },
                      {
                        "bin_start": 0.5710739314556121,
                        "bin_end": 0.6166304111480713,
                        "count": 0
                      },
                      {
                        "bin_start": 0.6166304111480713,
                        "bin_end": 0.6621868908405304,
                        "count": 0
                      },
                      {
                        "bin_start": 0.6621868908405304,
                        "bin_end": 0.7077433705329894,
                        "count": 0
                      },
                      {
                        "bin_start": 0.7077433705329894,
                        "bin_end": 0.7532998502254487,
                        "count": 1
                      },
                      {
                        "bin_start": 0.7532998502254487,
                        "bin_end": 0.7988563299179077,
                        "count": 2
                      },
                      {
                        "bin_start": 0.7988563299179077,
                        "bin_end": 0.8444128096103669,
                        "count": 0
                      },
                      {
                        "bin_start": 0.8444128096103669,
                        "bin_end": 0.8899692893028259,
                        "count": 1
                      }
                    ]
                  }
                },
                {
                  "name": "amp",
                  "dtype": "float64",
                  "stats": {
                    "unique_count": 5,
                    "nan_count": 0,
                    "min": 2.034871291870741,
                    "max": 5.2951909013352285,
                    "histogram": [
                      {
                        "bin_start": 2.034871291870741,
                        "bin_end": 2.3609032528171894,
                        "count": 1
                      },
                      {
                        "bin_start": 2.3609032528171894,
                        "bin_end": 2.6869352137636384,
                        "count": 0
                      },
                      {
                        "bin_start": 2.6869352137636384,
                        "bin_end": 3.012967174710087,
                        "count": 0
                      },
                      {
                        "bin_start": 3.012967174710087,
                        "bin_end": 3.338999135656536,
                        "count": 1
                      },
                      {
                        "bin_start": 3.338999135656536,
                        "bin_end": 3.6650310966029847,
                        "count": 2
                      },
                      {
                        "bin_start": 3.6650310966029847,
                        "bin_end": 3.9910630575494332,
                        "count": 0
                      },
                      {
                        "bin_start": 3.9910630575494332,
                        "bin_end": 4.317095018495882,
                        "count": 0
                      },
                      {
                        "bin_start": 4.317095018495882,
                        "bin_end": 4.64312697944233,
                        "count": 0
                      },
                      {
                        "bin_start": 4.64312697944233,
                        "bin_end": 4.9691589403887795,
                        "count": 0
                      },
                      {
                        "bin_start": 4.9691589403887795,
                        "bin_end": 5.2951909013352285,
                        "count": 1
                      }
                    ]
                  }
                },
                {
                  "name": "povdday",
                  "dtype": "float64",
                  "stats": {
                    "unique_count": 5,
                    "nan_count": 0,
                    "min": 0.023813996464014,
                    "max": 30.1299991607666,
                    "histogram": [
                      {
                        "bin_start": 0.023813996464014,
                        "bin_end": 3.0344325128942726,
                        "count": 3
                      },
                      {
                        "bin_start": 3.0344325128942726,
                        "bin_end": 6.045051029324531,
                        "count": 0
                      },
                      {
                        "bin_start": 6.045051029324531,
                        "bin_end": 9.055669545754789,
                        "count": 0
                      },
                      {
                        "bin_start": 9.055669545754789,
                        "bin_end": 12.066288062185048,
                        "count": 0
                      },
                      {
                        "bin_start": 12.066288062185048,
                        "bin_end": 15.076906578615308,
                        "count": 0
                      },
                      {
                        "bin_start": 15.076906578615308,
                        "bin_end": 18.087525095045564,
                        "count": 0
                      },
                      {
                        "bin_start": 18.087525095045564,
                        "bin_end": 21.098143611475823,
                        "count": 1
                      },
                      {
                        "bin_start": 21.098143611475823,
                        "bin_end": 24.108762127906083,
                        "count": 0
                      },
                      {
                        "bin_start": 24.108762127906083,
                        "bin_end": 27.119380644336342,
                        "count": 0
                      },
                      {
                        "bin_start": 27.119380644336342,
                        "bin_end": 30.1299991607666,
                        "count": 1
                      }
                    ]
                  }
                },
                {
                  "name": "urate",
                  "dtype": "float64",
                  "stats": {
                    "unique_count": 5,
                    "nan_count": 0,
                    "min": 3.5999999046325684,
                    "max": 16.100000381469727,
                    "histogram": [
                      {
                        "bin_start": 3.5999999046325684,
                        "bin_end": 4.849999952316284,
                        "count": 1
                      },
                      {
                        "bin_start": 4.849999952316284,
                        "bin_end": 6.1,
                        "count": 0
                      },
                      {
                        "bin_start": 6.1,
                        "bin_end": 7.350000047683716,
                        "count": 1
                      },
                      {
                        "bin_start": 7.350000047683716,
                        "bin_end": 8.600000095367431,
                        "count": 1
                      },
                      {
                        "bin_start": 8.600000095367431,
                        "bin_end": 9.850000143051147,
                        "count": 1
                      },
                      {
                        "bin_start": 9.850000143051147,
                        "bin_end": 11.100000190734864,
                        "count": 0
                      },
                      {
                        "bin_start": 11.100000190734864,
                        "bin_end": 12.350000238418579,
                        "count": 0
                      },
                      {
                        "bin_start": 12.350000238418579,
                        "bin_end": 13.600000286102295,
                        "count": 0
                      },
                      {
                        "bin_start": 13.600000286102295,
                        "bin_end": 14.850000333786012,
                        "count": 0
                      },
                      {
                        "bin_start": 14.850000333786012,
                        "bin_end": 16.100000381469727,
                        "count": 1
                      }
                    ]
                  }
                },
                {
                  "name": "edi",
                  "dtype": "float64",
                  "stats": {
                    "unique_count": 5,
                    "nan_count": 0,
                    "min": 2.3795299530029297,
                    "max": 6.336120128631592,
                    "histogram": [
                      {
                        "bin_start": 2.3795299530029297,
                        "bin_end": 2.7751889705657957,
                        "count": 2
                      },
                      {
                        "bin_start": 2.7751889705657957,
                        "bin_end": 3.170847988128662,
                        "count": 1
                      },
                      {
                        "bin_start": 3.170847988128662,
                        "bin_end": 3.5665070056915282,
                        "count": 0
                      },
                      {
                        "bin_start": 3.5665070056915282,
                        "bin_end": 3.9621660232543947,
                        "count": 1
                      },
                      {
                        "bin_start": 3.9621660232543947,
                        "bin_end": 4.357825040817261,
                        "count": 0
                      },
                      {
                        "bin_start": 4.357825040817261,
                        "bin_end": 4.753484058380127,
                        "count": 0
                      },
                      {
                        "bin_start": 4.753484058380127,
                        "bin_end": 5.149143075942993,
                        "count": 0
                      },
                      {
                        "bin_start": 5.149143075942993,
                        "bin_end": 5.54480209350586,
                        "count": 0
                      },
                      {
                        "bin_start": 5.54480209350586,
                        "bin_end": 5.940461111068725,
                        "count": 0
                      },
                      {
                        "bin_start": 5.940461111068725,
                        "bin_end": 6.336120128631592,
                        "count": 1
                      }
                    ]
                  }
                },
                {
                  "name": "qslnl",
                  "dtype": "float64",
                  "stats": {
                    "unique_count": 2,
                    "nan_count": 0,
                    "min": -7.178584575653076,
                    "max": -3.770851135253906,
                    "histogram": [
                      {
                        "bin_start": -7.178584575653076,
                        "bin_end": -6.837811231613159,
                        "count": 4
                      },
                      {
                        "bin_start": -6.837811231613159,
                        "bin_end": -6.497037887573242,
                        "count": 0
                      },
                      {
                        "bin_start": -6.497037887573242,
                        "bin_end": -6.156264543533325,
                        "count": 0
                      },
                      {
                        "bin_start": -6.156264543533325,
                        "bin_end": -5.815491199493408,
                        "count": 0
                      },
                      {
                        "bin_start": -5.815491199493408,
                        "bin_end": -5.474717855453491,
                        "count": 0
                      },
                      {
                        "bin_start": -5.474717855453491,
                        "bin_end": -5.133944511413574,
                        "count": 0
                      },
                      {
                        "bin_start": -5.133944511413574,
                        "bin_end": -4.793171167373657,
                        "count": 0
                      },
                      {
                        "bin_start": -4.793171167373657,
                        "bin_end": -4.45239782333374,
                        "count": 0
                      },
                      {
                        "bin_start": -4.45239782333374,
                        "bin_end": -4.111624479293823,
                        "count": 0
                      },
                      {
                        "bin_start": -4.111624479293823,
                        "bin_end": -3.770851135253906,
                        "count": 1
                      }
                    ]
                  }
                },
                {
                  "name": "teryrs",
                  "dtype": "float64",
                  "stats": {
                    "unique_count": 5,
                    "nan_count": 0,
                    "min": 0.050267219543457,
                    "max": 0.4585146903991699,
                    "histogram": [
                      {
                        "bin_start": 0.050267219543457,
                        "bin_end": 0.0910919666290283,
                        "count": 1
                      },
                      {
                        "bin_start": 0.0910919666290283,
                        "bin_end": 0.1319167137145996,
                        "count": 1
                      },
                      {
                        "bin_start": 0.1319167137145996,
                        "bin_end": 0.1727414608001709,
                        "count": 0
                      },
                      {
                        "bin_start": 0.1727414608001709,
                        "bin_end": 0.21356620788574218,
                        "count": 1
                      },
                      {
                        "bin_start": 0.21356620788574218,
                        "bin_end": 0.2543909549713135,
                        "count": 0
                      },
                      {
                        "bin_start": 0.2543909549713135,
                        "bin_end": 0.29521570205688474,
                        "count": 1
                      },
                      {
                        "bin_start": 0.29521570205688474,
                        "bin_end": 0.33604044914245607,
                        "count": 0
                      },
                      {
                        "bin_start": 0.33604044914245607,
                        "bin_end": 0.37686519622802733,
                        "count": 0
                      },
                      {
                        "bin_start": 0.37686519622802733,
                        "bin_end": 0.4176899433135986,
                        "count": 0
                      },
                      {
                        "bin_start": 0.4176899433135986,
                        "bin_end": 0.4585146903991699,
                        "count": 1
                      }
                    ]
                  }
                },
                {
                  "name": "secyrs",
                  "dtype": "float64",
                  "stats": {
                    "unique_count": 5,
                    "nan_count": 0,
                    "min": 0.9981070160865784,
                    "max": 3.531860828399658,
                    "histogram": [
                      {
                        "bin_start": 0.9981070160865784,
                        "bin_end": 1.2514823973178864,
                        "count": 1
                      },
                      {
                        "bin_start": 1.2514823973178864,
                        "bin_end": 1.5048577785491943,
                        "count": 0
                      },
                      {
                        "bin_start": 1.5048577785491943,
                        "bin_end": 1.7582331597805023,
                        "count": 0
                      },
                      {
                        "bin_start": 1.7582331597805023,
                        "bin_end": 2.0116085410118103,
                        "count": 1
                      },
                      {
                        "bin_start": 2.0116085410118103,
                        "bin_end": 2.2649839222431183,
                        "count": 0
                      },
                      {
                        "bin_start": 2.2649839222431183,
                        "bin_end": 2.5183593034744263,
                        "count": 0
                      },
                      {
                        "bin_start": 2.5183593034744263,
                        "bin_end": 2.7717346847057343,
                        "count": 1
                      },
                      {
                        "bin_start": 2.7717346847057343,
                        "bin_end": 3.0251100659370422,
                        "count": 0
                      },
                      {
                        "bin_start": 3.0251100659370422,
                        "bin_end": 3.27848544716835,
                        "count": 0
                      },
                      {
                        "bin_start": 3.27848544716835,
                        "bin_end": 3.531860828399658,
                        "count": 2
                      }
                    ]
                  }
                },
                {
                  "name": "edqualsc",
                  "dtype": "float64",
                  "stats": {
                    "unique_count": 5,
                    "nan_count": 0,
                    "min": 280.8026733398437,
                    "max": 480.82952880859375,
                    "histogram": [
                      {
                        "bin_start": 280.8026733398437,
                        "bin_end": 300.8053588867187,
                        "count": 1
                      },
                      {
                        "bin_start": 300.8053588867187,
                        "bin_end": 320.8080444335937,
                        "count": 0
                      },
                      {
                        "bin_start": 320.8080444335937,
                        "bin_end": 340.8107299804687,
                        "count": 1
                      },
                      {
                        "bin_start": 340.8107299804687,
                        "bin_end": 360.81341552734375,
                        "count": 0
                      },
                      {
                        "bin_start": 360.81341552734375,
                        "bin_end": 380.81610107421875,
                        "count": 0
                      },
                      {
                        "bin_start": 380.81610107421875,
                        "bin_end": 400.81878662109375,
                        "count": 0
                      },
                      {
                        "bin_start": 400.81878662109375,
                        "bin_end": 420.82147216796875,
                        "count": 0
                      },
                      {
                        "bin_start": 420.82147216796875,
                        "bin_end": 440.82415771484375,
                        "count": 2
                      },
                      {
                        "bin_start": 440.82415771484375,
                        "bin_end": 460.82684326171875,
                        "count": 0
                      },
                      {
                        "bin_start": 460.82684326171875,
                        "bin_end": 480.82952880859375,
                        "count": 1
                      }
                    ]
                  }
                },
                {
                  "name": "Ginih15",
                  "dtype": "float64",
                  "stats": {
                    "unique_count": 5,
                    "nan_count": 0,
                    "min": 0.0562517298508917,
                    "max": 0.6255299451204963,
                    "histogram": [
                      {
                        "bin_start": 0.0562517298508917,
                        "bin_end": 0.11317955137785216,
                        "count": 1
                      },
                      {
                        "bin_start": 0.11317955137785216,
                        "bin_end": 0.17010737290481262,
                        "count": 1
                      },
                      {
                        "bin_start": 0.17010737290481262,
                        "bin_end": 0.22703519443177309,
                        "count": 1
                      },
                      {
                        "bin_start": 0.22703519443177309,
                        "bin_end": 0.2839630159587336,
                        "count": 0
                      },
                      {
                        "bin_start": 0.2839630159587336,
                        "bin_end": 0.34089083748569404,
                        "count": 0
                      },
                      {
                        "bin_start": 0.34089083748569404,
                        "bin_end": 0.3978186590126545,
                        "count": 0
                      },
                      {
                        "bin_start": 0.3978186590126545,
                        "bin_end": 0.454746480539615,
                        "count": 0
                      },
                      {
                        "bin_start": 0.454746480539615,
                        "bin_end": 0.5116743020665754,
                        "count": 1
                      },
                      {
                        "bin_start": 0.5116743020665754,
                        "bin_end": 0.5686021235935358,
                        "count": 0
                      },
                      {
                        "bin_start": 0.5686021235935358,
                        "bin_end": 0.6255299451204963,
                        "count": 1
                      }
                    ]
                  }
                },
                {
                  "name": "gbrata",
                  "dtype": "float64",
                  "stats": {
                    "unique_count": 5,
                    "nan_count": 0,
                    "min": 0.030079960823059,
                    "max": 0.3604999780654907,
                    "histogram": [
                      {
                        "bin_start": 0.030079960823059,
                        "bin_end": 0.06312196254730218,
                        "count": 3
                      },
                      {
                        "bin_start": 0.06312196254730218,
                        "bin_end": 0.09616396427154535,
                        "count": 0
                      },
                      {
                        "bin_start": 0.09616396427154535,
                        "bin_end": 0.1292059659957885,
                        "count": 0
                      },
                      {
                        "bin_start": 0.1292059659957885,
                        "bin_end": 0.1622479677200317,
                        "count": 0
                      },
                      {
                        "bin_start": 0.1622479677200317,
                        "bin_end": 0.19528996944427487,
                        "count": 0
                      },
                      {
                        "bin_start": 0.19528996944427487,
                        "bin_end": 0.22833197116851803,
                        "count": 0
                      },
                      {
                        "bin_start": 0.22833197116851803,
                        "bin_end": 0.2613739728927612,
                        "count": 0
                      },
                      {
                        "bin_start": 0.2613739728927612,
                        "bin_end": 0.2944159746170044,
                        "count": 0
                      },
                      {
                        "bin_start": 0.2944159746170044,
                        "bin_end": 0.3274579763412475,
                        "count": 0
                      },
                      {
                        "bin_start": 0.3274579763412475,
                        "bin_end": 0.3604999780654907,
                        "count": 2
                      }
                    ]
                  }
                },
                {
                  "name": "pestreg",
                  "dtype": "int64",
                  "stats": {
                    "unique_count": 4,
                    "nan_count": 0,
                    "min": 0,
                    "max": 23,
                    "histogram": [
                      {
                        "bin_start": 0,
                        "bin_end": 2.3,
                        "count": 1
                      },
                      {
                        "bin_start": 2.3,
                        "bin_end": 4.6,
                        "count": 1
                      },
                      {
                        "bin_start": 4.6,
                        "bin_end": 6.8999999999999995,
                        "count": 1
                      },
                      {
                        "bin_start": 6.8999999999999995,
                        "bin_end": 9.2,
                        "count": 0
                      },
                      {
                        "bin_start": 9.2,
                        "bin_end": 11.5,
                        "count": 0
                      },
                      {
                        "bin_start": 11.5,
                        "bin_end": 13.799999999999999,
                        "count": 0
                      },
                      {
                        "bin_start": 13.799999999999999,
                        "bin_end": 16.099999999999998,
                        "count": 0
                      },
                      {
                        "bin_start": 16.099999999999998,
                        "bin_end": 18.4,
                        "count": 0
                      },
                      {
                        "bin_start": 18.4,
                        "bin_end": 20.7,
                        "count": 0
                      },
                      {
                        "bin_start": 20.7,
                        "bin_end": 23,
                        "count": 2
                      }
                    ]
                  }
                },
                {
                  "name": "improved_drinkwater",
                  "dtype": "float64",
                  "stats": {
                    "unique_count": 5,
                    "nan_count": 0,
                    "min": 49,
                    "max": 99.6,
                    "histogram": [
                      {
                        "bin_start": 49,
                        "bin_end": 54.06,
                        "count": 1
                      },
                      {
                        "bin_start": 54.06,
                        "bin_end": 59.12,
                        "count": 1
                      },
                      {
                        "bin_start": 59.12,
                        "bin_end": 64.18,
                        "count": 0
                      },
                      {
                        "bin_start": 64.18,
                        "bin_end": 69.24,
                        "count": 0
                      },
                      {
                        "bin_start": 69.24,
                        "bin_end": 74.3,
                        "count": 0
                      },
                      {
                        "bin_start": 74.3,
                        "bin_end": 79.36,
                        "count": 0
                      },
                      {
                        "bin_start": 79.36,
                        "bin_end": 84.41999999999999,
                        "count": 0
                      },
                      {
                        "bin_start": 84.41999999999999,
                        "bin_end": 89.47999999999999,
                        "count": 0
                      },
                      {
                        "bin_start": 89.47999999999999,
                        "bin_end": 94.53999999999999,
                        "count": 0
                      },
                      {
                        "bin_start": 94.53999999999999,
                        "bin_end": 99.6,
                        "count": 3
                      }
                    ]
                  }
                },
                {
                  "name": "terrestprotect",
                  "dtype": "float64",
                  "stats": {
                    "unique_count": 5,
                    "nan_count": 0,
                    "min": 0.372007569594875,
                    "max": 18.1483213393048,
                    "histogram": [
                      {
                        "bin_start": 0.372007569594875,
                        "bin_end": 2.149638946565868,
                        "count": 1
                      },
                      {
                        "bin_start": 2.149638946565868,
                        "bin_end": 3.9272703235368605,
                        "count": 0
                      },
                      {
                        "bin_start": 3.9272703235368605,
                        "bin_end": 5.704901700507853,
                        "count": 0
                      },
                      {
                        "bin_start": 5.704901700507853,
                        "bin_end": 7.482533077478846,
                        "count": 1
                      },
                      {
                        "bin_start": 7.482533077478846,
                        "bin_end": 9.260164454449837,
                        "count": 0
                      },
                      {
                        "bin_start": 9.260164454449837,
                        "bin_end": 11.03779583142083,
                        "count": 1
                      },
                      {
                        "bin_start": 11.03779583142083,
                        "bin_end": 12.815427208391823,
                        "count": 1
                      },
                      {
                        "bin_start": 12.815427208391823,
                        "bin_end": 14.593058585362815,
                        "count": 0
                      },
                      {
                        "bin_start": 14.593058585362815,
                        "bin_end": 16.37068996233381,
                        "count": 0
                      },
                      {
                        "bin_start": 16.37068996233381,
                        "bin_end": 18.1483213393048,
                        "count": 1
                      }
                    ]
                  }
                },
                {
                  "name": "fwateruse",
                  "dtype": "float64",
                  "stats": {
                    "unique_count": 5,
                    "nan_count": 0,
                    "min": 0.476891891891892,
                    "max": 100,
                    "histogram": [
                      {
                        "bin_start": 0.476891891891892,
                        "bin_end": 10.429202702702703,
                        "count": 2
                      },
                      {
                        "bin_start": 10.429202702702703,
                        "bin_end": 20.381513513513514,
                        "count": 1
                      },
                      {
                        "bin_start": 20.381513513513514,
                        "bin_end": 30.333824324324326,
                        "count": 0
                      },
                      {
                        "bin_start": 30.333824324324326,
                        "bin_end": 40.28613513513513,
                        "count": 0
                      },
                      {
                        "bin_start": 40.28613513513513,
                        "bin_end": 50.23844594594595,
                        "count": 1
                      },
                      {
                        "bin_start": 50.23844594594595,
                        "bin_end": 60.190756756756755,
                        "count": 0
                      },
                      {
                        "bin_start": 60.190756756756755,
                        "bin_end": 70.14306756756757,
                        "count": 0
                      },
                      {
                        "bin_start": 70.14306756756757,
                        "bin_end": 80.09537837837838,
                        "count": 0
                      },
                      {
                        "bin_start": 80.09537837837838,
                        "bin_end": 90.0476891891892,
                        "count": 0
                      },
                      {
                        "bin_start": 90.0476891891892,
                        "bin_end": 100,
                        "count": 1
                      }
                    ]
                  }
                },
                {
                  "name": "fishstock",
                  "dtype": "float64",
                  "stats": {
                    "unique_count": 5,
                    "nan_count": 0,
                    "min": 5.69,
                    "max": 49.36,
                    "histogram": [
                      {
                        "bin_start": 5.69,
                        "bin_end": 10.057,
                        "count": 1
                      },
                      {
                        "bin_start": 10.057,
                        "bin_end": 14.424,
                        "count": 0
                      },
                      {
                        "bin_start": 14.424,
                        "bin_end": 18.791,
                        "count": 0
                      },
                      {
                        "bin_start": 18.791,
                        "bin_end": 23.158,
                        "count": 0
                      },
                      {
                        "bin_start": 23.158,
                        "bin_end": 27.525000000000002,
                        "count": 0
                      },
                      {
                        "bin_start": 27.525000000000002,
                        "bin_end": 31.892,
                        "count": 1
                      },
                      {
                        "bin_start": 31.892,
                        "bin_end": 36.259,
                        "count": 1
                      },
                      {
                        "bin_start": 36.259,
                        "bin_end": 40.626,
                        "count": 1
                      },
                      {
                        "bin_start": 40.626,
                        "bin_end": 44.992999999999995,
                        "count": 0
                      },
                      {
                        "bin_start": 44.992999999999995,
                        "bin_end": 49.36,
                        "count": 1
                      }
                    ]
                  }
                },
                {
                  "name": "airpollution",
                  "dtype": "float64",
                  "stats": {
                    "unique_count": 5,
                    "nan_count": 0,
                    "min": 0.0025,
                    "max": 0.2175,
                    "histogram": [
                      {
                        "bin_start": 0.0025,
                        "bin_end": 0.023999999999999997,
                        "count": 1
                      },
                      {
                        "bin_start": 0.023999999999999997,
                        "bin_end": 0.0455,
                        "count": 1
                      },
                      {
                        "bin_start": 0.0455,
                        "bin_end": 0.067,
                        "count": 0
                      },
                      {
                        "bin_start": 0.067,
                        "bin_end": 0.0885,
                        "count": 0
                      },
                      {
                        "bin_start": 0.0885,
                        "bin_end": 0.10999999999999999,
                        "count": 0
                      },
                      {
                        "bin_start": 0.10999999999999999,
                        "bin_end": 0.1315,
                        "count": 0
                      },
                      {
                        "bin_start": 0.1315,
                        "bin_end": 0.153,
                        "count": 1
                      },
                      {
                        "bin_start": 0.153,
                        "bin_end": 0.1745,
                        "count": 1
                      },
                      {
                        "bin_start": 0.1745,
                        "bin_end": 0.19599999999999998,
                        "count": 0
                      },
                      {
                        "bin_start": 0.19599999999999998,
                        "bin_end": 0.2175,
                        "count": 1
                      }
                    ]
                  }
                },
                {
                  "name": "womenparl",
                  "dtype": "float64",
                  "stats": {
                    "unique_count": 5,
                    "nan_count": 0,
                    "min": 0.175,
                    "max": 0.368,
                    "histogram": [
                      {
                        "bin_start": 0.175,
                        "bin_end": 0.1943,
                        "count": 1
                      },
                      {
                        "bin_start": 0.1943,
                        "bin_end": 0.21359999999999998,
                        "count": 1
                      },
                      {
                        "bin_start": 0.21359999999999998,
                        "bin_end": 0.2329,
                        "count": 0
                      },
                      {
                        "bin_start": 0.2329,
                        "bin_end": 0.2522,
                        "count": 0
                      },
                      {
                        "bin_start": 0.2522,
                        "bin_end": 0.27149999999999996,
                        "count": 0
                      },
                      {
                        "bin_start": 0.27149999999999996,
                        "bin_end": 0.2908,
                        "count": 1
                      },
                      {
                        "bin_start": 0.2908,
                        "bin_end": 0.3101,
                        "count": 0
                      },
                      {
                        "bin_start": 0.3101,
                        "bin_end": 0.3294,
                        "count": 0
                      },
                      {
                        "bin_start": 0.3294,
                        "bin_end": 0.3487,
                        "count": 0
                      },
                      {
                        "bin_start": 0.3487,
                        "bin_end": 0.368,
                        "count": 2
                      }
                    ]
                  }
                },
                {
                  "name": "rlaw",
                  "dtype": "float64",
                  "stats": {
                    "unique_count": 5,
                    "nan_count": 0,
                    "min": -1.5337554216384888,
                    "max": 0.7107052803039551,
                    "histogram": [
                      {
                        "bin_start": -1.5337554216384888,
                        "bin_end": -1.3093093514442444,
                        "count": 1
                      },
                      {
                        "bin_start": -1.3093093514442444,
                        "bin_end": -1.08486328125,
                        "count": 1
                      },
                      {
                        "bin_start": -1.08486328125,
                        "bin_end": -0.8604172110557555,
                        "count": 1
                      },
                      {
                        "bin_start": -0.8604172110557555,
                        "bin_end": -0.6359711408615112,
                        "count": 0
                      },
                      {
                        "bin_start": -0.6359711408615112,
                        "bin_end": -0.41152507066726685,
                        "count": 0
                      },
                      {
                        "bin_start": -0.41152507066726685,
                        "bin_end": -0.18707900047302228,
                        "count": 1
                      },
                      {
                        "bin_start": -0.18707900047302228,
                        "bin_end": 0.03736706972122206,
                        "count": 0
                      },
                      {
                        "bin_start": 0.03736706972122206,
                        "bin_end": 0.2618131399154664,
                        "count": 0
                      },
                      {
                        "bin_start": 0.2618131399154664,
                        "bin_end": 0.48625921010971096,
                        "count": 0
                      },
                      {
                        "bin_start": 0.48625921010971096,
                        "bin_end": 0.7107052803039551,
                        "count": 1
                      }
                    ]
                  }
                },
                {
                  "name": "geff",
                  "dtype": "float64",
                  "stats": {
                    "unique_count": 5,
                    "nan_count": 0,
                    "min": -1.3441206216812134,
                    "max": 1.4772849082946775,
                    "histogram": [
                      {
                        "bin_start": -1.3441206216812134,
                        "bin_end": -1.0619800686836243,
                        "count": 2
                      },
                      {
                        "bin_start": -1.0619800686836243,
                        "bin_end": -0.7798395156860352,
                        "count": 0
                      },
                      {
                        "bin_start": -0.7798395156860352,
                        "bin_end": -0.49769896268844604,
                        "count": 0
                      },
                      {
                        "bin_start": -0.49769896268844604,
                        "bin_end": -0.21555840969085693,
                        "count": 0
                      },
                      {
                        "bin_start": -0.21555840969085693,
                        "bin_end": 0.06658214330673218,
                        "count": 2
                      },
                      {
                        "bin_start": 0.06658214330673218,
                        "bin_end": 0.3487226963043213,
                        "count": 0
                      },
                      {
                        "bin_start": 0.3487226963043213,
                        "bin_end": 0.6308632493019104,
                        "count": 0
                      },
                      {
                        "bin_start": 0.6308632493019104,
                        "bin_end": 0.9130038022994995,
                        "count": 0
                      },
                      {
                        "bin_start": 0.9130038022994995,
                        "bin_end": 1.1951443552970886,
                        "count": 0
                      },
                      {
                        "bin_start": 1.1951443552970886,
                        "bin_end": 1.4772849082946775,
                        "count": 1
                      }
                    ]
                  }
                },
                {
                  "name": "ticpi",
                  "dtype": "float64",
                  "stats": {
                    "unique_count": 5,
                    "nan_count": 0,
                    "min": 11,
                    "max": 70,
                    "histogram": [
                      {
                        "bin_start": 11,
                        "bin_end": 16.9,
                        "count": 2
                      },
                      {
                        "bin_start": 16.9,
                        "bin_end": 22.8,
                        "count": 0
                      },
                      {
                        "bin_start": 22.8,
                        "bin_end": 28.700000000000003,
                        "count": 0
                      },
                      {
                        "bin_start": 28.700000000000003,
                        "bin_end": 34.6,
                        "count": 1
                      },
                      {
                        "bin_start": 34.6,
                        "bin_end": 40.5,
                        "count": 1
                      },
                      {
                        "bin_start": 40.5,
                        "bin_end": 46.400000000000006,
                        "count": 0
                      },
                      {
                        "bin_start": 46.400000000000006,
                        "bin_end": 52.300000000000004,
                        "count": 0
                      },
                      {
                        "bin_start": 52.300000000000004,
                        "bin_end": 58.2,
                        "count": 0
                      },
                      {
                        "bin_start": 58.2,
                        "bin_end": 64.1,
                        "count": 0
                      },
                      {
                        "bin_start": 64.1,
                        "bin_end": 70,
                        "count": 1
                      }
                    ]
                  }
                },
                {
                  "name": "vapvt",
                  "dtype": "float64",
                  "stats": {
                    "unique_count": 5,
                    "nan_count": 0,
                    "min": 0,
                    "max": 81.41000366210938,
                    "histogram": [
                      {
                        "bin_start": 0,
                        "bin_end": 8.141000366210937,
                        "count": 1
                      },
                      {
                        "bin_start": 8.141000366210937,
                        "bin_end": 16.282000732421874,
                        "count": 0
                      },
                      {
                        "bin_start": 16.282000732421874,
                        "bin_end": 24.42300109863281,
                        "count": 0
                      },
                      {
                        "bin_start": 24.42300109863281,
                        "bin_end": 32.56400146484375,
                        "count": 1
                      },
                      {
                        "bin_start": 32.56400146484375,
                        "bin_end": 40.70500183105469,
                        "count": 0
                      },
                      {
                        "bin_start": 40.70500183105469,
                        "bin_end": 48.84600219726562,
                        "count": 0
                      },
                      {
                        "bin_start": 48.84600219726562,
                        "bin_end": 56.98700256347656,
                        "count": 0
                      },
                      {
                        "bin_start": 56.98700256347656,
                        "bin_end": 65.1280029296875,
                        "count": 0
                      },
                      {
                        "bin_start": 65.1280029296875,
                        "bin_end": 73.26900329589843,
                        "count": 1
                      },
                      {
                        "bin_start": 73.26900329589843,
                        "bin_end": 81.41000366210938,
                        "count": 2
                      }
                    ]
                  }
                },
                {
                  "name": "rqual",
                  "dtype": "float64",
                  "stats": {
                    "unique_count": 5,
                    "nan_count": 0,
                    "min": -1.12695050239563,
                    "max": 0.9772903919219972,
                    "histogram": [
                      {
                        "bin_start": -1.12695050239563,
                        "bin_end": -0.9165264129638674,
                        "count": 3
                      },
                      {
                        "bin_start": -0.9165264129638674,
                        "bin_end": -0.7061023235321047,
                        "count": 0
                      },
                      {
                        "bin_start": -0.7061023235321047,
                        "bin_end": -0.49567823410034184,
                        "count": 0
                      },
                      {
                        "bin_start": -0.49567823410034184,
                        "bin_end": -0.2852541446685791,
                        "count": 0
                      },
                      {
                        "bin_start": -0.2852541446685791,
                        "bin_end": -0.0748300552368164,
                        "count": 0
                      },
                      {
                        "bin_start": -0.0748300552368164,
                        "bin_end": 0.13559403419494642,
                        "count": 0
                      },
                      {
                        "bin_start": 0.13559403419494642,
                        "bin_end": 0.34601812362670903,
                        "count": 1
                      },
                      {
                        "bin_start": 0.34601812362670903,
                        "bin_end": 0.5564422130584719,
                        "count": 0
                      },
                      {
                        "bin_start": 0.5564422130584719,
                        "bin_end": 0.7668663024902347,
                        "count": 0
                      },
                      {
                        "bin_start": 0.7668663024902347,
                        "bin_end": 0.9772903919219972,
                        "count": 1
                      }
                    ]
                  }
                },
                {
                  "name": "leb",
                  "dtype": "float64",
                  "stats": {
                    "unique_count": 5,
                    "nan_count": 0,
                    "min": 52.66609756097561,
                    "max": 78.01446341463416,
                    "histogram": [
                      {
                        "bin_start": 52.66609756097561,
                        "bin_end": 55.20093414634147,
                        "count": 1
                      },
                      {
                        "bin_start": 55.20093414634147,
                        "bin_end": 57.73577073170732,
                        "count": 0
                      },
                      {
                        "bin_start": 57.73577073170732,
                        "bin_end": 60.27060731707317,
                        "count": 0
                      },
                      {
                        "bin_start": 60.27060731707317,
                        "bin_end": 62.80544390243903,
                        "count": 1
                      },
                      {
                        "bin_start": 62.80544390243903,
                        "bin_end": 65.34028048780489,
                        "count": 0
                      },
                      {
                        "bin_start": 65.34028048780489,
                        "bin_end": 67.87511707317074,
                        "count": 0
                      },
                      {
                        "bin_start": 67.87511707317074,
                        "bin_end": 70.4099536585366,
                        "count": 0
                      },
                      {
                        "bin_start": 70.4099536585366,
                        "bin_end": 72.94479024390245,
                        "count": 0
                      },
                      {
                        "bin_start": 72.94479024390245,
                        "bin_end": 75.47962682926831,
                        "count": 0
                      },
                      {
                        "bin_start": 75.47962682926831,
                        "bin_end": 78.01446341463416,
                        "count": 3
                      }
                    ]
                  }
                },
                {
                  "name": "impsan",
                  "dtype": "float64",
                  "stats": {
                    "unique_count": 5,
                    "nan_count": 0,
                    "min": 31.9,
                    "max": 97.6,
                    "histogram": [
                      {
                        "bin_start": 31.9,
                        "bin_end": 38.47,
                        "count": 1
                      },
                      {
                        "bin_start": 38.47,
                        "bin_end": 45.03999999999999,
                        "count": 0
                      },
                      {
                        "bin_start": 45.03999999999999,
                        "bin_end": 51.60999999999999,
                        "count": 1
                      },
                      {
                        "bin_start": 51.60999999999999,
                        "bin_end": 58.17999999999999,
                        "count": 0
                      },
                      {
                        "bin_start": 58.17999999999999,
                        "bin_end": 64.75,
                        "count": 0
                      },
                      {
                        "bin_start": 64.75,
                        "bin_end": 71.32,
                        "count": 0
                      },
                      {
                        "bin_start": 71.32,
                        "bin_end": 77.88999999999999,
                        "count": 0
                      },
                      {
                        "bin_start": 77.88999999999999,
                        "bin_end": 84.45999999999998,
                        "count": 0
                      },
                      {
                        "bin_start": 84.45999999999998,
                        "bin_end": 91.02999999999999,
                        "count": 0
                      },
                      {
                        "bin_start": 91.02999999999999,
                        "bin_end": 97.6,
                        "count": 3
                      }
                    ]
                  }
                },
                {
                  "name": "imeas",
                  "dtype": "int64",
                  "stats": {
                    "unique_count": 5,
                    "nan_count": 0,
                    "min": 66,
                    "max": 98,
                    "histogram": [
                      {
                        "bin_start": 66,
                        "bin_end": 69.2,
                        "count": 1
                      },
                      {
                        "bin_start": 69.2,
                        "bin_end": 72.4,
                        "count": 0
                      },
                      {
                        "bin_start": 72.4,
                        "bin_end": 75.6,
                        "count": 0
                      },
                      {
                        "bin_start": 75.6,
                        "bin_end": 78.8,
                        "count": 0
                      },
                      {
                        "bin_start": 78.8,
                        "bin_end": 82,
                        "count": 0
                      },
                      {
                        "bin_start": 82,
                        "bin_end": 85.2,
                        "count": 1
                      },
                      {
                        "bin_start": 85.2,
                        "bin_end": 88.4,
                        "count": 0
                      },
                      {
                        "bin_start": 88.4,
                        "bin_end": 91.6,
                        "count": 0
                      },
                      {
                        "bin_start": 91.6,
                        "bin_end": 94.8,
                        "count": 1
                      },
                      {
                        "bin_start": 94.8,
                        "bin_end": 98,
                        "count": 2
                      }
                    ]
                  }
                },
                {
                  "name": "Obesity",
                  "dtype": "float64",
                  "stats": {
                    "unique_count": 5,
                    "nan_count": 0,
                    "min": 2.9,
                    "max": 37.2,
                    "histogram": [
                      {
                        "bin_start": 2.9,
                        "bin_end": 6.33,
                        "count": 1
                      },
                      {
                        "bin_start": 6.33,
                        "bin_end": 9.760000000000002,
                        "count": 0
                      },
                      {
                        "bin_start": 9.760000000000002,
                        "bin_end": 13.190000000000003,
                        "count": 1
                      },
                      {
                        "bin_start": 13.190000000000003,
                        "bin_end": 16.62,
                        "count": 0
                      },
                      {
                        "bin_start": 16.62,
                        "bin_end": 20.05,
                        "count": 1
                      },
                      {
                        "bin_start": 20.05,
                        "bin_end": 23.480000000000004,
                        "count": 0
                      },
                      {
                        "bin_start": 23.480000000000004,
                        "bin_end": 26.910000000000004,
                        "count": 1
                      },
                      {
                        "bin_start": 26.910000000000004,
                        "bin_end": 30.340000000000003,
                        "count": 0
                      },
                      {
                        "bin_start": 30.340000000000003,
                        "bin_end": 33.77,
                        "count": 0
                      },
                      {
                        "bin_start": 33.77,
                        "bin_end": 37.2,
                        "count": 1
                      }
                    ]
                  }
                },
                {
                  "name": "tblnl",
                  "dtype": "float64",
                  "stats": {
                    "unique_count": 5,
                    "nan_count": 0,
                    "min": -2.3025851249694824,
                    "max": 3.485908508300781,
                    "histogram": [
                      {
                        "bin_start": -2.3025851249694824,
                        "bin_end": -1.723735761642456,
                        "count": 1
                      },
                      {
                        "bin_start": -1.723735761642456,
                        "bin_end": -1.1448863983154296,
                        "count": 0
                      },
                      {
                        "bin_start": -1.1448863983154296,
                        "bin_end": -0.5660370349884032,
                        "count": 0
                      },
                      {
                        "bin_start": -0.5660370349884032,
                        "bin_end": 0.012812328338623225,
                        "count": 0
                      },
                      {
                        "bin_start": 0.012812328338623225,
                        "bin_end": 0.5916616916656494,
                        "count": 2
                      },
                      {
                        "bin_start": 0.5916616916656494,
                        "bin_end": 1.170511054992676,
                        "count": 0
                      },
                      {
                        "bin_start": 1.170511054992676,
                        "bin_end": 1.7493604183197027,
                        "count": 0
                      },
                      {
                        "bin_start": 1.7493604183197027,
                        "bin_end": 2.328209781646729,
                        "count": 0
                      },
                      {
                        "bin_start": 2.328209781646729,
                        "bin_end": 2.907059144973755,
                        "count": 0
                      },
                      {
                        "bin_start": 2.907059144973755,
                        "bin_end": 3.485908508300781,
                        "count": 2
                      }
                    ]
                  }
                },
                {
                  "name": "meandiabetes",
                  "dtype": "float64",
                  "stats": {
                    "unique_count": 5,
                    "nan_count": 0,
                    "min": 3.3,
                    "max": 14.6,
                    "histogram": [
                      {
                        "bin_start": 3.3,
                        "bin_end": 4.43,
                        "count": 1
                      },
                      {
                        "bin_start": 4.43,
                        "bin_end": 5.5600000000000005,
                        "count": 0
                      },
                      {
                        "bin_start": 5.5600000000000005,
                        "bin_end": 6.69,
                        "count": 2
                      },
                      {
                        "bin_start": 6.69,
                        "bin_end": 7.82,
                        "count": 0
                      },
                      {
                        "bin_start": 7.82,
                        "bin_end": 8.95,
                        "count": 0
                      },
                      {
                        "bin_start": 8.95,
                        "bin_end": 10.080000000000002,
                        "count": 0
                      },
                      {
                        "bin_start": 10.080000000000002,
                        "bin_end": 11.21,
                        "count": 0
                      },
                      {
                        "bin_start": 11.21,
                        "bin_end": 12.34,
                        "count": 1
                      },
                      {
                        "bin_start": 12.34,
                        "bin_end": 13.470000000000002,
                        "count": 0
                      },
                      {
                        "bin_start": 13.470000000000002,
                        "bin_end": 14.6,
                        "count": 1
                      }
                    ]
                  }
                },
                {
                  "name": "propright",
                  "dtype": "int64",
                  "stats": {
                    "unique_count": 2,
                    "nan_count": 0,
                    "min": 0,
                    "max": 1,
                    "histogram": [
                      {
                        "bin_start": 0,
                        "bin_end": 0.1,
                        "count": 1
                      },
                      {
                        "bin_start": 0.1,
                        "bin_end": 0.2,
                        "count": 0
                      },
                      {
                        "bin_start": 0.2,
                        "bin_end": 0.30000000000000004,
                        "count": 0
                      },
                      {
                        "bin_start": 0.30000000000000004,
                        "bin_end": 0.4,
                        "count": 0
                      },
                      {
                        "bin_start": 0.4,
                        "bin_end": 0.5,
                        "count": 0
                      },
                      {
                        "bin_start": 0.5,
                        "bin_end": 0.6000000000000001,
                        "count": 0
                      },
                      {
                        "bin_start": 0.6000000000000001,
                        "bin_end": 0.7000000000000001,
                        "count": 0
                      },
                      {
                        "bin_start": 0.7000000000000001,
                        "bin_end": 0.8,
                        "count": 0
                      },
                      {
                        "bin_start": 0.8,
                        "bin_end": 0.9,
                        "count": 0
                      },
                      {
                        "bin_start": 0.9,
                        "bin_end": 1,
                        "count": 4
                      }
                    ]
                  }
                },
                {
                  "name": "lgbt_rights",
                  "dtype": "int64",
                  "stats": {
                    "unique_count": 3,
                    "nan_count": 0,
                    "min": 0,
                    "max": 3,
                    "histogram": [
                      {
                        "bin_start": 0,
                        "bin_end": 0.3,
                        "count": 3
                      },
                      {
                        "bin_start": 0.3,
                        "bin_end": 0.6,
                        "count": 0
                      },
                      {
                        "bin_start": 0.6,
                        "bin_end": 0.8999999999999999,
                        "count": 0
                      },
                      {
                        "bin_start": 0.8999999999999999,
                        "bin_end": 1.2,
                        "count": 1
                      },
                      {
                        "bin_start": 1.2,
                        "bin_end": 1.5,
                        "count": 0
                      },
                      {
                        "bin_start": 1.5,
                        "bin_end": 1.7999999999999998,
                        "count": 0
                      },
                      {
                        "bin_start": 1.7999999999999998,
                        "bin_end": 2.1,
                        "count": 0
                      },
                      {
                        "bin_start": 2.1,
                        "bin_end": 2.4,
                        "count": 0
                      },
                      {
                        "bin_start": 2.4,
                        "bin_end": 2.6999999999999997,
                        "count": 0
                      },
                      {
                        "bin_start": 2.6999999999999997,
                        "bin_end": 3,
                        "count": 1
                      }
                    ]
                  }
                },
                {
                  "name": "civlib",
                  "dtype": "int64",
                  "stats": {
                    "unique_count": 3,
                    "nan_count": 0,
                    "min": 2,
                    "max": 6,
                    "histogram": [
                      {
                        "bin_start": 2,
                        "bin_end": 2.4,
                        "count": 3
                      },
                      {
                        "bin_start": 2.4,
                        "bin_end": 2.8,
                        "count": 0
                      },
                      {
                        "bin_start": 2.8,
                        "bin_end": 3.2,
                        "count": 0
                      },
                      {
                        "bin_start": 3.2,
                        "bin_end": 3.6,
                        "count": 0
                      },
                      {
                        "bin_start": 3.6,
                        "bin_end": 4,
                        "count": 0
                      },
                      {
                        "bin_start": 4,
                        "bin_end": 4.4,
                        "count": 0
                      },
                      {
                        "bin_start": 4.4,
                        "bin_end": 4.800000000000001,
                        "count": 0
                      },
                      {
                        "bin_start": 4.800000000000001,
                        "bin_end": 5.2,
                        "count": 1
                      },
                      {
                        "bin_start": 5.2,
                        "bin_end": 5.6,
                        "count": 0
                      },
                      {
                        "bin_start": 5.6,
                        "bin_end": 6,
                        "count": 1
                      }
                    ]
                  }
                },
                {
                  "name": "rrgov",
                  "dtype": "float64",
                  "stats": {
                    "unique_count": 5,
                    "nan_count": 0,
                    "min": 2,
                    "max": 8,
                    "histogram": [
                      {
                        "bin_start": 2,
                        "bin_end": 2.6,
                        "count": 2
                      },
                      {
                        "bin_start": 2.6,
                        "bin_end": 3.2,
                        "count": 0
                      },
                      {
                        "bin_start": 3.2,
                        "bin_end": 3.8,
                        "count": 0
                      },
                      {
                        "bin_start": 3.8,
                        "bin_end": 4.4,
                        "count": 0
                      },
                      {
                        "bin_start": 4.4,
                        "bin_end": 5,
                        "count": 1
                      },
                      {
                        "bin_start": 5,
                        "bin_end": 5.6,
                        "count": 1
                      },
                      {
                        "bin_start": 5.6,
                        "bin_end": 6.2,
                        "count": 0
                      },
                      {
                        "bin_start": 6.2,
                        "bin_end": 6.8,
                        "count": 0
                      },
                      {
                        "bin_start": 6.8,
                        "bin_end": 7.3999999999999995,
                        "count": 0
                      },
                      {
                        "bin_start": 7.3999999999999995,
                        "bin_end": 8,
                        "count": 1
                      }
                    ]
                  }
                },
                {
                  "name": "rrsoc",
                  "dtype": "float64",
                  "stats": {
                    "unique_count": 5,
                    "nan_count": 0,
                    "min": 0.3,
                    "max": 7.8,
                    "histogram": [
                      {
                        "bin_start": 0.3,
                        "bin_end": 1.05,
                        "count": 1
                      },
                      {
                        "bin_start": 1.05,
                        "bin_end": 1.8,
                        "count": 2
                      },
                      {
                        "bin_start": 1.8,
                        "bin_end": 2.55,
                        "count": 0
                      },
                      {
                        "bin_start": 2.55,
                        "bin_end": 3.3,
                        "count": 1
                      },
                      {
                        "bin_start": 3.3,
                        "bin_end": 4.05,
                        "count": 0
                      },
                      {
                        "bin_start": 4.05,
                        "bin_end": 4.8,
                        "count": 0
                      },
                      {
                        "bin_start": 4.8,
                        "bin_end": 5.55,
                        "count": 0
                      },
                      {
                        "bin_start": 5.55,
                        "bin_end": 6.3,
                        "count": 0
                      },
                      {
                        "bin_start": 6.3,
                        "bin_end": 7.05,
                        "count": 0
                      },
                      {
                        "bin_start": 7.05,
                        "bin_end": 7.8,
                        "count": 1
                      }
                    ]
                  }
                },
                {
                  "name": "deathpen",
                  "dtype": "int64",
                  "stats": {
                    "unique_count": 2,
                    "nan_count": 0,
                    "min": 0,
                    "max": 1,
                    "histogram": [
                      {
                        "bin_start": 0,
                        "bin_end": 0.1,
                        "count": 3
                      },
                      {
                        "bin_start": 0.1,
                        "bin_end": 0.2,
                        "count": 0
                      },
                      {
                        "bin_start": 0.2,
                        "bin_end": 0.30000000000000004,
                        "count": 0
                      },
                      {
                        "bin_start": 0.30000000000000004,
                        "bin_end": 0.4,
                        "count": 0
                      },
                      {
                        "bin_start": 0.4,
                        "bin_end": 0.5,
                        "count": 0
                      },
                      {
                        "bin_start": 0.5,
                        "bin_end": 0.6000000000000001,
                        "count": 0
                      },
                      {
                        "bin_start": 0.6000000000000001,
                        "bin_end": 0.7000000000000001,
                        "count": 0
                      },
                      {
                        "bin_start": 0.7000000000000001,
                        "bin_end": 0.8,
                        "count": 0
                      },
                      {
                        "bin_start": 0.8,
                        "bin_end": 0.9,
                        "count": 0
                      },
                      {
                        "bin_start": 0.9,
                        "bin_end": 1,
                        "count": 2
                      }
                    ]
                  }
                },
                {
                  "name": "tdeathslnl5",
                  "dtype": "float64",
                  "stats": {
                    "unique_count": 3,
                    "nan_count": 0,
                    "min": -0.6931471824645996,
                    "max": 8.180225372314453,
                    "histogram": [
                      {
                        "bin_start": -0.6931471824645996,
                        "bin_end": 0.1941900730133057,
                        "count": 4
                      },
                      {
                        "bin_start": 0.1941900730133057,
                        "bin_end": 1.081527328491211,
                        "count": 0
                      },
                      {
                        "bin_start": 1.081527328491211,
                        "bin_end": 1.9688645839691166,
                        "count": 0
                      },
                      {
                        "bin_start": 1.9688645839691166,
                        "bin_end": 2.8562018394470217,
                        "count": 0
                      },
                      {
                        "bin_start": 2.8562018394470217,
                        "bin_end": 3.7435390949249268,
                        "count": 0
                      },
                      {
                        "bin_start": 3.7435390949249268,
                        "bin_end": 4.630876350402833,
                        "count": 0
                      },
                      {
                        "bin_start": 4.630876350402833,
                        "bin_end": 5.518213605880738,
                        "count": 0
                      },
                      {
                        "bin_start": 5.518213605880738,
                        "bin_end": 6.405550861358643,
                        "count": 0
                      },
                      {
                        "bin_start": 6.405550861358643,
                        "bin_end": 7.292888116836548,
                        "count": 0
                      },
                      {
                        "bin_start": 7.292888116836548,
                        "bin_end": 8.180225372314453,
                        "count": 1
                      }
                    ]
                  }
                },
                {
                  "name": "bdeathslnl",
                  "dtype": "float64",
                  "stats": {
                    "unique_count": 2,
                    "nan_count": 0,
                    "min": -4.2985358238220215,
                    "max": 5.276663303375244,
                    "histogram": [
                      {
                        "bin_start": -4.2985358238220215,
                        "bin_end": -3.341015911102295,
                        "count": 4
                      },
                      {
                        "bin_start": -3.341015911102295,
                        "bin_end": -2.3834959983825685,
                        "count": 0
                      },
                      {
                        "bin_start": -2.3834959983825685,
                        "bin_end": -1.4259760856628416,
                        "count": 0
                      },
                      {
                        "bin_start": -1.4259760856628416,
                        "bin_end": -0.46845617294311515,
                        "count": 0
                      },
                      {
                        "bin_start": -0.46845617294311515,
                        "bin_end": 0.48906373977661133,
                        "count": 0
                      },
                      {
                        "bin_start": 0.48906373977661133,
                        "bin_end": 1.4465836524963382,
                        "count": 0
                      },
                      {
                        "bin_start": 1.4465836524963382,
                        "bin_end": 2.4041035652160643,
                        "count": 0
                      },
                      {
                        "bin_start": 2.4041035652160643,
                        "bin_end": 3.361623477935791,
                        "count": 0
                      },
                      {
                        "bin_start": 3.361623477935791,
                        "bin_end": 4.319143390655517,
                        "count": 0
                      },
                      {
                        "bin_start": 4.319143390655517,
                        "bin_end": 5.276663303375244,
                        "count": 1
                      }
                    ]
                  }
                },
                {
                  "name": "refugee_oriln",
                  "dtype": "float64",
                  "stats": {
                    "unique_count": 5,
                    "nan_count": 0,
                    "min": 2.2106003761291504,
                    "max": 11.33047866821289,
                    "histogram": [
                      {
                        "bin_start": 2.2106003761291504,
                        "bin_end": 3.1225882053375242,
                        "count": 2
                      },
                      {
                        "bin_start": 3.1225882053375242,
                        "bin_end": 4.034576034545898,
                        "count": 0
                      },
                      {
                        "bin_start": 4.034576034545898,
                        "bin_end": 4.946563863754273,
                        "count": 0
                      },
                      {
                        "bin_start": 4.946563863754273,
                        "bin_end": 5.858551692962647,
                        "count": 0
                      },
                      {
                        "bin_start": 5.858551692962647,
                        "bin_end": 6.7705395221710205,
                        "count": 1
                      },
                      {
                        "bin_start": 6.7705395221710205,
                        "bin_end": 7.682527351379395,
                        "count": 0
                      },
                      {
                        "bin_start": 7.682527351379395,
                        "bin_end": 8.59451518058777,
                        "count": 1
                      },
                      {
                        "bin_start": 8.59451518058777,
                        "bin_end": 9.506503009796143,
                        "count": 0
                      },
                      {
                        "bin_start": 9.506503009796143,
                        "bin_end": 10.418490839004518,
                        "count": 0
                      },
                      {
                        "bin_start": 10.418490839004518,
                        "bin_end": 11.33047866821289,
                        "count": 1
                      }
                    ]
                  }
                },
                {
                  "name": "warcasual",
                  "dtype": "float64",
                  "stats": {
                    "unique_count": 2,
                    "nan_count": 0,
                    "min": 0,
                    "max": 3,
                    "histogram": [
                      {
                        "bin_start": 0,
                        "bin_end": 0.3,
                        "count": 4
                      },
                      {
                        "bin_start": 0.3,
                        "bin_end": 0.6,
                        "count": 0
                      },
                      {
                        "bin_start": 0.6,
                        "bin_end": 0.8999999999999999,
                        "count": 0
                      },
                      {
                        "bin_start": 0.8999999999999999,
                        "bin_end": 1.2,
                        "count": 0
                      },
                      {
                        "bin_start": 1.2,
                        "bin_end": 1.5,
                        "count": 0
                      },
                      {
                        "bin_start": 1.5,
                        "bin_end": 1.7999999999999998,
                        "count": 0
                      },
                      {
                        "bin_start": 1.7999999999999998,
                        "bin_end": 2.1,
                        "count": 0
                      },
                      {
                        "bin_start": 2.1,
                        "bin_end": 2.4,
                        "count": 0
                      },
                      {
                        "bin_start": 2.4,
                        "bin_end": 2.6999999999999997,
                        "count": 0
                      },
                      {
                        "bin_start": 2.6999999999999997,
                        "bin_end": 3,
                        "count": 1
                      }
                    ]
                  }
                },
                {
                  "name": "pts",
                  "dtype": "float64",
                  "stats": {
                    "unique_count": 4,
                    "nan_count": 0,
                    "min": 2,
                    "max": 4.666666507720947,
                    "histogram": [
                      {
                        "bin_start": 2,
                        "bin_end": 2.2666666507720947,
                        "count": 1
                      },
                      {
                        "bin_start": 2.2666666507720947,
                        "bin_end": 2.5333333015441895,
                        "count": 0
                      },
                      {
                        "bin_start": 2.5333333015441895,
                        "bin_end": 2.799999952316284,
                        "count": 2
                      },
                      {
                        "bin_start": 2.799999952316284,
                        "bin_end": 3.066666603088379,
                        "count": 0
                      },
                      {
                        "bin_start": 3.066666603088379,
                        "bin_end": 3.3333332538604736,
                        "count": 0
                      },
                      {
                        "bin_start": 3.3333332538604736,
                        "bin_end": 3.5999999046325684,
                        "count": 0
                      },
                      {
                        "bin_start": 3.5999999046325684,
                        "bin_end": 3.866666555404663,
                        "count": 1
                      },
                      {
                        "bin_start": 3.866666555404663,
                        "bin_end": 4.133333206176758,
                        "count": 0
                      },
                      {
                        "bin_start": 4.133333206176758,
                        "bin_end": 4.3999998569488525,
                        "count": 0
                      },
                      {
                        "bin_start": 4.3999998569488525,
                        "bin_end": 4.666666507720947,
                        "count": 1
                      }
                    ]
                  }
                },
                {
                  "name": "homilnl",
                  "dtype": "float64",
                  "stats": {
                    "unique_count": 5,
                    "nan_count": 0,
                    "min": -0.4883016645908355,
                    "max": 2.3837757110595703,
                    "histogram": [
                      {
                        "bin_start": -0.4883016645908355,
                        "bin_end": -0.20109392702579493,
                        "count": 1
                      },
                      {
                        "bin_start": -0.20109392702579493,
                        "bin_end": 0.08611381053924566,
                        "count": 0
                      },
                      {
                        "bin_start": 0.08611381053924566,
                        "bin_end": 0.37332154810428625,
                        "count": 0
                      },
                      {
                        "bin_start": 0.37332154810428625,
                        "bin_end": 0.6605292856693268,
                        "count": 0
                      },
                      {
                        "bin_start": 0.6605292856693268,
                        "bin_end": 0.9477370232343674,
                        "count": 0
                      },
                      {
                        "bin_start": 0.9477370232343674,
                        "bin_end": 1.234944760799408,
                        "count": 0
                      },
                      {
                        "bin_start": 1.234944760799408,
                        "bin_end": 1.5221524983644485,
                        "count": 1
                      },
                      {
                        "bin_start": 1.5221524983644485,
                        "bin_end": 1.8093602359294891,
                        "count": 0
                      },
                      {
                        "bin_start": 1.8093602359294891,
                        "bin_end": 2.0965679734945297,
                        "count": 2
                      },
                      {
                        "bin_start": 2.0965679734945297,
                        "bin_end": 2.3837757110595703,
                        "count": 1
                      }
                    ]
                  }
                },
                {
                  "name": "vtf",
                  "dtype": "float64",
                  "stats": {
                    "unique_count": 5,
                    "nan_count": 0,
                    "min": 0,
                    "max": 77.016499,
                    "histogram": [
                      {
                        "bin_start": 0,
                        "bin_end": 7.7016499,
                        "count": 1
                      },
                      {
                        "bin_start": 7.7016499,
                        "bin_end": 15.4032998,
                        "count": 0
                      },
                      {
                        "bin_start": 15.4032998,
                        "bin_end": 23.1049497,
                        "count": 1
                      },
                      {
                        "bin_start": 23.1049497,
                        "bin_end": 30.8065996,
                        "count": 1
                      },
                      {
                        "bin_start": 30.8065996,
                        "bin_end": 38.5082495,
                        "count": 0
                      },
                      {
                        "bin_start": 38.5082495,
                        "bin_end": 46.2098994,
                        "count": 0
                      },
                      {
                        "bin_start": 46.2098994,
                        "bin_end": 53.9115493,
                        "count": 1
                      },
                      {
                        "bin_start": 53.9115493,
                        "bin_end": 61.6131992,
                        "count": 0
                      },
                      {
                        "bin_start": 61.6131992,
                        "bin_end": 69.3148491,
                        "count": 0
                      },
                      {
                        "bin_start": 69.3148491,
                        "bin_end": 77.016499,
                        "count": 1
                      }
                    ]
                  }
                },
                {
                  "name": "_deepnote_index_column",
                  "dtype": "int64"
                }
              ],
              "rows_top": [
                {
                  "ippr": 2.457772970199585,
                  "logis": 2.069572925567627,
                  "affs": 3.852954626083374,
                  "bband": 0.0047953170724213,
                  "redu": 26.47210693359375,
                  "elcostlnl": 8.151823043823242,
                  "gdp5": 0.0290821082890033,
                  "eqi": 0.7154955267906189,
                  "amp": 3.438251256942749,
                  "povdday": 20.203929901123047,
                  "urate": 9.100000381469728,
                  "edi": 2.7267301082611084,
                  "qslnl": -7.178584575653076,
                  "teryrs": 0.2106551527976989,
                  "secyrs": 0.9981070160865784,
                  "edqualsc": 337.58935546875,
                  "Ginih15": 0.6255299451204963,
                  "gbrata": 0.3416600227355957,
                  "pestreg": 0,
                  "improved_drinkwater": 55.3,
                  "terrestprotect": 0.372007569594875,
                  "fwateruse": 43.0116648992577,
                  "fishstock": 35.32307815551758,
                  "airpollution": 0.14,
                  "womenparl": 0.277,
                  "rlaw": -1.5337554216384888,
                  "geff": -1.3441206216812134,
                  "ticpi": 11,
                  "vapvt": 29.709999084472656,
                  "rqual": -1.12695050239563,
                  "leb": 60.71717073170733,
                  "impsan": 31.9,
                  "imeas": 66,
                  "Obesity": 2.9,
                  "tblnl": 3.485908508300781,
                  "meandiabetes": 6.6,
                  "propright": 0,
                  "lgbt_rights": 0,
                  "civlib": 2,
                  "rrgov": 8,
                  "rrsoc": 7.8,
                  "deathpen": 1,
                  "tdeathslnl5": 8.180225372314453,
                  "bdeathslnl": 5.276663303375244,
                  "refugee_oriln": 11.33047866821289,
                  "warcasual": 3,
                  "pts": 4.666666507720947,
                  "homilnl": 1.8642069101333616,
                  "vtf": 20.62350082397461,
                  "_deepnote_index_column": 0
                },
                {
                  "ippr": 2.2579146312994984,
                  "logis": 2.5429799556732178,
                  "affs": 3.236487921956151,
                  "bband": 0.412783682346344,
                  "redu": 31.007936507936503,
                  "elcostlnl": 6.421622276306152,
                  "gdp5": 0.0175701137632131,
                  "eqi": 0.4344044923782348,
                  "amp": 2.034871291870741,
                  "povdday": 30.1299991607666,
                  "urate": 6.800000190734863,
                  "edi": 6.336120128631592,
                  "qslnl": -7.178584575653076,
                  "teryrs": 0.0990185290575027,
                  "secyrs": 1.820328950881958,
                  "edqualsc": 280.8026733398437,
                  "Ginih15": 0.4950167536735534,
                  "gbrata": 0.3604999780654907,
                  "pestreg": 3,
                  "improved_drinkwater": 49,
                  "terrestprotect": 12.4039168148896,
                  "fwateruse": 0.476891891891892,
                  "fishstock": 5.69,
                  "airpollution": 0.035,
                  "womenparl": 0.368,
                  "rlaw": -1.0965540409088137,
                  "geff": -1.1469130516052246,
                  "ticpi": 15,
                  "vapvt": 71.58999633789062,
                  "rqual": -0.9620162844657898,
                  "leb": 52.66609756097561,
                  "impsan": 51.6,
                  "imeas": 85,
                  "Obesity": 10.2,
                  "tblnl": 2.9558451175689697,
                  "meandiabetes": 3.3,
                  "propright": 1,
                  "lgbt_rights": 0,
                  "civlib": 2,
                  "rrgov": 5,
                  "rrsoc": 2.9,
                  "deathpen": 0,
                  "tdeathslnl5": -0.6931471824645996,
                  "bdeathslnl": -4.2985358238220215,
                  "refugee_oriln": 6.084814071655273,
                  "warcasual": 0,
                  "pts": 3.6666667461395264,
                  "homilnl": 2.3837757110595703,
                  "vtf": 25.100000381469727,
                  "_deepnote_index_column": 1
                },
                {
                  "ippr": 2.8962214197003844,
                  "logis": 2.7699999809265137,
                  "affs": 3.737437897765398,
                  "bband": 6.573715686798096,
                  "redu": 20.825396825396822,
                  "elcostlnl": 6.197258472442627,
                  "gdp5": 0.0278324130922555,
                  "eqi": 0.8899692893028259,
                  "amp": 3.392697587765217,
                  "povdday": 1.059999942779541,
                  "urate": 16.100000381469727,
                  "edi": 2.908179998397827,
                  "qslnl": -7.178584575653076,
                  "teryrs": 0.050267219543457,
                  "secyrs": 3.402170181274414,
                  "edqualsc": 425.4200134277344,
                  "Ginih15": 0.0562517298508917,
                  "gbrata": 0.0561400055885314,
                  "pestreg": 5,
                  "improved_drinkwater": 95.1,
                  "terrestprotect": 10.9606636931774,
                  "fwateruse": 4.87360594795539,
                  "fishstock": 37.09917831420898,
                  "airpollution": 0.165,
                  "womenparl": 0.207,
                  "rlaw": -0.3706062436103821,
                  "geff": -0.0706450566649437,
                  "ticpi": 36,
                  "vapvt": 76.68000030517578,
                  "rqual": 0.2252274304628372,
                  "leb": 78.01446341463416,
                  "impsan": 93.2,
                  "imeas": 98,
                  "Obesity": 17.6,
                  "tblnl": -2.3025851249694824,
                  "meandiabetes": 12,
                  "propright": 1,
                  "lgbt_rights": 1,
                  "civlib": 5,
                  "rrgov": 2.2,
                  "rrsoc": 0.3,
                  "deathpen": 0,
                  "tdeathslnl5": -0.4158883094787597,
                  "bdeathslnl": -4.2985358238220215,
                  "refugee_oriln": 8.154903411865234,
                  "warcasual": 0,
                  "pts": 2,
                  "homilnl": 1.3934742212295532,
                  "vtf": 50.64450073242188,
                  "_deepnote_index_column": 2
                },
                {
                  "ippr": 5.475347957204798,
                  "logis": 3.539098024368286,
                  "affs": 5.424748523398632,
                  "bband": 11.55840015411377,
                  "redu": 4.285714285714286,
                  "elcostlnl": 3.1570003032684326,
                  "gdp5": 0.017219353467226,
                  "eqi": 0.7704206109046936,
                  "amp": 5.2951909013352285,
                  "povdday": 0.023813996464014,
                  "urate": 3.5999999046325684,
                  "edi": 3.572279930114746,
                  "qslnl": -7.178584575653076,
                  "teryrs": 0.4585146903991699,
                  "secyrs": 3.531860828399658,
                  "edqualsc": 480.82952880859375,
                  "Ginih15": 0.2203475924097839,
                  "gbrata": 0.0346513390541076,
                  "pestreg": 23,
                  "improved_drinkwater": 99.6,
                  "terrestprotect": 18.1483213393048,
                  "fwateruse": 100,
                  "fishstock": 30.838836669921875,
                  "airpollution": 0.2175,
                  "womenparl": 0.175,
                  "rlaw": 0.7107052803039551,
                  "geff": 1.4772849082946775,
                  "ticpi": 70,
                  "vapvt": 0,
                  "rqual": 0.9772903919219972,
                  "leb": 77.54124390243904,
                  "impsan": 97.6,
                  "imeas": 94,
                  "Obesity": 37.2,
                  "tblnl": 0.2158738374710083,
                  "meandiabetes": 14.6,
                  "propright": 1,
                  "lgbt_rights": 0,
                  "civlib": 2,
                  "rrgov": 4.6,
                  "rrsoc": 1.5,
                  "deathpen": 1,
                  "tdeathslnl5": -0.4158883094787597,
                  "bdeathslnl": -4.2985358238220215,
                  "refugee_oriln": 2.2981529235839844,
                  "warcasual": 0,
                  "pts": 2.6666667461395264,
                  "homilnl": -0.4883016645908355,
                  "vtf": 0,
                  "_deepnote_index_column": 3
                },
                {
                  "ippr": 2.4246094741250634,
                  "logis": 2.9864749908447266,
                  "affs": 2.923875484374149,
                  "bband": 15.573113441467283,
                  "redu": 30.33333333333333,
                  "elcostlnl": 3.2148678302764893,
                  "gdp5": 0.0141311641782522,
                  "eqi": 0.7767059803009033,
                  "amp": 3.031993279543838,
                  "povdday": 1.75,
                  "urate": 8.199999809265137,
                  "edi": 2.3795299530029297,
                  "qslnl": -3.770851135253906,
                  "teryrs": 0.2808852195739746,
                  "secyrs": 2.6644227504730225,
                  "edqualsc": 421.5495910644531,
                  "Ginih15": 0.1636646693772737,
                  "gbrata": 0.030079960823059,
                  "pestreg": 23,
                  "improved_drinkwater": 99.1,
                  "terrestprotect": 6.90605699390836,
                  "fwateruse": 12.9383561643836,
                  "fishstock": 49.36,
                  "airpollution": 0.0025,
                  "womenparl": 0.362,
                  "rlaw": -0.9056057333946228,
                  "geff": -0.1820030361413955,
                  "ticpi": 32,
                  "vapvt": 81.41000366210938,
                  "rqual": -1.0789178609848022,
                  "leb": 76.33421951219513,
                  "impsan": 96.4,
                  "imeas": 95,
                  "Obesity": 26.3,
                  "tblnl": 0.2623642683029175,
                  "meandiabetes": 6.2,
                  "propright": 1,
                  "lgbt_rights": 3,
                  "civlib": 6,
                  "rrgov": 2,
                  "rrsoc": 1.4,
                  "deathpen": 0,
                  "tdeathslnl5": -0.6931471824645996,
                  "bdeathslnl": -4.2985358238220215,
                  "refugee_oriln": 2.2106003761291504,
                  "warcasual": 0,
                  "pts": 2.6666667461395264,
                  "homilnl": 1.950703501701355,
                  "vtf": 77.016499,
                  "_deepnote_index_column": 4
                }
              ],
              "rows_bottom": null
            },
            "text/plain": "       ippr     logis      affs      bband       redu  elcostlnl      gdp5  \\\n0  2.457773  2.069573  3.852955   0.004795  26.472107   8.151823  0.029082   \n1  2.257915  2.542980  3.236488   0.412784  31.007937   6.421622  0.017570   \n2  2.896221  2.770000  3.737438   6.573716  20.825397   6.197258  0.027832   \n3  5.475348  3.539098  5.424749  11.558400   4.285714   3.157000  0.017219   \n4  2.424609  2.986475  2.923875  15.573113  30.333333   3.214868  0.014131   \n\n        eqi       amp    povdday  ...  rrgov  rrsoc  deathpen  tdeathslnl5  \\\n0  0.715496  3.438251  20.203930  ...    8.0    7.8         1     8.180225   \n1  0.434404  2.034871  30.129999  ...    5.0    2.9         0    -0.693147   \n2  0.889969  3.392698   1.060000  ...    2.2    0.3         0    -0.415888   \n3  0.770421  5.295191   0.023814  ...    4.6    1.5         1    -0.415888   \n4  0.776706  3.031993   1.750000  ...    2.0    1.4         0    -0.693147   \n\n   bdeathslnl  refugee_oriln  warcasual       pts   homilnl        vtf  \n0    5.276663      11.330479        3.0  4.666667  1.864207  20.623501  \n1   -4.298536       6.084814        0.0  3.666667  2.383776  25.100000  \n2   -4.298536       8.154903        0.0  2.000000  1.393474  50.644501  \n3   -4.298536       2.298153        0.0  2.666667 -0.488302   0.000000  \n4   -4.298536       2.210600        0.0  2.666667  1.950704  77.016499  \n\n[5 rows x 49 columns]",
            "text/html": "<div>\n<style scoped>\n    .dataframe tbody tr th:only-of-type {\n        vertical-align: middle;\n    }\n\n    .dataframe tbody tr th {\n        vertical-align: top;\n    }\n\n    .dataframe thead th {\n        text-align: right;\n    }\n</style>\n<table border=\"1\" class=\"dataframe\">\n  <thead>\n    <tr style=\"text-align: right;\">\n      <th></th>\n      <th>ippr</th>\n      <th>logis</th>\n      <th>affs</th>\n      <th>bband</th>\n      <th>redu</th>\n      <th>elcostlnl</th>\n      <th>gdp5</th>\n      <th>eqi</th>\n      <th>amp</th>\n      <th>povdday</th>\n      <th>...</th>\n      <th>rrgov</th>\n      <th>rrsoc</th>\n      <th>deathpen</th>\n      <th>tdeathslnl5</th>\n      <th>bdeathslnl</th>\n      <th>refugee_oriln</th>\n      <th>warcasual</th>\n      <th>pts</th>\n      <th>homilnl</th>\n      <th>vtf</th>\n    </tr>\n  </thead>\n  <tbody>\n    <tr>\n      <th>0</th>\n      <td>2.457773</td>\n      <td>2.069573</td>\n      <td>3.852955</td>\n      <td>0.004795</td>\n      <td>26.472107</td>\n      <td>8.151823</td>\n      <td>0.029082</td>\n      <td>0.715496</td>\n      <td>3.438251</td>\n      <td>20.203930</td>\n      <td>...</td>\n      <td>8.0</td>\n      <td>7.8</td>\n      <td>1</td>\n      <td>8.180225</td>\n      <td>5.276663</td>\n      <td>11.330479</td>\n      <td>3.0</td>\n      <td>4.666667</td>\n      <td>1.864207</td>\n      <td>20.623501</td>\n    </tr>\n    <tr>\n      <th>1</th>\n      <td>2.257915</td>\n      <td>2.542980</td>\n      <td>3.236488</td>\n      <td>0.412784</td>\n      <td>31.007937</td>\n      <td>6.421622</td>\n      <td>0.017570</td>\n      <td>0.434404</td>\n      <td>2.034871</td>\n      <td>30.129999</td>\n      <td>...</td>\n      <td>5.0</td>\n      <td>2.9</td>\n      <td>0</td>\n      <td>-0.693147</td>\n      <td>-4.298536</td>\n      <td>6.084814</td>\n      <td>0.0</td>\n      <td>3.666667</td>\n      <td>2.383776</td>\n      <td>25.100000</td>\n    </tr>\n    <tr>\n      <th>2</th>\n      <td>2.896221</td>\n      <td>2.770000</td>\n      <td>3.737438</td>\n      <td>6.573716</td>\n      <td>20.825397</td>\n      <td>6.197258</td>\n      <td>0.027832</td>\n      <td>0.889969</td>\n      <td>3.392698</td>\n      <td>1.060000</td>\n      <td>...</td>\n      <td>2.2</td>\n      <td>0.3</td>\n      <td>0</td>\n      <td>-0.415888</td>\n      <td>-4.298536</td>\n      <td>8.154903</td>\n      <td>0.0</td>\n      <td>2.000000</td>\n      <td>1.393474</td>\n      <td>50.644501</td>\n    </tr>\n    <tr>\n      <th>3</th>\n      <td>5.475348</td>\n      <td>3.539098</td>\n      <td>5.424749</td>\n      <td>11.558400</td>\n      <td>4.285714</td>\n      <td>3.157000</td>\n      <td>0.017219</td>\n      <td>0.770421</td>\n      <td>5.295191</td>\n      <td>0.023814</td>\n      <td>...</td>\n      <td>4.6</td>\n      <td>1.5</td>\n      <td>1</td>\n      <td>-0.415888</td>\n      <td>-4.298536</td>\n      <td>2.298153</td>\n      <td>0.0</td>\n      <td>2.666667</td>\n      <td>-0.488302</td>\n      <td>0.000000</td>\n    </tr>\n    <tr>\n      <th>4</th>\n      <td>2.424609</td>\n      <td>2.986475</td>\n      <td>2.923875</td>\n      <td>15.573113</td>\n      <td>30.333333</td>\n      <td>3.214868</td>\n      <td>0.014131</td>\n      <td>0.776706</td>\n      <td>3.031993</td>\n      <td>1.750000</td>\n      <td>...</td>\n      <td>2.0</td>\n      <td>1.4</td>\n      <td>0</td>\n      <td>-0.693147</td>\n      <td>-4.298536</td>\n      <td>2.210600</td>\n      <td>0.0</td>\n      <td>2.666667</td>\n      <td>1.950704</td>\n      <td>77.016499</td>\n    </tr>\n  </tbody>\n</table>\n<p>5 rows × 49 columns</p>\n</div>"
          },
          "metadata": {}
        }
      ]
    },
    {
      "cell_type": "code",
      "metadata": {
        "tags": [],
        "deepnote_to_be_reexecuted": false,
        "source_hash": "8ad920bf",
        "execution_millis": 19,
        "cell_id": "00011-bca68277-6cab-47d5-869b-5410e0257c2d",
        "execution_start": 1618142988462,
        "deepnote_cell_type": "code"
      },
      "source": "from statsmodels.tsa.arima.model import ARIMA\nfrom statsmodels.tsa.api import VAR\n\ntogo_data = score_table[score_table[\"country\"] == \"Togo\"][pillars]\ntogo_ser = togo_data.diff().dropna()\n\nvar_model = VAR(togo_ser)\nvar_model_fit = var_model.fit()\ntogo_predicted = var_model_fit.forecast(var_model_fit.y,steps=2)\ntogo_predicted",
      "execution_count": 52,
      "outputs": [
        {
          "name": "stderr",
          "text": "/root/venv/lib/python3.7/site-packages/statsmodels/tsa/base/tsa_model.py:579: ValueWarning: An unsupported index was provided and will be ignored when e.g. forecasting.\n  ' ignored when e.g. forecasting.', ValueWarning)\n/root/venv/lib/python3.7/site-packages/statsmodels/base/wrapper.py:34: FutureWarning: y is a deprecated alias for endog, will be removed in version 0.11.0\n  obj = getattr(results, attr)\n",
          "output_type": "stream"
        },
        {
          "output_type": "execute_result",
          "execution_count": 52,
          "data": {
            "text/plain": "array([[ 3.18083764,  0.32874624, -0.33759081, -0.95255653, -0.58467637,\n         0.5081421 , -4.02200967,  2.09585619,  4.31650698],\n       [-0.03987409, -0.21141693, -2.48423932, -2.32056064, -3.74720778,\n         0.38513551, -8.22298901,  6.5242377 ,  1.83961661]])"
          },
          "metadata": {}
        }
      ]
    },
    {
      "cell_type": "code",
      "source": "togo_data.mean(axis=1)",
      "metadata": {
        "tags": [],
        "cell_id": "00011-0aa5bce6-92bc-4940-bb91-d9a55a99ba23",
        "deepnote_to_be_reexecuted": false,
        "source_hash": "4756c5c0",
        "execution_millis": 8,
        "execution_start": 1618142777346,
        "deepnote_cell_type": "code"
      },
      "outputs": [
        {
          "output_type": "execute_result",
          "execution_count": 48,
          "data": {
            "text/plain": "132     40.598943\n281     40.428445\n430     41.008301\n579     42.251967\n728     44.807551\n877     45.099571\n1026    45.689325\n1175    47.286801\ndtype: float64"
          },
          "metadata": {}
        }
      ],
      "execution_count": 48
    },
    {
      "cell_type": "code",
      "source": "(togo_data.iloc[-1] + togo_predicted[0]).mean()",
      "metadata": {
        "tags": [],
        "cell_id": "00011-9128fc61-a1f9-4150-af22-e5a518a11e76",
        "deepnote_to_be_reexecuted": false,
        "source_hash": "a66bf23a",
        "execution_millis": 13,
        "execution_start": 1618142787460,
        "deepnote_cell_type": "code"
      },
      "outputs": [
        {
          "output_type": "execute_result",
          "execution_count": 49,
          "data": {
            "text/plain": "47.790495893827455"
          },
          "metadata": {}
        }
      ],
      "execution_count": 49
    },
    {
      "cell_type": "code",
      "source": "plt.plot([i for i in range(2007,2015)], list(togo_data.mean(axis=1)))\nplt.plot([2015,2016], \n[(togo_data.iloc[-1] + togo_predicted[0]).mean(), \n(togo_data.iloc[-1] + togo_predicted[0] + togo_predicted[1]).mean()])\nplt.title(\"Prosperity Score of Togo\")",
      "metadata": {
        "tags": [],
        "cell_id": "00013-c9218496-8a25-48d7-8566-e46b3a148ba0",
        "deepnote_to_be_reexecuted": false,
        "source_hash": "83739386",
        "execution_start": 1618142874823,
        "execution_millis": 124,
        "deepnote_cell_type": "code"
      },
      "outputs": [
        {
          "output_type": "execute_result",
          "execution_count": 50,
          "data": {
            "text/plain": "Text(0.5, 1.0, 'Prosperity Score of Togo')"
          },
          "metadata": {}
        },
        {
          "data": {
            "text/plain": "<Figure size 432x288 with 1 Axes>",
            "image/png": "[encoded data removed]"
          },
          "metadata": {
            "needs_background": "light"
          },
          "output_type": "display_data"
        }
      ],
      "execution_count": 50
    },
    {
      "cell_type": "code",
      "metadata": {
        "tags": [],
        "deepnote_to_be_reexecuted": false,
        "source_hash": "47924098",
        "execution_millis": 64,
        "cell_id": "00013-1edf0a0e-5651-4d4a-a35d-1702a5a2a075",
        "execution_start": 1618141948877,
        "deepnote_cell_type": "code"
      },
      "source": "y_lst = [data[\"busi\"][\"train\"][[\"country\",\"year\"]]]\n\nfor pillar in pillars:\n    y_lst.append(data[pillar][\"train\"][[pillar,\"rank_\" + pillar]])\ny = pd.concat(y_lst, axis=1)\ny.head()",
      "execution_count": 13,
      "outputs": [
        {
          "output_type": "execute_result",
          "execution_count": 13,
          "data": {
            "application/vnd.deepnote.dataframe.v2+json": {
              "row_count": 5,
              "column_count": 20,
              "columns": [
                {
                  "name": "country",
                  "dtype": "object",
                  "stats": {
                    "unique_count": 5,
                    "nan_count": 0,
                    "categories": [
                      {
                        "name": "Afghanistan",
                        "count": 1
                      },
                      {
                        "name": "Angola",
                        "count": 1
                      },
                      {
                        "name": "3 others",
                        "count": 3
                      }
                    ]
                  }
                },
                {
                  "name": "year",
                  "dtype": "int64",
                  "stats": {
                    "unique_count": 1,
                    "nan_count": 0,
                    "min": 2007,
                    "max": 2007,
                    "histogram": [
                      {
                        "bin_start": 2006.5,
                        "bin_end": 2006.6,
                        "count": 0
                      },
                      {
                        "bin_start": 2006.6,
                        "bin_end": 2006.7,
                        "count": 0
                      },
                      {
                        "bin_start": 2006.7,
                        "bin_end": 2006.8,
                        "count": 0
                      },
                      {
                        "bin_start": 2006.8,
                        "bin_end": 2006.9,
                        "count": 0
                      },
                      {
                        "bin_start": 2006.9,
                        "bin_end": 2007,
                        "count": 0
                      },
                      {
                        "bin_start": 2007,
                        "bin_end": 2007.1,
                        "count": 5
                      },
                      {
                        "bin_start": 2007.1,
                        "bin_end": 2007.2,
                        "count": 0
                      },
                      {
                        "bin_start": 2007.2,
                        "bin_end": 2007.3,
                        "count": 0
                      },
                      {
                        "bin_start": 2007.3,
                        "bin_end": 2007.4,
                        "count": 0
                      },
                      {
                        "bin_start": 2007.4,
                        "bin_end": 2007.5,
                        "count": 0
                      }
                    ]
                  }
                },
                {
                  "name": "busi",
                  "dtype": "float64",
                  "stats": {
                    "unique_count": 5,
                    "nan_count": 0,
                    "min": 27.057371139526367,
                    "max": 52.79174041748047,
                    "histogram": [
                      {
                        "bin_start": 27.057371139526367,
                        "bin_end": 29.630808067321777,
                        "count": 1
                      },
                      {
                        "bin_start": 29.630808067321777,
                        "bin_end": 32.204244995117186,
                        "count": 0
                      },
                      {
                        "bin_start": 32.204244995117186,
                        "bin_end": 34.7776819229126,
                        "count": 0
                      },
                      {
                        "bin_start": 34.7776819229126,
                        "bin_end": 37.351118850708005,
                        "count": 1
                      },
                      {
                        "bin_start": 37.351118850708005,
                        "bin_end": 39.92455577850342,
                        "count": 0
                      },
                      {
                        "bin_start": 39.92455577850342,
                        "bin_end": 42.49799270629883,
                        "count": 1
                      },
                      {
                        "bin_start": 42.49799270629883,
                        "bin_end": 45.071429634094244,
                        "count": 0
                      },
                      {
                        "bin_start": 45.071429634094244,
                        "bin_end": 47.64486656188965,
                        "count": 1
                      },
                      {
                        "bin_start": 47.64486656188965,
                        "bin_end": 50.218303489685056,
                        "count": 0
                      },
                      {
                        "bin_start": 50.218303489685056,
                        "bin_end": 52.79174041748047,
                        "count": 1
                      }
                    ]
                  }
                },
                {
                  "name": "rank_busi",
                  "dtype": "int64",
                  "stats": {
                    "unique_count": 5,
                    "nan_count": 0,
                    "min": 42,
                    "max": 146,
                    "histogram": [
                      {
                        "bin_start": 42,
                        "bin_end": 52.4,
                        "count": 1
                      },
                      {
                        "bin_start": 52.4,
                        "bin_end": 62.8,
                        "count": 0
                      },
                      {
                        "bin_start": 62.8,
                        "bin_end": 73.2,
                        "count": 1
                      },
                      {
                        "bin_start": 73.2,
                        "bin_end": 83.6,
                        "count": 0
                      },
                      {
                        "bin_start": 83.6,
                        "bin_end": 94,
                        "count": 0
                      },
                      {
                        "bin_start": 94,
                        "bin_end": 104.4,
                        "count": 0
                      },
                      {
                        "bin_start": 104.4,
                        "bin_end": 114.8,
                        "count": 1
                      },
                      {
                        "bin_start": 114.8,
                        "bin_end": 125.2,
                        "count": 0
                      },
                      {
                        "bin_start": 125.2,
                        "bin_end": 135.60000000000002,
                        "count": 1
                      },
                      {
                        "bin_start": 135.60000000000002,
                        "bin_end": 146,
                        "count": 1
                      }
                    ]
                  }
                },
                {
                  "name": "econ",
                  "dtype": "float64",
                  "stats": {
                    "unique_count": 5,
                    "nan_count": 0,
                    "min": 51.74357986450195,
                    "max": 67.16781616210938,
                    "histogram": [
                      {
                        "bin_start": 51.74357986450195,
                        "bin_end": 53.286003494262694,
                        "count": 2
                      },
                      {
                        "bin_start": 53.286003494262694,
                        "bin_end": 54.828427124023435,
                        "count": 0
                      },
                      {
                        "bin_start": 54.828427124023435,
                        "bin_end": 56.37085075378418,
                        "count": 0
                      },
                      {
                        "bin_start": 56.37085075378418,
                        "bin_end": 57.91327438354492,
                        "count": 0
                      },
                      {
                        "bin_start": 57.91327438354492,
                        "bin_end": 59.455698013305664,
                        "count": 1
                      },
                      {
                        "bin_start": 59.455698013305664,
                        "bin_end": 60.998121643066405,
                        "count": 0
                      },
                      {
                        "bin_start": 60.998121643066405,
                        "bin_end": 62.540545272827146,
                        "count": 1
                      },
                      {
                        "bin_start": 62.540545272827146,
                        "bin_end": 64.0829689025879,
                        "count": 0
                      },
                      {
                        "bin_start": 64.0829689025879,
                        "bin_end": 65.62539253234863,
                        "count": 0
                      },
                      {
                        "bin_start": 65.62539253234863,
                        "bin_end": 67.16781616210938,
                        "count": 1
                      }
                    ]
                  }
                },
                {
                  "name": "rank_econ",
                  "dtype": "int64",
                  "stats": {
                    "unique_count": 5,
                    "nan_count": 0,
                    "min": 43,
                    "max": 125,
                    "histogram": [
                      {
                        "bin_start": 43,
                        "bin_end": 51.2,
                        "count": 1
                      },
                      {
                        "bin_start": 51.2,
                        "bin_end": 59.4,
                        "count": 0
                      },
                      {
                        "bin_start": 59.4,
                        "bin_end": 67.6,
                        "count": 1
                      },
                      {
                        "bin_start": 67.6,
                        "bin_end": 75.8,
                        "count": 0
                      },
                      {
                        "bin_start": 75.8,
                        "bin_end": 84,
                        "count": 0
                      },
                      {
                        "bin_start": 84,
                        "bin_end": 92.19999999999999,
                        "count": 1
                      },
                      {
                        "bin_start": 92.19999999999999,
                        "bin_end": 100.39999999999999,
                        "count": 0
                      },
                      {
                        "bin_start": 100.39999999999999,
                        "bin_end": 108.6,
                        "count": 0
                      },
                      {
                        "bin_start": 108.6,
                        "bin_end": 116.8,
                        "count": 1
                      },
                      {
                        "bin_start": 116.8,
                        "bin_end": 125,
                        "count": 1
                      }
                    ]
                  }
                },
                {
                  "name": "educ",
                  "dtype": "float64",
                  "stats": {
                    "unique_count": 5,
                    "nan_count": 0,
                    "min": 22.494400024414062,
                    "max": 59.94295501708984,
                    "histogram": [
                      {
                        "bin_start": 22.494400024414062,
                        "bin_end": 26.23925552368164,
                        "count": 1
                      },
                      {
                        "bin_start": 26.23925552368164,
                        "bin_end": 29.984111022949218,
                        "count": 0
                      },
                      {
                        "bin_start": 29.984111022949218,
                        "bin_end": 33.728966522216794,
                        "count": 0
                      },
                      {
                        "bin_start": 33.728966522216794,
                        "bin_end": 37.473822021484374,
                        "count": 1
                      },
                      {
                        "bin_start": 37.473822021484374,
                        "bin_end": 41.21867752075195,
                        "count": 0
                      },
                      {
                        "bin_start": 41.21867752075195,
                        "bin_end": 44.963533020019526,
                        "count": 0
                      },
                      {
                        "bin_start": 44.963533020019526,
                        "bin_end": 48.708388519287105,
                        "count": 0
                      },
                      {
                        "bin_start": 48.708388519287105,
                        "bin_end": 52.453244018554685,
                        "count": 1
                      },
                      {
                        "bin_start": 52.453244018554685,
                        "bin_end": 56.19809951782226,
                        "count": 0
                      },
                      {
                        "bin_start": 56.19809951782226,
                        "bin_end": 59.94295501708984,
                        "count": 2
                      }
                    ]
                  }
                },
                {
                  "name": "rank_educ",
                  "dtype": "int64",
                  "stats": {
                    "unique_count": 5,
                    "nan_count": 0,
                    "min": 52,
                    "max": 143,
                    "histogram": [
                      {
                        "bin_start": 52,
                        "bin_end": 61.1,
                        "count": 1
                      },
                      {
                        "bin_start": 61.1,
                        "bin_end": 70.2,
                        "count": 0
                      },
                      {
                        "bin_start": 70.2,
                        "bin_end": 79.3,
                        "count": 1
                      },
                      {
                        "bin_start": 79.3,
                        "bin_end": 88.4,
                        "count": 0
                      },
                      {
                        "bin_start": 88.4,
                        "bin_end": 97.5,
                        "count": 1
                      },
                      {
                        "bin_start": 97.5,
                        "bin_end": 106.6,
                        "count": 0
                      },
                      {
                        "bin_start": 106.6,
                        "bin_end": 115.69999999999999,
                        "count": 0
                      },
                      {
                        "bin_start": 115.69999999999999,
                        "bin_end": 124.8,
                        "count": 0
                      },
                      {
                        "bin_start": 124.8,
                        "bin_end": 133.89999999999998,
                        "count": 1
                      },
                      {
                        "bin_start": 133.89999999999998,
                        "bin_end": 143,
                        "count": 1
                      }
                    ]
                  }
                },
                {
                  "name": "envi",
                  "dtype": "float64",
                  "stats": {
                    "unique_count": 5,
                    "nan_count": 0,
                    "min": 39.29334259033203,
                    "max": 64.90972900390625,
                    "histogram": [
                      {
                        "bin_start": 39.29334259033203,
                        "bin_end": 41.85498123168945,
                        "count": 1
                      },
                      {
                        "bin_start": 41.85498123168945,
                        "bin_end": 44.416619873046876,
                        "count": 0
                      },
                      {
                        "bin_start": 44.416619873046876,
                        "bin_end": 46.978258514404295,
                        "count": 0
                      },
                      {
                        "bin_start": 46.978258514404295,
                        "bin_end": 49.53989715576172,
                        "count": 1
                      },
                      {
                        "bin_start": 49.53989715576172,
                        "bin_end": 52.10153579711914,
                        "count": 1
                      },
                      {
                        "bin_start": 52.10153579711914,
                        "bin_end": 54.66317443847656,
                        "count": 0
                      },
                      {
                        "bin_start": 54.66317443847656,
                        "bin_end": 57.22481307983398,
                        "count": 0
                      },
                      {
                        "bin_start": 57.22481307983398,
                        "bin_end": 59.786451721191405,
                        "count": 0
                      },
                      {
                        "bin_start": 59.786451721191405,
                        "bin_end": 62.34809036254883,
                        "count": 1
                      },
                      {
                        "bin_start": 62.34809036254883,
                        "bin_end": 64.90972900390625,
                        "count": 1
                      }
                    ]
                  }
                },
                {
                  "name": "rank_envi",
                  "dtype": "int64",
                  "stats": {
                    "unique_count": 5,
                    "nan_count": 0,
                    "min": 33,
                    "max": 146,
                    "histogram": [
                      {
                        "bin_start": 33,
                        "bin_end": 44.3,
                        "count": 1
                      },
                      {
                        "bin_start": 44.3,
                        "bin_end": 55.6,
                        "count": 1
                      },
                      {
                        "bin_start": 55.6,
                        "bin_end": 66.9,
                        "count": 0
                      },
                      {
                        "bin_start": 66.9,
                        "bin_end": 78.2,
                        "count": 0
                      },
                      {
                        "bin_start": 78.2,
                        "bin_end": 89.5,
                        "count": 0
                      },
                      {
                        "bin_start": 89.5,
                        "bin_end": 100.80000000000001,
                        "count": 0
                      },
                      {
                        "bin_start": 100.80000000000001,
                        "bin_end": 112.10000000000001,
                        "count": 0
                      },
                      {
                        "bin_start": 112.10000000000001,
                        "bin_end": 123.4,
                        "count": 1
                      },
                      {
                        "bin_start": 123.4,
                        "bin_end": 134.7,
                        "count": 0
                      },
                      {
                        "bin_start": 134.7,
                        "bin_end": 146,
                        "count": 2
                      }
                    ]
                  }
                },
                {
                  "name": "gove",
                  "dtype": "float64",
                  "stats": {
                    "unique_count": 5,
                    "nan_count": 0,
                    "min": 29.76030731201172,
                    "max": 48.831993103027344,
                    "histogram": [
                      {
                        "bin_start": 29.76030731201172,
                        "bin_end": 31.66747589111328,
                        "count": 2
                      },
                      {
                        "bin_start": 31.66747589111328,
                        "bin_end": 33.57464447021484,
                        "count": 0
                      },
                      {
                        "bin_start": 33.57464447021484,
                        "bin_end": 35.48181304931641,
                        "count": 0
                      },
                      {
                        "bin_start": 35.48181304931641,
                        "bin_end": 37.388981628417966,
                        "count": 0
                      },
                      {
                        "bin_start": 37.388981628417966,
                        "bin_end": 39.29615020751953,
                        "count": 0
                      },
                      {
                        "bin_start": 39.29615020751953,
                        "bin_end": 41.2033187866211,
                        "count": 0
                      },
                      {
                        "bin_start": 41.2033187866211,
                        "bin_end": 43.110487365722655,
                        "count": 1
                      },
                      {
                        "bin_start": 43.110487365722655,
                        "bin_end": 45.01765594482422,
                        "count": 0
                      },
                      {
                        "bin_start": 45.01765594482422,
                        "bin_end": 46.92482452392578,
                        "count": 1
                      },
                      {
                        "bin_start": 46.92482452392578,
                        "bin_end": 48.831993103027344,
                        "count": 1
                      }
                    ]
                  }
                },
                {
                  "name": "rank_gove",
                  "dtype": "int64",
                  "stats": {
                    "unique_count": 5,
                    "nan_count": 0,
                    "min": 59,
                    "max": 142,
                    "histogram": [
                      {
                        "bin_start": 59,
                        "bin_end": 67.3,
                        "count": 1
                      },
                      {
                        "bin_start": 67.3,
                        "bin_end": 75.6,
                        "count": 0
                      },
                      {
                        "bin_start": 75.6,
                        "bin_end": 83.9,
                        "count": 0
                      },
                      {
                        "bin_start": 83.9,
                        "bin_end": 92.2,
                        "count": 2
                      },
                      {
                        "bin_start": 92.2,
                        "bin_end": 100.5,
                        "count": 0
                      },
                      {
                        "bin_start": 100.5,
                        "bin_end": 108.80000000000001,
                        "count": 0
                      },
                      {
                        "bin_start": 108.80000000000001,
                        "bin_end": 117.10000000000001,
                        "count": 0
                      },
                      {
                        "bin_start": 117.10000000000001,
                        "bin_end": 125.4,
                        "count": 0
                      },
                      {
                        "bin_start": 125.4,
                        "bin_end": 133.7,
                        "count": 0
                      },
                      {
                        "bin_start": 133.7,
                        "bin_end": 142,
                        "count": 2
                      }
                    ]
                  }
                },
                {
                  "name": "heal",
                  "dtype": "float64",
                  "stats": {
                    "unique_count": 5,
                    "nan_count": 0,
                    "min": 51.600807189941406,
                    "max": 77.57512664794922,
                    "histogram": [
                      {
                        "bin_start": 51.600807189941406,
                        "bin_end": 54.198239135742185,
                        "count": 1
                      },
                      {
                        "bin_start": 54.198239135742185,
                        "bin_end": 56.79567108154297,
                        "count": 0
                      },
                      {
                        "bin_start": 56.79567108154297,
                        "bin_end": 59.39310302734375,
                        "count": 1
                      },
                      {
                        "bin_start": 59.39310302734375,
                        "bin_end": 61.990534973144534,
                        "count": 0
                      },
                      {
                        "bin_start": 61.990534973144534,
                        "bin_end": 64.58796691894531,
                        "count": 0
                      },
                      {
                        "bin_start": 64.58796691894531,
                        "bin_end": 67.18539886474609,
                        "count": 0
                      },
                      {
                        "bin_start": 67.18539886474609,
                        "bin_end": 69.78283081054687,
                        "count": 0
                      },
                      {
                        "bin_start": 69.78283081054687,
                        "bin_end": 72.38026275634766,
                        "count": 0
                      },
                      {
                        "bin_start": 72.38026275634766,
                        "bin_end": 74.97769470214844,
                        "count": 2
                      },
                      {
                        "bin_start": 74.97769470214844,
                        "bin_end": 77.57512664794922,
                        "count": 1
                      }
                    ]
                  }
                },
                {
                  "name": "rank_heal",
                  "dtype": "int64",
                  "stats": {
                    "unique_count": 5,
                    "nan_count": 0,
                    "min": 34,
                    "max": 140,
                    "histogram": [
                      {
                        "bin_start": 34,
                        "bin_end": 44.6,
                        "count": 1
                      },
                      {
                        "bin_start": 44.6,
                        "bin_end": 55.2,
                        "count": 2
                      },
                      {
                        "bin_start": 55.2,
                        "bin_end": 65.8,
                        "count": 0
                      },
                      {
                        "bin_start": 65.8,
                        "bin_end": 76.4,
                        "count": 0
                      },
                      {
                        "bin_start": 76.4,
                        "bin_end": 87,
                        "count": 0
                      },
                      {
                        "bin_start": 87,
                        "bin_end": 97.6,
                        "count": 0
                      },
                      {
                        "bin_start": 97.6,
                        "bin_end": 108.2,
                        "count": 0
                      },
                      {
                        "bin_start": 108.2,
                        "bin_end": 118.8,
                        "count": 0
                      },
                      {
                        "bin_start": 118.8,
                        "bin_end": 129.39999999999998,
                        "count": 1
                      },
                      {
                        "bin_start": 129.39999999999998,
                        "bin_end": 140,
                        "count": 1
                      }
                    ]
                  }
                },
                {
                  "name": "pers",
                  "dtype": "float64",
                  "stats": {
                    "unique_count": 5,
                    "nan_count": 0,
                    "min": 32.29010391235352,
                    "max": 63.80562210083008,
                    "histogram": [
                      {
                        "bin_start": 32.29010391235352,
                        "bin_end": 35.44165573120118,
                        "count": 1
                      },
                      {
                        "bin_start": 35.44165573120118,
                        "bin_end": 38.59320755004883,
                        "count": 0
                      },
                      {
                        "bin_start": 38.59320755004883,
                        "bin_end": 41.74475936889649,
                        "count": 0
                      },
                      {
                        "bin_start": 41.74475936889649,
                        "bin_end": 44.896311187744146,
                        "count": 0
                      },
                      {
                        "bin_start": 44.896311187744146,
                        "bin_end": 48.0478630065918,
                        "count": 1
                      },
                      {
                        "bin_start": 48.0478630065918,
                        "bin_end": 51.199414825439455,
                        "count": 1
                      },
                      {
                        "bin_start": 51.199414825439455,
                        "bin_end": 54.35096664428711,
                        "count": 0
                      },
                      {
                        "bin_start": 54.35096664428711,
                        "bin_end": 57.50251846313476,
                        "count": 0
                      },
                      {
                        "bin_start": 57.50251846313476,
                        "bin_end": 60.65407028198242,
                        "count": 1
                      },
                      {
                        "bin_start": 60.65407028198242,
                        "bin_end": 63.80562210083008,
                        "count": 1
                      }
                    ]
                  }
                },
                {
                  "name": "rank_pers",
                  "dtype": "int64",
                  "stats": {
                    "unique_count": 5,
                    "nan_count": 0,
                    "min": 55,
                    "max": 142,
                    "histogram": [
                      {
                        "bin_start": 55,
                        "bin_end": 63.7,
                        "count": 1
                      },
                      {
                        "bin_start": 63.7,
                        "bin_end": 72.4,
                        "count": 1
                      },
                      {
                        "bin_start": 72.4,
                        "bin_end": 81.1,
                        "count": 0
                      },
                      {
                        "bin_start": 81.1,
                        "bin_end": 89.8,
                        "count": 0
                      },
                      {
                        "bin_start": 89.8,
                        "bin_end": 98.5,
                        "count": 0
                      },
                      {
                        "bin_start": 98.5,
                        "bin_end": 107.19999999999999,
                        "count": 1
                      },
                      {
                        "bin_start": 107.19999999999999,
                        "bin_end": 115.89999999999999,
                        "count": 1
                      },
                      {
                        "bin_start": 115.89999999999999,
                        "bin_end": 124.6,
                        "count": 0
                      },
                      {
                        "bin_start": 124.6,
                        "bin_end": 133.3,
                        "count": 0
                      },
                      {
                        "bin_start": 133.3,
                        "bin_end": 142,
                        "count": 1
                      }
                    ]
                  }
                },
                {
                  "name": "safe",
                  "dtype": "float64",
                  "stats": {
                    "unique_count": 5,
                    "nan_count": 0,
                    "min": 37.24028015136719,
                    "max": 80.37022399902344,
                    "histogram": [
                      {
                        "bin_start": 37.24028015136719,
                        "bin_end": 41.55327453613281,
                        "count": 1
                      },
                      {
                        "bin_start": 41.55327453613281,
                        "bin_end": 45.866268920898435,
                        "count": 0
                      },
                      {
                        "bin_start": 45.866268920898435,
                        "bin_end": 50.179263305664065,
                        "count": 0
                      },
                      {
                        "bin_start": 50.179263305664065,
                        "bin_end": 54.49225769042969,
                        "count": 1
                      },
                      {
                        "bin_start": 54.49225769042969,
                        "bin_end": 58.80525207519531,
                        "count": 0
                      },
                      {
                        "bin_start": 58.80525207519531,
                        "bin_end": 63.11824645996094,
                        "count": 0
                      },
                      {
                        "bin_start": 63.11824645996094,
                        "bin_end": 67.43124084472657,
                        "count": 0
                      },
                      {
                        "bin_start": 67.43124084472657,
                        "bin_end": 71.74423522949219,
                        "count": 2
                      },
                      {
                        "bin_start": 71.74423522949219,
                        "bin_end": 76.0572296142578,
                        "count": 0
                      },
                      {
                        "bin_start": 76.0572296142578,
                        "bin_end": 80.37022399902344,
                        "count": 1
                      }
                    ]
                  }
                },
                {
                  "name": "rank_safe",
                  "dtype": "int64",
                  "stats": {
                    "unique_count": 5,
                    "nan_count": 0,
                    "min": 16,
                    "max": 149,
                    "histogram": [
                      {
                        "bin_start": 16,
                        "bin_end": 29.3,
                        "count": 1
                      },
                      {
                        "bin_start": 29.3,
                        "bin_end": 42.6,
                        "count": 0
                      },
                      {
                        "bin_start": 42.6,
                        "bin_end": 55.900000000000006,
                        "count": 0
                      },
                      {
                        "bin_start": 55.900000000000006,
                        "bin_end": 69.2,
                        "count": 2
                      },
                      {
                        "bin_start": 69.2,
                        "bin_end": 82.5,
                        "count": 0
                      },
                      {
                        "bin_start": 82.5,
                        "bin_end": 95.80000000000001,
                        "count": 0
                      },
                      {
                        "bin_start": 95.80000000000001,
                        "bin_end": 109.10000000000001,
                        "count": 0
                      },
                      {
                        "bin_start": 109.10000000000001,
                        "bin_end": 122.4,
                        "count": 0
                      },
                      {
                        "bin_start": 122.4,
                        "bin_end": 135.7,
                        "count": 0
                      },
                      {
                        "bin_start": 135.7,
                        "bin_end": 149,
                        "count": 2
                      }
                    ]
                  }
                },
                {
                  "name": "soci",
                  "dtype": "float64",
                  "stats": {
                    "unique_count": 5,
                    "nan_count": 0,
                    "min": 37.69165802001953,
                    "max": 52.18182373046875,
                    "histogram": [
                      {
                        "bin_start": 37.69165802001953,
                        "bin_end": 39.14067459106445,
                        "count": 1
                      },
                      {
                        "bin_start": 39.14067459106445,
                        "bin_end": 40.589691162109375,
                        "count": 0
                      },
                      {
                        "bin_start": 40.589691162109375,
                        "bin_end": 42.0387077331543,
                        "count": 1
                      },
                      {
                        "bin_start": 42.0387077331543,
                        "bin_end": 43.48772430419922,
                        "count": 0
                      },
                      {
                        "bin_start": 43.48772430419922,
                        "bin_end": 44.93674087524414,
                        "count": 0
                      },
                      {
                        "bin_start": 44.93674087524414,
                        "bin_end": 46.38575744628906,
                        "count": 1
                      },
                      {
                        "bin_start": 46.38575744628906,
                        "bin_end": 47.834774017333984,
                        "count": 0
                      },
                      {
                        "bin_start": 47.834774017333984,
                        "bin_end": 49.283790588378906,
                        "count": 1
                      },
                      {
                        "bin_start": 49.283790588378906,
                        "bin_end": 50.73280715942383,
                        "count": 0
                      },
                      {
                        "bin_start": 50.73280715942383,
                        "bin_end": 52.18182373046875,
                        "count": 1
                      }
                    ]
                  }
                },
                {
                  "name": "rank_soci",
                  "dtype": "int64",
                  "stats": {
                    "unique_count": 5,
                    "nan_count": 0,
                    "min": 51,
                    "max": 144,
                    "histogram": [
                      {
                        "bin_start": 51,
                        "bin_end": 60.3,
                        "count": 1
                      },
                      {
                        "bin_start": 60.3,
                        "bin_end": 69.6,
                        "count": 0
                      },
                      {
                        "bin_start": 69.6,
                        "bin_end": 78.9,
                        "count": 1
                      },
                      {
                        "bin_start": 78.9,
                        "bin_end": 88.2,
                        "count": 0
                      },
                      {
                        "bin_start": 88.2,
                        "bin_end": 97.5,
                        "count": 0
                      },
                      {
                        "bin_start": 97.5,
                        "bin_end": 106.80000000000001,
                        "count": 0
                      },
                      {
                        "bin_start": 106.80000000000001,
                        "bin_end": 116.10000000000001,
                        "count": 1
                      },
                      {
                        "bin_start": 116.10000000000001,
                        "bin_end": 125.4,
                        "count": 1
                      },
                      {
                        "bin_start": 125.4,
                        "bin_end": 134.7,
                        "count": 0
                      },
                      {
                        "bin_start": 134.7,
                        "bin_end": 144,
                        "count": 1
                      }
                    ]
                  }
                },
                {
                  "name": "_deepnote_index_column",
                  "dtype": "int64"
                }
              ],
              "rows_top": [
                {
                  "country": "Afghanistan",
                  "year": 2007,
                  "busi": 35.30816650390625,
                  "rank_busi": 127,
                  "econ": 53.251712799072266,
                  "rank_econ": 115,
                  "educ": 22.494400024414062,
                  "rank_educ": 143,
                  "envi": 39.29334259033203,
                  "rank_envi": 146,
                  "gove": 29.76030731201172,
                  "rank_gove": 142,
                  "heal": 51.600807189941406,
                  "rank_heal": 140,
                  "pers": 32.29010391235352,
                  "rank_pers": 142,
                  "safe": 37.24028015136719,
                  "rank_safe": 149,
                  "soci": 37.69165802001953,
                  "rank_soci": 144,
                  "_deepnote_index_column": 0
                },
                {
                  "country": "Angola",
                  "year": 2007,
                  "busi": 27.057371139526367,
                  "rank_busi": 146,
                  "econ": 51.74357986450195,
                  "rank_econ": 125,
                  "educ": 35.91666793823242,
                  "rank_educ": 125,
                  "envi": 47.98216247558594,
                  "rank_envi": 137,
                  "gove": 30.910104751586918,
                  "rank_gove": 137,
                  "heal": 57.914005279541016,
                  "rank_heal": 123,
                  "pers": 45.12345886230469,
                  "rank_pers": 113,
                  "safe": 53.32512283325195,
                  "rank_safe": 137,
                  "soci": 44.95454406738281,
                  "rank_soci": 107,
                  "_deepnote_index_column": 1
                },
                {
                  "country": "Albania",
                  "year": 2007,
                  "busi": 40.62637710571289,
                  "rank_busi": 107,
                  "econ": 57.97951126098633,
                  "rank_econ": 88,
                  "educ": 56.31841278076172,
                  "rank_educ": 72,
                  "envi": 51.049442291259766,
                  "rank_envi": 119,
                  "gove": 42.53165435791016,
                  "rank_gove": 91,
                  "heal": 74.52774810791016,
                  "rank_heal": 45,
                  "pers": 60.27591323852539,
                  "rank_pers": 68,
                  "safe": 68.98988342285156,
                  "rank_safe": 61,
                  "soci": 41.7406120300293,
                  "rank_soci": 124,
                  "_deepnote_index_column": 2
                },
                {
                  "country": "United Arab Emirates",
                  "year": 2007,
                  "busi": 52.79174041748047,
                  "rank_busi": 42,
                  "econ": 67.16781616210938,
                  "rank_econ": 43,
                  "educ": 59.94295501708984,
                  "rank_educ": 52,
                  "envi": 62.05147933959961,
                  "rank_envi": 50,
                  "gove": 48.831993103027344,
                  "rank_gove": 59,
                  "heal": 77.57512664794922,
                  "rank_heal": 34,
                  "pers": 49.08757019042969,
                  "rank_pers": 106,
                  "safe": 80.37022399902344,
                  "rank_safe": 16,
                  "soci": 52.18182373046875,
                  "rank_soci": 51,
                  "_deepnote_index_column": 3
                },
                {
                  "country": "Argentina",
                  "year": 2007,
                  "busi": 47.438419342041016,
                  "rank_busi": 68,
                  "econ": 62.476505279541016,
                  "rank_econ": 61,
                  "educ": 51.99555206298828,
                  "rank_educ": 92,
                  "envi": 64.90972900390625,
                  "rank_envi": 33,
                  "gove": 45.03274154663086,
                  "rank_gove": 84,
                  "heal": 74.43910217285156,
                  "rank_heal": 48,
                  "pers": 63.80562210083008,
                  "rank_pers": 55,
                  "safe": 68.51971435546875,
                  "rank_safe": 65,
                  "soci": 48.40077209472656,
                  "rank_soci": 78,
                  "_deepnote_index_column": 4
                }
              ],
              "rows_bottom": null
            },
            "text/plain": "                country  year       busi  rank_busi       econ  rank_econ  \\\n0           Afghanistan  2007  35.308167        127  53.251713        115   \n1                Angola  2007  27.057371        146  51.743580        125   \n2               Albania  2007  40.626377        107  57.979511         88   \n3  United Arab Emirates  2007  52.791740         42  67.167816         43   \n4             Argentina  2007  47.438419         68  62.476505         61   \n\n        educ  rank_educ       envi  rank_envi       gove  rank_gove  \\\n0  22.494400        143  39.293343        146  29.760307        142   \n1  35.916668        125  47.982162        137  30.910105        137   \n2  56.318413         72  51.049442        119  42.531654         91   \n3  59.942955         52  62.051479         50  48.831993         59   \n4  51.995552         92  64.909729         33  45.032742         84   \n\n        heal  rank_heal       pers  rank_pers       safe  rank_safe  \\\n0  51.600807        140  32.290104        142  37.240280        149   \n1  57.914005        123  45.123459        113  53.325123        137   \n2  74.527748         45  60.275913         68  68.989883         61   \n3  77.575127         34  49.087570        106  80.370224         16   \n4  74.439102         48  63.805622         55  68.519714         65   \n\n        soci  rank_soci  \n0  37.691658        144  \n1  44.954544        107  \n2  41.740612        124  \n3  52.181824         51  \n4  48.400772         78  ",
            "text/html": "<div>\n<style scoped>\n    .dataframe tbody tr th:only-of-type {\n        vertical-align: middle;\n    }\n\n    .dataframe tbody tr th {\n        vertical-align: top;\n    }\n\n    .dataframe thead th {\n        text-align: right;\n    }\n</style>\n<table border=\"1\" class=\"dataframe\">\n  <thead>\n    <tr style=\"text-align: right;\">\n      <th></th>\n      <th>country</th>\n      <th>year</th>\n      <th>busi</th>\n      <th>rank_busi</th>\n      <th>econ</th>\n      <th>rank_econ</th>\n      <th>educ</th>\n      <th>rank_educ</th>\n      <th>envi</th>\n      <th>rank_envi</th>\n      <th>gove</th>\n      <th>rank_gove</th>\n      <th>heal</th>\n      <th>rank_heal</th>\n      <th>pers</th>\n      <th>rank_pers</th>\n      <th>safe</th>\n      <th>rank_safe</th>\n      <th>soci</th>\n      <th>rank_soci</th>\n    </tr>\n  </thead>\n  <tbody>\n    <tr>\n      <th>0</th>\n      <td>Afghanistan</td>\n      <td>2007</td>\n      <td>35.308167</td>\n      <td>127</td>\n      <td>53.251713</td>\n      <td>115</td>\n      <td>22.494400</td>\n      <td>143</td>\n      <td>39.293343</td>\n      <td>146</td>\n      <td>29.760307</td>\n      <td>142</td>\n      <td>51.600807</td>\n      <td>140</td>\n      <td>32.290104</td>\n      <td>142</td>\n      <td>37.240280</td>\n      <td>149</td>\n      <td>37.691658</td>\n      <td>144</td>\n    </tr>\n    <tr>\n      <th>1</th>\n      <td>Angola</td>\n      <td>2007</td>\n      <td>27.057371</td>\n      <td>146</td>\n      <td>51.743580</td>\n      <td>125</td>\n      <td>35.916668</td>\n      <td>125</td>\n      <td>47.982162</td>\n      <td>137</td>\n      <td>30.910105</td>\n      <td>137</td>\n      <td>57.914005</td>\n      <td>123</td>\n      <td>45.123459</td>\n      <td>113</td>\n      <td>53.325123</td>\n      <td>137</td>\n      <td>44.954544</td>\n      <td>107</td>\n    </tr>\n    <tr>\n      <th>2</th>\n      <td>Albania</td>\n      <td>2007</td>\n      <td>40.626377</td>\n      <td>107</td>\n      <td>57.979511</td>\n      <td>88</td>\n      <td>56.318413</td>\n      <td>72</td>\n      <td>51.049442</td>\n      <td>119</td>\n      <td>42.531654</td>\n      <td>91</td>\n      <td>74.527748</td>\n      <td>45</td>\n      <td>60.275913</td>\n      <td>68</td>\n      <td>68.989883</td>\n      <td>61</td>\n      <td>41.740612</td>\n      <td>124</td>\n    </tr>\n    <tr>\n      <th>3</th>\n      <td>United Arab Emirates</td>\n      <td>2007</td>\n      <td>52.791740</td>\n      <td>42</td>\n      <td>67.167816</td>\n      <td>43</td>\n      <td>59.942955</td>\n      <td>52</td>\n      <td>62.051479</td>\n      <td>50</td>\n      <td>48.831993</td>\n      <td>59</td>\n      <td>77.575127</td>\n      <td>34</td>\n      <td>49.087570</td>\n      <td>106</td>\n      <td>80.370224</td>\n      <td>16</td>\n      <td>52.181824</td>\n      <td>51</td>\n    </tr>\n    <tr>\n      <th>4</th>\n      <td>Argentina</td>\n      <td>2007</td>\n      <td>47.438419</td>\n      <td>68</td>\n      <td>62.476505</td>\n      <td>61</td>\n      <td>51.995552</td>\n      <td>92</td>\n      <td>64.909729</td>\n      <td>33</td>\n      <td>45.032742</td>\n      <td>84</td>\n      <td>74.439102</td>\n      <td>48</td>\n      <td>63.805622</td>\n      <td>55</td>\n      <td>68.519714</td>\n      <td>65</td>\n      <td>48.400772</td>\n      <td>78</td>\n    </tr>\n  </tbody>\n</table>\n</div>"
          },
          "metadata": {}
        }
      ]
    },
    {
      "cell_type": "code",
      "metadata": {
        "tags": [],
        "deepnote_to_be_reexecuted": false,
        "source_hash": "4fc6f164",
        "execution_millis": 0,
        "cell_id": "00014-f0bf5fa3-687d-4ecc-806d-5bac8a768a65",
        "execution_start": 1618141948932,
        "deepnote_cell_type": "code"
      },
      "source": "feature_columns = [\"year\", 'ippr', 'logis', 'affs', 'bband', 'redu',\n       'elcostlnl', 'gdp5', 'eqi', 'amp', 'povdday', 'urate', 'edi', 'qslnl',\n       'teryrs', 'secyrs', 'edqualsc', 'Ginih15', 'gbrata', 'pestreg',\n       'improved_drinkwater', 'terrestprotect', 'fwateruse', 'fishstock',\n       'airpollution', 'womenparl', 'rlaw', 'geff', 'ticpi', 'vapvt', 'rqual',\n       'leb', 'impsan', 'imeas', 'Obesity', 'tblnl', 'meandiabetes',\n       'propright', 'lgbt_rights', 'civlib', 'rrgov', 'rrsoc', 'deathpen',\n       'tdeathslnl5', 'bdeathslnl', 'refugee_oriln', 'warcasual', 'pts',\n       'homilnl', 'vtf']",
      "execution_count": 14,
      "outputs": []
    },
    {
      "cell_type": "code",
      "metadata": {
        "tags": [],
        "deepnote_to_be_reexecuted": false,
        "source_hash": "9880456c",
        "execution_millis": 55,
        "cell_id": "00015-92b1990b-05d7-4e76-981a-02f19f85be1a",
        "execution_start": 1618141948936,
        "deepnote_cell_type": "code"
      },
      "source": "from sklearn.model_selection import train_test_split\n\ntrain_X = pd.read_csv(\"data/merged_train.csv\")[feature_columns]\n# train_y = y.iloc[:,2:]\ntrain_y = score_table[pillars]\ntest_X = pd.read_csv(\"data/merged_test.csv\")[feature_columns]\n\ntrain_X, val_X, train_y, val_y = train_test_split(train_X, train_y, test_size=0.33)\nprint(\"train_X: \", train_X.shape, \", train_y: \", train_y.shape)\nprint(\"val_X: \", val_X.shape, \", val_y: \", val_y.shape)",
      "execution_count": 15,
      "outputs": [
        {
          "name": "stdout",
          "text": "train_X:  (798, 50) , train_y:  (798, 9)\nval_X:  (394, 50) , val_y:  (394, 9)\n",
          "output_type": "stream"
        }
      ]
    },
    {
      "cell_type": "code",
      "metadata": {
        "tags": [],
        "deepnote_to_be_reexecuted": false,
        "source_hash": "7fc24a38",
        "execution_millis": 25,
        "cell_id": "00016-409533ca-acff-4c26-87d1-fca1a9f72dea",
        "execution_start": 1618141948988,
        "deepnote_cell_type": "code"
      },
      "source": "lr_model = LinearRegression()\nlr_model.fit(train_X, train_y)\nlr_model.score(val_X,val_y)",
      "execution_count": 16,
      "outputs": [
        {
          "output_type": "execute_result",
          "execution_count": 16,
          "data": {
            "text/plain": "0.9246189690834746"
          },
          "metadata": {}
        }
      ]
    },
    {
      "cell_type": "code",
      "metadata": {
        "tags": [],
        "deepnote_to_be_reexecuted": false,
        "source_hash": "e4f5d193",
        "execution_millis": 17,
        "cell_id": "00017-3f470ca8-06e6-48e3-adbc-af003c7902cd",
        "execution_start": 1618141949009,
        "deepnote_cell_type": "code"
      },
      "source": "lr_model.predict(test_X)",
      "execution_count": 17,
      "outputs": [
        {
          "output_type": "execute_result",
          "execution_count": 17,
          "data": {
            "text/plain": "array([[38.09382099, 51.18611744, 26.00395506, ..., 21.53427206,\n        40.13357182, 38.97790307],\n       [37.64407703, 50.13205634, 30.6172052 , ..., 46.30804399,\n        58.93048538, 45.43188219],\n       [50.97726264, 59.43825506, 59.05743179, ..., 64.96165362,\n        67.91917194, 45.63305253],\n       ...,\n       [62.65471018, 56.44797157, 55.87053138, ..., 81.894171  ,\n        57.65482453, 56.85383064],\n       [48.74124304, 51.4997598 , 41.27907908, ..., 51.67266732,\n        60.62091596, 52.97814118],\n       [41.69971317, 55.32175587, 49.39971263, ..., 47.43957878,\n        57.5508069 , 48.03789726]])"
          },
          "metadata": {}
        }
      ]
    },
    {
      "cell_type": "code",
      "metadata": {
        "tags": [],
        "deepnote_to_be_reexecuted": false,
        "source_hash": "e2c97c1f",
        "execution_millis": 2637,
        "cell_id": "00018-bb0c11f9-c02c-45e4-aaf8-32add1240fd0",
        "execution_start": 1618141949022,
        "deepnote_cell_type": "code"
      },
      "source": "residual_df = (lr_model.predict(val_X) - val_y)[pillars]\n\nfig, axes = plt.subplots(len(residual_df.columns)//3, 3, figsize=(12, 12))\n\ni = 0\nfor triaxis in axes:\n    for axis in triaxis:\n        residual_df.hist(column = residual_df.columns[i], bins = 100, ax=axis)\n        i = i+1",
      "execution_count": 18,
      "outputs": [
        {
          "data": {
            "text/plain": "<Figure size 864x864 with 9 Axes>",
            "image/png": "[encoded data removed]"
          },
          "metadata": {
            "needs_background": "light"
          },
          "output_type": "display_data"
        }
      ]
    },
    {
      "cell_type": "code",
      "metadata": {
        "tags": [],
        "deepnote_to_be_reexecuted": false,
        "source_hash": "8015a6df",
        "execution_millis": 595,
        "cell_id": "00019-d84b3d92-bac3-4536-8837-addfdb3f27de",
        "execution_start": 1618141951594,
        "deepnote_cell_type": "code"
      },
      "source": "from sklearn import svm\nfrom sklearn.multioutput import MultiOutputRegressor\n\n# Create the Multioutput Regressor\nmuti_svr = MultiOutputRegressor(svm.SVR())\nmuti_svr.fit(train_X,train_y)\nmuti_svr.score(val_X,val_y)",
      "execution_count": 19,
      "outputs": [
        {
          "output_type": "execute_result",
          "execution_count": 19,
          "data": {
            "text/plain": "0.22307776826600678"
          },
          "metadata": {}
        }
      ]
    },
    {
      "cell_type": "code",
      "metadata": {
        "tags": [],
        "deepnote_to_be_reexecuted": false,
        "source_hash": "53a44047",
        "execution_millis": 1688,
        "cell_id": "00020-a0a150e7-5bea-4255-9496-accdc12e69d9",
        "execution_start": 1618141952185,
        "deepnote_cell_type": "code"
      },
      "source": "from sklearn.ensemble import RandomForestRegressor\n\nrf_regr = RandomForestRegressor()\nrf_regr.fit(train_X,train_y)\nrf_regr.score(val_X,val_y)",
      "execution_count": 20,
      "outputs": [
        {
          "output_type": "execute_result",
          "execution_count": 20,
          "data": {
            "text/plain": "0.9599743440101562"
          },
          "metadata": {}
        }
      ]
    },
    {
      "cell_type": "code",
      "metadata": {
        "tags": [],
        "deepnote_to_be_reexecuted": false,
        "source_hash": "89fde444",
        "execution_millis": 29345,
        "cell_id": "00021-f5d2bc33-33d0-408f-aaf4-5d81e8899fef",
        "execution_start": 1618141953879,
        "deepnote_cell_type": "code"
      },
      "source": "# from sklearn.decomposition import PCA\n\n# n_lst = list(range(5, 50, 2))\n# lr_scores, rf_scores = [], []\n# for n in n_lst:\n#     print(\"Components:\", n)\n#     pca = PCA(n_components=n)\n#     train_X_pca = pca.fit_transform(train_X)\n#     val_X_pca = pca.transform(val_X)\n\n#     lr_model = LinearRegression()\n#     lr_model.fit(train_X_pca, train_y)\n#     lr_score = lr_model.score(val_X_pca,val_y)\n#     #print(\"Linear Regression after PCA: \", lr_score)\n#     lr_scores.append(lr_score)\n\n#     rf_regr = RandomForestRegressor()\n#     rf_regr.fit(train_X_pca,train_y)\n#     rf_score = rf_regr.score(val_X_pca,val_y)\n#     #print(\"Random Forest after PCA: \", rf_score)\n#     rf_scores.append(rf_score)",
      "execution_count": 21,
      "outputs": [
        {
          "name": "stdout",
          "text": "Components: 5\nComponents: 7\nComponents: 9\nComponents: 11\nComponents: 13\nComponents: 15\nComponents: 17\nComponents: 19\nComponents: 21\nComponents: 23\nComponents: 25\nComponents: 27\nComponents: 29\nComponents: 31\nComponents: 33\nComponents: 35\nComponents: 37\nComponents: 39\nComponents: 41\nComponents: 43\nComponents: 45\nComponents: 47\nComponents: 49\n",
          "output_type": "stream"
        }
      ]
    },
    {
      "cell_type": "code",
      "metadata": {
        "tags": [],
        "deepnote_to_be_reexecuted": false,
        "source_hash": "3bfb1b8c",
        "execution_millis": 338,
        "cell_id": "00022-7d2d866a-f352-4c86-bdf3-b384303916bd",
        "execution_start": 1618142132213,
        "deepnote_cell_type": "code"
      },
      "source": "# plt.plot(n_lst, lr_scores, label=\"Linear Regression\")\n# plt.plot(n_lst, rf_scores, label=\"Random Forest\")\n# plt.legend()\n# plt.xlabel(\"Number of components used in PCA\")\n# plt.ylabel(\"Accuracy\")\n# plt.title(\"Performance of models with different number of principal components\")\n# plt.savefig(\"images/pca_plot.png\")",
      "execution_count": 31,
      "outputs": [
        {
          "data": {
            "text/plain": "<Figure size 432x288 with 1 Axes>",
            "image/png": "[encoded data removed]"
          },
          "metadata": {
            "needs_background": "light"
          },
          "output_type": "display_data"
        }
      ]
    },
    {
      "cell_type": "code",
      "metadata": {
        "tags": [],
        "deepnote_to_be_reexecuted": false,
        "source_hash": "7ad86783",
        "execution_millis": 157,
        "cell_id": "00023-a421c8cf-1d42-44a8-98c9-3981f7660c93",
        "execution_start": 1618141983404,
        "deepnote_cell_type": "code"
      },
      "source": "print(\"Best PCA n = \",n_lst[np.argmax(rf_scores)])\nprint(\"Best Accuracy with Random Forest: \",rf_scores[np.argmax(rf_scores)])",
      "execution_count": 23,
      "outputs": [
        {
          "name": "stdout",
          "text": "Best PCA n =  17\nBest Accuracy with Random Forest:  0.9404464779663684\n",
          "output_type": "stream"
        }
      ]
    },
    {
      "cell_type": "code",
      "metadata": {
        "tags": [],
        "deepnote_to_be_reexecuted": false,
        "source_hash": "b2f37110",
        "execution_millis": 1491,
        "cell_id": "00024-904532d4-968b-40f1-b937-46401b4019cd",
        "execution_start": 1618141983463,
        "deepnote_cell_type": "code"
      },
      "source": "# pca = PCA(n_components=15)\n# train_X_pca = pca.fit_transform(train_X)\n# val_X_pca = pca.transform(val_X)\n\n# best_regr = RandomForestRegressor()\n# best_regr.fit(train_X_pca,train_y)\n# best_score = best_regr.score(val_X_pca,val_y)\n# best_score\n\nrf_regr = RandomForestRegressor()\nrf_regr.fit(train_X,train_y)\nrf_regr.score(val_X,val_y)",
      "execution_count": 24,
      "outputs": [
        {
          "output_type": "execute_result",
          "execution_count": 24,
          "data": {
            "text/plain": "0.962013481692119"
          },
          "metadata": {}
        }
      ]
    },
    {
      "cell_type": "code",
      "metadata": {
        "tags": [],
        "deepnote_to_be_reexecuted": false,
        "source_hash": "3d59b59",
        "execution_millis": 26,
        "cell_id": "00025-101319c6-884e-4360-9a32-f6117e85f42c",
        "execution_start": 1618141984932,
        "deepnote_cell_type": "code"
      },
      "source": "top_growth = top_growth[:5]\ntop_growth",
      "execution_count": 25,
      "outputs": [
        {
          "output_type": "execute_result",
          "execution_count": 25,
          "data": {
            "text/plain": "['Togo', 'Zimbabwe', 'Chad', 'Georgia', 'Macedonia']"
          },
          "metadata": {}
        }
      ]
    },
    {
      "cell_type": "code",
      "metadata": {
        "tags": [],
        "deepnote_to_be_reexecuted": false,
        "source_hash": "ec8a109a",
        "execution_millis": 8,
        "cell_id": "00026-5cbced5f-6283-4191-a45a-46e16feae17a",
        "execution_start": 1618143893891,
        "deepnote_cell_type": "code"
      },
      "source": "# test_X = pd.read_csv(\"merged_test.csv\")[feature_columns]\nraw_test = pd.read_csv(\"data/merged_test.csv\")\ntogo_X = raw_test[raw_test[\"country\"] == \"Togo\"][feature_columns]\nrf_regr.predict(togo_X)",
      "execution_count": 69,
      "outputs": [
        {
          "output_type": "execute_result",
          "execution_count": 69,
          "data": {
            "text/plain": "array([[40.18395639, 50.01771572, 31.92911963, 58.10699299, 35.84083681,\n        53.80361168, 55.88599583, 58.7379837 , 34.75551064],\n       [40.18395639, 50.01771572, 31.92911963, 58.10699299, 35.84083681,\n        53.80361168, 55.88599583, 58.7379837 , 34.75551064]])"
          },
          "metadata": {}
        }
      ]
    },
    {
      "cell_type": "code",
      "source": "raw_test[raw_test[\"country\"] == \"Togo\"]",
      "metadata": {
        "tags": [],
        "cell_id": "00027-fb39a8e3-522d-4e85-af77-45199b97be7a",
        "deepnote_to_be_reexecuted": false,
        "source_hash": "25b6e3ae",
        "execution_start": 1618143906274,
        "execution_millis": 107,
        "deepnote_cell_type": "code"
      },
      "outputs": [
        {
          "output_type": "execute_result",
          "execution_count": 70,
          "data": {
            "application/vnd.deepnote.dataframe.v2+json": {
              "row_count": 2,
              "column_count": 79,
              "columns": [
                {
                  "name": "Unnamed: 0",
                  "dtype": "int64",
                  "stats": {
                    "unique_count": 2,
                    "nan_count": 0,
                    "min": 132,
                    "max": 281,
                    "histogram": [
                      {
                        "bin_start": 132,
                        "bin_end": 146.9,
                        "count": 1
                      },
                      {
                        "bin_start": 146.9,
                        "bin_end": 161.8,
                        "count": 0
                      },
                      {
                        "bin_start": 161.8,
                        "bin_end": 176.7,
                        "count": 0
                      },
                      {
                        "bin_start": 176.7,
                        "bin_end": 191.6,
                        "count": 0
                      },
                      {
                        "bin_start": 191.6,
                        "bin_end": 206.5,
                        "count": 0
                      },
                      {
                        "bin_start": 206.5,
                        "bin_end": 221.4,
                        "count": 0
                      },
                      {
                        "bin_start": 221.4,
                        "bin_end": 236.3,
                        "count": 0
                      },
                      {
                        "bin_start": 236.3,
                        "bin_end": 251.2,
                        "count": 0
                      },
                      {
                        "bin_start": 251.2,
                        "bin_end": 266.1,
                        "count": 0
                      },
                      {
                        "bin_start": 266.1,
                        "bin_end": 281,
                        "count": 1
                      }
                    ]
                  }
                },
                {
                  "name": "country",
                  "dtype": "object",
                  "stats": {
                    "unique_count": 1,
                    "nan_count": 0,
                    "categories": [
                      {
                        "name": "Togo",
                        "count": 2
                      }
                    ]
                  }
                },
                {
                  "name": "isonum",
                  "dtype": "int64",
                  "stats": {
                    "unique_count": 1,
                    "nan_count": 0,
                    "min": 768,
                    "max": 768,
                    "histogram": [
                      {
                        "bin_start": 767.5,
                        "bin_end": 767.6,
                        "count": 0
                      },
                      {
                        "bin_start": 767.6,
                        "bin_end": 767.7,
                        "count": 0
                      },
                      {
                        "bin_start": 767.7,
                        "bin_end": 767.8,
                        "count": 0
                      },
                      {
                        "bin_start": 767.8,
                        "bin_end": 767.9,
                        "count": 0
                      },
                      {
                        "bin_start": 767.9,
                        "bin_end": 768,
                        "count": 0
                      },
                      {
                        "bin_start": 768,
                        "bin_end": 768.1,
                        "count": 2
                      },
                      {
                        "bin_start": 768.1,
                        "bin_end": 768.2,
                        "count": 0
                      },
                      {
                        "bin_start": 768.2,
                        "bin_end": 768.3,
                        "count": 0
                      },
                      {
                        "bin_start": 768.3,
                        "bin_end": 768.4,
                        "count": 0
                      },
                      {
                        "bin_start": 768.4,
                        "bin_end": 768.5,
                        "count": 0
                      }
                    ]
                  }
                },
                {
                  "name": "isocode",
                  "dtype": "object",
                  "stats": {
                    "unique_count": 1,
                    "nan_count": 0,
                    "categories": [
                      {
                        "name": "TGO",
                        "count": 2
                      }
                    ]
                  }
                },
                {
                  "name": "year",
                  "dtype": "int64",
                  "stats": {
                    "unique_count": 2,
                    "nan_count": 0,
                    "min": 2015,
                    "max": 2016,
                    "histogram": [
                      {
                        "bin_start": 2015,
                        "bin_end": 2015.1,
                        "count": 1
                      },
                      {
                        "bin_start": 2015.1,
                        "bin_end": 2015.2,
                        "count": 0
                      },
                      {
                        "bin_start": 2015.2,
                        "bin_end": 2015.3,
                        "count": 0
                      },
                      {
                        "bin_start": 2015.3,
                        "bin_end": 2015.4,
                        "count": 0
                      },
                      {
                        "bin_start": 2015.4,
                        "bin_end": 2015.5,
                        "count": 0
                      },
                      {
                        "bin_start": 2015.5,
                        "bin_end": 2015.6,
                        "count": 0
                      },
                      {
                        "bin_start": 2015.6,
                        "bin_end": 2015.7,
                        "count": 0
                      },
                      {
                        "bin_start": 2015.7,
                        "bin_end": 2015.8,
                        "count": 0
                      },
                      {
                        "bin_start": 2015.8,
                        "bin_end": 2015.9,
                        "count": 0
                      },
                      {
                        "bin_start": 2015.9,
                        "bin_end": 2016,
                        "count": 1
                      }
                    ]
                  }
                },
                {
                  "name": "logis",
                  "dtype": "float64",
                  "stats": {
                    "unique_count": 1,
                    "nan_count": 0,
                    "min": 2.318459987640381,
                    "max": 2.318459987640381,
                    "histogram": [
                      {
                        "bin_start": 1.8184599876403809,
                        "bin_end": 1.918459987640381,
                        "count": 0
                      },
                      {
                        "bin_start": 1.918459987640381,
                        "bin_end": 2.018459987640381,
                        "count": 0
                      },
                      {
                        "bin_start": 2.018459987640381,
                        "bin_end": 2.1184599876403807,
                        "count": 0
                      },
                      {
                        "bin_start": 2.1184599876403807,
                        "bin_end": 2.2184599876403808,
                        "count": 0
                      },
                      {
                        "bin_start": 2.2184599876403808,
                        "bin_end": 2.318459987640381,
                        "count": 0
                      },
                      {
                        "bin_start": 2.318459987640381,
                        "bin_end": 2.418459987640381,
                        "count": 2
                      },
                      {
                        "bin_start": 2.418459987640381,
                        "bin_end": 2.518459987640381,
                        "count": 0
                      },
                      {
                        "bin_start": 2.518459987640381,
                        "bin_end": 2.6184599876403807,
                        "count": 0
                      },
                      {
                        "bin_start": 2.6184599876403807,
                        "bin_end": 2.7184599876403808,
                        "count": 0
                      },
                      {
                        "bin_start": 2.7184599876403808,
                        "bin_end": 2.818459987640381,
                        "count": 0
                      }
                    ]
                  }
                },
                {
                  "name": "bband",
                  "dtype": "float64",
                  "stats": {
                    "unique_count": 1,
                    "nan_count": 0,
                    "min": 0.1803168952465057,
                    "max": 0.1803168952465057,
                    "histogram": [
                      {
                        "bin_start": -0.31968310475349426,
                        "bin_end": -0.21968310475349426,
                        "count": 0
                      },
                      {
                        "bin_start": -0.21968310475349426,
                        "bin_end": -0.11968310475349425,
                        "count": 0
                      },
                      {
                        "bin_start": -0.11968310475349425,
                        "bin_end": -0.01968310475349422,
                        "count": 0
                      },
                      {
                        "bin_start": -0.01968310475349422,
                        "bin_end": 0.08031689524650576,
                        "count": 0
                      },
                      {
                        "bin_start": 0.08031689524650576,
                        "bin_end": 0.18031689524650574,
                        "count": 2
                      },
                      {
                        "bin_start": 0.18031689524650574,
                        "bin_end": 0.2803168952465058,
                        "count": 0
                      },
                      {
                        "bin_start": 0.2803168952465058,
                        "bin_end": 0.3803168952465058,
                        "count": 0
                      },
                      {
                        "bin_start": 0.3803168952465058,
                        "bin_end": 0.4803168952465058,
                        "count": 0
                      },
                      {
                        "bin_start": 0.4803168952465058,
                        "bin_end": 0.5803168952465058,
                        "count": 0
                      },
                      {
                        "bin_start": 0.5803168952465058,
                        "bin_end": 0.6803168952465057,
                        "count": 0
                      }
                    ]
                  }
                },
                {
                  "name": "redu",
                  "dtype": "float64",
                  "stats": {
                    "unique_count": 1,
                    "nan_count": 0,
                    "min": 18.701860427856445,
                    "max": 18.701860427856445,
                    "histogram": [
                      {
                        "bin_start": 18.201860427856445,
                        "bin_end": 18.301860427856447,
                        "count": 0
                      },
                      {
                        "bin_start": 18.301860427856447,
                        "bin_end": 18.401860427856445,
                        "count": 0
                      },
                      {
                        "bin_start": 18.401860427856445,
                        "bin_end": 18.501860427856446,
                        "count": 0
                      },
                      {
                        "bin_start": 18.501860427856446,
                        "bin_end": 18.601860427856444,
                        "count": 0
                      },
                      {
                        "bin_start": 18.601860427856444,
                        "bin_end": 18.701860427856445,
                        "count": 0
                      },
                      {
                        "bin_start": 18.701860427856445,
                        "bin_end": 18.801860427856447,
                        "count": 2
                      },
                      {
                        "bin_start": 18.801860427856447,
                        "bin_end": 18.901860427856445,
                        "count": 0
                      },
                      {
                        "bin_start": 18.901860427856445,
                        "bin_end": 19.001860427856446,
                        "count": 0
                      },
                      {
                        "bin_start": 19.001860427856446,
                        "bin_end": 19.101860427856444,
                        "count": 0
                      },
                      {
                        "bin_start": 19.101860427856444,
                        "bin_end": 19.201860427856445,
                        "count": 0
                      }
                    ]
                  }
                },
                {
                  "name": "hifi",
                  "dtype": "float64",
                  "stats": {
                    "unique_count": 1,
                    "nan_count": 0,
                    "min": 3.7107396125793457,
                    "max": 3.7107396125793457,
                    "histogram": [
                      {
                        "bin_start": 3.2107396125793457,
                        "bin_end": 3.310739612579346,
                        "count": 0
                      },
                      {
                        "bin_start": 3.310739612579346,
                        "bin_end": 3.410739612579346,
                        "count": 0
                      },
                      {
                        "bin_start": 3.410739612579346,
                        "bin_end": 3.5107396125793455,
                        "count": 0
                      },
                      {
                        "bin_start": 3.5107396125793455,
                        "bin_end": 3.6107396125793456,
                        "count": 0
                      },
                      {
                        "bin_start": 3.6107396125793456,
                        "bin_end": 3.7107396125793457,
                        "count": 0
                      },
                      {
                        "bin_start": 3.7107396125793457,
                        "bin_end": 3.810739612579346,
                        "count": 2
                      },
                      {
                        "bin_start": 3.810739612579346,
                        "bin_end": 3.910739612579346,
                        "count": 0
                      },
                      {
                        "bin_start": 3.910739612579346,
                        "bin_end": 4.0107396125793455,
                        "count": 0
                      },
                      {
                        "bin_start": 4.0107396125793455,
                        "bin_end": 4.110739612579346,
                        "count": 0
                      },
                      {
                        "bin_start": 4.110739612579346,
                        "bin_end": 4.210739612579346,
                        "count": 0
                      }
                    ]
                  }
                },
                {
                  "name": "affs",
                  "dtype": "float64",
                  "stats": {
                    "unique_count": 1,
                    "nan_count": 0,
                    "min": 3.401470422744751,
                    "max": 3.401470422744751,
                    "histogram": [
                      {
                        "bin_start": 2.901470422744751,
                        "bin_end": 3.001470422744751,
                        "count": 0
                      },
                      {
                        "bin_start": 3.001470422744751,
                        "bin_end": 3.101470422744751,
                        "count": 0
                      },
                      {
                        "bin_start": 3.101470422744751,
                        "bin_end": 3.201470422744751,
                        "count": 0
                      },
                      {
                        "bin_start": 3.201470422744751,
                        "bin_end": 3.301470422744751,
                        "count": 0
                      },
                      {
                        "bin_start": 3.301470422744751,
                        "bin_end": 3.401470422744751,
                        "count": 0
                      },
                      {
                        "bin_start": 3.401470422744751,
                        "bin_end": 3.501470422744751,
                        "count": 2
                      },
                      {
                        "bin_start": 3.501470422744751,
                        "bin_end": 3.601470422744751,
                        "count": 0
                      },
                      {
                        "bin_start": 3.601470422744751,
                        "bin_end": 3.701470422744751,
                        "count": 0
                      },
                      {
                        "bin_start": 3.701470422744751,
                        "bin_end": 3.801470422744751,
                        "count": 0
                      },
                      {
                        "bin_start": 3.801470422744751,
                        "bin_end": 3.901470422744751,
                        "count": 0
                      }
                    ]
                  }
                },
                {
                  "name": "ippr",
                  "dtype": "float64",
                  "stats": {
                    "unique_count": 1,
                    "nan_count": 0,
                    "min": 3.069371223449707,
                    "max": 3.069371223449707,
                    "histogram": [
                      {
                        "bin_start": 2.569371223449707,
                        "bin_end": 2.669371223449707,
                        "count": 0
                      },
                      {
                        "bin_start": 2.669371223449707,
                        "bin_end": 2.769371223449707,
                        "count": 0
                      },
                      {
                        "bin_start": 2.769371223449707,
                        "bin_end": 2.869371223449707,
                        "count": 0
                      },
                      {
                        "bin_start": 2.869371223449707,
                        "bin_end": 2.969371223449707,
                        "count": 0
                      },
                      {
                        "bin_start": 2.969371223449707,
                        "bin_end": 3.069371223449707,
                        "count": 0
                      },
                      {
                        "bin_start": 3.069371223449707,
                        "bin_end": 3.169371223449707,
                        "count": 2
                      },
                      {
                        "bin_start": 3.169371223449707,
                        "bin_end": 3.269371223449707,
                        "count": 0
                      },
                      {
                        "bin_start": 3.269371223449707,
                        "bin_end": 3.369371223449707,
                        "count": 0
                      },
                      {
                        "bin_start": 3.369371223449707,
                        "bin_end": 3.469371223449707,
                        "count": 0
                      },
                      {
                        "bin_start": 3.469371223449707,
                        "bin_end": 3.569371223449707,
                        "count": 0
                      }
                    ]
                  }
                },
                {
                  "name": "insdtf",
                  "dtype": "float64",
                  "stats": {
                    "unique_count": 1,
                    "nan_count": 0,
                    "min": 43.12,
                    "max": 43.12,
                    "histogram": [
                      {
                        "bin_start": 42.62,
                        "bin_end": 42.72,
                        "count": 0
                      },
                      {
                        "bin_start": 42.72,
                        "bin_end": 42.82,
                        "count": 0
                      },
                      {
                        "bin_start": 42.82,
                        "bin_end": 42.919999999999995,
                        "count": 0
                      },
                      {
                        "bin_start": 42.919999999999995,
                        "bin_end": 43.019999999999996,
                        "count": 0
                      },
                      {
                        "bin_start": 43.019999999999996,
                        "bin_end": 43.12,
                        "count": 0
                      },
                      {
                        "bin_start": 43.12,
                        "bin_end": 43.22,
                        "count": 2
                      },
                      {
                        "bin_start": 43.22,
                        "bin_end": 43.32,
                        "count": 0
                      },
                      {
                        "bin_start": 43.32,
                        "bin_end": 43.419999999999995,
                        "count": 0
                      },
                      {
                        "bin_start": 43.419999999999995,
                        "bin_end": 43.519999999999996,
                        "count": 0
                      },
                      {
                        "bin_start": 43.519999999999996,
                        "bin_end": 43.62,
                        "count": 0
                      }
                    ]
                  }
                },
                {
                  "name": "creddtf",
                  "dtype": "float64",
                  "stats": {
                    "unique_count": 1,
                    "nan_count": 0,
                    "min": 30,
                    "max": 30,
                    "histogram": [
                      {
                        "bin_start": 29.5,
                        "bin_end": 29.6,
                        "count": 0
                      },
                      {
                        "bin_start": 29.6,
                        "bin_end": 29.7,
                        "count": 0
                      },
                      {
                        "bin_start": 29.7,
                        "bin_end": 29.8,
                        "count": 0
                      },
                      {
                        "bin_start": 29.8,
                        "bin_end": 29.9,
                        "count": 0
                      },
                      {
                        "bin_start": 29.9,
                        "bin_end": 30,
                        "count": 0
                      },
                      {
                        "bin_start": 30,
                        "bin_end": 30.1,
                        "count": 2
                      },
                      {
                        "bin_start": 30.1,
                        "bin_end": 30.2,
                        "count": 0
                      },
                      {
                        "bin_start": 30.2,
                        "bin_end": 30.3,
                        "count": 0
                      },
                      {
                        "bin_start": 30.3,
                        "bin_end": 30.4,
                        "count": 0
                      },
                      {
                        "bin_start": 30.4,
                        "bin_end": 30.5,
                        "count": 0
                      }
                    ]
                  }
                },
                {
                  "name": "elcostlnl",
                  "dtype": "float64",
                  "stats": {
                    "unique_count": 1,
                    "nan_count": 0,
                    "min": 8.649115562438965,
                    "max": 8.649115562438965,
                    "histogram": [
                      {
                        "bin_start": 8.149115562438965,
                        "bin_end": 8.249115562438964,
                        "count": 0
                      },
                      {
                        "bin_start": 8.249115562438964,
                        "bin_end": 8.349115562438964,
                        "count": 0
                      },
                      {
                        "bin_start": 8.349115562438964,
                        "bin_end": 8.449115562438966,
                        "count": 0
                      },
                      {
                        "bin_start": 8.449115562438966,
                        "bin_end": 8.549115562438965,
                        "count": 0
                      },
                      {
                        "bin_start": 8.549115562438965,
                        "bin_end": 8.649115562438965,
                        "count": 0
                      },
                      {
                        "bin_start": 8.649115562438965,
                        "bin_end": 8.749115562438964,
                        "count": 2
                      },
                      {
                        "bin_start": 8.749115562438964,
                        "bin_end": 8.849115562438964,
                        "count": 0
                      },
                      {
                        "bin_start": 8.849115562438964,
                        "bin_end": 8.949115562438966,
                        "count": 0
                      },
                      {
                        "bin_start": 8.949115562438966,
                        "bin_end": 9.049115562438965,
                        "count": 0
                      },
                      {
                        "bin_start": 9.049115562438965,
                        "bin_end": 9.149115562438965,
                        "count": 0
                      }
                    ]
                  }
                },
                {
                  "name": "stardtf",
                  "dtype": "float64",
                  "stats": {
                    "unique_count": 1,
                    "nan_count": 0,
                    "min": 78.37,
                    "max": 78.37,
                    "histogram": [
                      {
                        "bin_start": 77.87,
                        "bin_end": 77.97,
                        "count": 0
                      },
                      {
                        "bin_start": 77.97,
                        "bin_end": 78.07000000000001,
                        "count": 0
                      },
                      {
                        "bin_start": 78.07000000000001,
                        "bin_end": 78.17,
                        "count": 0
                      },
                      {
                        "bin_start": 78.17,
                        "bin_end": 78.27000000000001,
                        "count": 0
                      },
                      {
                        "bin_start": 78.27000000000001,
                        "bin_end": 78.37,
                        "count": 0
                      },
                      {
                        "bin_start": 78.37,
                        "bin_end": 78.47,
                        "count": 2
                      },
                      {
                        "bin_start": 78.47,
                        "bin_end": 78.57000000000001,
                        "count": 0
                      },
                      {
                        "bin_start": 78.57000000000001,
                        "bin_end": 78.67,
                        "count": 0
                      },
                      {
                        "bin_start": 78.67,
                        "bin_end": 78.77000000000001,
                        "count": 0
                      },
                      {
                        "bin_start": 78.77000000000001,
                        "bin_end": 78.87,
                        "count": 0
                      }
                    ]
                  }
                },
                {
                  "name": "barrier",
                  "dtype": "float64",
                  "stats": {
                    "unique_count": 1,
                    "nan_count": 0,
                    "min": 4.054763317108154,
                    "max": 4.054763317108154,
                    "histogram": [
                      {
                        "bin_start": 3.5547633171081543,
                        "bin_end": 3.6547633171081544,
                        "count": 0
                      },
                      {
                        "bin_start": 3.6547633171081544,
                        "bin_end": 3.7547633171081545,
                        "count": 0
                      },
                      {
                        "bin_start": 3.7547633171081545,
                        "bin_end": 3.854763317108154,
                        "count": 0
                      },
                      {
                        "bin_start": 3.854763317108154,
                        "bin_end": 3.954763317108154,
                        "count": 0
                      },
                      {
                        "bin_start": 3.954763317108154,
                        "bin_end": 4.054763317108154,
                        "count": 0
                      },
                      {
                        "bin_start": 4.054763317108154,
                        "bin_end": 4.154763317108154,
                        "count": 2
                      },
                      {
                        "bin_start": 4.154763317108154,
                        "bin_end": 4.2547633171081545,
                        "count": 0
                      },
                      {
                        "bin_start": 4.2547633171081545,
                        "bin_end": 4.354763317108154,
                        "count": 0
                      },
                      {
                        "bin_start": 4.354763317108154,
                        "bin_end": 4.454763317108155,
                        "count": 0
                      },
                      {
                        "bin_start": 4.454763317108155,
                        "bin_end": 4.554763317108154,
                        "count": 0
                      }
                    ]
                  }
                },
                {
                  "name": "amp",
                  "dtype": "float64",
                  "stats": {
                    "unique_count": 1,
                    "nan_count": 0,
                    "min": 3.6268274784088135,
                    "max": 3.6268274784088135,
                    "histogram": [
                      {
                        "bin_start": 3.1268274784088135,
                        "bin_end": 3.2268274784088136,
                        "count": 0
                      },
                      {
                        "bin_start": 3.2268274784088136,
                        "bin_end": 3.3268274784088137,
                        "count": 0
                      },
                      {
                        "bin_start": 3.3268274784088137,
                        "bin_end": 3.4268274784088133,
                        "count": 0
                      },
                      {
                        "bin_start": 3.4268274784088133,
                        "bin_end": 3.5268274784088134,
                        "count": 0
                      },
                      {
                        "bin_start": 3.5268274784088134,
                        "bin_end": 3.6268274784088135,
                        "count": 0
                      },
                      {
                        "bin_start": 3.6268274784088135,
                        "bin_end": 3.7268274784088136,
                        "count": 2
                      },
                      {
                        "bin_start": 3.7268274784088136,
                        "bin_end": 3.8268274784088137,
                        "count": 0
                      },
                      {
                        "bin_start": 3.8268274784088137,
                        "bin_end": 3.9268274784088133,
                        "count": 0
                      },
                      {
                        "bin_start": 3.9268274784088133,
                        "bin_end": 4.026827478408814,
                        "count": 0
                      },
                      {
                        "bin_start": 4.026827478408814,
                        "bin_end": 4.1268274784088135,
                        "count": 0
                      }
                    ]
                  }
                },
                {
                  "name": "parfem",
                  "dtype": "float64",
                  "stats": {
                    "unique_count": 1,
                    "nan_count": 0,
                    "min": 82.19999694824219,
                    "max": 82.19999694824219,
                    "histogram": [
                      {
                        "bin_start": 81.69999694824219,
                        "bin_end": 81.79999694824218,
                        "count": 0
                      },
                      {
                        "bin_start": 81.79999694824218,
                        "bin_end": 81.89999694824219,
                        "count": 0
                      },
                      {
                        "bin_start": 81.89999694824219,
                        "bin_end": 81.99999694824218,
                        "count": 0
                      },
                      {
                        "bin_start": 81.99999694824218,
                        "bin_end": 82.0999969482422,
                        "count": 0
                      },
                      {
                        "bin_start": 82.0999969482422,
                        "bin_end": 82.19999694824219,
                        "count": 0
                      },
                      {
                        "bin_start": 82.19999694824219,
                        "bin_end": 82.29999694824218,
                        "count": 2
                      },
                      {
                        "bin_start": 82.29999694824218,
                        "bin_end": 82.39999694824219,
                        "count": 0
                      },
                      {
                        "bin_start": 82.39999694824219,
                        "bin_end": 82.49999694824218,
                        "count": 0
                      },
                      {
                        "bin_start": 82.49999694824218,
                        "bin_end": 82.5999969482422,
                        "count": 0
                      },
                      {
                        "bin_start": 82.5999969482422,
                        "bin_end": 82.69999694824219,
                        "count": 0
                      }
                    ]
                  }
                },
                {
                  "name": "banka",
                  "dtype": "float64",
                  "stats": {
                    "unique_count": 1,
                    "nan_count": 0,
                    "min": 10.1852397918701,
                    "max": 10.1852397918701,
                    "histogram": [
                      {
                        "bin_start": 9.6852397918701,
                        "bin_end": 9.785239791870099,
                        "count": 0
                      },
                      {
                        "bin_start": 9.785239791870099,
                        "bin_end": 9.885239791870099,
                        "count": 0
                      },
                      {
                        "bin_start": 9.885239791870099,
                        "bin_end": 9.9852397918701,
                        "count": 0
                      },
                      {
                        "bin_start": 9.9852397918701,
                        "bin_end": 10.0852397918701,
                        "count": 0
                      },
                      {
                        "bin_start": 10.0852397918701,
                        "bin_end": 10.1852397918701,
                        "count": 0
                      },
                      {
                        "bin_start": 10.1852397918701,
                        "bin_end": 10.285239791870099,
                        "count": 2
                      },
                      {
                        "bin_start": 10.285239791870099,
                        "bin_end": 10.385239791870099,
                        "count": 0
                      },
                      {
                        "bin_start": 10.385239791870099,
                        "bin_end": 10.4852397918701,
                        "count": 0
                      },
                      {
                        "bin_start": 10.4852397918701,
                        "bin_end": 10.5852397918701,
                        "count": 0
                      },
                      {
                        "bin_start": 10.5852397918701,
                        "bin_end": 10.6852397918701,
                        "count": 0
                      }
                    ]
                  }
                },
                {
                  "name": "povnahc",
                  "dtype": "float64",
                  "stats": {
                    "unique_count": 1,
                    "nan_count": 0,
                    "min": 55.09999847412109,
                    "max": 55.09999847412109,
                    "histogram": [
                      {
                        "bin_start": 54.59999847412109,
                        "bin_end": 54.69999847412109,
                        "count": 0
                      },
                      {
                        "bin_start": 54.69999847412109,
                        "bin_end": 54.79999847412109,
                        "count": 0
                      },
                      {
                        "bin_start": 54.79999847412109,
                        "bin_end": 54.899998474121084,
                        "count": 0
                      },
                      {
                        "bin_start": 54.899998474121084,
                        "bin_end": 54.999998474121085,
                        "count": 0
                      },
                      {
                        "bin_start": 54.999998474121085,
                        "bin_end": 55.09999847412109,
                        "count": 0
                      },
                      {
                        "bin_start": 55.09999847412109,
                        "bin_end": 55.19999847412109,
                        "count": 2
                      },
                      {
                        "bin_start": 55.19999847412109,
                        "bin_end": 55.29999847412109,
                        "count": 0
                      },
                      {
                        "bin_start": 55.29999847412109,
                        "bin_end": 55.399998474121084,
                        "count": 0
                      },
                      {
                        "bin_start": 55.399998474121084,
                        "bin_end": 55.499998474121085,
                        "count": 0
                      },
                      {
                        "bin_start": 55.499998474121085,
                        "bin_end": 55.59999847412109,
                        "count": 0
                      }
                    ]
                  }
                },
                {
                  "name": "povdday",
                  "dtype": "float64",
                  "stats": {
                    "unique_count": 1,
                    "nan_count": 0,
                    "min": 54.18000030517578,
                    "max": 54.18000030517578,
                    "histogram": [
                      {
                        "bin_start": 53.68000030517578,
                        "bin_end": 53.78000030517578,
                        "count": 0
                      },
                      {
                        "bin_start": 53.78000030517578,
                        "bin_end": 53.880000305175784,
                        "count": 0
                      },
                      {
                        "bin_start": 53.880000305175784,
                        "bin_end": 53.98000030517578,
                        "count": 0
                      },
                      {
                        "bin_start": 53.98000030517578,
                        "bin_end": 54.08000030517578,
                        "count": 0
                      },
                      {
                        "bin_start": 54.08000030517578,
                        "bin_end": 54.18000030517578,
                        "count": 0
                      },
                      {
                        "bin_start": 54.18000030517578,
                        "bin_end": 54.28000030517578,
                        "count": 2
                      },
                      {
                        "bin_start": 54.28000030517578,
                        "bin_end": 54.380000305175784,
                        "count": 0
                      },
                      {
                        "bin_start": 54.380000305175784,
                        "bin_end": 54.48000030517578,
                        "count": 0
                      },
                      {
                        "bin_start": 54.48000030517578,
                        "bin_end": 54.58000030517578,
                        "count": 0
                      },
                      {
                        "bin_start": 54.58000030517578,
                        "bin_end": 54.68000030517578,
                        "count": 0
                      }
                    ]
                  }
                },
                {
                  "name": "lfpr",
                  "dtype": "float64",
                  "stats": {
                    "unique_count": 1,
                    "nan_count": 0,
                    "min": 82.30000305175781,
                    "max": 82.30000305175781,
                    "histogram": [
                      {
                        "bin_start": 81.80000305175781,
                        "bin_end": 81.9000030517578,
                        "count": 0
                      },
                      {
                        "bin_start": 81.9000030517578,
                        "bin_end": 82.00000305175782,
                        "count": 0
                      },
                      {
                        "bin_start": 82.00000305175782,
                        "bin_end": 82.10000305175781,
                        "count": 0
                      },
                      {
                        "bin_start": 82.10000305175781,
                        "bin_end": 82.20000305175782,
                        "count": 0
                      },
                      {
                        "bin_start": 82.20000305175782,
                        "bin_end": 82.30000305175781,
                        "count": 0
                      },
                      {
                        "bin_start": 82.30000305175781,
                        "bin_end": 82.4000030517578,
                        "count": 2
                      },
                      {
                        "bin_start": 82.4000030517578,
                        "bin_end": 82.50000305175782,
                        "count": 0
                      },
                      {
                        "bin_start": 82.50000305175782,
                        "bin_end": 82.60000305175781,
                        "count": 0
                      },
                      {
                        "bin_start": 82.60000305175781,
                        "bin_end": 82.70000305175782,
                        "count": 0
                      },
                      {
                        "bin_start": 82.70000305175782,
                        "bin_end": 82.80000305175781,
                        "count": 0
                      }
                    ]
                  }
                },
                {
                  "name": "urate",
                  "dtype": "float64",
                  "stats": {
                    "unique_count": 1,
                    "nan_count": 0,
                    "min": 6.900000095367432,
                    "max": 6.900000095367432,
                    "histogram": [
                      {
                        "bin_start": 6.400000095367432,
                        "bin_end": 6.500000095367431,
                        "count": 0
                      },
                      {
                        "bin_start": 6.500000095367431,
                        "bin_end": 6.600000095367432,
                        "count": 0
                      },
                      {
                        "bin_start": 6.600000095367432,
                        "bin_end": 6.7000000953674315,
                        "count": 0
                      },
                      {
                        "bin_start": 6.7000000953674315,
                        "bin_end": 6.800000095367432,
                        "count": 0
                      },
                      {
                        "bin_start": 6.800000095367432,
                        "bin_end": 6.900000095367432,
                        "count": 0
                      },
                      {
                        "bin_start": 6.900000095367432,
                        "bin_end": 7.000000095367431,
                        "count": 2
                      },
                      {
                        "bin_start": 7.000000095367431,
                        "bin_end": 7.100000095367432,
                        "count": 0
                      },
                      {
                        "bin_start": 7.100000095367432,
                        "bin_end": 7.2000000953674315,
                        "count": 0
                      },
                      {
                        "bin_start": 7.2000000953674315,
                        "bin_end": 7.300000095367432,
                        "count": 0
                      },
                      {
                        "bin_start": 7.300000095367432,
                        "bin_end": 7.400000095367432,
                        "count": 0
                      }
                    ]
                  }
                },
                {
                  "name": "eqi",
                  "dtype": "float64",
                  "stats": {
                    "unique_count": 1,
                    "nan_count": 0,
                    "min": 0.759587287902832,
                    "max": 0.759587287902832,
                    "histogram": [
                      {
                        "bin_start": 0.25958728790283203,
                        "bin_end": 0.359587287902832,
                        "count": 0
                      },
                      {
                        "bin_start": 0.359587287902832,
                        "bin_end": 0.45958728790283204,
                        "count": 0
                      },
                      {
                        "bin_start": 0.45958728790283204,
                        "bin_end": 0.5595872879028321,
                        "count": 0
                      },
                      {
                        "bin_start": 0.5595872879028321,
                        "bin_end": 0.659587287902832,
                        "count": 0
                      },
                      {
                        "bin_start": 0.659587287902832,
                        "bin_end": 0.759587287902832,
                        "count": 0
                      },
                      {
                        "bin_start": 0.759587287902832,
                        "bin_end": 0.8595872879028321,
                        "count": 2
                      },
                      {
                        "bin_start": 0.8595872879028321,
                        "bin_end": 0.9595872879028321,
                        "count": 0
                      },
                      {
                        "bin_start": 0.9595872879028321,
                        "bin_end": 1.059587287902832,
                        "count": 0
                      },
                      {
                        "bin_start": 1.059587287902832,
                        "bin_end": 1.159587287902832,
                        "count": 0
                      },
                      {
                        "bin_start": 1.159587287902832,
                        "bin_end": 1.259587287902832,
                        "count": 0
                      }
                    ]
                  }
                },
                {
                  "name": "edi",
                  "dtype": "float64",
                  "stats": {
                    "unique_count": 1,
                    "nan_count": 0,
                    "min": 3.488539934158325,
                    "max": 3.488539934158325,
                    "histogram": [
                      {
                        "bin_start": 2.988539934158325,
                        "bin_end": 3.0885399341583253,
                        "count": 0
                      },
                      {
                        "bin_start": 3.0885399341583253,
                        "bin_end": 3.1885399341583254,
                        "count": 0
                      },
                      {
                        "bin_start": 3.1885399341583254,
                        "bin_end": 3.288539934158325,
                        "count": 0
                      },
                      {
                        "bin_start": 3.288539934158325,
                        "bin_end": 3.388539934158325,
                        "count": 0
                      },
                      {
                        "bin_start": 3.388539934158325,
                        "bin_end": 3.488539934158325,
                        "count": 0
                      },
                      {
                        "bin_start": 3.488539934158325,
                        "bin_end": 3.5885399341583253,
                        "count": 2
                      },
                      {
                        "bin_start": 3.5885399341583253,
                        "bin_end": 3.6885399341583254,
                        "count": 0
                      },
                      {
                        "bin_start": 3.6885399341583254,
                        "bin_end": 3.788539934158325,
                        "count": 0
                      },
                      {
                        "bin_start": 3.788539934158325,
                        "bin_end": 3.888539934158325,
                        "count": 0
                      },
                      {
                        "bin_start": 3.888539934158325,
                        "bin_end": 3.988539934158325,
                        "count": 0
                      }
                    ]
                  }
                },
                {
                  "name": "gdp5",
                  "dtype": "float64",
                  "stats": {
                    "unique_count": 1,
                    "nan_count": 0,
                    "min": 0.0256275180727243,
                    "max": 0.0256275180727243,
                    "histogram": [
                      {
                        "bin_start": -0.4743724819272757,
                        "bin_end": -0.3743724819272757,
                        "count": 0
                      },
                      {
                        "bin_start": -0.3743724819272757,
                        "bin_end": -0.2743724819272757,
                        "count": 0
                      },
                      {
                        "bin_start": -0.2743724819272757,
                        "bin_end": -0.17437248192727567,
                        "count": 0
                      },
                      {
                        "bin_start": -0.17437248192727567,
                        "bin_end": -0.07437248192727569,
                        "count": 0
                      },
                      {
                        "bin_start": -0.07437248192727569,
                        "bin_end": 0.025627518072724287,
                        "count": 0
                      },
                      {
                        "bin_start": 0.025627518072724287,
                        "bin_end": 0.12562751807272438,
                        "count": 2
                      },
                      {
                        "bin_start": 0.12562751807272438,
                        "bin_end": 0.22562751807272435,
                        "count": 0
                      },
                      {
                        "bin_start": 0.22562751807272435,
                        "bin_end": 0.32562751807272433,
                        "count": 0
                      },
                      {
                        "bin_start": 0.32562751807272433,
                        "bin_end": 0.4256275180727243,
                        "count": 0
                      },
                      {
                        "bin_start": 0.4256275180727243,
                        "bin_end": 0.5256275180727243,
                        "count": 0
                      }
                    ]
                  }
                },
                {
                  "name": "vtf",
                  "dtype": "float64",
                  "stats": {
                    "unique_count": 1,
                    "nan_count": 0,
                    "min": 26.42399978637696,
                    "max": 26.42399978637696,
                    "histogram": [
                      {
                        "bin_start": 25.92399978637696,
                        "bin_end": 26.02399978637696,
                        "count": 0
                      },
                      {
                        "bin_start": 26.02399978637696,
                        "bin_end": 26.12399978637696,
                        "count": 0
                      },
                      {
                        "bin_start": 26.12399978637696,
                        "bin_end": 26.22399978637696,
                        "count": 0
                      },
                      {
                        "bin_start": 26.22399978637696,
                        "bin_end": 26.32399978637696,
                        "count": 0
                      },
                      {
                        "bin_start": 26.32399978637696,
                        "bin_end": 26.42399978637696,
                        "count": 0
                      },
                      {
                        "bin_start": 26.42399978637696,
                        "bin_end": 26.52399978637696,
                        "count": 2
                      },
                      {
                        "bin_start": 26.52399978637696,
                        "bin_end": 26.62399978637696,
                        "count": 0
                      },
                      {
                        "bin_start": 26.62399978637696,
                        "bin_end": 26.72399978637696,
                        "count": 0
                      },
                      {
                        "bin_start": 26.72399978637696,
                        "bin_end": 26.82399978637696,
                        "count": 0
                      },
                      {
                        "bin_start": 26.82399978637696,
                        "bin_end": 26.92399978637696,
                        "count": 0
                      }
                    ]
                  }
                },
                {
                  "name": "qslnl",
                  "dtype": "float64",
                  "stats": {
                    "unique_count": 1,
                    "nan_count": 0,
                    "min": -7.178584575653076,
                    "max": -7.178584575653076,
                    "histogram": [
                      {
                        "bin_start": -7.678584575653076,
                        "bin_end": -7.5785845756530765,
                        "count": 0
                      },
                      {
                        "bin_start": -7.5785845756530765,
                        "bin_end": -7.478584575653076,
                        "count": 0
                      },
                      {
                        "bin_start": -7.478584575653076,
                        "bin_end": -7.378584575653076,
                        "count": 0
                      },
                      {
                        "bin_start": -7.378584575653076,
                        "bin_end": -7.278584575653076,
                        "count": 0
                      },
                      {
                        "bin_start": -7.278584575653076,
                        "bin_end": -7.178584575653076,
                        "count": 0
                      },
                      {
                        "bin_start": -7.178584575653076,
                        "bin_end": -7.0785845756530765,
                        "count": 2
                      },
                      {
                        "bin_start": -7.0785845756530765,
                        "bin_end": -6.978584575653076,
                        "count": 0
                      },
                      {
                        "bin_start": -6.978584575653076,
                        "bin_end": -6.878584575653076,
                        "count": 0
                      },
                      {
                        "bin_start": -6.878584575653076,
                        "bin_end": -6.778584575653076,
                        "count": 0
                      },
                      {
                        "bin_start": -6.778584575653076,
                        "bin_end": -6.678584575653076,
                        "count": 0
                      }
                    ]
                  }
                },
                {
                  "name": "secvocp",
                  "dtype": "float64",
                  "stats": {
                    "unique_count": 1,
                    "nan_count": 0,
                    "min": 5.051285743713379,
                    "max": 5.051285743713379,
                    "histogram": [
                      {
                        "bin_start": 4.551285743713379,
                        "bin_end": 4.6512857437133786,
                        "count": 0
                      },
                      {
                        "bin_start": 4.6512857437133786,
                        "bin_end": 4.751285743713379,
                        "count": 0
                      },
                      {
                        "bin_start": 4.751285743713379,
                        "bin_end": 4.851285743713379,
                        "count": 0
                      },
                      {
                        "bin_start": 4.851285743713379,
                        "bin_end": 4.951285743713379,
                        "count": 0
                      },
                      {
                        "bin_start": 4.951285743713379,
                        "bin_end": 5.051285743713379,
                        "count": 0
                      },
                      {
                        "bin_start": 5.051285743713379,
                        "bin_end": 5.1512857437133786,
                        "count": 2
                      },
                      {
                        "bin_start": 5.1512857437133786,
                        "bin_end": 5.251285743713379,
                        "count": 0
                      },
                      {
                        "bin_start": 5.251285743713379,
                        "bin_end": 5.351285743713379,
                        "count": 0
                      },
                      {
                        "bin_start": 5.351285743713379,
                        "bin_end": 5.451285743713379,
                        "count": 0
                      },
                      {
                        "bin_start": 5.451285743713379,
                        "bin_end": 5.551285743713379,
                        "count": 0
                      }
                    ]
                  }
                },
                {
                  "name": "teryrs",
                  "dtype": "float64",
                  "stats": {
                    "unique_count": 1,
                    "nan_count": 0,
                    "min": 0.0866502523422241,
                    "max": 0.0866502523422241,
                    "histogram": [
                      {
                        "bin_start": -0.4133497476577759,
                        "bin_end": -0.3133497476577759,
                        "count": 0
                      },
                      {
                        "bin_start": -0.3133497476577759,
                        "bin_end": -0.21334974765777587,
                        "count": 0
                      },
                      {
                        "bin_start": -0.21334974765777587,
                        "bin_end": -0.11334974765777583,
                        "count": 0
                      },
                      {
                        "bin_start": -0.11334974765777583,
                        "bin_end": -0.013349747657775857,
                        "count": 0
                      },
                      {
                        "bin_start": -0.013349747657775857,
                        "bin_end": 0.08665025234222412,
                        "count": 2
                      },
                      {
                        "bin_start": 0.08665025234222412,
                        "bin_end": 0.1866502523422242,
                        "count": 0
                      },
                      {
                        "bin_start": 0.1866502523422242,
                        "bin_end": 0.2866502523422242,
                        "count": 0
                      },
                      {
                        "bin_start": 0.2866502523422242,
                        "bin_end": 0.38665025234222417,
                        "count": 0
                      },
                      {
                        "bin_start": 0.38665025234222417,
                        "bin_end": 0.48665025234222414,
                        "count": 0
                      },
                      {
                        "bin_start": 0.48665025234222414,
                        "bin_end": 0.5866502523422241,
                        "count": 0
                      }
                    ]
                  }
                },
                {
                  "name": "edqualsc",
                  "dtype": "float64",
                  "stats": {
                    "unique_count": 1,
                    "nan_count": 0,
                    "min": 309.70709228515625,
                    "max": 309.70709228515625,
                    "histogram": [
                      {
                        "bin_start": 309.20709228515625,
                        "bin_end": 309.3070922851563,
                        "count": 0
                      },
                      {
                        "bin_start": 309.3070922851563,
                        "bin_end": 309.40709228515624,
                        "count": 0
                      },
                      {
                        "bin_start": 309.40709228515624,
                        "bin_end": 309.50709228515626,
                        "count": 0
                      },
                      {
                        "bin_start": 309.50709228515626,
                        "bin_end": 309.6070922851562,
                        "count": 0
                      },
                      {
                        "bin_start": 309.6070922851562,
                        "bin_end": 309.70709228515625,
                        "count": 0
                      },
                      {
                        "bin_start": 309.70709228515625,
                        "bin_end": 309.8070922851563,
                        "count": 2
                      },
                      {
                        "bin_start": 309.8070922851563,
                        "bin_end": 309.90709228515624,
                        "count": 0
                      },
                      {
                        "bin_start": 309.90709228515624,
                        "bin_end": 310.00709228515626,
                        "count": 0
                      },
                      {
                        "bin_start": 310.00709228515626,
                        "bin_end": 310.1070922851562,
                        "count": 0
                      },
                      {
                        "bin_start": 310.1070922851562,
                        "bin_end": 310.20709228515625,
                        "count": 0
                      }
                    ]
                  }
                },
                {
                  "name": "gbrata",
                  "dtype": "float64",
                  "stats": {
                    "unique_count": 1,
                    "nan_count": 0,
                    "min": 0.2448999881744384,
                    "max": 0.2448999881744384,
                    "histogram": [
                      {
                        "bin_start": -0.25510001182556163,
                        "bin_end": -0.15510001182556163,
                        "count": 0
                      },
                      {
                        "bin_start": -0.15510001182556163,
                        "bin_end": -0.05510001182556162,
                        "count": 0
                      },
                      {
                        "bin_start": -0.05510001182556162,
                        "bin_end": 0.04489998817443841,
                        "count": 0
                      },
                      {
                        "bin_start": 0.04489998817443841,
                        "bin_end": 0.1448999881744384,
                        "count": 0
                      },
                      {
                        "bin_start": 0.1448999881744384,
                        "bin_end": 0.24489998817443837,
                        "count": 0
                      },
                      {
                        "bin_start": 0.24489998817443837,
                        "bin_end": 0.34489998817443845,
                        "count": 2
                      },
                      {
                        "bin_start": 0.34489998817443845,
                        "bin_end": 0.44489998817443843,
                        "count": 0
                      },
                      {
                        "bin_start": 0.44489998817443843,
                        "bin_end": 0.5448999881744384,
                        "count": 0
                      },
                      {
                        "bin_start": 0.5448999881744384,
                        "bin_end": 0.6448999881744384,
                        "count": 0
                      },
                      {
                        "bin_start": 0.6448999881744384,
                        "bin_end": 0.7448999881744384,
                        "count": 0
                      }
                    ]
                  }
                },
                {
                  "name": "secyrs",
                  "dtype": "float64",
                  "stats": {
                    "unique_count": 1,
                    "nan_count": 0,
                    "min": 1.8561495542526243,
                    "max": 1.8561495542526243,
                    "histogram": [
                      {
                        "bin_start": 1.3561495542526243,
                        "bin_end": 1.4561495542526244,
                        "count": 0
                      },
                      {
                        "bin_start": 1.4561495542526244,
                        "bin_end": 1.5561495542526242,
                        "count": 0
                      },
                      {
                        "bin_start": 1.5561495542526242,
                        "bin_end": 1.6561495542526243,
                        "count": 0
                      },
                      {
                        "bin_start": 1.6561495542526243,
                        "bin_end": 1.7561495542526244,
                        "count": 0
                      },
                      {
                        "bin_start": 1.7561495542526244,
                        "bin_end": 1.8561495542526245,
                        "count": 2
                      },
                      {
                        "bin_start": 1.8561495542526245,
                        "bin_end": 1.9561495542526244,
                        "count": 0
                      },
                      {
                        "bin_start": 1.9561495542526244,
                        "bin_end": 2.0561495542526247,
                        "count": 0
                      },
                      {
                        "bin_start": 2.0561495542526247,
                        "bin_end": 2.1561495542526243,
                        "count": 0
                      },
                      {
                        "bin_start": 2.1561495542526243,
                        "bin_end": 2.2561495542526244,
                        "count": 0
                      },
                      {
                        "bin_start": 2.2561495542526244,
                        "bin_end": 2.3561495542526245,
                        "count": 0
                      }
                    ]
                  }
                },
                {
                  "name": "Ginih15",
                  "dtype": "float64",
                  "stats": {
                    "unique_count": 1,
                    "nan_count": 0,
                    "min": 0.4450497714575927,
                    "max": 0.4450497714575927,
                    "histogram": [
                      {
                        "bin_start": -0.054950228542407276,
                        "bin_end": 0.04504977145759273,
                        "count": 0
                      },
                      {
                        "bin_start": 0.04504977145759273,
                        "bin_end": 0.14504977145759274,
                        "count": 0
                      },
                      {
                        "bin_start": 0.14504977145759274,
                        "bin_end": 0.24504977145759277,
                        "count": 0
                      },
                      {
                        "bin_start": 0.24504977145759277,
                        "bin_end": 0.34504977145759275,
                        "count": 0
                      },
                      {
                        "bin_start": 0.34504977145759275,
                        "bin_end": 0.4450497714575927,
                        "count": 0
                      },
                      {
                        "bin_start": 0.4450497714575927,
                        "bin_end": 0.5450497714575928,
                        "count": 2
                      },
                      {
                        "bin_start": 0.5450497714575928,
                        "bin_end": 0.6450497714575928,
                        "count": 0
                      },
                      {
                        "bin_start": 0.6450497714575928,
                        "bin_end": 0.7450497714575928,
                        "count": 0
                      },
                      {
                        "bin_start": 0.7450497714575928,
                        "bin_end": 0.8450497714575927,
                        "count": 0
                      },
                      {
                        "bin_start": 0.8450497714575927,
                        "bin_end": 0.9450497714575927,
                        "count": 0
                      }
                    ]
                  }
                },
                {
                  "name": "prcompc",
                  "dtype": "float64",
                  "stats": {
                    "unique_count": 1,
                    "nan_count": 0,
                    "min": 85.10816955566406,
                    "max": 85.10816955566406,
                    "histogram": [
                      {
                        "bin_start": 84.60816955566406,
                        "bin_end": 84.70816955566406,
                        "count": 0
                      },
                      {
                        "bin_start": 84.70816955566406,
                        "bin_end": 84.80816955566407,
                        "count": 0
                      },
                      {
                        "bin_start": 84.80816955566407,
                        "bin_end": 84.90816955566406,
                        "count": 0
                      },
                      {
                        "bin_start": 84.90816955566406,
                        "bin_end": 85.00816955566407,
                        "count": 0
                      },
                      {
                        "bin_start": 85.00816955566407,
                        "bin_end": 85.10816955566406,
                        "count": 0
                      },
                      {
                        "bin_start": 85.10816955566406,
                        "bin_end": 85.20816955566406,
                        "count": 2
                      },
                      {
                        "bin_start": 85.20816955566406,
                        "bin_end": 85.30816955566407,
                        "count": 0
                      },
                      {
                        "bin_start": 85.30816955566407,
                        "bin_end": 85.40816955566406,
                        "count": 0
                      },
                      {
                        "bin_start": 85.40816955566406,
                        "bin_end": 85.50816955566407,
                        "count": 0
                      },
                      {
                        "bin_start": 85.50816955566407,
                        "bin_end": 85.60816955566406,
                        "count": 0
                      }
                    ]
                  }
                },
                {
                  "name": "lityf",
                  "dtype": "float64",
                  "stats": {
                    "unique_count": 1,
                    "nan_count": 0,
                    "min": 85.1556396484375,
                    "max": 85.1556396484375,
                    "histogram": [
                      {
                        "bin_start": 84.6556396484375,
                        "bin_end": 84.7556396484375,
                        "count": 0
                      },
                      {
                        "bin_start": 84.7556396484375,
                        "bin_end": 84.8556396484375,
                        "count": 0
                      },
                      {
                        "bin_start": 84.8556396484375,
                        "bin_end": 84.9556396484375,
                        "count": 0
                      },
                      {
                        "bin_start": 84.9556396484375,
                        "bin_end": 85.0556396484375,
                        "count": 0
                      },
                      {
                        "bin_start": 85.0556396484375,
                        "bin_end": 85.1556396484375,
                        "count": 0
                      },
                      {
                        "bin_start": 85.1556396484375,
                        "bin_end": 85.2556396484375,
                        "count": 2
                      },
                      {
                        "bin_start": 85.2556396484375,
                        "bin_end": 85.3556396484375,
                        "count": 0
                      },
                      {
                        "bin_start": 85.3556396484375,
                        "bin_end": 85.4556396484375,
                        "count": 0
                      },
                      {
                        "bin_start": 85.4556396484375,
                        "bin_end": 85.5556396484375,
                        "count": 0
                      },
                      {
                        "bin_start": 85.5556396484375,
                        "bin_end": 85.6556396484375,
                        "count": 0
                      }
                    ]
                  }
                },
                {
                  "name": "litaf",
                  "dtype": "float64",
                  "stats": {
                    "unique_count": 1,
                    "nan_count": 0,
                    "min": 59.5146484375,
                    "max": 59.5146484375,
                    "histogram": [
                      {
                        "bin_start": 59.0146484375,
                        "bin_end": 59.1146484375,
                        "count": 0
                      },
                      {
                        "bin_start": 59.1146484375,
                        "bin_end": 59.2146484375,
                        "count": 0
                      },
                      {
                        "bin_start": 59.2146484375,
                        "bin_end": 59.3146484375,
                        "count": 0
                      },
                      {
                        "bin_start": 59.3146484375,
                        "bin_end": 59.4146484375,
                        "count": 0
                      },
                      {
                        "bin_start": 59.4146484375,
                        "bin_end": 59.5146484375,
                        "count": 0
                      },
                      {
                        "bin_start": 59.5146484375,
                        "bin_end": 59.6146484375,
                        "count": 2
                      },
                      {
                        "bin_start": 59.6146484375,
                        "bin_end": 59.7146484375,
                        "count": 0
                      },
                      {
                        "bin_start": 59.7146484375,
                        "bin_end": 59.8146484375,
                        "count": 0
                      },
                      {
                        "bin_start": 59.8146484375,
                        "bin_end": 59.9146484375,
                        "count": 0
                      },
                      {
                        "bin_start": 59.9146484375,
                        "bin_end": 60.0146484375,
                        "count": 0
                      }
                    ]
                  }
                },
                {
                  "name": "fwateruse",
                  "dtype": "float64",
                  "stats": {
                    "unique_count": 1,
                    "nan_count": 0,
                    "min": 1.4695652173913,
                    "max": 1.4695652173913,
                    "histogram": [
                      {
                        "bin_start": 0.9695652173913001,
                        "bin_end": 1.0695652173913002,
                        "count": 0
                      },
                      {
                        "bin_start": 1.0695652173913002,
                        "bin_end": 1.1695652173913,
                        "count": 0
                      },
                      {
                        "bin_start": 1.1695652173913,
                        "bin_end": 1.2695652173913001,
                        "count": 0
                      },
                      {
                        "bin_start": 1.2695652173913001,
                        "bin_end": 1.3695652173913002,
                        "count": 0
                      },
                      {
                        "bin_start": 1.3695652173913002,
                        "bin_end": 1.4695652173913,
                        "count": 0
                      },
                      {
                        "bin_start": 1.4695652173913,
                        "bin_end": 1.5695652173913002,
                        "count": 2
                      },
                      {
                        "bin_start": 1.5695652173913002,
                        "bin_end": 1.6695652173913,
                        "count": 0
                      },
                      {
                        "bin_start": 1.6695652173913,
                        "bin_end": 1.7695652173913001,
                        "count": 0
                      },
                      {
                        "bin_start": 1.7695652173913001,
                        "bin_end": 1.8695652173913002,
                        "count": 0
                      },
                      {
                        "bin_start": 1.8695652173913002,
                        "bin_end": 1.9695652173913,
                        "count": 0
                      }
                    ]
                  }
                },
                {
                  "name": "airpollution",
                  "dtype": "float64",
                  "stats": {
                    "unique_count": 1,
                    "nan_count": 0,
                    "min": 0.02,
                    "max": 0.02,
                    "histogram": [
                      {
                        "bin_start": -0.48,
                        "bin_end": -0.38,
                        "count": 0
                      },
                      {
                        "bin_start": -0.38,
                        "bin_end": -0.27999999999999997,
                        "count": 0
                      },
                      {
                        "bin_start": -0.27999999999999997,
                        "bin_end": -0.17999999999999994,
                        "count": 0
                      },
                      {
                        "bin_start": -0.17999999999999994,
                        "bin_end": -0.07999999999999996,
                        "count": 0
                      },
                      {
                        "bin_start": -0.07999999999999996,
                        "bin_end": 0.020000000000000018,
                        "count": 2
                      },
                      {
                        "bin_start": 0.020000000000000018,
                        "bin_end": 0.1200000000000001,
                        "count": 0
                      },
                      {
                        "bin_start": 0.1200000000000001,
                        "bin_end": 0.22000000000000008,
                        "count": 0
                      },
                      {
                        "bin_start": 0.22000000000000008,
                        "bin_end": 0.32000000000000006,
                        "count": 0
                      },
                      {
                        "bin_start": 0.32000000000000006,
                        "bin_end": 0.42000000000000004,
                        "count": 0
                      },
                      {
                        "bin_start": 0.42000000000000004,
                        "bin_end": 0.52,
                        "count": 0
                      }
                    ]
                  }
                },
                {
                  "name": "wasterwater",
                  "dtype": "float64",
                  "stats": {
                    "unique_count": 1,
                    "nan_count": 0,
                    "min": 0,
                    "max": 0,
                    "histogram": [
                      {
                        "bin_start": -0.5,
                        "bin_end": -0.4,
                        "count": 0
                      },
                      {
                        "bin_start": -0.4,
                        "bin_end": -0.3,
                        "count": 0
                      },
                      {
                        "bin_start": -0.3,
                        "bin_end": -0.19999999999999996,
                        "count": 0
                      },
                      {
                        "bin_start": -0.19999999999999996,
                        "bin_end": -0.09999999999999998,
                        "count": 0
                      },
                      {
                        "bin_start": -0.09999999999999998,
                        "bin_end": 0,
                        "count": 0
                      },
                      {
                        "bin_start": 0,
                        "bin_end": 0.10000000000000009,
                        "count": 2
                      },
                      {
                        "bin_start": 0.10000000000000009,
                        "bin_end": 0.20000000000000007,
                        "count": 0
                      },
                      {
                        "bin_start": 0.20000000000000007,
                        "bin_end": 0.30000000000000004,
                        "count": 0
                      },
                      {
                        "bin_start": 0.30000000000000004,
                        "bin_end": 0.4,
                        "count": 0
                      },
                      {
                        "bin_start": 0.4,
                        "bin_end": 0.5,
                        "count": 0
                      }
                    ]
                  }
                },
                {
                  "name": "fishstock",
                  "dtype": "float64",
                  "stats": {
                    "unique_count": 1,
                    "nan_count": 0,
                    "min": 28.271371841430664,
                    "max": 28.271371841430664,
                    "histogram": [
                      {
                        "bin_start": 27.771371841430664,
                        "bin_end": 27.871371841430665,
                        "count": 0
                      },
                      {
                        "bin_start": 27.871371841430665,
                        "bin_end": 27.971371841430663,
                        "count": 0
                      },
                      {
                        "bin_start": 27.971371841430663,
                        "bin_end": 28.071371841430665,
                        "count": 0
                      },
                      {
                        "bin_start": 28.071371841430665,
                        "bin_end": 28.171371841430663,
                        "count": 0
                      },
                      {
                        "bin_start": 28.171371841430663,
                        "bin_end": 28.271371841430664,
                        "count": 0
                      },
                      {
                        "bin_start": 28.271371841430664,
                        "bin_end": 28.371371841430665,
                        "count": 2
                      },
                      {
                        "bin_start": 28.371371841430665,
                        "bin_end": 28.471371841430663,
                        "count": 0
                      },
                      {
                        "bin_start": 28.471371841430663,
                        "bin_end": 28.571371841430665,
                        "count": 0
                      },
                      {
                        "bin_start": 28.571371841430665,
                        "bin_end": 28.671371841430663,
                        "count": 0
                      },
                      {
                        "bin_start": 28.671371841430663,
                        "bin_end": 28.771371841430664,
                        "count": 0
                      }
                    ]
                  }
                },
                {
                  "name": "marineprotect",
                  "dtype": "float64",
                  "stats": {
                    "unique_count": 1,
                    "nan_count": 0,
                    "min": 11.737961769104004,
                    "max": 11.737961769104004,
                    "histogram": [
                      {
                        "bin_start": 11.237961769104004,
                        "bin_end": 11.337961769104004,
                        "count": 0
                      },
                      {
                        "bin_start": 11.337961769104004,
                        "bin_end": 11.437961769104003,
                        "count": 0
                      },
                      {
                        "bin_start": 11.437961769104003,
                        "bin_end": 11.537961769104005,
                        "count": 0
                      },
                      {
                        "bin_start": 11.537961769104005,
                        "bin_end": 11.637961769104004,
                        "count": 0
                      },
                      {
                        "bin_start": 11.637961769104004,
                        "bin_end": 11.737961769104004,
                        "count": 0
                      },
                      {
                        "bin_start": 11.737961769104004,
                        "bin_end": 11.837961769104004,
                        "count": 2
                      },
                      {
                        "bin_start": 11.837961769104004,
                        "bin_end": 11.937961769104003,
                        "count": 0
                      },
                      {
                        "bin_start": 11.937961769104003,
                        "bin_end": 12.037961769104005,
                        "count": 0
                      },
                      {
                        "bin_start": 12.037961769104005,
                        "bin_end": 12.137961769104004,
                        "count": 0
                      },
                      {
                        "bin_start": 12.137961769104004,
                        "bin_end": 12.237961769104004,
                        "count": 0
                      }
                    ]
                  }
                },
                {
                  "name": "improved_drinkwater",
                  "dtype": "float64",
                  "stats": {
                    "unique_count": 1,
                    "nan_count": 0,
                    "min": 63.1,
                    "max": 63.1,
                    "histogram": [
                      {
                        "bin_start": 62.6,
                        "bin_end": 62.7,
                        "count": 0
                      },
                      {
                        "bin_start": 62.7,
                        "bin_end": 62.800000000000004,
                        "count": 0
                      },
                      {
                        "bin_start": 62.800000000000004,
                        "bin_end": 62.9,
                        "count": 0
                      },
                      {
                        "bin_start": 62.9,
                        "bin_end": 63,
                        "count": 0
                      },
                      {
                        "bin_start": 63,
                        "bin_end": 63.1,
                        "count": 0
                      },
                      {
                        "bin_start": 63.1,
                        "bin_end": 63.2,
                        "count": 2
                      },
                      {
                        "bin_start": 63.2,
                        "bin_end": 63.300000000000004,
                        "count": 0
                      },
                      {
                        "bin_start": 63.300000000000004,
                        "bin_end": 63.4,
                        "count": 0
                      },
                      {
                        "bin_start": 63.4,
                        "bin_end": 63.5,
                        "count": 0
                      },
                      {
                        "bin_start": 63.5,
                        "bin_end": 63.6,
                        "count": 0
                      }
                    ]
                  }
                },
                {
                  "name": "pestreg",
                  "dtype": "int64",
                  "stats": {
                    "unique_count": 1,
                    "nan_count": 0,
                    "min": 21,
                    "max": 21,
                    "histogram": [
                      {
                        "bin_start": 20.5,
                        "bin_end": 20.6,
                        "count": 0
                      },
                      {
                        "bin_start": 20.6,
                        "bin_end": 20.7,
                        "count": 0
                      },
                      {
                        "bin_start": 20.7,
                        "bin_end": 20.8,
                        "count": 0
                      },
                      {
                        "bin_start": 20.8,
                        "bin_end": 20.9,
                        "count": 0
                      },
                      {
                        "bin_start": 20.9,
                        "bin_end": 21,
                        "count": 0
                      },
                      {
                        "bin_start": 21,
                        "bin_end": 21.1,
                        "count": 2
                      },
                      {
                        "bin_start": 21.1,
                        "bin_end": 21.2,
                        "count": 0
                      },
                      {
                        "bin_start": 21.2,
                        "bin_end": 21.3,
                        "count": 0
                      },
                      {
                        "bin_start": 21.3,
                        "bin_end": 21.4,
                        "count": 0
                      },
                      {
                        "bin_start": 21.4,
                        "bin_end": 21.5,
                        "count": 0
                      }
                    ]
                  }
                },
                {
                  "name": "terrestprotect",
                  "dtype": "float64",
                  "stats": {
                    "unique_count": 1,
                    "nan_count": 0,
                    "min": 24.6611200926076,
                    "max": 24.6611200926076,
                    "histogram": [
                      {
                        "bin_start": 24.1611200926076,
                        "bin_end": 24.2611200926076,
                        "count": 0
                      },
                      {
                        "bin_start": 24.2611200926076,
                        "bin_end": 24.3611200926076,
                        "count": 0
                      },
                      {
                        "bin_start": 24.3611200926076,
                        "bin_end": 24.4611200926076,
                        "count": 0
                      },
                      {
                        "bin_start": 24.4611200926076,
                        "bin_end": 24.5611200926076,
                        "count": 0
                      },
                      {
                        "bin_start": 24.5611200926076,
                        "bin_end": 24.6611200926076,
                        "count": 0
                      },
                      {
                        "bin_start": 24.6611200926076,
                        "bin_end": 24.7611200926076,
                        "count": 2
                      },
                      {
                        "bin_start": 24.7611200926076,
                        "bin_end": 24.8611200926076,
                        "count": 0
                      },
                      {
                        "bin_start": 24.8611200926076,
                        "bin_end": 24.9611200926076,
                        "count": 0
                      },
                      {
                        "bin_start": 24.9611200926076,
                        "bin_end": 25.0611200926076,
                        "count": 0
                      },
                      {
                        "bin_start": 25.0611200926076,
                        "bin_end": 25.1611200926076,
                        "count": 0
                      }
                    ]
                  }
                },
                {
                  "name": "elfcr",
                  "dtype": "float64",
                  "stats": {
                    "unique_count": 1,
                    "nan_count": 0,
                    "min": 3.0746986865997314,
                    "max": 3.0746986865997314,
                    "histogram": [
                      {
                        "bin_start": 2.5746986865997314,
                        "bin_end": 2.6746986865997315,
                        "count": 0
                      },
                      {
                        "bin_start": 2.6746986865997315,
                        "bin_end": 2.7746986865997316,
                        "count": 0
                      },
                      {
                        "bin_start": 2.7746986865997316,
                        "bin_end": 2.8746986865997313,
                        "count": 0
                      },
                      {
                        "bin_start": 2.8746986865997313,
                        "bin_end": 2.9746986865997314,
                        "count": 0
                      },
                      {
                        "bin_start": 2.9746986865997314,
                        "bin_end": 3.0746986865997314,
                        "count": 0
                      },
                      {
                        "bin_start": 3.0746986865997314,
                        "bin_end": 3.1746986865997315,
                        "count": 2
                      },
                      {
                        "bin_start": 3.1746986865997315,
                        "bin_end": 3.2746986865997316,
                        "count": 0
                      },
                      {
                        "bin_start": 3.2746986865997316,
                        "bin_end": 3.3746986865997313,
                        "count": 0
                      },
                      {
                        "bin_start": 3.3746986865997313,
                        "bin_end": 3.4746986865997314,
                        "count": 0
                      },
                      {
                        "bin_start": 3.4746986865997314,
                        "bin_end": 3.5746986865997314,
                        "count": 0
                      }
                    ]
                  }
                },
                {
                  "name": "trang",
                  "dtype": "float64",
                  "stats": {
                    "unique_count": 1,
                    "nan_count": 0,
                    "min": 3.680657863616944,
                    "max": 3.680657863616944,
                    "histogram": [
                      {
                        "bin_start": 3.180657863616944,
                        "bin_end": 3.280657863616944,
                        "count": 0
                      },
                      {
                        "bin_start": 3.280657863616944,
                        "bin_end": 3.3806578636169435,
                        "count": 0
                      },
                      {
                        "bin_start": 3.3806578636169435,
                        "bin_end": 3.4806578636169436,
                        "count": 0
                      },
                      {
                        "bin_start": 3.4806578636169436,
                        "bin_end": 3.5806578636169437,
                        "count": 0
                      },
                      {
                        "bin_start": 3.5806578636169437,
                        "bin_end": 3.6806578636169434,
                        "count": 0
                      },
                      {
                        "bin_start": 3.6806578636169434,
                        "bin_end": 3.7806578636169434,
                        "count": 2
                      },
                      {
                        "bin_start": 3.7806578636169434,
                        "bin_end": 3.8806578636169435,
                        "count": 0
                      },
                      {
                        "bin_start": 3.8806578636169435,
                        "bin_end": 3.980657863616943,
                        "count": 0
                      },
                      {
                        "bin_start": 3.980657863616943,
                        "bin_end": 4.080657863616944,
                        "count": 0
                      },
                      {
                        "bin_start": 4.080657863616944,
                        "bin_end": 4.180657863616943,
                        "count": 0
                      }
                    ]
                  }
                },
                {
                  "name": "womenparl",
                  "dtype": "float64",
                  "stats": {
                    "unique_count": 1,
                    "nan_count": 0,
                    "min": 0.176,
                    "max": 0.176,
                    "histogram": [
                      {
                        "bin_start": -0.324,
                        "bin_end": -0.224,
                        "count": 0
                      },
                      {
                        "bin_start": -0.224,
                        "bin_end": -0.124,
                        "count": 0
                      },
                      {
                        "bin_start": -0.124,
                        "bin_end": -0.023999999999999966,
                        "count": 0
                      },
                      {
                        "bin_start": -0.023999999999999966,
                        "bin_end": 0.07600000000000001,
                        "count": 0
                      },
                      {
                        "bin_start": 0.07600000000000001,
                        "bin_end": 0.176,
                        "count": 0
                      },
                      {
                        "bin_start": 0.176,
                        "bin_end": 0.2760000000000001,
                        "count": 2
                      },
                      {
                        "bin_start": 0.2760000000000001,
                        "bin_end": 0.37600000000000006,
                        "count": 0
                      },
                      {
                        "bin_start": 0.37600000000000006,
                        "bin_end": 0.47600000000000003,
                        "count": 0
                      },
                      {
                        "bin_start": 0.47600000000000003,
                        "bin_end": 0.5760000000000001,
                        "count": 0
                      },
                      {
                        "bin_start": 0.5760000000000001,
                        "bin_end": 0.6759999999999999,
                        "count": 0
                      }
                    ]
                  }
                },
                {
                  "name": "vapvt",
                  "dtype": "float64",
                  "stats": {
                    "unique_count": 1,
                    "nan_count": 0,
                    "min": 57.720001220703125,
                    "max": 57.720001220703125,
                    "histogram": [
                      {
                        "bin_start": 57.220001220703125,
                        "bin_end": 57.320001220703126,
                        "count": 0
                      },
                      {
                        "bin_start": 57.320001220703126,
                        "bin_end": 57.42000122070313,
                        "count": 0
                      },
                      {
                        "bin_start": 57.42000122070313,
                        "bin_end": 57.52000122070312,
                        "count": 0
                      },
                      {
                        "bin_start": 57.52000122070312,
                        "bin_end": 57.620001220703124,
                        "count": 0
                      },
                      {
                        "bin_start": 57.620001220703124,
                        "bin_end": 57.720001220703125,
                        "count": 0
                      },
                      {
                        "bin_start": 57.720001220703125,
                        "bin_end": 57.820001220703126,
                        "count": 2
                      },
                      {
                        "bin_start": 57.820001220703126,
                        "bin_end": 57.92000122070313,
                        "count": 0
                      },
                      {
                        "bin_start": 57.92000122070313,
                        "bin_end": 58.02000122070312,
                        "count": 0
                      },
                      {
                        "bin_start": 58.02000122070312,
                        "bin_end": 58.120001220703124,
                        "count": 0
                      },
                      {
                        "bin_start": 58.120001220703124,
                        "bin_end": 58.220001220703125,
                        "count": 0
                      }
                    ]
                  }
                },
                {
                  "name": "polity2",
                  "dtype": "int64",
                  "stats": {
                    "unique_count": 1,
                    "nan_count": 0,
                    "min": -2,
                    "max": -2,
                    "histogram": [
                      {
                        "bin_start": -2.5,
                        "bin_end": -2.4,
                        "count": 0
                      },
                      {
                        "bin_start": -2.4,
                        "bin_end": -2.3,
                        "count": 0
                      },
                      {
                        "bin_start": -2.3,
                        "bin_end": -2.2,
                        "count": 0
                      },
                      {
                        "bin_start": -2.2,
                        "bin_end": -2.1,
                        "count": 0
                      },
                      {
                        "bin_start": -2.1,
                        "bin_end": -2,
                        "count": 0
                      },
                      {
                        "bin_start": -2,
                        "bin_end": -1.9,
                        "count": 2
                      },
                      {
                        "bin_start": -1.9,
                        "bin_end": -1.7999999999999998,
                        "count": 0
                      },
                      {
                        "bin_start": -1.7999999999999998,
                        "bin_end": -1.7,
                        "count": 0
                      },
                      {
                        "bin_start": -1.7,
                        "bin_end": -1.6,
                        "count": 0
                      },
                      {
                        "bin_start": -1.6,
                        "bin_end": -1.5,
                        "count": 0
                      }
                    ]
                  }
                },
                {
                  "name": "polrights",
                  "dtype": "int64",
                  "stats": {
                    "unique_count": 1,
                    "nan_count": 0,
                    "min": 4,
                    "max": 4,
                    "histogram": [
                      {
                        "bin_start": 3.5,
                        "bin_end": 3.6,
                        "count": 0
                      },
                      {
                        "bin_start": 3.6,
                        "bin_end": 3.7,
                        "count": 0
                      },
                      {
                        "bin_start": 3.7,
                        "bin_end": 3.8,
                        "count": 0
                      },
                      {
                        "bin_start": 3.8,
                        "bin_end": 3.9,
                        "count": 0
                      },
                      {
                        "bin_start": 3.9,
                        "bin_end": 4,
                        "count": 0
                      },
                      {
                        "bin_start": 4,
                        "bin_end": 4.1,
                        "count": 2
                      },
                      {
                        "bin_start": 4.1,
                        "bin_end": 4.2,
                        "count": 0
                      },
                      {
                        "bin_start": 4.2,
                        "bin_end": 4.3,
                        "count": 0
                      },
                      {
                        "bin_start": 4.3,
                        "bin_end": 4.4,
                        "count": 0
                      },
                      {
                        "bin_start": 4.4,
                        "bin_end": 4.5,
                        "count": 0
                      }
                    ]
                  }
                },
                {
                  "name": "geff",
                  "dtype": "float64",
                  "stats": {
                    "unique_count": 1,
                    "nan_count": 0,
                    "min": -1.2587846517562866,
                    "max": -1.2587846517562866,
                    "histogram": [
                      {
                        "bin_start": -1.7587846517562866,
                        "bin_end": -1.6587846517562865,
                        "count": 0
                      },
                      {
                        "bin_start": -1.6587846517562865,
                        "bin_end": -1.5587846517562867,
                        "count": 0
                      },
                      {
                        "bin_start": -1.5587846517562867,
                        "bin_end": -1.4587846517562866,
                        "count": 0
                      },
                      {
                        "bin_start": -1.4587846517562866,
                        "bin_end": -1.3587846517562867,
                        "count": 0
                      },
                      {
                        "bin_start": -1.3587846517562867,
                        "bin_end": -1.2587846517562866,
                        "count": 0
                      },
                      {
                        "bin_start": -1.2587846517562866,
                        "bin_end": -1.1587846517562865,
                        "count": 2
                      },
                      {
                        "bin_start": -1.1587846517562865,
                        "bin_end": -1.0587846517562864,
                        "count": 0
                      },
                      {
                        "bin_start": -1.0587846517562864,
                        "bin_end": -0.9587846517562866,
                        "count": 0
                      },
                      {
                        "bin_start": -0.9587846517562866,
                        "bin_end": -0.8587846517562866,
                        "count": 0
                      },
                      {
                        "bin_start": -0.8587846517562866,
                        "bin_end": -0.7587846517562866,
                        "count": 0
                      }
                    ]
                  }
                },
                {
                  "name": "rqual",
                  "dtype": "float64",
                  "stats": {
                    "unique_count": 1,
                    "nan_count": 0,
                    "min": -0.8205841183662415,
                    "max": -0.8205841183662415,
                    "histogram": [
                      {
                        "bin_start": -1.3205841183662415,
                        "bin_end": -1.2205841183662414,
                        "count": 0
                      },
                      {
                        "bin_start": -1.2205841183662414,
                        "bin_end": -1.1205841183662415,
                        "count": 0
                      },
                      {
                        "bin_start": -1.1205841183662415,
                        "bin_end": -1.0205841183662414,
                        "count": 0
                      },
                      {
                        "bin_start": -1.0205841183662414,
                        "bin_end": -0.9205841183662414,
                        "count": 0
                      },
                      {
                        "bin_start": -0.9205841183662414,
                        "bin_end": -0.8205841183662415,
                        "count": 0
                      },
                      {
                        "bin_start": -0.8205841183662415,
                        "bin_end": -0.7205841183662414,
                        "count": 2
                      },
                      {
                        "bin_start": -0.7205841183662414,
                        "bin_end": -0.6205841183662414,
                        "count": 0
                      },
                      {
                        "bin_start": -0.6205841183662414,
                        "bin_end": -0.5205841183662414,
                        "count": 0
                      },
                      {
                        "bin_start": -0.5205841183662414,
                        "bin_end": -0.42058411836624143,
                        "count": 0
                      },
                      {
                        "bin_start": -0.42058411836624143,
                        "bin_end": -0.32058411836624146,
                        "count": 0
                      }
                    ]
                  }
                },
                {
                  "name": "ticpi",
                  "dtype": "float64",
                  "stats": {
                    "unique_count": 1,
                    "nan_count": 0,
                    "min": 32,
                    "max": 32,
                    "histogram": [
                      {
                        "bin_start": 31.5,
                        "bin_end": 31.6,
                        "count": 0
                      },
                      {
                        "bin_start": 31.6,
                        "bin_end": 31.7,
                        "count": 0
                      },
                      {
                        "bin_start": 31.7,
                        "bin_end": 31.8,
                        "count": 0
                      },
                      {
                        "bin_start": 31.8,
                        "bin_end": 31.9,
                        "count": 0
                      },
                      {
                        "bin_start": 31.9,
                        "bin_end": 32,
                        "count": 0
                      },
                      {
                        "bin_start": 32,
                        "bin_end": 32.1,
                        "count": 2
                      },
                      {
                        "bin_start": 32.1,
                        "bin_end": 32.2,
                        "count": 0
                      },
                      {
                        "bin_start": 32.2,
                        "bin_end": 32.3,
                        "count": 0
                      },
                      {
                        "bin_start": 32.3,
                        "bin_end": 32.4,
                        "count": 0
                      },
                      {
                        "bin_start": 32.4,
                        "bin_end": 32.5,
                        "count": 0
                      }
                    ]
                  }
                },
                {
                  "name": "judi",
                  "dtype": "float64",
                  "stats": {
                    "unique_count": 1,
                    "nan_count": 0,
                    "min": 2.6636557579040527,
                    "max": 2.6636557579040527,
                    "histogram": [
                      {
                        "bin_start": 2.1636557579040527,
                        "bin_end": 2.263655757904053,
                        "count": 0
                      },
                      {
                        "bin_start": 2.263655757904053,
                        "bin_end": 2.363655757904053,
                        "count": 0
                      },
                      {
                        "bin_start": 2.363655757904053,
                        "bin_end": 2.4636557579040526,
                        "count": 0
                      },
                      {
                        "bin_start": 2.4636557579040526,
                        "bin_end": 2.5636557579040526,
                        "count": 0
                      },
                      {
                        "bin_start": 2.5636557579040526,
                        "bin_end": 2.6636557579040527,
                        "count": 0
                      },
                      {
                        "bin_start": 2.6636557579040527,
                        "bin_end": 2.763655757904053,
                        "count": 2
                      },
                      {
                        "bin_start": 2.763655757904053,
                        "bin_end": 2.863655757904053,
                        "count": 0
                      },
                      {
                        "bin_start": 2.863655757904053,
                        "bin_end": 2.9636557579040526,
                        "count": 0
                      },
                      {
                        "bin_start": 2.9636557579040526,
                        "bin_end": 3.0636557579040526,
                        "count": 0
                      },
                      {
                        "bin_start": 3.0636557579040526,
                        "bin_end": 3.1636557579040527,
                        "count": 0
                      }
                    ]
                  }
                },
                {
                  "name": "rlaw",
                  "dtype": "float64",
                  "stats": {
                    "unique_count": 1,
                    "nan_count": 0,
                    "min": -0.8737249970436096,
                    "max": -0.8737249970436096,
                    "histogram": [
                      {
                        "bin_start": -1.3737249970436096,
                        "bin_end": -1.2737249970436095,
                        "count": 0
                      },
                      {
                        "bin_start": -1.2737249970436095,
                        "bin_end": -1.1737249970436097,
                        "count": 0
                      },
                      {
                        "bin_start": -1.1737249970436097,
                        "bin_end": -1.0737249970436096,
                        "count": 0
                      },
                      {
                        "bin_start": -1.0737249970436096,
                        "bin_end": -0.9737249970436096,
                        "count": 0
                      },
                      {
                        "bin_start": -0.9737249970436096,
                        "bin_end": -0.8737249970436096,
                        "count": 0
                      },
                      {
                        "bin_start": -0.8737249970436096,
                        "bin_end": -0.7737249970436095,
                        "count": 2
                      },
                      {
                        "bin_start": -0.7737249970436095,
                        "bin_end": -0.6737249970436096,
                        "count": 0
                      },
                      {
                        "bin_start": -0.6737249970436096,
                        "bin_end": -0.5737249970436096,
                        "count": 0
                      },
                      {
                        "bin_start": -0.5737249970436096,
                        "bin_end": -0.4737249970436096,
                        "count": 0
                      },
                      {
                        "bin_start": -0.4737249970436096,
                        "bin_end": -0.3737249970436096,
                        "count": 0
                      }
                    ]
                  }
                },
                {
                  "name": "tblnl",
                  "dtype": "float64",
                  "stats": {
                    "unique_count": 1,
                    "nan_count": 0,
                    "min": 3.0893828868865967,
                    "max": 3.0893828868865967,
                    "histogram": [
                      {
                        "bin_start": 2.5893828868865967,
                        "bin_end": 2.6893828868865968,
                        "count": 0
                      },
                      {
                        "bin_start": 2.6893828868865968,
                        "bin_end": 2.789382886886597,
                        "count": 0
                      },
                      {
                        "bin_start": 2.789382886886597,
                        "bin_end": 2.8893828868865965,
                        "count": 0
                      },
                      {
                        "bin_start": 2.8893828868865965,
                        "bin_end": 2.9893828868865966,
                        "count": 0
                      },
                      {
                        "bin_start": 2.9893828868865966,
                        "bin_end": 3.0893828868865967,
                        "count": 0
                      },
                      {
                        "bin_start": 3.0893828868865967,
                        "bin_end": 3.1893828868865968,
                        "count": 2
                      },
                      {
                        "bin_start": 3.1893828868865968,
                        "bin_end": 3.289382886886597,
                        "count": 0
                      },
                      {
                        "bin_start": 3.289382886886597,
                        "bin_end": 3.3893828868865965,
                        "count": 0
                      },
                      {
                        "bin_start": 3.3893828868865965,
                        "bin_end": 3.4893828868865966,
                        "count": 0
                      },
                      {
                        "bin_start": 3.4893828868865966,
                        "bin_end": 3.5893828868865967,
                        "count": 0
                      }
                    ]
                  }
                },
                {
                  "name": "Obesity",
                  "dtype": "float64",
                  "stats": {
                    "unique_count": 1,
                    "nan_count": 0,
                    "min": 7.5,
                    "max": 7.5,
                    "histogram": [
                      {
                        "bin_start": 7,
                        "bin_end": 7.1,
                        "count": 0
                      },
                      {
                        "bin_start": 7.1,
                        "bin_end": 7.2,
                        "count": 0
                      },
                      {
                        "bin_start": 7.2,
                        "bin_end": 7.3,
                        "count": 0
                      },
                      {
                        "bin_start": 7.3,
                        "bin_end": 7.4,
                        "count": 0
                      },
                      {
                        "bin_start": 7.4,
                        "bin_end": 7.5,
                        "count": 0
                      },
                      {
                        "bin_start": 7.5,
                        "bin_end": 7.6,
                        "count": 2
                      },
                      {
                        "bin_start": 7.6,
                        "bin_end": 7.7,
                        "count": 0
                      },
                      {
                        "bin_start": 7.7,
                        "bin_end": 7.8,
                        "count": 0
                      },
                      {
                        "bin_start": 7.8,
                        "bin_end": 7.9,
                        "count": 0
                      },
                      {
                        "bin_start": 7.9,
                        "bin_end": 8,
                        "count": 0
                      }
                    ]
                  }
                },
                {
                  "name": "mort",
                  "dtype": "float64",
                  "stats": {
                    "unique_count": 1,
                    "nan_count": 0,
                    "min": 786.2381591796875,
                    "max": 786.2381591796875,
                    "histogram": [
                      {
                        "bin_start": 785.7381591796875,
                        "bin_end": 785.8381591796875,
                        "count": 0
                      },
                      {
                        "bin_start": 785.8381591796875,
                        "bin_end": 785.9381591796875,
                        "count": 0
                      },
                      {
                        "bin_start": 785.9381591796875,
                        "bin_end": 786.0381591796875,
                        "count": 0
                      },
                      {
                        "bin_start": 786.0381591796875,
                        "bin_end": 786.1381591796875,
                        "count": 0
                      },
                      {
                        "bin_start": 786.1381591796875,
                        "bin_end": 786.2381591796875,
                        "count": 0
                      },
                      {
                        "bin_start": 786.2381591796875,
                        "bin_end": 786.3381591796875,
                        "count": 2
                      },
                      {
                        "bin_start": 786.3381591796875,
                        "bin_end": 786.4381591796875,
                        "count": 0
                      },
                      {
                        "bin_start": 786.4381591796875,
                        "bin_end": 786.5381591796875,
                        "count": 0
                      },
                      {
                        "bin_start": 786.5381591796875,
                        "bin_end": 786.6381591796875,
                        "count": 0
                      },
                      {
                        "bin_start": 786.6381591796875,
                        "bin_end": 786.7381591796875,
                        "count": 0
                      }
                    ]
                  }
                },
                {
                  "name": "meandiabetes",
                  "dtype": "float64",
                  "stats": {
                    "unique_count": 1,
                    "nan_count": 0,
                    "min": 4,
                    "max": 4,
                    "histogram": [
                      {
                        "bin_start": 3.5,
                        "bin_end": 3.6,
                        "count": 0
                      },
                      {
                        "bin_start": 3.6,
                        "bin_end": 3.7,
                        "count": 0
                      },
                      {
                        "bin_start": 3.7,
                        "bin_end": 3.8,
                        "count": 0
                      },
                      {
                        "bin_start": 3.8,
                        "bin_end": 3.9,
                        "count": 0
                      },
                      {
                        "bin_start": 3.9,
                        "bin_end": 4,
                        "count": 0
                      },
                      {
                        "bin_start": 4,
                        "bin_end": 4.1,
                        "count": 2
                      },
                      {
                        "bin_start": 4.1,
                        "bin_end": 4.2,
                        "count": 0
                      },
                      {
                        "bin_start": 4.2,
                        "bin_end": 4.3,
                        "count": 0
                      },
                      {
                        "bin_start": 4.3,
                        "bin_end": 4.4,
                        "count": 0
                      },
                      {
                        "bin_start": 4.4,
                        "bin_end": 4.5,
                        "count": 0
                      }
                    ]
                  }
                },
                {
                  "name": "leb",
                  "dtype": "float64",
                  "stats": {
                    "unique_count": 1,
                    "nan_count": 0,
                    "min": 60.120756097560985,
                    "max": 60.120756097560985,
                    "histogram": [
                      {
                        "bin_start": 59.620756097560985,
                        "bin_end": 59.72075609756099,
                        "count": 0
                      },
                      {
                        "bin_start": 59.72075609756099,
                        "bin_end": 59.82075609756099,
                        "count": 0
                      },
                      {
                        "bin_start": 59.82075609756099,
                        "bin_end": 59.92075609756098,
                        "count": 0
                      },
                      {
                        "bin_start": 59.92075609756098,
                        "bin_end": 60.020756097560984,
                        "count": 0
                      },
                      {
                        "bin_start": 60.020756097560984,
                        "bin_end": 60.120756097560985,
                        "count": 0
                      },
                      {
                        "bin_start": 60.120756097560985,
                        "bin_end": 60.22075609756099,
                        "count": 2
                      },
                      {
                        "bin_start": 60.22075609756099,
                        "bin_end": 60.32075609756099,
                        "count": 0
                      },
                      {
                        "bin_start": 60.32075609756099,
                        "bin_end": 60.42075609756098,
                        "count": 0
                      },
                      {
                        "bin_start": 60.42075609756098,
                        "bin_end": 60.520756097560984,
                        "count": 0
                      },
                      {
                        "bin_start": 60.520756097560984,
                        "bin_end": 60.620756097560985,
                        "count": 0
                      }
                    ]
                  }
                },
                {
                  "name": "dpt",
                  "dtype": "int64",
                  "stats": {
                    "unique_count": 1,
                    "nan_count": 0,
                    "min": 87,
                    "max": 87,
                    "histogram": [
                      {
                        "bin_start": 86.5,
                        "bin_end": 86.6,
                        "count": 0
                      },
                      {
                        "bin_start": 86.6,
                        "bin_end": 86.7,
                        "count": 0
                      },
                      {
                        "bin_start": 86.7,
                        "bin_end": 86.8,
                        "count": 0
                      },
                      {
                        "bin_start": 86.8,
                        "bin_end": 86.9,
                        "count": 0
                      },
                      {
                        "bin_start": 86.9,
                        "bin_end": 87,
                        "count": 0
                      },
                      {
                        "bin_start": 87,
                        "bin_end": 87.1,
                        "count": 2
                      },
                      {
                        "bin_start": 87.1,
                        "bin_end": 87.2,
                        "count": 0
                      },
                      {
                        "bin_start": 87.2,
                        "bin_end": 87.3,
                        "count": 0
                      },
                      {
                        "bin_start": 87.3,
                        "bin_end": 87.4,
                        "count": 0
                      },
                      {
                        "bin_start": 87.4,
                        "bin_end": 87.5,
                        "count": 0
                      }
                    ]
                  }
                },
                {
                  "name": "imeas",
                  "dtype": "int64",
                  "stats": {
                    "unique_count": 1,
                    "nan_count": 0,
                    "min": 82,
                    "max": 82,
                    "histogram": [
                      {
                        "bin_start": 81.5,
                        "bin_end": 81.6,
                        "count": 0
                      },
                      {
                        "bin_start": 81.6,
                        "bin_end": 81.7,
                        "count": 0
                      },
                      {
                        "bin_start": 81.7,
                        "bin_end": 81.8,
                        "count": 0
                      },
                      {
                        "bin_start": 81.8,
                        "bin_end": 81.9,
                        "count": 0
                      },
                      {
                        "bin_start": 81.9,
                        "bin_end": 82,
                        "count": 0
                      },
                      {
                        "bin_start": 82,
                        "bin_end": 82.1,
                        "count": 2
                      },
                      {
                        "bin_start": 82.1,
                        "bin_end": 82.2,
                        "count": 0
                      },
                      {
                        "bin_start": 82.2,
                        "bin_end": 82.3,
                        "count": 0
                      },
                      {
                        "bin_start": 82.3,
                        "bin_end": 82.4,
                        "count": 0
                      },
                      {
                        "bin_start": 82.4,
                        "bin_end": 82.5,
                        "count": 0
                      }
                    ]
                  }
                },
                {
                  "name": "impsan",
                  "dtype": "float64",
                  "stats": {
                    "unique_count": 1,
                    "nan_count": 0,
                    "min": 11.6,
                    "max": 11.6,
                    "histogram": [
                      {
                        "bin_start": 11.1,
                        "bin_end": 11.2,
                        "count": 0
                      },
                      {
                        "bin_start": 11.2,
                        "bin_end": 11.299999999999999,
                        "count": 0
                      },
                      {
                        "bin_start": 11.299999999999999,
                        "bin_end": 11.4,
                        "count": 0
                      },
                      {
                        "bin_start": 11.4,
                        "bin_end": 11.5,
                        "count": 0
                      },
                      {
                        "bin_start": 11.5,
                        "bin_end": 11.6,
                        "count": 0
                      },
                      {
                        "bin_start": 11.6,
                        "bin_end": 11.7,
                        "count": 2
                      },
                      {
                        "bin_start": 11.7,
                        "bin_end": 11.799999999999999,
                        "count": 0
                      },
                      {
                        "bin_start": 11.799999999999999,
                        "bin_end": 11.9,
                        "count": 0
                      },
                      {
                        "bin_start": 11.9,
                        "bin_end": 12,
                        "count": 0
                      },
                      {
                        "bin_start": 12,
                        "bin_end": 12.1,
                        "count": 0
                      }
                    ]
                  }
                },
                {
                  "name": "propright",
                  "dtype": "int64",
                  "stats": {
                    "unique_count": 1,
                    "nan_count": 0,
                    "min": 1,
                    "max": 1,
                    "histogram": [
                      {
                        "bin_start": 0.5,
                        "bin_end": 0.6,
                        "count": 0
                      },
                      {
                        "bin_start": 0.6,
                        "bin_end": 0.7,
                        "count": 0
                      },
                      {
                        "bin_start": 0.7,
                        "bin_end": 0.8,
                        "count": 0
                      },
                      {
                        "bin_start": 0.8,
                        "bin_end": 0.9,
                        "count": 0
                      },
                      {
                        "bin_start": 0.9,
                        "bin_end": 1,
                        "count": 0
                      },
                      {
                        "bin_start": 1,
                        "bin_end": 1.1,
                        "count": 2
                      },
                      {
                        "bin_start": 1.1,
                        "bin_end": 1.2000000000000002,
                        "count": 0
                      },
                      {
                        "bin_start": 1.2000000000000002,
                        "bin_end": 1.3,
                        "count": 0
                      },
                      {
                        "bin_start": 1.3,
                        "bin_end": 1.4,
                        "count": 0
                      },
                      {
                        "bin_start": 1.4,
                        "bin_end": 1.5,
                        "count": 0
                      }
                    ]
                  }
                },
                {
                  "name": "rrgov",
                  "dtype": "float64",
                  "stats": {
                    "unique_count": 1,
                    "nan_count": 0,
                    "min": 1.5,
                    "max": 1.5,
                    "histogram": [
                      {
                        "bin_start": 1,
                        "bin_end": 1.1,
                        "count": 0
                      },
                      {
                        "bin_start": 1.1,
                        "bin_end": 1.2,
                        "count": 0
                      },
                      {
                        "bin_start": 1.2,
                        "bin_end": 1.3,
                        "count": 0
                      },
                      {
                        "bin_start": 1.3,
                        "bin_end": 1.4,
                        "count": 0
                      },
                      {
                        "bin_start": 1.4,
                        "bin_end": 1.5,
                        "count": 0
                      },
                      {
                        "bin_start": 1.5,
                        "bin_end": 1.6,
                        "count": 2
                      },
                      {
                        "bin_start": 1.6,
                        "bin_end": 1.7000000000000002,
                        "count": 0
                      },
                      {
                        "bin_start": 1.7000000000000002,
                        "bin_end": 1.8,
                        "count": 0
                      },
                      {
                        "bin_start": 1.8,
                        "bin_end": 1.9,
                        "count": 0
                      },
                      {
                        "bin_start": 1.9,
                        "bin_end": 2,
                        "count": 0
                      }
                    ]
                  }
                },
                {
                  "name": "rrsoc",
                  "dtype": "float64",
                  "stats": {
                    "unique_count": 1,
                    "nan_count": 0,
                    "min": 0,
                    "max": 0,
                    "histogram": [
                      {
                        "bin_start": -0.5,
                        "bin_end": -0.4,
                        "count": 0
                      },
                      {
                        "bin_start": -0.4,
                        "bin_end": -0.3,
                        "count": 0
                      },
                      {
                        "bin_start": -0.3,
                        "bin_end": -0.19999999999999996,
                        "count": 0
                      },
                      {
                        "bin_start": -0.19999999999999996,
                        "bin_end": -0.09999999999999998,
                        "count": 0
                      },
                      {
                        "bin_start": -0.09999999999999998,
                        "bin_end": 0,
                        "count": 0
                      },
                      {
                        "bin_start": 0,
                        "bin_end": 0.10000000000000009,
                        "count": 2
                      },
                      {
                        "bin_start": 0.10000000000000009,
                        "bin_end": 0.20000000000000007,
                        "count": 0
                      },
                      {
                        "bin_start": 0.20000000000000007,
                        "bin_end": 0.30000000000000004,
                        "count": 0
                      },
                      {
                        "bin_start": 0.30000000000000004,
                        "bin_end": 0.4,
                        "count": 0
                      },
                      {
                        "bin_start": 0.4,
                        "bin_end": 0.5,
                        "count": 0
                      }
                    ]
                  }
                },
                {
                  "name": "lgbt_rights",
                  "dtype": "int64",
                  "stats": {
                    "unique_count": 1,
                    "nan_count": 0,
                    "min": 0,
                    "max": 0,
                    "histogram": [
                      {
                        "bin_start": -0.5,
                        "bin_end": -0.4,
                        "count": 0
                      },
                      {
                        "bin_start": -0.4,
                        "bin_end": -0.3,
                        "count": 0
                      },
                      {
                        "bin_start": -0.3,
                        "bin_end": -0.19999999999999996,
                        "count": 0
                      },
                      {
                        "bin_start": -0.19999999999999996,
                        "bin_end": -0.09999999999999998,
                        "count": 0
                      },
                      {
                        "bin_start": -0.09999999999999998,
                        "bin_end": 0,
                        "count": 0
                      },
                      {
                        "bin_start": 0,
                        "bin_end": 0.10000000000000009,
                        "count": 2
                      },
                      {
                        "bin_start": 0.10000000000000009,
                        "bin_end": 0.20000000000000007,
                        "count": 0
                      },
                      {
                        "bin_start": 0.20000000000000007,
                        "bin_end": 0.30000000000000004,
                        "count": 0
                      },
                      {
                        "bin_start": 0.30000000000000004,
                        "bin_end": 0.4,
                        "count": 0
                      },
                      {
                        "bin_start": 0.4,
                        "bin_end": 0.5,
                        "count": 0
                      }
                    ]
                  }
                },
                {
                  "name": "deathpen",
                  "dtype": "int64",
                  "stats": {
                    "unique_count": 1,
                    "nan_count": 0,
                    "min": 0,
                    "max": 0,
                    "histogram": [
                      {
                        "bin_start": -0.5,
                        "bin_end": -0.4,
                        "count": 0
                      },
                      {
                        "bin_start": -0.4,
                        "bin_end": -0.3,
                        "count": 0
                      },
                      {
                        "bin_start": -0.3,
                        "bin_end": -0.19999999999999996,
                        "count": 0
                      },
                      {
                        "bin_start": -0.19999999999999996,
                        "bin_end": -0.09999999999999998,
                        "count": 0
                      },
                      {
                        "bin_start": -0.09999999999999998,
                        "bin_end": 0,
                        "count": 0
                      },
                      {
                        "bin_start": 0,
                        "bin_end": 0.10000000000000009,
                        "count": 2
                      },
                      {
                        "bin_start": 0.10000000000000009,
                        "bin_end": 0.20000000000000007,
                        "count": 0
                      },
                      {
                        "bin_start": 0.20000000000000007,
                        "bin_end": 0.30000000000000004,
                        "count": 0
                      },
                      {
                        "bin_start": 0.30000000000000004,
                        "bin_end": 0.4,
                        "count": 0
                      },
                      {
                        "bin_start": 0.4,
                        "bin_end": 0.5,
                        "count": 0
                      }
                    ]
                  }
                },
                {
                  "name": "civlib",
                  "dtype": "int64",
                  "stats": {
                    "unique_count": 1,
                    "nan_count": 0,
                    "min": 4,
                    "max": 4,
                    "histogram": [
                      {
                        "bin_start": 3.5,
                        "bin_end": 3.6,
                        "count": 0
                      },
                      {
                        "bin_start": 3.6,
                        "bin_end": 3.7,
                        "count": 0
                      },
                      {
                        "bin_start": 3.7,
                        "bin_end": 3.8,
                        "count": 0
                      },
                      {
                        "bin_start": 3.8,
                        "bin_end": 3.9,
                        "count": 0
                      },
                      {
                        "bin_start": 3.9,
                        "bin_end": 4,
                        "count": 0
                      },
                      {
                        "bin_start": 4,
                        "bin_end": 4.1,
                        "count": 2
                      },
                      {
                        "bin_start": 4.1,
                        "bin_end": 4.2,
                        "count": 0
                      },
                      {
                        "bin_start": 4.2,
                        "bin_end": 4.3,
                        "count": 0
                      },
                      {
                        "bin_start": 4.3,
                        "bin_end": 4.4,
                        "count": 0
                      },
                      {
                        "bin_start": 4.4,
                        "bin_end": 4.5,
                        "count": 0
                      }
                    ]
                  }
                },
                {
                  "name": "conscription",
                  "dtype": "float64",
                  "stats": {
                    "unique_count": 1,
                    "nan_count": 0,
                    "min": 0,
                    "max": 0,
                    "histogram": [
                      {
                        "bin_start": -0.5,
                        "bin_end": -0.4,
                        "count": 0
                      },
                      {
                        "bin_start": -0.4,
                        "bin_end": -0.3,
                        "count": 0
                      },
                      {
                        "bin_start": -0.3,
                        "bin_end": -0.19999999999999996,
                        "count": 0
                      },
                      {
                        "bin_start": -0.19999999999999996,
                        "bin_end": -0.09999999999999998,
                        "count": 0
                      },
                      {
                        "bin_start": -0.09999999999999998,
                        "bin_end": 0,
                        "count": 0
                      },
                      {
                        "bin_start": 0,
                        "bin_end": 0.10000000000000009,
                        "count": 2
                      },
                      {
                        "bin_start": 0.10000000000000009,
                        "bin_end": 0.20000000000000007,
                        "count": 0
                      },
                      {
                        "bin_start": 0.20000000000000007,
                        "bin_end": 0.30000000000000004,
                        "count": 0
                      },
                      {
                        "bin_start": 0.30000000000000004,
                        "bin_end": 0.4,
                        "count": 0
                      },
                      {
                        "bin_start": 0.4,
                        "bin_end": 0.5,
                        "count": 0
                      }
                    ]
                  }
                },
                {
                  "name": "pf",
                  "dtype": "float64",
                  "stats": {
                    "unique_count": 1,
                    "nan_count": 0,
                    "min": 60,
                    "max": 60,
                    "histogram": [
                      {
                        "bin_start": 59.5,
                        "bin_end": 59.6,
                        "count": 0
                      },
                      {
                        "bin_start": 59.6,
                        "bin_end": 59.7,
                        "count": 0
                      },
                      {
                        "bin_start": 59.7,
                        "bin_end": 59.8,
                        "count": 0
                      },
                      {
                        "bin_start": 59.8,
                        "bin_end": 59.9,
                        "count": 0
                      },
                      {
                        "bin_start": 59.9,
                        "bin_end": 60,
                        "count": 0
                      },
                      {
                        "bin_start": 60,
                        "bin_end": 60.1,
                        "count": 2
                      },
                      {
                        "bin_start": 60.1,
                        "bin_end": 60.2,
                        "count": 0
                      },
                      {
                        "bin_start": 60.2,
                        "bin_end": 60.3,
                        "count": 0
                      },
                      {
                        "bin_start": 60.3,
                        "bin_end": 60.4,
                        "count": 0
                      },
                      {
                        "bin_start": 60.4,
                        "bin_end": 60.5,
                        "count": 0
                      }
                    ]
                  }
                },
                {
                  "name": "warcasual",
                  "dtype": "float64",
                  "stats": {
                    "unique_count": 1,
                    "nan_count": 0,
                    "min": 0,
                    "max": 0,
                    "histogram": [
                      {
                        "bin_start": -0.5,
                        "bin_end": -0.4,
                        "count": 0
                      },
                      {
                        "bin_start": -0.4,
                        "bin_end": -0.3,
                        "count": 0
                      },
                      {
                        "bin_start": -0.3,
                        "bin_end": -0.19999999999999996,
                        "count": 0
                      },
                      {
                        "bin_start": -0.19999999999999996,
                        "bin_end": -0.09999999999999998,
                        "count": 0
                      },
                      {
                        "bin_start": -0.09999999999999998,
                        "bin_end": 0,
                        "count": 0
                      },
                      {
                        "bin_start": 0,
                        "bin_end": 0.10000000000000009,
                        "count": 2
                      },
                      {
                        "bin_start": 0.10000000000000009,
                        "bin_end": 0.20000000000000007,
                        "count": 0
                      },
                      {
                        "bin_start": 0.20000000000000007,
                        "bin_end": 0.30000000000000004,
                        "count": 0
                      },
                      {
                        "bin_start": 0.30000000000000004,
                        "bin_end": 0.4,
                        "count": 0
                      },
                      {
                        "bin_start": 0.4,
                        "bin_end": 0.5,
                        "count": 0
                      }
                    ]
                  }
                },
                {
                  "name": "pts",
                  "dtype": "float64",
                  "stats": {
                    "unique_count": 1,
                    "nan_count": 0,
                    "min": 1.5,
                    "max": 1.5,
                    "histogram": [
                      {
                        "bin_start": 1,
                        "bin_end": 1.1,
                        "count": 0
                      },
                      {
                        "bin_start": 1.1,
                        "bin_end": 1.2,
                        "count": 0
                      },
                      {
                        "bin_start": 1.2,
                        "bin_end": 1.3,
                        "count": 0
                      },
                      {
                        "bin_start": 1.3,
                        "bin_end": 1.4,
                        "count": 0
                      },
                      {
                        "bin_start": 1.4,
                        "bin_end": 1.5,
                        "count": 0
                      },
                      {
                        "bin_start": 1.5,
                        "bin_end": 1.6,
                        "count": 2
                      },
                      {
                        "bin_start": 1.6,
                        "bin_end": 1.7000000000000002,
                        "count": 0
                      },
                      {
                        "bin_start": 1.7000000000000002,
                        "bin_end": 1.8,
                        "count": 0
                      },
                      {
                        "bin_start": 1.8,
                        "bin_end": 1.9,
                        "count": 0
                      },
                      {
                        "bin_start": 1.9,
                        "bin_end": 2,
                        "count": 0
                      }
                    ]
                  }
                },
                {
                  "name": "tdeathslnl5",
                  "dtype": "float64",
                  "stats": {
                    "unique_count": 1,
                    "nan_count": 0,
                    "min": -0.6931471824645996,
                    "max": -0.6931471824645996,
                    "histogram": [
                      {
                        "bin_start": -1.1931471824645996,
                        "bin_end": -1.0931471824645995,
                        "count": 0
                      },
                      {
                        "bin_start": -1.0931471824645995,
                        "bin_end": -0.9931471824645997,
                        "count": 0
                      },
                      {
                        "bin_start": -0.9931471824645997,
                        "bin_end": -0.8931471824645996,
                        "count": 0
                      },
                      {
                        "bin_start": -0.8931471824645996,
                        "bin_end": -0.7931471824645996,
                        "count": 0
                      },
                      {
                        "bin_start": -0.7931471824645996,
                        "bin_end": -0.6931471824645996,
                        "count": 0
                      },
                      {
                        "bin_start": -0.6931471824645996,
                        "bin_end": -0.5931471824645995,
                        "count": 2
                      },
                      {
                        "bin_start": -0.5931471824645995,
                        "bin_end": -0.49314718246459954,
                        "count": 0
                      },
                      {
                        "bin_start": -0.49314718246459954,
                        "bin_end": -0.39314718246459956,
                        "count": 0
                      },
                      {
                        "bin_start": -0.39314718246459956,
                        "bin_end": -0.2931471824645996,
                        "count": 0
                      },
                      {
                        "bin_start": -0.2931471824645996,
                        "bin_end": -0.1931471824645996,
                        "count": 0
                      }
                    ]
                  }
                },
                {
                  "name": "refugee_oriln",
                  "dtype": "float64",
                  "stats": {
                    "unique_count": 1,
                    "nan_count": 0,
                    "min": 7.30877685546875,
                    "max": 7.30877685546875,
                    "histogram": [
                      {
                        "bin_start": 6.80877685546875,
                        "bin_end": 6.90877685546875,
                        "count": 0
                      },
                      {
                        "bin_start": 6.90877685546875,
                        "bin_end": 7.00877685546875,
                        "count": 0
                      },
                      {
                        "bin_start": 7.00877685546875,
                        "bin_end": 7.10877685546875,
                        "count": 0
                      },
                      {
                        "bin_start": 7.10877685546875,
                        "bin_end": 7.20877685546875,
                        "count": 0
                      },
                      {
                        "bin_start": 7.20877685546875,
                        "bin_end": 7.30877685546875,
                        "count": 0
                      },
                      {
                        "bin_start": 7.30877685546875,
                        "bin_end": 7.40877685546875,
                        "count": 2
                      },
                      {
                        "bin_start": 7.40877685546875,
                        "bin_end": 7.50877685546875,
                        "count": 0
                      },
                      {
                        "bin_start": 7.50877685546875,
                        "bin_end": 7.60877685546875,
                        "count": 0
                      },
                      {
                        "bin_start": 7.60877685546875,
                        "bin_end": 7.70877685546875,
                        "count": 0
                      },
                      {
                        "bin_start": 7.70877685546875,
                        "bin_end": 7.80877685546875,
                        "count": 0
                      }
                    ]
                  }
                },
                {
                  "name": "bdeathslnl",
                  "dtype": "float64",
                  "stats": {
                    "unique_count": 1,
                    "nan_count": 0,
                    "min": -4.2985358238220215,
                    "max": -4.2985358238220215,
                    "histogram": [
                      {
                        "bin_start": -4.7985358238220215,
                        "bin_end": -4.698535823822022,
                        "count": 0
                      },
                      {
                        "bin_start": -4.698535823822022,
                        "bin_end": -4.598535823822021,
                        "count": 0
                      },
                      {
                        "bin_start": -4.598535823822021,
                        "bin_end": -4.498535823822022,
                        "count": 0
                      },
                      {
                        "bin_start": -4.498535823822022,
                        "bin_end": -4.398535823822021,
                        "count": 0
                      },
                      {
                        "bin_start": -4.398535823822021,
                        "bin_end": -4.2985358238220215,
                        "count": 0
                      },
                      {
                        "bin_start": -4.2985358238220215,
                        "bin_end": -4.198535823822022,
                        "count": 2
                      },
                      {
                        "bin_start": -4.198535823822022,
                        "bin_end": -4.098535823822021,
                        "count": 0
                      },
                      {
                        "bin_start": -4.098535823822021,
                        "bin_end": -3.9985358238220217,
                        "count": 0
                      },
                      {
                        "bin_start": -3.9985358238220217,
                        "bin_end": -3.8985358238220216,
                        "count": 0
                      },
                      {
                        "bin_start": -3.8985358238220216,
                        "bin_end": -3.7985358238220215,
                        "count": 0
                      }
                    ]
                  }
                },
                {
                  "name": "rdeathslnl",
                  "dtype": "float64",
                  "stats": {
                    "unique_count": 1,
                    "nan_count": 0,
                    "min": 2.8401753902435303,
                    "max": 2.8401753902435303,
                    "histogram": [
                      {
                        "bin_start": 2.3401753902435303,
                        "bin_end": 2.4401753902435304,
                        "count": 0
                      },
                      {
                        "bin_start": 2.4401753902435304,
                        "bin_end": 2.5401753902435305,
                        "count": 0
                      },
                      {
                        "bin_start": 2.5401753902435305,
                        "bin_end": 2.64017539024353,
                        "count": 0
                      },
                      {
                        "bin_start": 2.64017539024353,
                        "bin_end": 2.74017539024353,
                        "count": 0
                      },
                      {
                        "bin_start": 2.74017539024353,
                        "bin_end": 2.8401753902435303,
                        "count": 0
                      },
                      {
                        "bin_start": 2.8401753902435303,
                        "bin_end": 2.9401753902435304,
                        "count": 2
                      },
                      {
                        "bin_start": 2.9401753902435304,
                        "bin_end": 3.0401753902435305,
                        "count": 0
                      },
                      {
                        "bin_start": 3.0401753902435305,
                        "bin_end": 3.14017539024353,
                        "count": 0
                      },
                      {
                        "bin_start": 3.14017539024353,
                        "bin_end": 3.24017539024353,
                        "count": 0
                      },
                      {
                        "bin_start": 3.24017539024353,
                        "bin_end": 3.3401753902435303,
                        "count": 0
                      }
                    ]
                  }
                },
                {
                  "name": "homilnl",
                  "dtype": "float64",
                  "stats": {
                    "unique_count": 1,
                    "nan_count": 0,
                    "min": 2.241960525512696,
                    "max": 2.241960525512696,
                    "histogram": [
                      {
                        "bin_start": 1.7419605255126962,
                        "bin_end": 1.8419605255126963,
                        "count": 0
                      },
                      {
                        "bin_start": 1.8419605255126963,
                        "bin_end": 1.9419605255126962,
                        "count": 0
                      },
                      {
                        "bin_start": 1.9419605255126962,
                        "bin_end": 2.041960525512696,
                        "count": 0
                      },
                      {
                        "bin_start": 2.041960525512696,
                        "bin_end": 2.141960525512696,
                        "count": 0
                      },
                      {
                        "bin_start": 2.141960525512696,
                        "bin_end": 2.241960525512696,
                        "count": 0
                      },
                      {
                        "bin_start": 2.241960525512696,
                        "bin_end": 2.3419605255126963,
                        "count": 2
                      },
                      {
                        "bin_start": 2.3419605255126963,
                        "bin_end": 2.4419605255126964,
                        "count": 0
                      },
                      {
                        "bin_start": 2.4419605255126964,
                        "bin_end": 2.541960525512696,
                        "count": 0
                      },
                      {
                        "bin_start": 2.541960525512696,
                        "bin_end": 2.641960525512696,
                        "count": 0
                      },
                      {
                        "bin_start": 2.641960525512696,
                        "bin_end": 2.741960525512696,
                        "count": 0
                      }
                    ]
                  }
                },
                {
                  "name": "_deepnote_index_column",
                  "dtype": "int64"
                }
              ],
              "rows_top": [
                {
                  "Unnamed: 0": 132,
                  "country": "Togo",
                  "isonum": 768,
                  "isocode": "TGO",
                  "year": 2015,
                  "logis": 2.318459987640381,
                  "bband": 0.1803168952465057,
                  "redu": 18.701860427856445,
                  "hifi": 3.7107396125793457,
                  "affs": 3.401470422744751,
                  "ippr": 3.069371223449707,
                  "insdtf": 43.12,
                  "creddtf": 30,
                  "elcostlnl": 8.649115562438965,
                  "stardtf": 78.37,
                  "barrier": 4.054763317108154,
                  "amp": 3.6268274784088135,
                  "parfem": 82.19999694824219,
                  "banka": 10.1852397918701,
                  "povnahc": 55.09999847412109,
                  "povdday": 54.18000030517578,
                  "lfpr": 82.30000305175781,
                  "urate": 6.900000095367432,
                  "eqi": 0.759587287902832,
                  "edi": 3.488539934158325,
                  "gdp5": 0.0256275180727243,
                  "vtf": 26.42399978637696,
                  "qslnl": -7.178584575653076,
                  "secvocp": 5.051285743713379,
                  "teryrs": 0.0866502523422241,
                  "edqualsc": 309.70709228515625,
                  "gbrata": 0.2448999881744384,
                  "secyrs": 1.8561495542526243,
                  "Ginih15": 0.4450497714575927,
                  "prcompc": 85.10816955566406,
                  "lityf": 85.1556396484375,
                  "litaf": 59.5146484375,
                  "fwateruse": 1.4695652173913,
                  "airpollution": 0.02,
                  "wasterwater": 0,
                  "fishstock": 28.271371841430664,
                  "marineprotect": 11.737961769104004,
                  "improved_drinkwater": 63.1,
                  "pestreg": 21,
                  "terrestprotect": 24.6611200926076,
                  "elfcr": 3.0746986865997314,
                  "trang": 3.680657863616944,
                  "womenparl": 0.176,
                  "vapvt": 57.720001220703125,
                  "polity2": -2,
                  "polrights": 4,
                  "geff": -1.2587846517562866,
                  "rqual": -0.8205841183662415,
                  "ticpi": 32,
                  "judi": 2.6636557579040527,
                  "rlaw": -0.8737249970436096,
                  "tblnl": 3.0893828868865967,
                  "Obesity": 7.5,
                  "mort": 786.2381591796875,
                  "meandiabetes": 4,
                  "leb": 60.120756097560985,
                  "dpt": 87,
                  "imeas": 82,
                  "impsan": 11.6,
                  "propright": 1,
                  "rrgov": 1.5,
                  "rrsoc": 0,
                  "lgbt_rights": 0,
                  "deathpen": 0,
                  "civlib": 4,
                  "conscription": 0,
                  "pf": 60,
                  "warcasual": 0,
                  "pts": 1.5,
                  "tdeathslnl5": -0.6931471824645996,
                  "refugee_oriln": 7.30877685546875,
                  "bdeathslnl": -4.2985358238220215,
                  "rdeathslnl": 2.8401753902435303,
                  "homilnl": 2.241960525512696,
                  "_deepnote_index_column": 132
                },
                {
                  "Unnamed: 0": 281,
                  "country": "Togo",
                  "isonum": 768,
                  "isocode": "TGO",
                  "year": 2016,
                  "logis": 2.318459987640381,
                  "bband": 0.1803168952465057,
                  "redu": 18.701860427856445,
                  "hifi": 3.7107396125793457,
                  "affs": 3.401470422744751,
                  "ippr": 3.069371223449707,
                  "insdtf": 43.12,
                  "creddtf": 30,
                  "elcostlnl": 8.649115562438965,
                  "stardtf": 78.37,
                  "barrier": 4.054763317108154,
                  "amp": 3.6268274784088135,
                  "parfem": 82.19999694824219,
                  "banka": 10.1852397918701,
                  "povnahc": 55.09999847412109,
                  "povdday": 54.18000030517578,
                  "lfpr": 82.30000305175781,
                  "urate": 6.900000095367432,
                  "eqi": 0.759587287902832,
                  "edi": 3.488539934158325,
                  "gdp5": 0.0256275180727243,
                  "vtf": 26.42399978637696,
                  "qslnl": -7.178584575653076,
                  "secvocp": 5.051285743713379,
                  "teryrs": 0.0866502523422241,
                  "edqualsc": 309.70709228515625,
                  "gbrata": 0.2448999881744384,
                  "secyrs": 1.8561495542526243,
                  "Ginih15": 0.4450497714575927,
                  "prcompc": 85.10816955566406,
                  "lityf": 85.1556396484375,
                  "litaf": 59.5146484375,
                  "fwateruse": 1.4695652173913,
                  "airpollution": 0.02,
                  "wasterwater": 0,
                  "fishstock": 28.271371841430664,
                  "marineprotect": 11.737961769104004,
                  "improved_drinkwater": 63.1,
                  "pestreg": 21,
                  "terrestprotect": 24.6611200926076,
                  "elfcr": 3.0746986865997314,
                  "trang": 3.680657863616944,
                  "womenparl": 0.176,
                  "vapvt": 57.720001220703125,
                  "polity2": -2,
                  "polrights": 4,
                  "geff": -1.2587846517562866,
                  "rqual": -0.8205841183662415,
                  "ticpi": 32,
                  "judi": 2.6636557579040527,
                  "rlaw": -0.8737249970436096,
                  "tblnl": 3.0893828868865967,
                  "Obesity": 7.5,
                  "mort": 786.2381591796875,
                  "meandiabetes": 4,
                  "leb": 60.120756097560985,
                  "dpt": 87,
                  "imeas": 82,
                  "impsan": 11.6,
                  "propright": 1,
                  "rrgov": 1.5,
                  "rrsoc": 0,
                  "lgbt_rights": 0,
                  "deathpen": 0,
                  "civlib": 4,
                  "conscription": 0,
                  "pf": 60,
                  "warcasual": 0,
                  "pts": 1.5,
                  "tdeathslnl5": -0.6931471824645996,
                  "refugee_oriln": 7.30877685546875,
                  "bdeathslnl": -4.2985358238220215,
                  "rdeathslnl": 2.8401753902435303,
                  "homilnl": 2.241960525512696,
                  "_deepnote_index_column": 281
                }
              ],
              "rows_bottom": null
            },
            "text/plain": "     Unnamed: 0 country  isonum isocode  year    logis     bband      redu  \\\n132         132    Togo     768     TGO  2015  2.31846  0.180317  18.70186   \n281         281    Togo     768     TGO  2016  2.31846  0.180317  18.70186   \n\n        hifi     affs  ...  civlib  conscription    pf  warcasual  pts  \\\n132  3.71074  3.40147  ...       4           0.0  60.0        0.0  1.5   \n281  3.71074  3.40147  ...       4           0.0  60.0        0.0  1.5   \n\n     tdeathslnl5  refugee_oriln  bdeathslnl  rdeathslnl   homilnl  \n132    -0.693147       7.308777   -4.298536    2.840175  2.241961  \n281    -0.693147       7.308777   -4.298536    2.840175  2.241961  \n\n[2 rows x 79 columns]",
            "text/html": "<div>\n<style scoped>\n    .dataframe tbody tr th:only-of-type {\n        vertical-align: middle;\n    }\n\n    .dataframe tbody tr th {\n        vertical-align: top;\n    }\n\n    .dataframe thead th {\n        text-align: right;\n    }\n</style>\n<table border=\"1\" class=\"dataframe\">\n  <thead>\n    <tr style=\"text-align: right;\">\n      <th></th>\n      <th>Unnamed: 0</th>\n      <th>country</th>\n      <th>isonum</th>\n      <th>isocode</th>\n      <th>year</th>\n      <th>logis</th>\n      <th>bband</th>\n      <th>redu</th>\n      <th>hifi</th>\n      <th>affs</th>\n      <th>...</th>\n      <th>civlib</th>\n      <th>conscription</th>\n      <th>pf</th>\n      <th>warcasual</th>\n      <th>pts</th>\n      <th>tdeathslnl5</th>\n      <th>refugee_oriln</th>\n      <th>bdeathslnl</th>\n      <th>rdeathslnl</th>\n      <th>homilnl</th>\n    </tr>\n  </thead>\n  <tbody>\n    <tr>\n      <th>132</th>\n      <td>132</td>\n      <td>Togo</td>\n      <td>768</td>\n      <td>TGO</td>\n      <td>2015</td>\n      <td>2.31846</td>\n      <td>0.180317</td>\n      <td>18.70186</td>\n      <td>3.71074</td>\n      <td>3.40147</td>\n      <td>...</td>\n      <td>4</td>\n      <td>0.0</td>\n      <td>60.0</td>\n      <td>0.0</td>\n      <td>1.5</td>\n      <td>-0.693147</td>\n      <td>7.308777</td>\n      <td>-4.298536</td>\n      <td>2.840175</td>\n      <td>2.241961</td>\n    </tr>\n    <tr>\n      <th>281</th>\n      <td>281</td>\n      <td>Togo</td>\n      <td>768</td>\n      <td>TGO</td>\n      <td>2016</td>\n      <td>2.31846</td>\n      <td>0.180317</td>\n      <td>18.70186</td>\n      <td>3.71074</td>\n      <td>3.40147</td>\n      <td>...</td>\n      <td>4</td>\n      <td>0.0</td>\n      <td>60.0</td>\n      <td>0.0</td>\n      <td>1.5</td>\n      <td>-0.693147</td>\n      <td>7.308777</td>\n      <td>-4.298536</td>\n      <td>2.840175</td>\n      <td>2.241961</td>\n    </tr>\n  </tbody>\n</table>\n<p>2 rows × 79 columns</p>\n</div>"
          },
          "metadata": {}
        }
      ],
      "execution_count": 70
    },
    {
      "cell_type": "code",
      "metadata": {
        "tags": [],
        "deepnote_to_be_reexecuted": false,
        "source_hash": "6509db81",
        "execution_millis": 61,
        "cell_id": "00027-130209e9-0de5-4beb-a930-dd48036042a7",
        "execution_start": 1618141984974,
        "deepnote_cell_type": "code"
      },
      "source": "rf_regr.predict(togo_X).mean(axis=1)",
      "execution_count": 27,
      "outputs": [
        {
          "output_type": "execute_result",
          "execution_count": 27,
          "data": {
            "text/plain": "array([46.58463593, 46.58463593])"
          },
          "metadata": {}
        }
      ]
    },
    {
      "cell_type": "code",
      "metadata": {
        "tags": [],
        "deepnote_to_be_reexecuted": false,
        "source_hash": "29296de3",
        "execution_millis": 166,
        "cell_id": "00028-b2bc54cf-1886-46ba-974d-36d17690b25b",
        "execution_start": 1618141985003,
        "deepnote_cell_type": "code"
      },
      "source": "plt.plot([i for i in range(2007,2015)], list(score_table[score_table[\"country\"]==\"Togo\"][\"prosperity\"]))\nplt.plot([2015,2016], list(rf_regr.predict(togo_X).mean(axis=1)))\nplt.title(\"Prosperity Score of Togo\")",
      "execution_count": 28,
      "outputs": [
        {
          "output_type": "execute_result",
          "execution_count": 28,
          "data": {
            "text/plain": "Text(0.5, 1.0, 'Prosperity Score of Togo')"
          },
          "metadata": {}
        },
        {
          "data": {
            "text/plain": "<Figure size 432x288 with 1 Axes>",
            "image/png": "[encoded data removed]"
          },
          "metadata": {
            "needs_background": "light"
          },
          "output_type": "display_data"
        }
      ]
    },
    {
      "cell_type": "code",
      "source": "from statsmodels.tsa.arima.model import ARIMA\nfrom statsmodels.tsa.api import VAR\n\ntogo_data = score_table[score_table[\"country\"] == \"Togo\"][pillars]\ntogo_ser = togo_data.diff().dropna()\n\nvar_model = VAR(togo_ser)\nvar_model_fit = var_model.fit()\ntogo_predicted = var_model_fit.forecast(var_model_fit.y,steps=2)\n\nplt.plot([i for i in range(2007,2015)], list(togo_data.mean(axis=1)))\nplt.plot([2015,2016], \n[(togo_data.iloc[-1] + togo_predicted[0]).mean(), \n(togo_data.iloc[-1] + togo_predicted[0] + togo_predicted[1]).mean()])\nplt.title(\"Prosperity Score of Togo\")",
      "metadata": {
        "tags": [],
        "cell_id": "00030-624fb399-5437-4c0d-89b2-78ec38a0b8eb",
        "deepnote_to_be_reexecuted": false,
        "source_hash": "40a66a7a",
        "execution_millis": 176,
        "execution_start": 1618143005981,
        "deepnote_cell_type": "code"
      },
      "outputs": [
        {
          "name": "stderr",
          "text": "/root/venv/lib/python3.7/site-packages/statsmodels/tsa/base/tsa_model.py:579: ValueWarning: An unsupported index was provided and will be ignored when e.g. forecasting.\n  ' ignored when e.g. forecasting.', ValueWarning)\n/root/venv/lib/python3.7/site-packages/statsmodels/base/wrapper.py:34: FutureWarning: y is a deprecated alias for endog, will be removed in version 0.11.0\n  obj = getattr(results, attr)\n",
          "output_type": "stream"
        },
        {
          "output_type": "execute_result",
          "execution_count": 53,
          "data": {
            "text/plain": "Text(0.5, 1.0, 'Prosperity Score of Togo')"
          },
          "metadata": {}
        },
        {
          "data": {
            "text/plain": "<Figure size 432x288 with 1 Axes>",
            "image/png": "[encoded data removed]"
          },
          "metadata": {
            "needs_background": "light"
          },
          "output_type": "display_data"
        }
      ],
      "execution_count": 53
    },
    {
      "cell_type": "code",
      "source": "fig, axes = plt.subplots(len(top_growth), figsize=(9,18))\n\nfor i in range(len(top_growth)):\n    country = top_growth[i]\n    togo_data = score_table[score_table[\"country\"] == country][pillars]\n    togo_ser = togo_data.diff().dropna()\n\n    var_model = VAR(togo_ser)\n    var_model_fit = var_model.fit()\n    togo_predicted = var_model_fit.forecast(var_model_fit.y,steps=2)\n\n    togo_X = raw_test[raw_test[\"country\"] == \"Togo\"][feature_columns]\n    rf_pred = list(rf_regr.predict(togo_X).mean(axis=1))\n\n    input_values = list(togo_data.mean(axis=1))\n    var_pred = [(togo_data.iloc[-1] + togo_predicted[0]).mean(), \n    (togo_data.iloc[-1] + togo_predicted[0] + togo_predicted[1]).mean()]\n\n    axes[i].plot([i for i in range(2007,2015)], input_values)\n    axes[i].plot([2014,2015,2016], [input_values[-1]] + var_pred, label=\"VAR\")\n    axes[i].plot([2014,2015,2016], [input_values[-1]] + rf_pred, label=\"Random Forest\")\n    axes[i].legend()\n    axes[i].set_title(\"Predicted Prosperity Score of {}\".format(country))",
      "metadata": {
        "tags": [],
        "cell_id": "00031-62a27fad-4511-498c-9075-9c9785350966",
        "deepnote_to_be_reexecuted": false,
        "source_hash": "10bd939a",
        "execution_millis": 746,
        "execution_start": 1618143847276,
        "deepnote_cell_type": "code"
      },
      "outputs": [
        {
          "name": "stderr",
          "text": "/root/venv/lib/python3.7/site-packages/statsmodels/tsa/base/tsa_model.py:579: ValueWarning: An unsupported index was provided and will be ignored when e.g. forecasting.\n  ' ignored when e.g. forecasting.', ValueWarning)\n/root/venv/lib/python3.7/site-packages/statsmodels/base/wrapper.py:34: FutureWarning: y is a deprecated alias for endog, will be removed in version 0.11.0\n  obj = getattr(results, attr)\n/root/venv/lib/python3.7/site-packages/statsmodels/tsa/base/tsa_model.py:579: ValueWarning: An unsupported index was provided and will be ignored when e.g. forecasting.\n  ' ignored when e.g. forecasting.', ValueWarning)\n/root/venv/lib/python3.7/site-packages/statsmodels/base/wrapper.py:34: FutureWarning: y is a deprecated alias for endog, will be removed in version 0.11.0\n  obj = getattr(results, attr)\n/root/venv/lib/python3.7/site-packages/statsmodels/tsa/base/tsa_model.py:579: ValueWarning: An unsupported index was provided and will be ignored when e.g. forecasting.\n  ' ignored when e.g. forecasting.', ValueWarning)\n/root/venv/lib/python3.7/site-packages/statsmodels/base/wrapper.py:34: FutureWarning: y is a deprecated alias for endog, will be removed in version 0.11.0\n  obj = getattr(results, attr)\n/root/venv/lib/python3.7/site-packages/statsmodels/tsa/base/tsa_model.py:579: ValueWarning: An unsupported index was provided and will be ignored when e.g. forecasting.\n  ' ignored when e.g. forecasting.', ValueWarning)\n/root/venv/lib/python3.7/site-packages/statsmodels/base/wrapper.py:34: FutureWarning: y is a deprecated alias for endog, will be removed in version 0.11.0\n  obj = getattr(results, attr)\n/root/venv/lib/python3.7/site-packages/statsmodels/tsa/base/tsa_model.py:579: ValueWarning: An unsupported index was provided and will be ignored when e.g. forecasting.\n  ' ignored when e.g. forecasting.', ValueWarning)\n/root/venv/lib/python3.7/site-packages/statsmodels/base/wrapper.py:34: FutureWarning: y is a deprecated alias for endog, will be removed in version 0.11.0\n  obj = getattr(results, attr)\n",
          "output_type": "stream"
        },
        {
          "data": {
            "text/plain": "<Figure size 648x1296 with 5 Axes>",
            "image/png": "[encoded data removed]"
          },
          "metadata": {
            "needs_background": "light"
          },
          "output_type": "display_data"
        }
      ],
      "execution_count": 68
    },
    {
      "cell_type": "code",
      "source": "",
      "metadata": {
        "tags": [],
        "cell_id": "00031-5a242d51-f912-47c3-827f-104d0f75ac95",
        "deepnote_cell_type": "code"
      },
      "outputs": [],
      "execution_count": null
    },
    {
      "cell_type": "markdown",
      "source": "<a style='text-decoration:none;line-height:16px;display:flex;color:#5B5B62;padding:10px;justify-content:end;' href='https://deepnote.com?utm_source=created-in-deepnote-cell&projectId=da4f784b-a8aa-48e9-8797-5366ef739e9c' target=\"_blank\">\n<img alt='Created in deepnote.com' style='display:inline;max-height:16px;margin:0px;margin-right:7.5px;' src='data:image/svg+xml;base64,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' > </img>\nCreated in <span style='font-weight:600;margin-left:4px;'>Deepnote</span></a>",
      "metadata": {
        "tags": [],
        "created_in_deepnote_cell": true,
        "deepnote_cell_type": "markdown"
      }
    }
  ],
  "nbformat": 4,
  "nbformat_minor": 2,
  "metadata": {
    "orig_nbformat": 2,
    "deepnote": {
      "is_reactive": false
    },
    "deepnote_notebook_id": "af073057-b461-4c5a-989d-609828607b69",
    "deepnote_execution_queue": []
  }
}